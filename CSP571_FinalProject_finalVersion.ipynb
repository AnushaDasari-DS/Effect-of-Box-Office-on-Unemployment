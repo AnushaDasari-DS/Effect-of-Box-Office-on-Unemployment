{
 "cells": [
  {
   "cell_type": "markdown",
   "metadata": {},
   "source": [
    "# CSP571 - Final Project"
   ]
  },
  {
   "cell_type": "code",
   "execution_count": 73,
   "metadata": {},
   "outputs": [],
   "source": [
    "import os"
   ]
  },
  {
   "cell_type": "code",
   "execution_count": 74,
   "metadata": {},
   "outputs": [],
   "source": [
    "import pandas as pd"
   ]
  },
  {
   "cell_type": "code",
   "execution_count": 75,
   "metadata": {},
   "outputs": [],
   "source": [
    "import numpy as np"
   ]
  },
  {
   "cell_type": "code",
   "execution_count": 76,
   "metadata": {},
   "outputs": [],
   "source": [
    "from datetime import datetime"
   ]
  },
  {
   "cell_type": "markdown",
   "metadata": {},
   "source": [
    "## Primary dataset: The Movies Dataset"
   ]
  },
  {
   "cell_type": "markdown",
   "metadata": {},
   "source": [
    "<div style=\"color:blue\">\n",
    "    <p>This dataset consists of a collection of data from The Movie Database (TMDb) and GroupLens. <a href=\"https://www.themoviedb.org/\">The Movie Database</a> is a user-editable database with data on millions of movies and TV shows, while <a href=\"https://grouplens.org/\">GroupLens</a> is a movie recommender website with hundreds of thousands of registered users.</p>\n",
    "    <p>The dataset is distributed in 7 separate files, containing metadata for 45,000 movies released on or before July 2017. The included files are as follows:</p>\n",
    "    <ol>\n",
    "        <li><b>movies_metadata.csv:</b> The main Movies Metadata file. Contains information on 45,000 movies featured in the Full MovieLens dataset. Features include posters, backdrops, budget, revenue, release dates, languages, production countries and companies.</li>\n",
    "        <li><b>keywords.csv:</b> Contains the movie plot keywords for our MovieLens movies. Available in the form of a stringified JSON Object.</li>\n",
    "        <li><b>credits.csv:</b> Consists of Cast and Crew Information for all our movies. Available in the form of a stringified JSON Object.</li>\n",
    "        <li><b>links.csv:</b> The file that contains the TMDB and IMDB IDs of all the movies featured in the Full MovieLens dataset.</li>\n",
    "        <li><b>links_small.csv</b> Contains the TMDB and IMDB IDs of a small subset of 9,000 movies of the Full Dataset.</li>\n",
    "        <li><b>ratings_small.csv</b> The subset of 100,000 ratings from 700 users on 9,000 movies.</li>\n",
    "        <li><b>ratings.csv: </b> 26 million and 750,000 tag applications applied to 58,000 movies by 280,000 users.</li>\n",
    "    </ol>\n",
    "    <p>For our purpose, the relevant files of <a href=\"https://www.kaggle.com/rounakbanik/the-movies-dataset\">The Movies Dataset</a> are files 1 and 7.</p>\n",
    "</div>\n"
   ]
  },
  {
   "cell_type": "markdown",
   "metadata": {},
   "source": [
    "<p style=\"color:blue\">The contents of the <i>movies_metadata.csv</i> (file #1) are described below.</p>\n",
    "<table>\n",
    "    <thead>\n",
    "        <tr>\n",
    "            <th>Column name</th>\n",
    "            <th>Column type</th>\n",
    "            <th>Description</th>\n",
    "        </tr>\n",
    "    </thead>\n",
    "    <tbody>\n",
    "        <tr>\n",
    "            <td>adult</td>\n",
    "            <td>Text (TRUE/FALSE)</td>\n",
    "            <td>An indication of whether the movie is intended for an adult audience.</td>\n",
    "        </tr>\n",
    "        <tr>\n",
    "            <td>belongs_to_collection</td>\n",
    "            <td>Text (JSON)</td>\n",
    "            <td>Collection details, if the movie is part of a fil series.</td>\n",
    "        </tr>\n",
    "        <tr>\n",
    "            <td>budget</td>\n",
    "            <td>Integer</td>\n",
    "            <td>The amount of money (in dollars) sptent on the entire movie project.</td>\n",
    "        </tr>\n",
    "        <tr>\n",
    "            <td>genres</td>\n",
    "            <td>Text (JSON)</td>\n",
    "            <td>The category (or set of categories) that define a movie based on its narrative elements. These have changed and evolved over time.</td>\n",
    "        </tr>\n",
    "        <tr>\n",
    "            <td>homepage</td>\n",
    "            <td>Text (URI)</td>\n",
    "            <td>A link to the official website of the film.</td>\n",
    "        </tr>\n",
    "        <tr>\n",
    "            <td>id</td>\n",
    "            <td>Integer</td>\n",
    "            <td>The unique identifier of the movie.</td>\n",
    "        </tr>\n",
    "        <tr>\n",
    "            <td>imdb_id</td>\n",
    "            <td>Text</td>\n",
    "            <td>The unique identifier of the movie in the IMDB database.</td>\n",
    "        </tr>\n",
    "        <tr>\n",
    "            <td>original_language</td>\n",
    "            <td>Text</td>\n",
    "            <td>The two- character ISO 639-2 language code of the orginal language of the movie.</td>\n",
    "        </tr>\n",
    "        <tr>\n",
    "            <td>original_title</td>\n",
    "            <td>Text</td>\n",
    "            <td>The original title of the movie.</td>\n",
    "        </tr>\n",
    "        <tr>\n",
    "            <td>overview</td>\n",
    "            <td>Text</td>\n",
    "            <td>A synopsis of the movie descriving the context and plot of the movie.</td>\n",
    "        </tr>\n",
    "        <tr>\n",
    "            <td>popularity</td>\n",
    "            <td></td>\n",
    "            <td></td>\n",
    "        </tr>\n",
    "        <tr>\n",
    "            <td>poster_path</td>\n",
    "            <td>Text</td>\n",
    "            <td>A relative path to a .jpg image of the movie poster.</td>\n",
    "        </tr>\n",
    "        <tr>\n",
    "            <td>production_companies</td>\n",
    "            <td>Text (JSON)</td>\n",
    "            <td>The production company (or companies) tha tproduced the movie.</td>\n",
    "        </tr>\n",
    "        <tr>\n",
    "            <td>production_countries</td>\n",
    "            <td>Text (JSON)</td>\n",
    "            <td>The country (or countries) where the movie was filmed on location.</td>\n",
    "        </tr>\n",
    "        <tr>\n",
    "            <td>release_date</td>\n",
    "            <td>Date</td>\n",
    "            <td>The date when the movie was first released through movie theaters for the puclic to see (the movie premiere).</td>\n",
    "        </tr>\n",
    "        <tr>\n",
    "            <td>revenue</td>\n",
    "            <td>Integer</td>\n",
    "            <td>The amount of money generated by thr movie through theater movie ticket sales.</td>\n",
    "        </tr>\n",
    "        <tr>\n",
    "            <td>runtime</td>\n",
    "            <td>Integer</td>\n",
    "            <td>The elapsed time (in minutes) from the start of the movie until the end of the credits scene.</td>\n",
    "        </tr>\n",
    "        <tr>\n",
    "            <td>spoken_languages</td>\n",
    "            <td>Text (JSON)</td>\n",
    "            <td>The language (or languages) spoken duringthe course of the movie.</td>\n",
    "        </tr>\n",
    "        <tr>\n",
    "            <td>status</td>\n",
    "            <td>Text (category)</td>\n",
    "            <td>The current stage of the movie production (CANCELED, IN PRODUCTION, PLANNED, POST PRODUCTION, RELEASED, RUMORED). </td>\n",
    "        </tr>\n",
    "        <tr>\n",
    "            <td>tagline</td>\n",
    "            <td>Text</td>\n",
    "            <td>A phrase used to market and advertise the movie (advertising slogan).</td>\n",
    "        </tr>\n",
    "        <tr>\n",
    "            <td>title</td>\n",
    "            <td>Text</td>\n",
    "            <td>The title of the movie.</td>\n",
    "        </tr>\n",
    "        <tr>\n",
    "            <td>video</td>\n",
    "            <td>Text (TRUE/FALSE)</td>\n",
    "            <td>Whether the movie had a theatrical release before being released on video.</td>\n",
    "        </tr>\n",
    "        <tr>\n",
    "            <td>vote_average</td>\n",
    "            <td>Integer</td>\n",
    "            <td>The average rating by TMDb users (on a scale of 0 to 10).</td>\n",
    "        </tr>\n",
    "        <tr>\n",
    "            <td>vote_count</td>\n",
    "            <td>Integer</td>\n",
    "            <td>The total number of TMDb user ratings.</td>\n",
    "        </tr>\n",
    "    </tbody>\n",
    "</table>"
   ]
  },
  {
   "cell_type": "markdown",
   "metadata": {},
   "source": [
    "<p style=\"color:blue\">The contents of the <i>ratings.csv</i> (file #7) are described below.</p>\n",
    "<table>\n",
    "    <thead>\n",
    "        <tr>\n",
    "            <th>Column name</th>\n",
    "            <th>Column type</th>\n",
    "            <th>Description</th>\n",
    "        </tr>\n",
    "    </thead>\n",
    "    <tbody>\n",
    "        <tr>\n",
    "            <td>userId</td>\n",
    "            <td>Integer</td>\n",
    "            <td>The unique identifier of the GroupLens user who rated the movie.</td>\n",
    "        </tr>\n",
    "        <tr>\n",
    "            <td>movieId</td>\n",
    "            <td>Integer</td>\n",
    "            <td>The unique identifier of the rated movie.</td>\n",
    "        </tr>\n",
    "        <tr>\n",
    "            <td>rating</td>\n",
    "            <td>Float</td>\n",
    "            <td>The rating value assigned by the GroupLens user to the movie (on a scale of 0 to 5, in 0.5 increments).</td>\n",
    "        </tr>\n",
    "        <tr>\n",
    "            <td>timestamp</td>\n",
    "            <td>Integer</td>\n",
    "            <td>The date and time when the Grouplens user rated the movie.</td>\n",
    "        </tr>\n",
    "    </tbody>\n",
    "</table>"
   ]
  },
  {
   "cell_type": "code",
   "execution_count": 77,
   "metadata": {},
   "outputs": [],
   "source": [
    "# Load the movies_metadata.csv file into a dataframe\n",
    "import pandas as pd\n",
    "movies=pd.read_csv('movies_metadata.csv', low_memory=False)"
   ]
  },
  {
   "cell_type": "code",
   "execution_count": 78,
   "metadata": {},
   "outputs": [
    {
     "data": {
      "text/html": [
       "<div>\n",
       "<style scoped>\n",
       "    .dataframe tbody tr th:only-of-type {\n",
       "        vertical-align: middle;\n",
       "    }\n",
       "\n",
       "    .dataframe tbody tr th {\n",
       "        vertical-align: top;\n",
       "    }\n",
       "\n",
       "    .dataframe thead th {\n",
       "        text-align: right;\n",
       "    }\n",
       "</style>\n",
       "<table border=\"1\" class=\"dataframe\">\n",
       "  <thead>\n",
       "    <tr style=\"text-align: right;\">\n",
       "      <th></th>\n",
       "      <th>adult</th>\n",
       "      <th>belongs_to_collection</th>\n",
       "      <th>budget</th>\n",
       "      <th>genres</th>\n",
       "      <th>homepage</th>\n",
       "      <th>id</th>\n",
       "      <th>imdb_id</th>\n",
       "      <th>original_language</th>\n",
       "      <th>original_title</th>\n",
       "      <th>overview</th>\n",
       "      <th>...</th>\n",
       "      <th>release_date</th>\n",
       "      <th>revenue</th>\n",
       "      <th>runtime</th>\n",
       "      <th>spoken_languages</th>\n",
       "      <th>status</th>\n",
       "      <th>tagline</th>\n",
       "      <th>title</th>\n",
       "      <th>video</th>\n",
       "      <th>vote_average</th>\n",
       "      <th>vote_count</th>\n",
       "    </tr>\n",
       "  </thead>\n",
       "  <tbody>\n",
       "    <tr>\n",
       "      <th>0</th>\n",
       "      <td>False</td>\n",
       "      <td>{'id': 10194, 'name': 'Toy Story Collection', ...</td>\n",
       "      <td>30000000</td>\n",
       "      <td>[{'id': 16, 'name': 'Animation'}, {'id': 35, '...</td>\n",
       "      <td>http://toystory.disney.com/toy-story</td>\n",
       "      <td>862</td>\n",
       "      <td>tt0114709</td>\n",
       "      <td>en</td>\n",
       "      <td>Toy Story</td>\n",
       "      <td>Led by Woody, Andy's toys live happily in his ...</td>\n",
       "      <td>...</td>\n",
       "      <td>1995-10-30</td>\n",
       "      <td>373554033.0</td>\n",
       "      <td>81.0</td>\n",
       "      <td>[{'iso_639_1': 'en', 'name': 'English'}]</td>\n",
       "      <td>Released</td>\n",
       "      <td>NaN</td>\n",
       "      <td>Toy Story</td>\n",
       "      <td>False</td>\n",
       "      <td>7.7</td>\n",
       "      <td>5415.0</td>\n",
       "    </tr>\n",
       "    <tr>\n",
       "      <th>1</th>\n",
       "      <td>False</td>\n",
       "      <td>NaN</td>\n",
       "      <td>65000000</td>\n",
       "      <td>[{'id': 12, 'name': 'Adventure'}, {'id': 14, '...</td>\n",
       "      <td>NaN</td>\n",
       "      <td>8844</td>\n",
       "      <td>tt0113497</td>\n",
       "      <td>en</td>\n",
       "      <td>Jumanji</td>\n",
       "      <td>When siblings Judy and Peter discover an encha...</td>\n",
       "      <td>...</td>\n",
       "      <td>1995-12-15</td>\n",
       "      <td>262797249.0</td>\n",
       "      <td>104.0</td>\n",
       "      <td>[{'iso_639_1': 'en', 'name': 'English'}, {'iso...</td>\n",
       "      <td>Released</td>\n",
       "      <td>Roll the dice and unleash the excitement!</td>\n",
       "      <td>Jumanji</td>\n",
       "      <td>False</td>\n",
       "      <td>6.9</td>\n",
       "      <td>2413.0</td>\n",
       "    </tr>\n",
       "    <tr>\n",
       "      <th>2</th>\n",
       "      <td>False</td>\n",
       "      <td>{'id': 119050, 'name': 'Grumpy Old Men Collect...</td>\n",
       "      <td>0</td>\n",
       "      <td>[{'id': 10749, 'name': 'Romance'}, {'id': 35, ...</td>\n",
       "      <td>NaN</td>\n",
       "      <td>15602</td>\n",
       "      <td>tt0113228</td>\n",
       "      <td>en</td>\n",
       "      <td>Grumpier Old Men</td>\n",
       "      <td>A family wedding reignites the ancient feud be...</td>\n",
       "      <td>...</td>\n",
       "      <td>1995-12-22</td>\n",
       "      <td>0.0</td>\n",
       "      <td>101.0</td>\n",
       "      <td>[{'iso_639_1': 'en', 'name': 'English'}]</td>\n",
       "      <td>Released</td>\n",
       "      <td>Still Yelling. Still Fighting. Still Ready for...</td>\n",
       "      <td>Grumpier Old Men</td>\n",
       "      <td>False</td>\n",
       "      <td>6.5</td>\n",
       "      <td>92.0</td>\n",
       "    </tr>\n",
       "    <tr>\n",
       "      <th>3</th>\n",
       "      <td>False</td>\n",
       "      <td>NaN</td>\n",
       "      <td>16000000</td>\n",
       "      <td>[{'id': 35, 'name': 'Comedy'}, {'id': 18, 'nam...</td>\n",
       "      <td>NaN</td>\n",
       "      <td>31357</td>\n",
       "      <td>tt0114885</td>\n",
       "      <td>en</td>\n",
       "      <td>Waiting to Exhale</td>\n",
       "      <td>Cheated on, mistreated and stepped on, the wom...</td>\n",
       "      <td>...</td>\n",
       "      <td>1995-12-22</td>\n",
       "      <td>81452156.0</td>\n",
       "      <td>127.0</td>\n",
       "      <td>[{'iso_639_1': 'en', 'name': 'English'}]</td>\n",
       "      <td>Released</td>\n",
       "      <td>Friends are the people who let you be yourself...</td>\n",
       "      <td>Waiting to Exhale</td>\n",
       "      <td>False</td>\n",
       "      <td>6.1</td>\n",
       "      <td>34.0</td>\n",
       "    </tr>\n",
       "    <tr>\n",
       "      <th>4</th>\n",
       "      <td>False</td>\n",
       "      <td>{'id': 96871, 'name': 'Father of the Bride Col...</td>\n",
       "      <td>0</td>\n",
       "      <td>[{'id': 35, 'name': 'Comedy'}]</td>\n",
       "      <td>NaN</td>\n",
       "      <td>11862</td>\n",
       "      <td>tt0113041</td>\n",
       "      <td>en</td>\n",
       "      <td>Father of the Bride Part II</td>\n",
       "      <td>Just when George Banks has recovered from his ...</td>\n",
       "      <td>...</td>\n",
       "      <td>1995-02-10</td>\n",
       "      <td>76578911.0</td>\n",
       "      <td>106.0</td>\n",
       "      <td>[{'iso_639_1': 'en', 'name': 'English'}]</td>\n",
       "      <td>Released</td>\n",
       "      <td>Just When His World Is Back To Normal... He's ...</td>\n",
       "      <td>Father of the Bride Part II</td>\n",
       "      <td>False</td>\n",
       "      <td>5.7</td>\n",
       "      <td>173.0</td>\n",
       "    </tr>\n",
       "    <tr>\n",
       "      <th>...</th>\n",
       "      <td>...</td>\n",
       "      <td>...</td>\n",
       "      <td>...</td>\n",
       "      <td>...</td>\n",
       "      <td>...</td>\n",
       "      <td>...</td>\n",
       "      <td>...</td>\n",
       "      <td>...</td>\n",
       "      <td>...</td>\n",
       "      <td>...</td>\n",
       "      <td>...</td>\n",
       "      <td>...</td>\n",
       "      <td>...</td>\n",
       "      <td>...</td>\n",
       "      <td>...</td>\n",
       "      <td>...</td>\n",
       "      <td>...</td>\n",
       "      <td>...</td>\n",
       "      <td>...</td>\n",
       "      <td>...</td>\n",
       "      <td>...</td>\n",
       "    </tr>\n",
       "    <tr>\n",
       "      <th>45461</th>\n",
       "      <td>False</td>\n",
       "      <td>NaN</td>\n",
       "      <td>0</td>\n",
       "      <td>[{'id': 18, 'name': 'Drama'}, {'id': 10751, 'n...</td>\n",
       "      <td>http://www.imdb.com/title/tt6209470/</td>\n",
       "      <td>439050</td>\n",
       "      <td>tt6209470</td>\n",
       "      <td>fa</td>\n",
       "      <td>رگ خواب</td>\n",
       "      <td>Rising and falling between a man and woman.</td>\n",
       "      <td>...</td>\n",
       "      <td>NaN</td>\n",
       "      <td>0.0</td>\n",
       "      <td>90.0</td>\n",
       "      <td>[{'iso_639_1': 'fa', 'name': 'فارسی'}]</td>\n",
       "      <td>Released</td>\n",
       "      <td>Rising and falling between a man and woman</td>\n",
       "      <td>Subdue</td>\n",
       "      <td>False</td>\n",
       "      <td>4.0</td>\n",
       "      <td>1.0</td>\n",
       "    </tr>\n",
       "    <tr>\n",
       "      <th>45462</th>\n",
       "      <td>False</td>\n",
       "      <td>NaN</td>\n",
       "      <td>0</td>\n",
       "      <td>[{'id': 18, 'name': 'Drama'}]</td>\n",
       "      <td>NaN</td>\n",
       "      <td>111109</td>\n",
       "      <td>tt2028550</td>\n",
       "      <td>tl</td>\n",
       "      <td>Siglo ng Pagluluwal</td>\n",
       "      <td>An artist struggles to finish his work while a...</td>\n",
       "      <td>...</td>\n",
       "      <td>2011-11-17</td>\n",
       "      <td>0.0</td>\n",
       "      <td>360.0</td>\n",
       "      <td>[{'iso_639_1': 'tl', 'name': ''}]</td>\n",
       "      <td>Released</td>\n",
       "      <td>NaN</td>\n",
       "      <td>Century of Birthing</td>\n",
       "      <td>False</td>\n",
       "      <td>9.0</td>\n",
       "      <td>3.0</td>\n",
       "    </tr>\n",
       "    <tr>\n",
       "      <th>45463</th>\n",
       "      <td>False</td>\n",
       "      <td>NaN</td>\n",
       "      <td>0</td>\n",
       "      <td>[{'id': 28, 'name': 'Action'}, {'id': 18, 'nam...</td>\n",
       "      <td>NaN</td>\n",
       "      <td>67758</td>\n",
       "      <td>tt0303758</td>\n",
       "      <td>en</td>\n",
       "      <td>Betrayal</td>\n",
       "      <td>When one of her hits goes wrong, a professiona...</td>\n",
       "      <td>...</td>\n",
       "      <td>2003-08-01</td>\n",
       "      <td>0.0</td>\n",
       "      <td>90.0</td>\n",
       "      <td>[{'iso_639_1': 'en', 'name': 'English'}]</td>\n",
       "      <td>Released</td>\n",
       "      <td>A deadly game of wits.</td>\n",
       "      <td>Betrayal</td>\n",
       "      <td>False</td>\n",
       "      <td>3.8</td>\n",
       "      <td>6.0</td>\n",
       "    </tr>\n",
       "    <tr>\n",
       "      <th>45464</th>\n",
       "      <td>False</td>\n",
       "      <td>NaN</td>\n",
       "      <td>0</td>\n",
       "      <td>[]</td>\n",
       "      <td>NaN</td>\n",
       "      <td>227506</td>\n",
       "      <td>tt0008536</td>\n",
       "      <td>en</td>\n",
       "      <td>Satana likuyushchiy</td>\n",
       "      <td>In a small town live two brothers, one a minis...</td>\n",
       "      <td>...</td>\n",
       "      <td>1917-10-21</td>\n",
       "      <td>0.0</td>\n",
       "      <td>87.0</td>\n",
       "      <td>[]</td>\n",
       "      <td>Released</td>\n",
       "      <td>NaN</td>\n",
       "      <td>Satan Triumphant</td>\n",
       "      <td>False</td>\n",
       "      <td>0.0</td>\n",
       "      <td>0.0</td>\n",
       "    </tr>\n",
       "    <tr>\n",
       "      <th>45465</th>\n",
       "      <td>False</td>\n",
       "      <td>NaN</td>\n",
       "      <td>0</td>\n",
       "      <td>[]</td>\n",
       "      <td>NaN</td>\n",
       "      <td>461257</td>\n",
       "      <td>tt6980792</td>\n",
       "      <td>en</td>\n",
       "      <td>Queerama</td>\n",
       "      <td>50 years after decriminalisation of homosexual...</td>\n",
       "      <td>...</td>\n",
       "      <td>2017-06-09</td>\n",
       "      <td>0.0</td>\n",
       "      <td>75.0</td>\n",
       "      <td>[{'iso_639_1': 'en', 'name': 'English'}]</td>\n",
       "      <td>Released</td>\n",
       "      <td>NaN</td>\n",
       "      <td>Queerama</td>\n",
       "      <td>False</td>\n",
       "      <td>0.0</td>\n",
       "      <td>0.0</td>\n",
       "    </tr>\n",
       "  </tbody>\n",
       "</table>\n",
       "<p>45466 rows × 24 columns</p>\n",
       "</div>"
      ],
      "text/plain": [
       "       adult                              belongs_to_collection    budget  \\\n",
       "0      False  {'id': 10194, 'name': 'Toy Story Collection', ...  30000000   \n",
       "1      False                                                NaN  65000000   \n",
       "2      False  {'id': 119050, 'name': 'Grumpy Old Men Collect...         0   \n",
       "3      False                                                NaN  16000000   \n",
       "4      False  {'id': 96871, 'name': 'Father of the Bride Col...         0   \n",
       "...      ...                                                ...       ...   \n",
       "45461  False                                                NaN         0   \n",
       "45462  False                                                NaN         0   \n",
       "45463  False                                                NaN         0   \n",
       "45464  False                                                NaN         0   \n",
       "45465  False                                                NaN         0   \n",
       "\n",
       "                                                  genres  \\\n",
       "0      [{'id': 16, 'name': 'Animation'}, {'id': 35, '...   \n",
       "1      [{'id': 12, 'name': 'Adventure'}, {'id': 14, '...   \n",
       "2      [{'id': 10749, 'name': 'Romance'}, {'id': 35, ...   \n",
       "3      [{'id': 35, 'name': 'Comedy'}, {'id': 18, 'nam...   \n",
       "4                         [{'id': 35, 'name': 'Comedy'}]   \n",
       "...                                                  ...   \n",
       "45461  [{'id': 18, 'name': 'Drama'}, {'id': 10751, 'n...   \n",
       "45462                      [{'id': 18, 'name': 'Drama'}]   \n",
       "45463  [{'id': 28, 'name': 'Action'}, {'id': 18, 'nam...   \n",
       "45464                                                 []   \n",
       "45465                                                 []   \n",
       "\n",
       "                                   homepage      id    imdb_id  \\\n",
       "0      http://toystory.disney.com/toy-story     862  tt0114709   \n",
       "1                                       NaN    8844  tt0113497   \n",
       "2                                       NaN   15602  tt0113228   \n",
       "3                                       NaN   31357  tt0114885   \n",
       "4                                       NaN   11862  tt0113041   \n",
       "...                                     ...     ...        ...   \n",
       "45461  http://www.imdb.com/title/tt6209470/  439050  tt6209470   \n",
       "45462                                   NaN  111109  tt2028550   \n",
       "45463                                   NaN   67758  tt0303758   \n",
       "45464                                   NaN  227506  tt0008536   \n",
       "45465                                   NaN  461257  tt6980792   \n",
       "\n",
       "      original_language               original_title  \\\n",
       "0                    en                    Toy Story   \n",
       "1                    en                      Jumanji   \n",
       "2                    en             Grumpier Old Men   \n",
       "3                    en            Waiting to Exhale   \n",
       "4                    en  Father of the Bride Part II   \n",
       "...                 ...                          ...   \n",
       "45461                fa                      رگ خواب   \n",
       "45462                tl          Siglo ng Pagluluwal   \n",
       "45463                en                     Betrayal   \n",
       "45464                en          Satana likuyushchiy   \n",
       "45465                en                     Queerama   \n",
       "\n",
       "                                                overview  ... release_date  \\\n",
       "0      Led by Woody, Andy's toys live happily in his ...  ...   1995-10-30   \n",
       "1      When siblings Judy and Peter discover an encha...  ...   1995-12-15   \n",
       "2      A family wedding reignites the ancient feud be...  ...   1995-12-22   \n",
       "3      Cheated on, mistreated and stepped on, the wom...  ...   1995-12-22   \n",
       "4      Just when George Banks has recovered from his ...  ...   1995-02-10   \n",
       "...                                                  ...  ...          ...   \n",
       "45461        Rising and falling between a man and woman.  ...          NaN   \n",
       "45462  An artist struggles to finish his work while a...  ...   2011-11-17   \n",
       "45463  When one of her hits goes wrong, a professiona...  ...   2003-08-01   \n",
       "45464  In a small town live two brothers, one a minis...  ...   1917-10-21   \n",
       "45465  50 years after decriminalisation of homosexual...  ...   2017-06-09   \n",
       "\n",
       "           revenue runtime                                   spoken_languages  \\\n",
       "0      373554033.0    81.0           [{'iso_639_1': 'en', 'name': 'English'}]   \n",
       "1      262797249.0   104.0  [{'iso_639_1': 'en', 'name': 'English'}, {'iso...   \n",
       "2              0.0   101.0           [{'iso_639_1': 'en', 'name': 'English'}]   \n",
       "3       81452156.0   127.0           [{'iso_639_1': 'en', 'name': 'English'}]   \n",
       "4       76578911.0   106.0           [{'iso_639_1': 'en', 'name': 'English'}]   \n",
       "...            ...     ...                                                ...   \n",
       "45461          0.0    90.0             [{'iso_639_1': 'fa', 'name': 'فارسی'}]   \n",
       "45462          0.0   360.0                  [{'iso_639_1': 'tl', 'name': ''}]   \n",
       "45463          0.0    90.0           [{'iso_639_1': 'en', 'name': 'English'}]   \n",
       "45464          0.0    87.0                                                 []   \n",
       "45465          0.0    75.0           [{'iso_639_1': 'en', 'name': 'English'}]   \n",
       "\n",
       "         status                                            tagline  \\\n",
       "0      Released                                                NaN   \n",
       "1      Released          Roll the dice and unleash the excitement!   \n",
       "2      Released  Still Yelling. Still Fighting. Still Ready for...   \n",
       "3      Released  Friends are the people who let you be yourself...   \n",
       "4      Released  Just When His World Is Back To Normal... He's ...   \n",
       "...         ...                                                ...   \n",
       "45461  Released         Rising and falling between a man and woman   \n",
       "45462  Released                                                NaN   \n",
       "45463  Released                             A deadly game of wits.   \n",
       "45464  Released                                                NaN   \n",
       "45465  Released                                                NaN   \n",
       "\n",
       "                             title  video vote_average vote_count  \n",
       "0                        Toy Story  False          7.7     5415.0  \n",
       "1                          Jumanji  False          6.9     2413.0  \n",
       "2                 Grumpier Old Men  False          6.5       92.0  \n",
       "3                Waiting to Exhale  False          6.1       34.0  \n",
       "4      Father of the Bride Part II  False          5.7      173.0  \n",
       "...                            ...    ...          ...        ...  \n",
       "45461                       Subdue  False          4.0        1.0  \n",
       "45462          Century of Birthing  False          9.0        3.0  \n",
       "45463                     Betrayal  False          3.8        6.0  \n",
       "45464             Satan Triumphant  False          0.0        0.0  \n",
       "45465                     Queerama  False          0.0        0.0  \n",
       "\n",
       "[45466 rows x 24 columns]"
      ]
     },
     "execution_count": 78,
     "metadata": {},
     "output_type": "execute_result"
    }
   ],
   "source": [
    "# display the loaded data\n",
    "movies"
   ]
  },
  {
   "cell_type": "code",
   "execution_count": 79,
   "metadata": {},
   "outputs": [],
   "source": [
    "# delete the columns that will not be used as part of the analysis\n",
    "movies.drop(['adult','belongs_to_collection','homepage','imdb_id', 'original_language','original_title', 'overview','popularity','poster_path','production_companies','production_countries','runtime','spoken_languages','tagline'], axis=1, inplace=True)"
   ]
  },
  {
   "cell_type": "code",
   "execution_count": 80,
   "metadata": {},
   "outputs": [
    {
     "data": {
      "text/html": [
       "<div>\n",
       "<style scoped>\n",
       "    .dataframe tbody tr th:only-of-type {\n",
       "        vertical-align: middle;\n",
       "    }\n",
       "\n",
       "    .dataframe tbody tr th {\n",
       "        vertical-align: top;\n",
       "    }\n",
       "\n",
       "    .dataframe thead th {\n",
       "        text-align: right;\n",
       "    }\n",
       "</style>\n",
       "<table border=\"1\" class=\"dataframe\">\n",
       "  <thead>\n",
       "    <tr style=\"text-align: right;\">\n",
       "      <th></th>\n",
       "      <th>budget</th>\n",
       "      <th>genres</th>\n",
       "      <th>id</th>\n",
       "      <th>release_date</th>\n",
       "      <th>revenue</th>\n",
       "      <th>status</th>\n",
       "      <th>title</th>\n",
       "      <th>video</th>\n",
       "      <th>vote_average</th>\n",
       "      <th>vote_count</th>\n",
       "    </tr>\n",
       "  </thead>\n",
       "  <tbody>\n",
       "    <tr>\n",
       "      <th>0</th>\n",
       "      <td>30000000</td>\n",
       "      <td>[{'id': 16, 'name': 'Animation'}, {'id': 35, '...</td>\n",
       "      <td>862</td>\n",
       "      <td>1995-10-30</td>\n",
       "      <td>373554033.0</td>\n",
       "      <td>Released</td>\n",
       "      <td>Toy Story</td>\n",
       "      <td>False</td>\n",
       "      <td>7.7</td>\n",
       "      <td>5415.0</td>\n",
       "    </tr>\n",
       "    <tr>\n",
       "      <th>1</th>\n",
       "      <td>65000000</td>\n",
       "      <td>[{'id': 12, 'name': 'Adventure'}, {'id': 14, '...</td>\n",
       "      <td>8844</td>\n",
       "      <td>1995-12-15</td>\n",
       "      <td>262797249.0</td>\n",
       "      <td>Released</td>\n",
       "      <td>Jumanji</td>\n",
       "      <td>False</td>\n",
       "      <td>6.9</td>\n",
       "      <td>2413.0</td>\n",
       "    </tr>\n",
       "    <tr>\n",
       "      <th>2</th>\n",
       "      <td>0</td>\n",
       "      <td>[{'id': 10749, 'name': 'Romance'}, {'id': 35, ...</td>\n",
       "      <td>15602</td>\n",
       "      <td>1995-12-22</td>\n",
       "      <td>0.0</td>\n",
       "      <td>Released</td>\n",
       "      <td>Grumpier Old Men</td>\n",
       "      <td>False</td>\n",
       "      <td>6.5</td>\n",
       "      <td>92.0</td>\n",
       "    </tr>\n",
       "    <tr>\n",
       "      <th>3</th>\n",
       "      <td>16000000</td>\n",
       "      <td>[{'id': 35, 'name': 'Comedy'}, {'id': 18, 'nam...</td>\n",
       "      <td>31357</td>\n",
       "      <td>1995-12-22</td>\n",
       "      <td>81452156.0</td>\n",
       "      <td>Released</td>\n",
       "      <td>Waiting to Exhale</td>\n",
       "      <td>False</td>\n",
       "      <td>6.1</td>\n",
       "      <td>34.0</td>\n",
       "    </tr>\n",
       "    <tr>\n",
       "      <th>4</th>\n",
       "      <td>0</td>\n",
       "      <td>[{'id': 35, 'name': 'Comedy'}]</td>\n",
       "      <td>11862</td>\n",
       "      <td>1995-02-10</td>\n",
       "      <td>76578911.0</td>\n",
       "      <td>Released</td>\n",
       "      <td>Father of the Bride Part II</td>\n",
       "      <td>False</td>\n",
       "      <td>5.7</td>\n",
       "      <td>173.0</td>\n",
       "    </tr>\n",
       "    <tr>\n",
       "      <th>5</th>\n",
       "      <td>60000000</td>\n",
       "      <td>[{'id': 28, 'name': 'Action'}, {'id': 80, 'nam...</td>\n",
       "      <td>949</td>\n",
       "      <td>1995-12-15</td>\n",
       "      <td>187436818.0</td>\n",
       "      <td>Released</td>\n",
       "      <td>Heat</td>\n",
       "      <td>False</td>\n",
       "      <td>7.7</td>\n",
       "      <td>1886.0</td>\n",
       "    </tr>\n",
       "    <tr>\n",
       "      <th>6</th>\n",
       "      <td>58000000</td>\n",
       "      <td>[{'id': 35, 'name': 'Comedy'}, {'id': 10749, '...</td>\n",
       "      <td>11860</td>\n",
       "      <td>1995-12-15</td>\n",
       "      <td>0.0</td>\n",
       "      <td>Released</td>\n",
       "      <td>Sabrina</td>\n",
       "      <td>False</td>\n",
       "      <td>6.2</td>\n",
       "      <td>141.0</td>\n",
       "    </tr>\n",
       "    <tr>\n",
       "      <th>7</th>\n",
       "      <td>0</td>\n",
       "      <td>[{'id': 28, 'name': 'Action'}, {'id': 12, 'nam...</td>\n",
       "      <td>45325</td>\n",
       "      <td>1995-12-22</td>\n",
       "      <td>0.0</td>\n",
       "      <td>Released</td>\n",
       "      <td>Tom and Huck</td>\n",
       "      <td>False</td>\n",
       "      <td>5.4</td>\n",
       "      <td>45.0</td>\n",
       "    </tr>\n",
       "    <tr>\n",
       "      <th>8</th>\n",
       "      <td>35000000</td>\n",
       "      <td>[{'id': 28, 'name': 'Action'}, {'id': 12, 'nam...</td>\n",
       "      <td>9091</td>\n",
       "      <td>1995-12-22</td>\n",
       "      <td>64350171.0</td>\n",
       "      <td>Released</td>\n",
       "      <td>Sudden Death</td>\n",
       "      <td>False</td>\n",
       "      <td>5.5</td>\n",
       "      <td>174.0</td>\n",
       "    </tr>\n",
       "    <tr>\n",
       "      <th>9</th>\n",
       "      <td>58000000</td>\n",
       "      <td>[{'id': 12, 'name': 'Adventure'}, {'id': 28, '...</td>\n",
       "      <td>710</td>\n",
       "      <td>1995-11-16</td>\n",
       "      <td>352194034.0</td>\n",
       "      <td>Released</td>\n",
       "      <td>GoldenEye</td>\n",
       "      <td>False</td>\n",
       "      <td>6.6</td>\n",
       "      <td>1194.0</td>\n",
       "    </tr>\n",
       "    <tr>\n",
       "      <th>10</th>\n",
       "      <td>62000000</td>\n",
       "      <td>[{'id': 35, 'name': 'Comedy'}, {'id': 18, 'nam...</td>\n",
       "      <td>9087</td>\n",
       "      <td>1995-11-17</td>\n",
       "      <td>107879496.0</td>\n",
       "      <td>Released</td>\n",
       "      <td>The American President</td>\n",
       "      <td>False</td>\n",
       "      <td>6.5</td>\n",
       "      <td>199.0</td>\n",
       "    </tr>\n",
       "    <tr>\n",
       "      <th>11</th>\n",
       "      <td>0</td>\n",
       "      <td>[{'id': 35, 'name': 'Comedy'}, {'id': 27, 'nam...</td>\n",
       "      <td>12110</td>\n",
       "      <td>1995-12-22</td>\n",
       "      <td>0.0</td>\n",
       "      <td>Released</td>\n",
       "      <td>Dracula: Dead and Loving It</td>\n",
       "      <td>False</td>\n",
       "      <td>5.7</td>\n",
       "      <td>210.0</td>\n",
       "    </tr>\n",
       "    <tr>\n",
       "      <th>12</th>\n",
       "      <td>0</td>\n",
       "      <td>[{'id': 10751, 'name': 'Family'}, {'id': 16, '...</td>\n",
       "      <td>21032</td>\n",
       "      <td>1995-12-22</td>\n",
       "      <td>11348324.0</td>\n",
       "      <td>Released</td>\n",
       "      <td>Balto</td>\n",
       "      <td>False</td>\n",
       "      <td>7.1</td>\n",
       "      <td>423.0</td>\n",
       "    </tr>\n",
       "    <tr>\n",
       "      <th>13</th>\n",
       "      <td>44000000</td>\n",
       "      <td>[{'id': 36, 'name': 'History'}, {'id': 18, 'na...</td>\n",
       "      <td>10858</td>\n",
       "      <td>1995-12-22</td>\n",
       "      <td>13681765.0</td>\n",
       "      <td>Released</td>\n",
       "      <td>Nixon</td>\n",
       "      <td>False</td>\n",
       "      <td>7.1</td>\n",
       "      <td>72.0</td>\n",
       "    </tr>\n",
       "    <tr>\n",
       "      <th>14</th>\n",
       "      <td>98000000</td>\n",
       "      <td>[{'id': 28, 'name': 'Action'}, {'id': 12, 'nam...</td>\n",
       "      <td>1408</td>\n",
       "      <td>1995-12-22</td>\n",
       "      <td>10017322.0</td>\n",
       "      <td>Released</td>\n",
       "      <td>Cutthroat Island</td>\n",
       "      <td>False</td>\n",
       "      <td>5.7</td>\n",
       "      <td>137.0</td>\n",
       "    </tr>\n",
       "    <tr>\n",
       "      <th>15</th>\n",
       "      <td>52000000</td>\n",
       "      <td>[{'id': 18, 'name': 'Drama'}, {'id': 80, 'name...</td>\n",
       "      <td>524</td>\n",
       "      <td>1995-11-22</td>\n",
       "      <td>116112375.0</td>\n",
       "      <td>Released</td>\n",
       "      <td>Casino</td>\n",
       "      <td>False</td>\n",
       "      <td>7.8</td>\n",
       "      <td>1343.0</td>\n",
       "    </tr>\n",
       "    <tr>\n",
       "      <th>16</th>\n",
       "      <td>16500000</td>\n",
       "      <td>[{'id': 18, 'name': 'Drama'}, {'id': 10749, 'n...</td>\n",
       "      <td>4584</td>\n",
       "      <td>1995-12-13</td>\n",
       "      <td>135000000.0</td>\n",
       "      <td>Released</td>\n",
       "      <td>Sense and Sensibility</td>\n",
       "      <td>False</td>\n",
       "      <td>7.2</td>\n",
       "      <td>364.0</td>\n",
       "    </tr>\n",
       "    <tr>\n",
       "      <th>17</th>\n",
       "      <td>4000000</td>\n",
       "      <td>[{'id': 80, 'name': 'Crime'}, {'id': 35, 'name...</td>\n",
       "      <td>5</td>\n",
       "      <td>1995-12-09</td>\n",
       "      <td>4300000.0</td>\n",
       "      <td>Released</td>\n",
       "      <td>Four Rooms</td>\n",
       "      <td>False</td>\n",
       "      <td>6.5</td>\n",
       "      <td>539.0</td>\n",
       "    </tr>\n",
       "    <tr>\n",
       "      <th>18</th>\n",
       "      <td>30000000</td>\n",
       "      <td>[{'id': 80, 'name': 'Crime'}, {'id': 35, 'name...</td>\n",
       "      <td>9273</td>\n",
       "      <td>1995-11-10</td>\n",
       "      <td>212385533.0</td>\n",
       "      <td>Released</td>\n",
       "      <td>Ace Ventura: When Nature Calls</td>\n",
       "      <td>False</td>\n",
       "      <td>6.1</td>\n",
       "      <td>1128.0</td>\n",
       "    </tr>\n",
       "    <tr>\n",
       "      <th>19</th>\n",
       "      <td>60000000</td>\n",
       "      <td>[{'id': 28, 'name': 'Action'}, {'id': 35, 'nam...</td>\n",
       "      <td>11517</td>\n",
       "      <td>1995-11-21</td>\n",
       "      <td>35431113.0</td>\n",
       "      <td>Released</td>\n",
       "      <td>Money Train</td>\n",
       "      <td>False</td>\n",
       "      <td>5.4</td>\n",
       "      <td>224.0</td>\n",
       "    </tr>\n",
       "  </tbody>\n",
       "</table>\n",
       "</div>"
      ],
      "text/plain": [
       "      budget                                             genres     id  \\\n",
       "0   30000000  [{'id': 16, 'name': 'Animation'}, {'id': 35, '...    862   \n",
       "1   65000000  [{'id': 12, 'name': 'Adventure'}, {'id': 14, '...   8844   \n",
       "2          0  [{'id': 10749, 'name': 'Romance'}, {'id': 35, ...  15602   \n",
       "3   16000000  [{'id': 35, 'name': 'Comedy'}, {'id': 18, 'nam...  31357   \n",
       "4          0                     [{'id': 35, 'name': 'Comedy'}]  11862   \n",
       "5   60000000  [{'id': 28, 'name': 'Action'}, {'id': 80, 'nam...    949   \n",
       "6   58000000  [{'id': 35, 'name': 'Comedy'}, {'id': 10749, '...  11860   \n",
       "7          0  [{'id': 28, 'name': 'Action'}, {'id': 12, 'nam...  45325   \n",
       "8   35000000  [{'id': 28, 'name': 'Action'}, {'id': 12, 'nam...   9091   \n",
       "9   58000000  [{'id': 12, 'name': 'Adventure'}, {'id': 28, '...    710   \n",
       "10  62000000  [{'id': 35, 'name': 'Comedy'}, {'id': 18, 'nam...   9087   \n",
       "11         0  [{'id': 35, 'name': 'Comedy'}, {'id': 27, 'nam...  12110   \n",
       "12         0  [{'id': 10751, 'name': 'Family'}, {'id': 16, '...  21032   \n",
       "13  44000000  [{'id': 36, 'name': 'History'}, {'id': 18, 'na...  10858   \n",
       "14  98000000  [{'id': 28, 'name': 'Action'}, {'id': 12, 'nam...   1408   \n",
       "15  52000000  [{'id': 18, 'name': 'Drama'}, {'id': 80, 'name...    524   \n",
       "16  16500000  [{'id': 18, 'name': 'Drama'}, {'id': 10749, 'n...   4584   \n",
       "17   4000000  [{'id': 80, 'name': 'Crime'}, {'id': 35, 'name...      5   \n",
       "18  30000000  [{'id': 80, 'name': 'Crime'}, {'id': 35, 'name...   9273   \n",
       "19  60000000  [{'id': 28, 'name': 'Action'}, {'id': 35, 'nam...  11517   \n",
       "\n",
       "   release_date      revenue    status                           title  video  \\\n",
       "0    1995-10-30  373554033.0  Released                       Toy Story  False   \n",
       "1    1995-12-15  262797249.0  Released                         Jumanji  False   \n",
       "2    1995-12-22          0.0  Released                Grumpier Old Men  False   \n",
       "3    1995-12-22   81452156.0  Released               Waiting to Exhale  False   \n",
       "4    1995-02-10   76578911.0  Released     Father of the Bride Part II  False   \n",
       "5    1995-12-15  187436818.0  Released                            Heat  False   \n",
       "6    1995-12-15          0.0  Released                         Sabrina  False   \n",
       "7    1995-12-22          0.0  Released                    Tom and Huck  False   \n",
       "8    1995-12-22   64350171.0  Released                    Sudden Death  False   \n",
       "9    1995-11-16  352194034.0  Released                       GoldenEye  False   \n",
       "10   1995-11-17  107879496.0  Released          The American President  False   \n",
       "11   1995-12-22          0.0  Released     Dracula: Dead and Loving It  False   \n",
       "12   1995-12-22   11348324.0  Released                           Balto  False   \n",
       "13   1995-12-22   13681765.0  Released                           Nixon  False   \n",
       "14   1995-12-22   10017322.0  Released                Cutthroat Island  False   \n",
       "15   1995-11-22  116112375.0  Released                          Casino  False   \n",
       "16   1995-12-13  135000000.0  Released           Sense and Sensibility  False   \n",
       "17   1995-12-09    4300000.0  Released                      Four Rooms  False   \n",
       "18   1995-11-10  212385533.0  Released  Ace Ventura: When Nature Calls  False   \n",
       "19   1995-11-21   35431113.0  Released                     Money Train  False   \n",
       "\n",
       "    vote_average  vote_count  \n",
       "0            7.7      5415.0  \n",
       "1            6.9      2413.0  \n",
       "2            6.5        92.0  \n",
       "3            6.1        34.0  \n",
       "4            5.7       173.0  \n",
       "5            7.7      1886.0  \n",
       "6            6.2       141.0  \n",
       "7            5.4        45.0  \n",
       "8            5.5       174.0  \n",
       "9            6.6      1194.0  \n",
       "10           6.5       199.0  \n",
       "11           5.7       210.0  \n",
       "12           7.1       423.0  \n",
       "13           7.1        72.0  \n",
       "14           5.7       137.0  \n",
       "15           7.8      1343.0  \n",
       "16           7.2       364.0  \n",
       "17           6.5       539.0  \n",
       "18           6.1      1128.0  \n",
       "19           5.4       224.0  "
      ]
     },
     "execution_count": 80,
     "metadata": {},
     "output_type": "execute_result"
    }
   ],
   "source": [
    "# display the first 20 rows of the dataframe\n",
    "movies[:20]"
   ]
  },
  {
   "cell_type": "code",
   "execution_count": 81,
   "metadata": {},
   "outputs": [
    {
     "name": "stdout",
     "output_type": "stream",
     "text": [
      "<class 'pandas.core.frame.DataFrame'>\n",
      "RangeIndex: 45466 entries, 0 to 45465\n",
      "Data columns (total 10 columns):\n",
      " #   Column        Non-Null Count  Dtype  \n",
      "---  ------        --------------  -----  \n",
      " 0   budget        45466 non-null  object \n",
      " 1   genres        45466 non-null  object \n",
      " 2   id            45466 non-null  object \n",
      " 3   release_date  45379 non-null  object \n",
      " 4   revenue       45460 non-null  float64\n",
      " 5   status        45379 non-null  object \n",
      " 6   title         45460 non-null  object \n",
      " 7   video         45460 non-null  object \n",
      " 8   vote_average  45460 non-null  float64\n",
      " 9   vote_count    45460 non-null  float64\n",
      "dtypes: float64(3), object(7)\n",
      "memory usage: 3.5+ MB\n"
     ]
    }
   ],
   "source": [
    "# show the datatypes of the loaded columns\n",
    "movies.info()"
   ]
  },
  {
   "cell_type": "code",
   "execution_count": 82,
   "metadata": {},
   "outputs": [],
   "source": [
    "# Delete movie entries with no recorded revenue\n",
    "movies.drop(movies[movies['revenue'] == 0].index, inplace=True)\n",
    "movies.drop(movies[movies['budget'] == '0'].index, inplace=True)\n",
    "movies.drop(movies[movies['genres'] == 0].index, inplace=True)"
   ]
  },
  {
   "cell_type": "code",
   "execution_count": 83,
   "metadata": {},
   "outputs": [
    {
     "data": {
      "text/html": [
       "<div>\n",
       "<style scoped>\n",
       "    .dataframe tbody tr th:only-of-type {\n",
       "        vertical-align: middle;\n",
       "    }\n",
       "\n",
       "    .dataframe tbody tr th {\n",
       "        vertical-align: top;\n",
       "    }\n",
       "\n",
       "    .dataframe thead th {\n",
       "        text-align: right;\n",
       "    }\n",
       "</style>\n",
       "<table border=\"1\" class=\"dataframe\">\n",
       "  <thead>\n",
       "    <tr style=\"text-align: right;\">\n",
       "      <th></th>\n",
       "      <th>budget</th>\n",
       "      <th>genres</th>\n",
       "      <th>id</th>\n",
       "      <th>release_date</th>\n",
       "      <th>revenue</th>\n",
       "      <th>status</th>\n",
       "      <th>title</th>\n",
       "      <th>video</th>\n",
       "      <th>vote_average</th>\n",
       "      <th>vote_count</th>\n",
       "    </tr>\n",
       "  </thead>\n",
       "  <tbody>\n",
       "    <tr>\n",
       "      <th>0</th>\n",
       "      <td>30000000</td>\n",
       "      <td>[{'id': 16, 'name': 'Animation'}, {'id': 35, '...</td>\n",
       "      <td>862</td>\n",
       "      <td>1995-10-30</td>\n",
       "      <td>373554033.0</td>\n",
       "      <td>Released</td>\n",
       "      <td>Toy Story</td>\n",
       "      <td>False</td>\n",
       "      <td>7.7</td>\n",
       "      <td>5415.0</td>\n",
       "    </tr>\n",
       "    <tr>\n",
       "      <th>1</th>\n",
       "      <td>65000000</td>\n",
       "      <td>[{'id': 12, 'name': 'Adventure'}, {'id': 14, '...</td>\n",
       "      <td>8844</td>\n",
       "      <td>1995-12-15</td>\n",
       "      <td>262797249.0</td>\n",
       "      <td>Released</td>\n",
       "      <td>Jumanji</td>\n",
       "      <td>False</td>\n",
       "      <td>6.9</td>\n",
       "      <td>2413.0</td>\n",
       "    </tr>\n",
       "    <tr>\n",
       "      <th>3</th>\n",
       "      <td>16000000</td>\n",
       "      <td>[{'id': 35, 'name': 'Comedy'}, {'id': 18, 'nam...</td>\n",
       "      <td>31357</td>\n",
       "      <td>1995-12-22</td>\n",
       "      <td>81452156.0</td>\n",
       "      <td>Released</td>\n",
       "      <td>Waiting to Exhale</td>\n",
       "      <td>False</td>\n",
       "      <td>6.1</td>\n",
       "      <td>34.0</td>\n",
       "    </tr>\n",
       "    <tr>\n",
       "      <th>5</th>\n",
       "      <td>60000000</td>\n",
       "      <td>[{'id': 28, 'name': 'Action'}, {'id': 80, 'nam...</td>\n",
       "      <td>949</td>\n",
       "      <td>1995-12-15</td>\n",
       "      <td>187436818.0</td>\n",
       "      <td>Released</td>\n",
       "      <td>Heat</td>\n",
       "      <td>False</td>\n",
       "      <td>7.7</td>\n",
       "      <td>1886.0</td>\n",
       "    </tr>\n",
       "    <tr>\n",
       "      <th>8</th>\n",
       "      <td>35000000</td>\n",
       "      <td>[{'id': 28, 'name': 'Action'}, {'id': 12, 'nam...</td>\n",
       "      <td>9091</td>\n",
       "      <td>1995-12-22</td>\n",
       "      <td>64350171.0</td>\n",
       "      <td>Released</td>\n",
       "      <td>Sudden Death</td>\n",
       "      <td>False</td>\n",
       "      <td>5.5</td>\n",
       "      <td>174.0</td>\n",
       "    </tr>\n",
       "    <tr>\n",
       "      <th>...</th>\n",
       "      <td>...</td>\n",
       "      <td>...</td>\n",
       "      <td>...</td>\n",
       "      <td>...</td>\n",
       "      <td>...</td>\n",
       "      <td>...</td>\n",
       "      <td>...</td>\n",
       "      <td>...</td>\n",
       "      <td>...</td>\n",
       "      <td>...</td>\n",
       "    </tr>\n",
       "    <tr>\n",
       "      <th>45250</th>\n",
       "      <td>12000000</td>\n",
       "      <td>[{'id': 28, 'name': 'Action'}, {'id': 35, 'nam...</td>\n",
       "      <td>24049</td>\n",
       "      <td>2007-06-14</td>\n",
       "      <td>19000000.0</td>\n",
       "      <td>Released</td>\n",
       "      <td>Sivaji: The Boss</td>\n",
       "      <td>False</td>\n",
       "      <td>6.9</td>\n",
       "      <td>25.0</td>\n",
       "    </tr>\n",
       "    <tr>\n",
       "      <th>45399</th>\n",
       "      <td>750000</td>\n",
       "      <td>[{'id': 80, 'name': 'Crime'}, {'id': 35, 'name...</td>\n",
       "      <td>280422</td>\n",
       "      <td>2014-06-05</td>\n",
       "      <td>3.0</td>\n",
       "      <td>Released</td>\n",
       "      <td>All at Once</td>\n",
       "      <td>False</td>\n",
       "      <td>6.0</td>\n",
       "      <td>4.0</td>\n",
       "    </tr>\n",
       "    <tr>\n",
       "      <th>45409</th>\n",
       "      <td>800000</td>\n",
       "      <td>[{'id': 35, 'name': 'Comedy'}, {'id': 18, 'nam...</td>\n",
       "      <td>62757</td>\n",
       "      <td>2006-11-23</td>\n",
       "      <td>1328612.0</td>\n",
       "      <td>Released</td>\n",
       "      <td>Savages</td>\n",
       "      <td>False</td>\n",
       "      <td>5.8</td>\n",
       "      <td>6.0</td>\n",
       "    </tr>\n",
       "    <tr>\n",
       "      <th>45412</th>\n",
       "      <td>2000000</td>\n",
       "      <td>[{'id': 10749, 'name': 'Romance'}, {'id': 18, ...</td>\n",
       "      <td>63281</td>\n",
       "      <td>2010-09-30</td>\n",
       "      <td>1268793.0</td>\n",
       "      <td>Released</td>\n",
       "      <td>Pro Lyuboff</td>\n",
       "      <td>False</td>\n",
       "      <td>4.0</td>\n",
       "      <td>3.0</td>\n",
       "    </tr>\n",
       "    <tr>\n",
       "      <th>45422</th>\n",
       "      <td>5000000</td>\n",
       "      <td>[{'id': 28, 'name': 'Action'}, {'id': 35, 'nam...</td>\n",
       "      <td>63898</td>\n",
       "      <td>2007-09-06</td>\n",
       "      <td>1413000.0</td>\n",
       "      <td>Released</td>\n",
       "      <td>Antidur</td>\n",
       "      <td>False</td>\n",
       "      <td>1.0</td>\n",
       "      <td>1.0</td>\n",
       "    </tr>\n",
       "  </tbody>\n",
       "</table>\n",
       "<p>5384 rows × 10 columns</p>\n",
       "</div>"
      ],
      "text/plain": [
       "         budget                                             genres      id  \\\n",
       "0      30000000  [{'id': 16, 'name': 'Animation'}, {'id': 35, '...     862   \n",
       "1      65000000  [{'id': 12, 'name': 'Adventure'}, {'id': 14, '...    8844   \n",
       "3      16000000  [{'id': 35, 'name': 'Comedy'}, {'id': 18, 'nam...   31357   \n",
       "5      60000000  [{'id': 28, 'name': 'Action'}, {'id': 80, 'nam...     949   \n",
       "8      35000000  [{'id': 28, 'name': 'Action'}, {'id': 12, 'nam...    9091   \n",
       "...         ...                                                ...     ...   \n",
       "45250  12000000  [{'id': 28, 'name': 'Action'}, {'id': 35, 'nam...   24049   \n",
       "45399    750000  [{'id': 80, 'name': 'Crime'}, {'id': 35, 'name...  280422   \n",
       "45409    800000  [{'id': 35, 'name': 'Comedy'}, {'id': 18, 'nam...   62757   \n",
       "45412   2000000  [{'id': 10749, 'name': 'Romance'}, {'id': 18, ...   63281   \n",
       "45422   5000000  [{'id': 28, 'name': 'Action'}, {'id': 35, 'nam...   63898   \n",
       "\n",
       "      release_date      revenue    status              title  video  \\\n",
       "0       1995-10-30  373554033.0  Released          Toy Story  False   \n",
       "1       1995-12-15  262797249.0  Released            Jumanji  False   \n",
       "3       1995-12-22   81452156.0  Released  Waiting to Exhale  False   \n",
       "5       1995-12-15  187436818.0  Released               Heat  False   \n",
       "8       1995-12-22   64350171.0  Released       Sudden Death  False   \n",
       "...            ...          ...       ...                ...    ...   \n",
       "45250   2007-06-14   19000000.0  Released   Sivaji: The Boss  False   \n",
       "45399   2014-06-05          3.0  Released        All at Once  False   \n",
       "45409   2006-11-23    1328612.0  Released            Savages  False   \n",
       "45412   2010-09-30    1268793.0  Released        Pro Lyuboff  False   \n",
       "45422   2007-09-06    1413000.0  Released            Antidur  False   \n",
       "\n",
       "       vote_average  vote_count  \n",
       "0               7.7      5415.0  \n",
       "1               6.9      2413.0  \n",
       "3               6.1        34.0  \n",
       "5               7.7      1886.0  \n",
       "8               5.5       174.0  \n",
       "...             ...         ...  \n",
       "45250           6.9        25.0  \n",
       "45399           6.0         4.0  \n",
       "45409           5.8         6.0  \n",
       "45412           4.0         3.0  \n",
       "45422           1.0         1.0  \n",
       "\n",
       "[5384 rows x 10 columns]"
      ]
     },
     "execution_count": 83,
     "metadata": {},
     "output_type": "execute_result"
    }
   ],
   "source": [
    "# See how many of the 45,466 movie records remain.\n",
    "movies"
   ]
  },
  {
   "cell_type": "code",
   "execution_count": 84,
   "metadata": {},
   "outputs": [
    {
     "data": {
      "text/plain": [
       "array([False, nan], dtype=object)"
      ]
     },
     "execution_count": 84,
     "metadata": {},
     "output_type": "execute_result"
    }
   ],
   "source": [
    "# 7,414 movie entries left\n",
    "# ensure that no \"straight-to-video\" movies are in the dataset\n",
    "movies['video'].unique()"
   ]
  },
  {
   "cell_type": "code",
   "execution_count": 85,
   "metadata": {},
   "outputs": [
    {
     "data": {
      "text/html": [
       "<div>\n",
       "<style scoped>\n",
       "    .dataframe tbody tr th:only-of-type {\n",
       "        vertical-align: middle;\n",
       "    }\n",
       "\n",
       "    .dataframe tbody tr th {\n",
       "        vertical-align: top;\n",
       "    }\n",
       "\n",
       "    .dataframe thead th {\n",
       "        text-align: right;\n",
       "    }\n",
       "</style>\n",
       "<table border=\"1\" class=\"dataframe\">\n",
       "  <thead>\n",
       "    <tr style=\"text-align: right;\">\n",
       "      <th></th>\n",
       "      <th>budget</th>\n",
       "      <th>genres</th>\n",
       "      <th>id</th>\n",
       "      <th>release_date</th>\n",
       "      <th>revenue</th>\n",
       "      <th>status</th>\n",
       "      <th>title</th>\n",
       "      <th>video</th>\n",
       "      <th>vote_average</th>\n",
       "      <th>vote_count</th>\n",
       "    </tr>\n",
       "  </thead>\n",
       "  <tbody>\n",
       "    <tr>\n",
       "      <th>19730</th>\n",
       "      <td>/ff9qCepilowshEtG2GYWwzt2bs4.jpg</td>\n",
       "      <td>[{'name': 'Carousel Productions', 'id': 11176}...</td>\n",
       "      <td>1997-08-20</td>\n",
       "      <td>1</td>\n",
       "      <td>NaN</td>\n",
       "      <td>NaN</td>\n",
       "      <td>NaN</td>\n",
       "      <td>NaN</td>\n",
       "      <td>NaN</td>\n",
       "      <td>NaN</td>\n",
       "    </tr>\n",
       "    <tr>\n",
       "      <th>29503</th>\n",
       "      <td>/zV8bHuSL6WXoD6FWogP9j4x80bL.jpg</td>\n",
       "      <td>[{'name': 'Aniplex', 'id': 2883}, {'name': 'Go...</td>\n",
       "      <td>2012-09-29</td>\n",
       "      <td>12</td>\n",
       "      <td>NaN</td>\n",
       "      <td>NaN</td>\n",
       "      <td>NaN</td>\n",
       "      <td>NaN</td>\n",
       "      <td>NaN</td>\n",
       "      <td>NaN</td>\n",
       "    </tr>\n",
       "    <tr>\n",
       "      <th>35587</th>\n",
       "      <td>/zaSf5OG7V8X8gqFvly88zDdRm46.jpg</td>\n",
       "      <td>[{'name': 'Odyssey Media', 'id': 17161}, {'nam...</td>\n",
       "      <td>2014-01-01</td>\n",
       "      <td>22</td>\n",
       "      <td>NaN</td>\n",
       "      <td>NaN</td>\n",
       "      <td>NaN</td>\n",
       "      <td>NaN</td>\n",
       "      <td>NaN</td>\n",
       "      <td>NaN</td>\n",
       "    </tr>\n",
       "  </tbody>\n",
       "</table>\n",
       "</div>"
      ],
      "text/plain": [
       "                                 budget  \\\n",
       "19730  /ff9qCepilowshEtG2GYWwzt2bs4.jpg   \n",
       "29503  /zV8bHuSL6WXoD6FWogP9j4x80bL.jpg   \n",
       "35587  /zaSf5OG7V8X8gqFvly88zDdRm46.jpg   \n",
       "\n",
       "                                                  genres          id  \\\n",
       "19730  [{'name': 'Carousel Productions', 'id': 11176}...  1997-08-20   \n",
       "29503  [{'name': 'Aniplex', 'id': 2883}, {'name': 'Go...  2012-09-29   \n",
       "35587  [{'name': 'Odyssey Media', 'id': 17161}, {'nam...  2014-01-01   \n",
       "\n",
       "      release_date  revenue status title video  vote_average  vote_count  \n",
       "19730            1      NaN    NaN   NaN   NaN           NaN         NaN  \n",
       "29503           12      NaN    NaN   NaN   NaN           NaN         NaN  \n",
       "35587           22      NaN    NaN   NaN   NaN           NaN         NaN  "
      ]
     },
     "execution_count": 85,
     "metadata": {},
     "output_type": "execute_result"
    }
   ],
   "source": [
    "# some movie entries do not specify whether they have been released in a theater or not.\n",
    "movies[movies['video'].isna()]"
   ]
  },
  {
   "cell_type": "code",
   "execution_count": 86,
   "metadata": {},
   "outputs": [],
   "source": [
    "# delete movie entries not confirmed to have been released in theaters.\n",
    "movies.drop(movies[movies['video'].isna()].index, inplace=True)"
   ]
  },
  {
   "cell_type": "code",
   "execution_count": 87,
   "metadata": {},
   "outputs": [],
   "source": [
    "# delete movie entries without a status and without a release date.\n",
    "movies.drop(movies[movies['status'].isna()].index, inplace=True)\n",
    "movies.drop(movies[movies['release_date'].isna()].index, inplace=True)\n",
    "\n",
    "#delete the video column (no longer needed)\n",
    "movies.drop(['video'], axis=1, inplace=True)"
   ]
  },
  {
   "cell_type": "code",
   "execution_count": 88,
   "metadata": {},
   "outputs": [
    {
     "data": {
      "text/html": [
       "<div>\n",
       "<style scoped>\n",
       "    .dataframe tbody tr th:only-of-type {\n",
       "        vertical-align: middle;\n",
       "    }\n",
       "\n",
       "    .dataframe tbody tr th {\n",
       "        vertical-align: top;\n",
       "    }\n",
       "\n",
       "    .dataframe thead th {\n",
       "        text-align: right;\n",
       "    }\n",
       "</style>\n",
       "<table border=\"1\" class=\"dataframe\">\n",
       "  <thead>\n",
       "    <tr style=\"text-align: right;\">\n",
       "      <th></th>\n",
       "      <th>budget</th>\n",
       "      <th>genres</th>\n",
       "      <th>id</th>\n",
       "      <th>release_date</th>\n",
       "      <th>revenue</th>\n",
       "      <th>status</th>\n",
       "      <th>title</th>\n",
       "      <th>vote_average</th>\n",
       "      <th>vote_count</th>\n",
       "    </tr>\n",
       "  </thead>\n",
       "  <tbody>\n",
       "    <tr>\n",
       "      <th>0</th>\n",
       "      <td>30000000</td>\n",
       "      <td>[{'id': 16, 'name': 'Animation'}, {'id': 35, '...</td>\n",
       "      <td>862</td>\n",
       "      <td>1995-10-30</td>\n",
       "      <td>373554033.0</td>\n",
       "      <td>Released</td>\n",
       "      <td>Toy Story</td>\n",
       "      <td>7.7</td>\n",
       "      <td>5415.0</td>\n",
       "    </tr>\n",
       "    <tr>\n",
       "      <th>1</th>\n",
       "      <td>65000000</td>\n",
       "      <td>[{'id': 12, 'name': 'Adventure'}, {'id': 14, '...</td>\n",
       "      <td>8844</td>\n",
       "      <td>1995-12-15</td>\n",
       "      <td>262797249.0</td>\n",
       "      <td>Released</td>\n",
       "      <td>Jumanji</td>\n",
       "      <td>6.9</td>\n",
       "      <td>2413.0</td>\n",
       "    </tr>\n",
       "    <tr>\n",
       "      <th>3</th>\n",
       "      <td>16000000</td>\n",
       "      <td>[{'id': 35, 'name': 'Comedy'}, {'id': 18, 'nam...</td>\n",
       "      <td>31357</td>\n",
       "      <td>1995-12-22</td>\n",
       "      <td>81452156.0</td>\n",
       "      <td>Released</td>\n",
       "      <td>Waiting to Exhale</td>\n",
       "      <td>6.1</td>\n",
       "      <td>34.0</td>\n",
       "    </tr>\n",
       "    <tr>\n",
       "      <th>5</th>\n",
       "      <td>60000000</td>\n",
       "      <td>[{'id': 28, 'name': 'Action'}, {'id': 80, 'nam...</td>\n",
       "      <td>949</td>\n",
       "      <td>1995-12-15</td>\n",
       "      <td>187436818.0</td>\n",
       "      <td>Released</td>\n",
       "      <td>Heat</td>\n",
       "      <td>7.7</td>\n",
       "      <td>1886.0</td>\n",
       "    </tr>\n",
       "    <tr>\n",
       "      <th>8</th>\n",
       "      <td>35000000</td>\n",
       "      <td>[{'id': 28, 'name': 'Action'}, {'id': 12, 'nam...</td>\n",
       "      <td>9091</td>\n",
       "      <td>1995-12-22</td>\n",
       "      <td>64350171.0</td>\n",
       "      <td>Released</td>\n",
       "      <td>Sudden Death</td>\n",
       "      <td>5.5</td>\n",
       "      <td>174.0</td>\n",
       "    </tr>\n",
       "    <tr>\n",
       "      <th>...</th>\n",
       "      <td>...</td>\n",
       "      <td>...</td>\n",
       "      <td>...</td>\n",
       "      <td>...</td>\n",
       "      <td>...</td>\n",
       "      <td>...</td>\n",
       "      <td>...</td>\n",
       "      <td>...</td>\n",
       "      <td>...</td>\n",
       "    </tr>\n",
       "    <tr>\n",
       "      <th>45250</th>\n",
       "      <td>12000000</td>\n",
       "      <td>[{'id': 28, 'name': 'Action'}, {'id': 35, 'nam...</td>\n",
       "      <td>24049</td>\n",
       "      <td>2007-06-14</td>\n",
       "      <td>19000000.0</td>\n",
       "      <td>Released</td>\n",
       "      <td>Sivaji: The Boss</td>\n",
       "      <td>6.9</td>\n",
       "      <td>25.0</td>\n",
       "    </tr>\n",
       "    <tr>\n",
       "      <th>45399</th>\n",
       "      <td>750000</td>\n",
       "      <td>[{'id': 80, 'name': 'Crime'}, {'id': 35, 'name...</td>\n",
       "      <td>280422</td>\n",
       "      <td>2014-06-05</td>\n",
       "      <td>3.0</td>\n",
       "      <td>Released</td>\n",
       "      <td>All at Once</td>\n",
       "      <td>6.0</td>\n",
       "      <td>4.0</td>\n",
       "    </tr>\n",
       "    <tr>\n",
       "      <th>45409</th>\n",
       "      <td>800000</td>\n",
       "      <td>[{'id': 35, 'name': 'Comedy'}, {'id': 18, 'nam...</td>\n",
       "      <td>62757</td>\n",
       "      <td>2006-11-23</td>\n",
       "      <td>1328612.0</td>\n",
       "      <td>Released</td>\n",
       "      <td>Savages</td>\n",
       "      <td>5.8</td>\n",
       "      <td>6.0</td>\n",
       "    </tr>\n",
       "    <tr>\n",
       "      <th>45412</th>\n",
       "      <td>2000000</td>\n",
       "      <td>[{'id': 10749, 'name': 'Romance'}, {'id': 18, ...</td>\n",
       "      <td>63281</td>\n",
       "      <td>2010-09-30</td>\n",
       "      <td>1268793.0</td>\n",
       "      <td>Released</td>\n",
       "      <td>Pro Lyuboff</td>\n",
       "      <td>4.0</td>\n",
       "      <td>3.0</td>\n",
       "    </tr>\n",
       "    <tr>\n",
       "      <th>45422</th>\n",
       "      <td>5000000</td>\n",
       "      <td>[{'id': 28, 'name': 'Action'}, {'id': 35, 'nam...</td>\n",
       "      <td>63898</td>\n",
       "      <td>2007-09-06</td>\n",
       "      <td>1413000.0</td>\n",
       "      <td>Released</td>\n",
       "      <td>Antidur</td>\n",
       "      <td>1.0</td>\n",
       "      <td>1.0</td>\n",
       "    </tr>\n",
       "  </tbody>\n",
       "</table>\n",
       "<p>5381 rows × 9 columns</p>\n",
       "</div>"
      ],
      "text/plain": [
       "         budget                                             genres      id  \\\n",
       "0      30000000  [{'id': 16, 'name': 'Animation'}, {'id': 35, '...     862   \n",
       "1      65000000  [{'id': 12, 'name': 'Adventure'}, {'id': 14, '...    8844   \n",
       "3      16000000  [{'id': 35, 'name': 'Comedy'}, {'id': 18, 'nam...   31357   \n",
       "5      60000000  [{'id': 28, 'name': 'Action'}, {'id': 80, 'nam...     949   \n",
       "8      35000000  [{'id': 28, 'name': 'Action'}, {'id': 12, 'nam...    9091   \n",
       "...         ...                                                ...     ...   \n",
       "45250  12000000  [{'id': 28, 'name': 'Action'}, {'id': 35, 'nam...   24049   \n",
       "45399    750000  [{'id': 80, 'name': 'Crime'}, {'id': 35, 'name...  280422   \n",
       "45409    800000  [{'id': 35, 'name': 'Comedy'}, {'id': 18, 'nam...   62757   \n",
       "45412   2000000  [{'id': 10749, 'name': 'Romance'}, {'id': 18, ...   63281   \n",
       "45422   5000000  [{'id': 28, 'name': 'Action'}, {'id': 35, 'nam...   63898   \n",
       "\n",
       "      release_date      revenue    status              title  vote_average  \\\n",
       "0       1995-10-30  373554033.0  Released          Toy Story           7.7   \n",
       "1       1995-12-15  262797249.0  Released            Jumanji           6.9   \n",
       "3       1995-12-22   81452156.0  Released  Waiting to Exhale           6.1   \n",
       "5       1995-12-15  187436818.0  Released               Heat           7.7   \n",
       "8       1995-12-22   64350171.0  Released       Sudden Death           5.5   \n",
       "...            ...          ...       ...                ...           ...   \n",
       "45250   2007-06-14   19000000.0  Released   Sivaji: The Boss           6.9   \n",
       "45399   2014-06-05          3.0  Released        All at Once           6.0   \n",
       "45409   2006-11-23    1328612.0  Released            Savages           5.8   \n",
       "45412   2010-09-30    1268793.0  Released        Pro Lyuboff           4.0   \n",
       "45422   2007-09-06    1413000.0  Released            Antidur           1.0   \n",
       "\n",
       "       vote_count  \n",
       "0          5415.0  \n",
       "1          2413.0  \n",
       "3            34.0  \n",
       "5          1886.0  \n",
       "8           174.0  \n",
       "...           ...  \n",
       "45250        25.0  \n",
       "45399         4.0  \n",
       "45409         6.0  \n",
       "45412         3.0  \n",
       "45422         1.0  \n",
       "\n",
       "[5381 rows x 9 columns]"
      ]
     },
     "execution_count": 88,
     "metadata": {},
     "output_type": "execute_result"
    }
   ],
   "source": [
    "# display the dataframe\n",
    "movies"
   ]
  },
  {
   "cell_type": "code",
   "execution_count": 89,
   "metadata": {},
   "outputs": [
    {
     "data": {
      "text/plain": [
       "array(['Released', 'Rumored', 'Post Production'], dtype=object)"
      ]
     },
     "execution_count": 89,
     "metadata": {},
     "output_type": "execute_result"
    }
   ],
   "source": [
    "# peek into the values in the status column\n",
    "movies['status'].unique()"
   ]
  },
  {
   "cell_type": "code",
   "execution_count": 90,
   "metadata": {},
   "outputs": [],
   "source": [
    "# delete all entries for movies that do not have a 'Released' status\n",
    "movies.drop(movies[movies['status'] != 'Released'].index, inplace=True)\n",
    "\n",
    "#delete the status column (no longer needed)\n",
    "movies.drop(['status'], axis=1, inplace=True)"
   ]
  },
  {
   "cell_type": "code",
   "execution_count": 91,
   "metadata": {},
   "outputs": [
    {
     "data": {
      "text/html": [
       "<div>\n",
       "<style scoped>\n",
       "    .dataframe tbody tr th:only-of-type {\n",
       "        vertical-align: middle;\n",
       "    }\n",
       "\n",
       "    .dataframe tbody tr th {\n",
       "        vertical-align: top;\n",
       "    }\n",
       "\n",
       "    .dataframe thead th {\n",
       "        text-align: right;\n",
       "    }\n",
       "</style>\n",
       "<table border=\"1\" class=\"dataframe\">\n",
       "  <thead>\n",
       "    <tr style=\"text-align: right;\">\n",
       "      <th></th>\n",
       "      <th>budget</th>\n",
       "      <th>genres</th>\n",
       "      <th>id</th>\n",
       "      <th>release_date</th>\n",
       "      <th>revenue</th>\n",
       "      <th>title</th>\n",
       "      <th>vote_average</th>\n",
       "      <th>vote_count</th>\n",
       "    </tr>\n",
       "  </thead>\n",
       "  <tbody>\n",
       "    <tr>\n",
       "      <th>0</th>\n",
       "      <td>30000000</td>\n",
       "      <td>[{'id': 16, 'name': 'Animation'}, {'id': 35, '...</td>\n",
       "      <td>862</td>\n",
       "      <td>1995-10-30</td>\n",
       "      <td>373554033.0</td>\n",
       "      <td>Toy Story</td>\n",
       "      <td>7.7</td>\n",
       "      <td>5415.0</td>\n",
       "    </tr>\n",
       "    <tr>\n",
       "      <th>1</th>\n",
       "      <td>65000000</td>\n",
       "      <td>[{'id': 12, 'name': 'Adventure'}, {'id': 14, '...</td>\n",
       "      <td>8844</td>\n",
       "      <td>1995-12-15</td>\n",
       "      <td>262797249.0</td>\n",
       "      <td>Jumanji</td>\n",
       "      <td>6.9</td>\n",
       "      <td>2413.0</td>\n",
       "    </tr>\n",
       "    <tr>\n",
       "      <th>3</th>\n",
       "      <td>16000000</td>\n",
       "      <td>[{'id': 35, 'name': 'Comedy'}, {'id': 18, 'nam...</td>\n",
       "      <td>31357</td>\n",
       "      <td>1995-12-22</td>\n",
       "      <td>81452156.0</td>\n",
       "      <td>Waiting to Exhale</td>\n",
       "      <td>6.1</td>\n",
       "      <td>34.0</td>\n",
       "    </tr>\n",
       "    <tr>\n",
       "      <th>5</th>\n",
       "      <td>60000000</td>\n",
       "      <td>[{'id': 28, 'name': 'Action'}, {'id': 80, 'nam...</td>\n",
       "      <td>949</td>\n",
       "      <td>1995-12-15</td>\n",
       "      <td>187436818.0</td>\n",
       "      <td>Heat</td>\n",
       "      <td>7.7</td>\n",
       "      <td>1886.0</td>\n",
       "    </tr>\n",
       "    <tr>\n",
       "      <th>8</th>\n",
       "      <td>35000000</td>\n",
       "      <td>[{'id': 28, 'name': 'Action'}, {'id': 12, 'nam...</td>\n",
       "      <td>9091</td>\n",
       "      <td>1995-12-22</td>\n",
       "      <td>64350171.0</td>\n",
       "      <td>Sudden Death</td>\n",
       "      <td>5.5</td>\n",
       "      <td>174.0</td>\n",
       "    </tr>\n",
       "    <tr>\n",
       "      <th>...</th>\n",
       "      <td>...</td>\n",
       "      <td>...</td>\n",
       "      <td>...</td>\n",
       "      <td>...</td>\n",
       "      <td>...</td>\n",
       "      <td>...</td>\n",
       "      <td>...</td>\n",
       "      <td>...</td>\n",
       "    </tr>\n",
       "    <tr>\n",
       "      <th>45250</th>\n",
       "      <td>12000000</td>\n",
       "      <td>[{'id': 28, 'name': 'Action'}, {'id': 35, 'nam...</td>\n",
       "      <td>24049</td>\n",
       "      <td>2007-06-14</td>\n",
       "      <td>19000000.0</td>\n",
       "      <td>Sivaji: The Boss</td>\n",
       "      <td>6.9</td>\n",
       "      <td>25.0</td>\n",
       "    </tr>\n",
       "    <tr>\n",
       "      <th>45399</th>\n",
       "      <td>750000</td>\n",
       "      <td>[{'id': 80, 'name': 'Crime'}, {'id': 35, 'name...</td>\n",
       "      <td>280422</td>\n",
       "      <td>2014-06-05</td>\n",
       "      <td>3.0</td>\n",
       "      <td>All at Once</td>\n",
       "      <td>6.0</td>\n",
       "      <td>4.0</td>\n",
       "    </tr>\n",
       "    <tr>\n",
       "      <th>45409</th>\n",
       "      <td>800000</td>\n",
       "      <td>[{'id': 35, 'name': 'Comedy'}, {'id': 18, 'nam...</td>\n",
       "      <td>62757</td>\n",
       "      <td>2006-11-23</td>\n",
       "      <td>1328612.0</td>\n",
       "      <td>Savages</td>\n",
       "      <td>5.8</td>\n",
       "      <td>6.0</td>\n",
       "    </tr>\n",
       "    <tr>\n",
       "      <th>45412</th>\n",
       "      <td>2000000</td>\n",
       "      <td>[{'id': 10749, 'name': 'Romance'}, {'id': 18, ...</td>\n",
       "      <td>63281</td>\n",
       "      <td>2010-09-30</td>\n",
       "      <td>1268793.0</td>\n",
       "      <td>Pro Lyuboff</td>\n",
       "      <td>4.0</td>\n",
       "      <td>3.0</td>\n",
       "    </tr>\n",
       "    <tr>\n",
       "      <th>45422</th>\n",
       "      <td>5000000</td>\n",
       "      <td>[{'id': 28, 'name': 'Action'}, {'id': 35, 'nam...</td>\n",
       "      <td>63898</td>\n",
       "      <td>2007-09-06</td>\n",
       "      <td>1413000.0</td>\n",
       "      <td>Antidur</td>\n",
       "      <td>1.0</td>\n",
       "      <td>1.0</td>\n",
       "    </tr>\n",
       "  </tbody>\n",
       "</table>\n",
       "<p>5377 rows × 8 columns</p>\n",
       "</div>"
      ],
      "text/plain": [
       "         budget                                             genres      id  \\\n",
       "0      30000000  [{'id': 16, 'name': 'Animation'}, {'id': 35, '...     862   \n",
       "1      65000000  [{'id': 12, 'name': 'Adventure'}, {'id': 14, '...    8844   \n",
       "3      16000000  [{'id': 35, 'name': 'Comedy'}, {'id': 18, 'nam...   31357   \n",
       "5      60000000  [{'id': 28, 'name': 'Action'}, {'id': 80, 'nam...     949   \n",
       "8      35000000  [{'id': 28, 'name': 'Action'}, {'id': 12, 'nam...    9091   \n",
       "...         ...                                                ...     ...   \n",
       "45250  12000000  [{'id': 28, 'name': 'Action'}, {'id': 35, 'nam...   24049   \n",
       "45399    750000  [{'id': 80, 'name': 'Crime'}, {'id': 35, 'name...  280422   \n",
       "45409    800000  [{'id': 35, 'name': 'Comedy'}, {'id': 18, 'nam...   62757   \n",
       "45412   2000000  [{'id': 10749, 'name': 'Romance'}, {'id': 18, ...   63281   \n",
       "45422   5000000  [{'id': 28, 'name': 'Action'}, {'id': 35, 'nam...   63898   \n",
       "\n",
       "      release_date      revenue              title  vote_average  vote_count  \n",
       "0       1995-10-30  373554033.0          Toy Story           7.7      5415.0  \n",
       "1       1995-12-15  262797249.0            Jumanji           6.9      2413.0  \n",
       "3       1995-12-22   81452156.0  Waiting to Exhale           6.1        34.0  \n",
       "5       1995-12-15  187436818.0               Heat           7.7      1886.0  \n",
       "8       1995-12-22   64350171.0       Sudden Death           5.5       174.0  \n",
       "...            ...          ...                ...           ...         ...  \n",
       "45250   2007-06-14   19000000.0   Sivaji: The Boss           6.9        25.0  \n",
       "45399   2014-06-05          3.0        All at Once           6.0         4.0  \n",
       "45409   2006-11-23    1328612.0            Savages           5.8         6.0  \n",
       "45412   2010-09-30    1268793.0        Pro Lyuboff           4.0         3.0  \n",
       "45422   2007-09-06    1413000.0            Antidur           1.0         1.0  \n",
       "\n",
       "[5377 rows x 8 columns]"
      ]
     },
     "execution_count": 91,
     "metadata": {},
     "output_type": "execute_result"
    }
   ],
   "source": [
    "# check how many movie entries are left\n",
    "movies"
   ]
  },
  {
   "cell_type": "markdown",
   "metadata": {},
   "source": [
    "<p style=\"color:blue\">There are 7,395 valid movie entries in the dataset.</p>"
   ]
  },
  {
   "cell_type": "code",
   "execution_count": 92,
   "metadata": {},
   "outputs": [],
   "source": [
    "# convert the release_date column to a datetime to check the range of dates\n",
    "movies['release_date'] = pd.to_datetime(movies['release_date'])"
   ]
  },
  {
   "cell_type": "code",
   "execution_count": 93,
   "metadata": {},
   "outputs": [
    {
     "data": {
      "text/plain": [
       "count                             5377\n",
       "mean     2000-04-14 07:27:30.362655872\n",
       "min                1915-02-08 00:00:00\n",
       "25%                1994-07-06 00:00:00\n",
       "50%                2004-11-10 00:00:00\n",
       "75%                2011-04-08 00:00:00\n",
       "max                2017-08-04 00:00:00\n",
       "Name: release_date, dtype: object"
      ]
     },
     "execution_count": 93,
     "metadata": {},
     "output_type": "execute_result"
    }
   ],
   "source": [
    "# check the range of release dates\n",
    "movies['release_date'].describe(datetime_is_numeric=True)"
   ]
  },
  {
   "cell_type": "markdown",
   "metadata": {},
   "source": [
    "<p style=\"color:blue\">The range of dates goes as far as August of 2018, even though the dataset description mentioned a cutoff date of July 2017.</p>"
   ]
  },
  {
   "cell_type": "code",
   "execution_count": 94,
   "metadata": {},
   "outputs": [],
   "source": [
    "# Load the ratings.csv file into a dataframe\n",
    "ratings=pd.read_csv('ratings.csv', low_memory=False)"
   ]
  },
  {
   "cell_type": "code",
   "execution_count": 95,
   "metadata": {},
   "outputs": [
    {
     "data": {
      "text/html": [
       "<div>\n",
       "<style scoped>\n",
       "    .dataframe tbody tr th:only-of-type {\n",
       "        vertical-align: middle;\n",
       "    }\n",
       "\n",
       "    .dataframe tbody tr th {\n",
       "        vertical-align: top;\n",
       "    }\n",
       "\n",
       "    .dataframe thead th {\n",
       "        text-align: right;\n",
       "    }\n",
       "</style>\n",
       "<table border=\"1\" class=\"dataframe\">\n",
       "  <thead>\n",
       "    <tr style=\"text-align: right;\">\n",
       "      <th></th>\n",
       "      <th>userId</th>\n",
       "      <th>movieId</th>\n",
       "      <th>rating</th>\n",
       "      <th>timestamp</th>\n",
       "    </tr>\n",
       "  </thead>\n",
       "  <tbody>\n",
       "    <tr>\n",
       "      <th>0</th>\n",
       "      <td>1</td>\n",
       "      <td>110</td>\n",
       "      <td>1.0</td>\n",
       "      <td>1425941529</td>\n",
       "    </tr>\n",
       "    <tr>\n",
       "      <th>1</th>\n",
       "      <td>1</td>\n",
       "      <td>147</td>\n",
       "      <td>4.5</td>\n",
       "      <td>1425942435</td>\n",
       "    </tr>\n",
       "    <tr>\n",
       "      <th>2</th>\n",
       "      <td>1</td>\n",
       "      <td>858</td>\n",
       "      <td>5.0</td>\n",
       "      <td>1425941523</td>\n",
       "    </tr>\n",
       "    <tr>\n",
       "      <th>3</th>\n",
       "      <td>1</td>\n",
       "      <td>1221</td>\n",
       "      <td>5.0</td>\n",
       "      <td>1425941546</td>\n",
       "    </tr>\n",
       "    <tr>\n",
       "      <th>4</th>\n",
       "      <td>1</td>\n",
       "      <td>1246</td>\n",
       "      <td>5.0</td>\n",
       "      <td>1425941556</td>\n",
       "    </tr>\n",
       "    <tr>\n",
       "      <th>...</th>\n",
       "      <td>...</td>\n",
       "      <td>...</td>\n",
       "      <td>...</td>\n",
       "      <td>...</td>\n",
       "    </tr>\n",
       "    <tr>\n",
       "      <th>26024284</th>\n",
       "      <td>270896</td>\n",
       "      <td>58559</td>\n",
       "      <td>5.0</td>\n",
       "      <td>1257031564</td>\n",
       "    </tr>\n",
       "    <tr>\n",
       "      <th>26024285</th>\n",
       "      <td>270896</td>\n",
       "      <td>60069</td>\n",
       "      <td>5.0</td>\n",
       "      <td>1257032032</td>\n",
       "    </tr>\n",
       "    <tr>\n",
       "      <th>26024286</th>\n",
       "      <td>270896</td>\n",
       "      <td>63082</td>\n",
       "      <td>4.5</td>\n",
       "      <td>1257031764</td>\n",
       "    </tr>\n",
       "    <tr>\n",
       "      <th>26024287</th>\n",
       "      <td>270896</td>\n",
       "      <td>64957</td>\n",
       "      <td>4.5</td>\n",
       "      <td>1257033990</td>\n",
       "    </tr>\n",
       "    <tr>\n",
       "      <th>26024288</th>\n",
       "      <td>270896</td>\n",
       "      <td>71878</td>\n",
       "      <td>2.0</td>\n",
       "      <td>1257031858</td>\n",
       "    </tr>\n",
       "  </tbody>\n",
       "</table>\n",
       "<p>26024289 rows × 4 columns</p>\n",
       "</div>"
      ],
      "text/plain": [
       "          userId  movieId  rating   timestamp\n",
       "0              1      110     1.0  1425941529\n",
       "1              1      147     4.5  1425942435\n",
       "2              1      858     5.0  1425941523\n",
       "3              1     1221     5.0  1425941546\n",
       "4              1     1246     5.0  1425941556\n",
       "...          ...      ...     ...         ...\n",
       "26024284  270896    58559     5.0  1257031564\n",
       "26024285  270896    60069     5.0  1257032032\n",
       "26024286  270896    63082     4.5  1257031764\n",
       "26024287  270896    64957     4.5  1257033990\n",
       "26024288  270896    71878     2.0  1257031858\n",
       "\n",
       "[26024289 rows x 4 columns]"
      ]
     },
     "execution_count": 95,
     "metadata": {},
     "output_type": "execute_result"
    }
   ],
   "source": [
    "# display the loaded ratings data\n",
    "ratings"
   ]
  },
  {
   "cell_type": "code",
   "execution_count": 96,
   "metadata": {},
   "outputs": [
    {
     "name": "stdout",
     "output_type": "stream",
     "text": [
      "<class 'pandas.core.frame.DataFrame'>\n",
      "RangeIndex: 26024289 entries, 0 to 26024288\n",
      "Data columns (total 4 columns):\n",
      " #   Column     Dtype  \n",
      "---  ------     -----  \n",
      " 0   userId     int64  \n",
      " 1   movieId    int64  \n",
      " 2   rating     float64\n",
      " 3   timestamp  int64  \n",
      "dtypes: float64(1), int64(3)\n",
      "memory usage: 794.2 MB\n"
     ]
    }
   ],
   "source": [
    "# display the datatypes of the loaded columns\n",
    "ratings.info()"
   ]
  },
  {
   "cell_type": "code",
   "execution_count": 97,
   "metadata": {},
   "outputs": [],
   "source": [
    "# convert the timestamp column to a date and time in a new column\n",
    "# Note: the conversion is made to the time zone in effect\n",
    "ratings['rating_date'] = [datetime.fromtimestamp(d) for d in ratings['timestamp']]"
   ]
  },
  {
   "cell_type": "code",
   "execution_count": 98,
   "metadata": {},
   "outputs": [
    {
     "data": {
      "text/html": [
       "<div>\n",
       "<style scoped>\n",
       "    .dataframe tbody tr th:only-of-type {\n",
       "        vertical-align: middle;\n",
       "    }\n",
       "\n",
       "    .dataframe tbody tr th {\n",
       "        vertical-align: top;\n",
       "    }\n",
       "\n",
       "    .dataframe thead th {\n",
       "        text-align: right;\n",
       "    }\n",
       "</style>\n",
       "<table border=\"1\" class=\"dataframe\">\n",
       "  <thead>\n",
       "    <tr style=\"text-align: right;\">\n",
       "      <th></th>\n",
       "      <th>userId</th>\n",
       "      <th>movieId</th>\n",
       "      <th>rating</th>\n",
       "      <th>timestamp</th>\n",
       "      <th>rating_date</th>\n",
       "    </tr>\n",
       "  </thead>\n",
       "  <tbody>\n",
       "    <tr>\n",
       "      <th>0</th>\n",
       "      <td>1</td>\n",
       "      <td>110</td>\n",
       "      <td>1.0</td>\n",
       "      <td>1425941529</td>\n",
       "      <td>2015-03-09 17:52:09</td>\n",
       "    </tr>\n",
       "    <tr>\n",
       "      <th>1</th>\n",
       "      <td>1</td>\n",
       "      <td>147</td>\n",
       "      <td>4.5</td>\n",
       "      <td>1425942435</td>\n",
       "      <td>2015-03-09 18:07:15</td>\n",
       "    </tr>\n",
       "    <tr>\n",
       "      <th>2</th>\n",
       "      <td>1</td>\n",
       "      <td>858</td>\n",
       "      <td>5.0</td>\n",
       "      <td>1425941523</td>\n",
       "      <td>2015-03-09 17:52:03</td>\n",
       "    </tr>\n",
       "    <tr>\n",
       "      <th>3</th>\n",
       "      <td>1</td>\n",
       "      <td>1221</td>\n",
       "      <td>5.0</td>\n",
       "      <td>1425941546</td>\n",
       "      <td>2015-03-09 17:52:26</td>\n",
       "    </tr>\n",
       "    <tr>\n",
       "      <th>4</th>\n",
       "      <td>1</td>\n",
       "      <td>1246</td>\n",
       "      <td>5.0</td>\n",
       "      <td>1425941556</td>\n",
       "      <td>2015-03-09 17:52:36</td>\n",
       "    </tr>\n",
       "    <tr>\n",
       "      <th>5</th>\n",
       "      <td>1</td>\n",
       "      <td>1968</td>\n",
       "      <td>4.0</td>\n",
       "      <td>1425942148</td>\n",
       "      <td>2015-03-09 18:02:28</td>\n",
       "    </tr>\n",
       "    <tr>\n",
       "      <th>6</th>\n",
       "      <td>1</td>\n",
       "      <td>2762</td>\n",
       "      <td>4.5</td>\n",
       "      <td>1425941300</td>\n",
       "      <td>2015-03-09 17:48:20</td>\n",
       "    </tr>\n",
       "    <tr>\n",
       "      <th>7</th>\n",
       "      <td>1</td>\n",
       "      <td>2918</td>\n",
       "      <td>5.0</td>\n",
       "      <td>1425941593</td>\n",
       "      <td>2015-03-09 17:53:13</td>\n",
       "    </tr>\n",
       "    <tr>\n",
       "      <th>8</th>\n",
       "      <td>1</td>\n",
       "      <td>2959</td>\n",
       "      <td>4.0</td>\n",
       "      <td>1425941601</td>\n",
       "      <td>2015-03-09 17:53:21</td>\n",
       "    </tr>\n",
       "    <tr>\n",
       "      <th>9</th>\n",
       "      <td>1</td>\n",
       "      <td>4226</td>\n",
       "      <td>4.0</td>\n",
       "      <td>1425942228</td>\n",
       "      <td>2015-03-09 18:03:48</td>\n",
       "    </tr>\n",
       "    <tr>\n",
       "      <th>10</th>\n",
       "      <td>1</td>\n",
       "      <td>4878</td>\n",
       "      <td>5.0</td>\n",
       "      <td>1425941434</td>\n",
       "      <td>2015-03-09 17:50:34</td>\n",
       "    </tr>\n",
       "    <tr>\n",
       "      <th>11</th>\n",
       "      <td>1</td>\n",
       "      <td>5577</td>\n",
       "      <td>5.0</td>\n",
       "      <td>1425941397</td>\n",
       "      <td>2015-03-09 17:49:57</td>\n",
       "    </tr>\n",
       "    <tr>\n",
       "      <th>12</th>\n",
       "      <td>1</td>\n",
       "      <td>33794</td>\n",
       "      <td>4.0</td>\n",
       "      <td>1425942005</td>\n",
       "      <td>2015-03-09 18:00:05</td>\n",
       "    </tr>\n",
       "    <tr>\n",
       "      <th>13</th>\n",
       "      <td>1</td>\n",
       "      <td>54503</td>\n",
       "      <td>3.5</td>\n",
       "      <td>1425941313</td>\n",
       "      <td>2015-03-09 17:48:33</td>\n",
       "    </tr>\n",
       "    <tr>\n",
       "      <th>14</th>\n",
       "      <td>1</td>\n",
       "      <td>58559</td>\n",
       "      <td>4.0</td>\n",
       "      <td>1425942007</td>\n",
       "      <td>2015-03-09 18:00:07</td>\n",
       "    </tr>\n",
       "    <tr>\n",
       "      <th>15</th>\n",
       "      <td>1</td>\n",
       "      <td>59315</td>\n",
       "      <td>5.0</td>\n",
       "      <td>1425941502</td>\n",
       "      <td>2015-03-09 17:51:42</td>\n",
       "    </tr>\n",
       "    <tr>\n",
       "      <th>16</th>\n",
       "      <td>1</td>\n",
       "      <td>68358</td>\n",
       "      <td>5.0</td>\n",
       "      <td>1425941464</td>\n",
       "      <td>2015-03-09 17:51:04</td>\n",
       "    </tr>\n",
       "    <tr>\n",
       "      <th>17</th>\n",
       "      <td>1</td>\n",
       "      <td>69844</td>\n",
       "      <td>5.0</td>\n",
       "      <td>1425942139</td>\n",
       "      <td>2015-03-09 18:02:19</td>\n",
       "    </tr>\n",
       "    <tr>\n",
       "      <th>18</th>\n",
       "      <td>1</td>\n",
       "      <td>73017</td>\n",
       "      <td>5.0</td>\n",
       "      <td>1425942699</td>\n",
       "      <td>2015-03-09 18:11:39</td>\n",
       "    </tr>\n",
       "    <tr>\n",
       "      <th>19</th>\n",
       "      <td>1</td>\n",
       "      <td>81834</td>\n",
       "      <td>5.0</td>\n",
       "      <td>1425942133</td>\n",
       "      <td>2015-03-09 18:02:13</td>\n",
       "    </tr>\n",
       "  </tbody>\n",
       "</table>\n",
       "</div>"
      ],
      "text/plain": [
       "    userId  movieId  rating   timestamp         rating_date\n",
       "0        1      110     1.0  1425941529 2015-03-09 17:52:09\n",
       "1        1      147     4.5  1425942435 2015-03-09 18:07:15\n",
       "2        1      858     5.0  1425941523 2015-03-09 17:52:03\n",
       "3        1     1221     5.0  1425941546 2015-03-09 17:52:26\n",
       "4        1     1246     5.0  1425941556 2015-03-09 17:52:36\n",
       "5        1     1968     4.0  1425942148 2015-03-09 18:02:28\n",
       "6        1     2762     4.5  1425941300 2015-03-09 17:48:20\n",
       "7        1     2918     5.0  1425941593 2015-03-09 17:53:13\n",
       "8        1     2959     4.0  1425941601 2015-03-09 17:53:21\n",
       "9        1     4226     4.0  1425942228 2015-03-09 18:03:48\n",
       "10       1     4878     5.0  1425941434 2015-03-09 17:50:34\n",
       "11       1     5577     5.0  1425941397 2015-03-09 17:49:57\n",
       "12       1    33794     4.0  1425942005 2015-03-09 18:00:05\n",
       "13       1    54503     3.5  1425941313 2015-03-09 17:48:33\n",
       "14       1    58559     4.0  1425942007 2015-03-09 18:00:07\n",
       "15       1    59315     5.0  1425941502 2015-03-09 17:51:42\n",
       "16       1    68358     5.0  1425941464 2015-03-09 17:51:04\n",
       "17       1    69844     5.0  1425942139 2015-03-09 18:02:19\n",
       "18       1    73017     5.0  1425942699 2015-03-09 18:11:39\n",
       "19       1    81834     5.0  1425942133 2015-03-09 18:02:13"
      ]
     },
     "execution_count": 98,
     "metadata": {},
     "output_type": "execute_result"
    }
   ],
   "source": [
    "#display the first 20 rows of the new dataframe\n",
    "ratings[:20]"
   ]
  },
  {
   "cell_type": "code",
   "execution_count": 99,
   "metadata": {},
   "outputs": [],
   "source": [
    "# convert the 'id' column of the movies dataframe to integer (this will allow comparisons)\n",
    "movies['id'] = pd.to_numeric(movies['id'])"
   ]
  },
  {
   "cell_type": "code",
   "execution_count": 100,
   "metadata": {},
   "outputs": [],
   "source": [
    "# remove from the movies dataset all movie entries without ratings in the ratings dataset\n",
    "movies = movies[movies['id'].isin(ratings['movieId'])]"
   ]
  },
  {
   "cell_type": "code",
   "execution_count": 101,
   "metadata": {},
   "outputs": [
    {
     "data": {
      "text/html": [
       "<div>\n",
       "<style scoped>\n",
       "    .dataframe tbody tr th:only-of-type {\n",
       "        vertical-align: middle;\n",
       "    }\n",
       "\n",
       "    .dataframe tbody tr th {\n",
       "        vertical-align: top;\n",
       "    }\n",
       "\n",
       "    .dataframe thead th {\n",
       "        text-align: right;\n",
       "    }\n",
       "</style>\n",
       "<table border=\"1\" class=\"dataframe\">\n",
       "  <thead>\n",
       "    <tr style=\"text-align: right;\">\n",
       "      <th></th>\n",
       "      <th>budget</th>\n",
       "      <th>genres</th>\n",
       "      <th>id</th>\n",
       "      <th>release_date</th>\n",
       "      <th>revenue</th>\n",
       "      <th>title</th>\n",
       "      <th>vote_average</th>\n",
       "      <th>vote_count</th>\n",
       "    </tr>\n",
       "  </thead>\n",
       "  <tbody>\n",
       "    <tr>\n",
       "      <th>0</th>\n",
       "      <td>30000000</td>\n",
       "      <td>[{'id': 16, 'name': 'Animation'}, {'id': 35, '...</td>\n",
       "      <td>862</td>\n",
       "      <td>1995-10-30</td>\n",
       "      <td>373554033.0</td>\n",
       "      <td>Toy Story</td>\n",
       "      <td>7.7</td>\n",
       "      <td>5415.0</td>\n",
       "    </tr>\n",
       "    <tr>\n",
       "      <th>1</th>\n",
       "      <td>65000000</td>\n",
       "      <td>[{'id': 12, 'name': 'Adventure'}, {'id': 14, '...</td>\n",
       "      <td>8844</td>\n",
       "      <td>1995-12-15</td>\n",
       "      <td>262797249.0</td>\n",
       "      <td>Jumanji</td>\n",
       "      <td>6.9</td>\n",
       "      <td>2413.0</td>\n",
       "    </tr>\n",
       "    <tr>\n",
       "      <th>5</th>\n",
       "      <td>60000000</td>\n",
       "      <td>[{'id': 28, 'name': 'Action'}, {'id': 80, 'nam...</td>\n",
       "      <td>949</td>\n",
       "      <td>1995-12-15</td>\n",
       "      <td>187436818.0</td>\n",
       "      <td>Heat</td>\n",
       "      <td>7.7</td>\n",
       "      <td>1886.0</td>\n",
       "    </tr>\n",
       "    <tr>\n",
       "      <th>9</th>\n",
       "      <td>58000000</td>\n",
       "      <td>[{'id': 12, 'name': 'Adventure'}, {'id': 28, '...</td>\n",
       "      <td>710</td>\n",
       "      <td>1995-11-16</td>\n",
       "      <td>352194034.0</td>\n",
       "      <td>GoldenEye</td>\n",
       "      <td>6.6</td>\n",
       "      <td>1194.0</td>\n",
       "    </tr>\n",
       "    <tr>\n",
       "      <th>14</th>\n",
       "      <td>98000000</td>\n",
       "      <td>[{'id': 28, 'name': 'Action'}, {'id': 12, 'nam...</td>\n",
       "      <td>1408</td>\n",
       "      <td>1995-12-22</td>\n",
       "      <td>10017322.0</td>\n",
       "      <td>Cutthroat Island</td>\n",
       "      <td>5.7</td>\n",
       "      <td>137.0</td>\n",
       "    </tr>\n",
       "    <tr>\n",
       "      <th>...</th>\n",
       "      <td>...</td>\n",
       "      <td>...</td>\n",
       "      <td>...</td>\n",
       "      <td>...</td>\n",
       "      <td>...</td>\n",
       "      <td>...</td>\n",
       "      <td>...</td>\n",
       "      <td>...</td>\n",
       "    </tr>\n",
       "    <tr>\n",
       "      <th>44140</th>\n",
       "      <td>3000000</td>\n",
       "      <td>[{'id': 35, 'name': 'Comedy'}]</td>\n",
       "      <td>52891</td>\n",
       "      <td>2008-09-18</td>\n",
       "      <td>9713500.0</td>\n",
       "      <td>Hitler's Kaput!</td>\n",
       "      <td>3.6</td>\n",
       "      <td>7.0</td>\n",
       "    </tr>\n",
       "    <tr>\n",
       "      <th>44580</th>\n",
       "      <td>5300000</td>\n",
       "      <td>[{'id': 28, 'name': 'Action'}, {'id': 18, 'nam...</td>\n",
       "      <td>8453</td>\n",
       "      <td>2006-05-26</td>\n",
       "      <td>22175908.0</td>\n",
       "      <td>Fanaa</td>\n",
       "      <td>6.7</td>\n",
       "      <td>53.0</td>\n",
       "    </tr>\n",
       "    <tr>\n",
       "      <th>44848</th>\n",
       "      <td>2000000</td>\n",
       "      <td>[{'id': 35, 'name': 'Comedy'}, {'id': 18, 'nam...</td>\n",
       "      <td>159447</td>\n",
       "      <td>2012-12-27</td>\n",
       "      <td>11666088.0</td>\n",
       "      <td>Mommies, Happy New Year!</td>\n",
       "      <td>5.3</td>\n",
       "      <td>9.0</td>\n",
       "    </tr>\n",
       "    <tr>\n",
       "      <th>44850</th>\n",
       "      <td>2000000</td>\n",
       "      <td>[{'id': 35, 'name': 'Comedy'}]</td>\n",
       "      <td>75438</td>\n",
       "      <td>2011-07-21</td>\n",
       "      <td>8000000.0</td>\n",
       "      <td>Pregnant</td>\n",
       "      <td>3.1</td>\n",
       "      <td>7.0</td>\n",
       "    </tr>\n",
       "    <tr>\n",
       "      <th>44970</th>\n",
       "      <td>2196531</td>\n",
       "      <td>[{'id': 35, 'name': 'Comedy'}, {'id': 10749, '...</td>\n",
       "      <td>26147</td>\n",
       "      <td>2005-12-30</td>\n",
       "      <td>2411594.0</td>\n",
       "      <td>FC Venus</td>\n",
       "      <td>5.6</td>\n",
       "      <td>10.0</td>\n",
       "    </tr>\n",
       "  </tbody>\n",
       "</table>\n",
       "<p>1575 rows × 8 columns</p>\n",
       "</div>"
      ],
      "text/plain": [
       "         budget                                             genres      id  \\\n",
       "0      30000000  [{'id': 16, 'name': 'Animation'}, {'id': 35, '...     862   \n",
       "1      65000000  [{'id': 12, 'name': 'Adventure'}, {'id': 14, '...    8844   \n",
       "5      60000000  [{'id': 28, 'name': 'Action'}, {'id': 80, 'nam...     949   \n",
       "9      58000000  [{'id': 12, 'name': 'Adventure'}, {'id': 28, '...     710   \n",
       "14     98000000  [{'id': 28, 'name': 'Action'}, {'id': 12, 'nam...    1408   \n",
       "...         ...                                                ...     ...   \n",
       "44140   3000000                     [{'id': 35, 'name': 'Comedy'}]   52891   \n",
       "44580   5300000  [{'id': 28, 'name': 'Action'}, {'id': 18, 'nam...    8453   \n",
       "44848   2000000  [{'id': 35, 'name': 'Comedy'}, {'id': 18, 'nam...  159447   \n",
       "44850   2000000                     [{'id': 35, 'name': 'Comedy'}]   75438   \n",
       "44970   2196531  [{'id': 35, 'name': 'Comedy'}, {'id': 10749, '...   26147   \n",
       "\n",
       "      release_date      revenue                     title  vote_average  \\\n",
       "0       1995-10-30  373554033.0                 Toy Story           7.7   \n",
       "1       1995-12-15  262797249.0                   Jumanji           6.9   \n",
       "5       1995-12-15  187436818.0                      Heat           7.7   \n",
       "9       1995-11-16  352194034.0                 GoldenEye           6.6   \n",
       "14      1995-12-22   10017322.0          Cutthroat Island           5.7   \n",
       "...            ...          ...                       ...           ...   \n",
       "44140   2008-09-18    9713500.0           Hitler's Kaput!           3.6   \n",
       "44580   2006-05-26   22175908.0                     Fanaa           6.7   \n",
       "44848   2012-12-27   11666088.0  Mommies, Happy New Year!           5.3   \n",
       "44850   2011-07-21    8000000.0                  Pregnant           3.1   \n",
       "44970   2005-12-30    2411594.0                  FC Venus           5.6   \n",
       "\n",
       "       vote_count  \n",
       "0          5415.0  \n",
       "1          2413.0  \n",
       "5          1886.0  \n",
       "9          1194.0  \n",
       "14          137.0  \n",
       "...           ...  \n",
       "44140         7.0  \n",
       "44580        53.0  \n",
       "44848         9.0  \n",
       "44850         7.0  \n",
       "44970        10.0  \n",
       "\n",
       "[1575 rows x 8 columns]"
      ]
     },
     "execution_count": 101,
     "metadata": {},
     "output_type": "execute_result"
    }
   ],
   "source": [
    "movies"
   ]
  },
  {
   "cell_type": "markdown",
   "metadata": {},
   "source": [
    "<p style=\"color:blue\">Out of the 7,395 valid movie entries, only <b>1,936 movies</b> have corresponding entries in the ratings dataset.</p>"
   ]
  },
  {
   "cell_type": "code",
   "execution_count": 102,
   "metadata": {},
   "outputs": [],
   "source": [
    "# trim down the ratings dataset\n",
    "# remove all ratings fro movies that are not in the movies dataset\n",
    "ratings = ratings[ratings['movieId'].isin(movies['id'])]"
   ]
  },
  {
   "cell_type": "code",
   "execution_count": 103,
   "metadata": {},
   "outputs": [
    {
     "data": {
      "text/html": [
       "<div>\n",
       "<style scoped>\n",
       "    .dataframe tbody tr th:only-of-type {\n",
       "        vertical-align: middle;\n",
       "    }\n",
       "\n",
       "    .dataframe tbody tr th {\n",
       "        vertical-align: top;\n",
       "    }\n",
       "\n",
       "    .dataframe thead th {\n",
       "        text-align: right;\n",
       "    }\n",
       "</style>\n",
       "<table border=\"1\" class=\"dataframe\">\n",
       "  <thead>\n",
       "    <tr style=\"text-align: right;\">\n",
       "      <th></th>\n",
       "      <th>userId</th>\n",
       "      <th>movieId</th>\n",
       "      <th>rating</th>\n",
       "      <th>timestamp</th>\n",
       "      <th>rating_date</th>\n",
       "    </tr>\n",
       "  </thead>\n",
       "  <tbody>\n",
       "    <tr>\n",
       "      <th>2</th>\n",
       "      <td>1</td>\n",
       "      <td>858</td>\n",
       "      <td>5.0</td>\n",
       "      <td>1425941523</td>\n",
       "      <td>2015-03-09 17:52:03</td>\n",
       "    </tr>\n",
       "    <tr>\n",
       "      <th>4</th>\n",
       "      <td>1</td>\n",
       "      <td>1246</td>\n",
       "      <td>5.0</td>\n",
       "      <td>1425941556</td>\n",
       "      <td>2015-03-09 17:52:36</td>\n",
       "    </tr>\n",
       "    <tr>\n",
       "      <th>8</th>\n",
       "      <td>1</td>\n",
       "      <td>2959</td>\n",
       "      <td>4.0</td>\n",
       "      <td>1425941601</td>\n",
       "      <td>2015-03-09 17:53:21</td>\n",
       "    </tr>\n",
       "    <tr>\n",
       "      <th>27</th>\n",
       "      <td>2</td>\n",
       "      <td>5</td>\n",
       "      <td>3.0</td>\n",
       "      <td>867039249</td>\n",
       "      <td>1997-06-22 23:14:09</td>\n",
       "    </tr>\n",
       "    <tr>\n",
       "      <th>28</th>\n",
       "      <td>2</td>\n",
       "      <td>25</td>\n",
       "      <td>3.0</td>\n",
       "      <td>867039168</td>\n",
       "      <td>1997-06-22 23:12:48</td>\n",
       "    </tr>\n",
       "    <tr>\n",
       "      <th>...</th>\n",
       "      <td>...</td>\n",
       "      <td>...</td>\n",
       "      <td>...</td>\n",
       "      <td>...</td>\n",
       "      <td>...</td>\n",
       "    </tr>\n",
       "    <tr>\n",
       "      <th>26024215</th>\n",
       "      <td>270896</td>\n",
       "      <td>5902</td>\n",
       "      <td>4.5</td>\n",
       "      <td>1257034264</td>\n",
       "      <td>2009-10-31 19:11:04</td>\n",
       "    </tr>\n",
       "    <tr>\n",
       "      <th>26024242</th>\n",
       "      <td>270896</td>\n",
       "      <td>8665</td>\n",
       "      <td>4.0</td>\n",
       "      <td>1257031889</td>\n",
       "      <td>2009-10-31 18:31:29</td>\n",
       "    </tr>\n",
       "    <tr>\n",
       "      <th>26024245</th>\n",
       "      <td>270896</td>\n",
       "      <td>8874</td>\n",
       "      <td>4.5</td>\n",
       "      <td>1257033950</td>\n",
       "      <td>2009-10-31 19:05:50</td>\n",
       "    </tr>\n",
       "    <tr>\n",
       "      <th>26024247</th>\n",
       "      <td>270896</td>\n",
       "      <td>8961</td>\n",
       "      <td>3.5</td>\n",
       "      <td>1257033870</td>\n",
       "      <td>2009-10-31 19:04:30</td>\n",
       "    </tr>\n",
       "    <tr>\n",
       "      <th>26024271</th>\n",
       "      <td>270896</td>\n",
       "      <td>49530</td>\n",
       "      <td>4.0</td>\n",
       "      <td>1257034436</td>\n",
       "      <td>2009-10-31 19:13:56</td>\n",
       "    </tr>\n",
       "  </tbody>\n",
       "</table>\n",
       "<p>5414092 rows × 5 columns</p>\n",
       "</div>"
      ],
      "text/plain": [
       "          userId  movieId  rating   timestamp         rating_date\n",
       "2              1      858     5.0  1425941523 2015-03-09 17:52:03\n",
       "4              1     1246     5.0  1425941556 2015-03-09 17:52:36\n",
       "8              1     2959     4.0  1425941601 2015-03-09 17:53:21\n",
       "27             2        5     3.0   867039249 1997-06-22 23:14:09\n",
       "28             2       25     3.0   867039168 1997-06-22 23:12:48\n",
       "...          ...      ...     ...         ...                 ...\n",
       "26024215  270896     5902     4.5  1257034264 2009-10-31 19:11:04\n",
       "26024242  270896     8665     4.0  1257031889 2009-10-31 18:31:29\n",
       "26024245  270896     8874     4.5  1257033950 2009-10-31 19:05:50\n",
       "26024247  270896     8961     3.5  1257033870 2009-10-31 19:04:30\n",
       "26024271  270896    49530     4.0  1257034436 2009-10-31 19:13:56\n",
       "\n",
       "[5414092 rows x 5 columns]"
      ]
     },
     "execution_count": 103,
     "metadata": {},
     "output_type": "execute_result"
    }
   ],
   "source": [
    "ratings"
   ]
  },
  {
   "cell_type": "markdown",
   "metadata": {},
   "source": [
    "<p style=\"color:blue\">We end up with <b>6 million ratings</b> out of the total 26 million.</p>"
   ]
  },
  {
   "cell_type": "markdown",
   "metadata": {},
   "source": [
    "## Contextual dataset: US Unemployment Dataset (2010-2020)"
   ]
  },
  {
   "cell_type": "markdown",
   "metadata": {},
   "source": [
    "<div style=\"color:blue\">\n",
    "    <p>This dataset contains a collection of unemployment rates in the US, dating from January 2010 until 2020, grouped by categories (education level, race, gender, etc.). It was put together with U-3 rate data collected from the U.S. Bureau of Labor Statistics (BLS) and it is contained in a single file.</p>\n",
    "</div>\n"
   ]
  },
  {
   "cell_type": "markdown",
   "metadata": {},
   "source": [
    "<p style=\"color:blue\">The contents of the <a href=\" https://www.kaggle.com/aniruddhasshirahatti/us-unemployment-dataset-2010-2020\">US Unemployment Dataset (2010-2020)</a> are described below.</p>\n",
    "<table>\n",
    "    <thead>\n",
    "        <tr>\n",
    "            <th>Column name</th>\n",
    "            <th>Column type</th>\n",
    "            <th>Description</th>\n",
    "        </tr>\n",
    "    </thead>\n",
    "    <tbody>\n",
    "        <tr>\n",
    "            <td>Year</td>\n",
    "            <td>Integer</td>\n",
    "            <td>The reporting year.</td>\n",
    "        </tr>\n",
    "        <tr>\n",
    "            <td>Month</td>\n",
    "            <td>Text</td>\n",
    "            <td>The reporting month.</td>\n",
    "        </tr>\n",
    "        <tr>\n",
    "            <td>Primary_school</td>\n",
    "            <td>Float</td>\n",
    "            <td>Unemployment rate among individuals with a primary school level of education.</td>\n",
    "        </tr>\n",
    "        <tr>\n",
    "            <td>Date</td>\n",
    "            <td>Date</td>\n",
    "            <td>The month and year of reporting.</td>\n",
    "        </tr>\n",
    "        <tr>\n",
    "            <td>Hign_School</td>\n",
    "            <td>Float</td>\n",
    "            <td>Unemployment rate among individuals with a high school level of education.</td>\n",
    "        </tr>\n",
    "        <tr>\n",
    "            <td>Associates_Degree</td>\n",
    "            <td>Float</td>\n",
    "            <td>Unemployment rate among individuals with an associates degree.</td>\n",
    "        </tr>\n",
    "        <tr>\n",
    "            <td>Professional_Degree</td>\n",
    "            <td>Float</td>\n",
    "            <td>Unemployment rate among individuals with a professional degree.</td>\n",
    "        </tr>\n",
    "        <tr>\n",
    "            <td>White</td>\n",
    "            <td>Float</td>\n",
    "            <td>Unemployment rate among individuals of white ethnicity.</td>\n",
    "        </tr>\n",
    "        <tr>\n",
    "            <td>Black</td>\n",
    "            <td>Float</td>\n",
    "            <td>Unemployment rate among individuals of black ethnicity.</td>\n",
    "        </tr>\n",
    "        <tr>\n",
    "            <td>Asian</td>\n",
    "            <td>Float</td>\n",
    "            <td>Unemployment rate among individuals of asian ethnicity.</td>\n",
    "        </tr>\n",
    "        <tr>\n",
    "            <td>Hispanic</td>\n",
    "            <td>Float</td>\n",
    "            <td>Unemployment rate among individuals of hispanic ethnicity.</td>\n",
    "        </tr>\n",
    "        <tr>\n",
    "            <td>Men</td>\n",
    "            <td>Float</td>\n",
    "            <td>Unemployment rate among male individuals.</td>\n",
    "        </tr>\n",
    "        <tr>\n",
    "            <td>Women</td>\n",
    "            <td>Float</td>\n",
    "            <td>Unemployment rate among female individuals.</td>\n",
    "        </tr>\n",
    "    </tbody>\n",
    "</table>"
   ]
  },
  {
   "cell_type": "markdown",
   "metadata": {},
   "source": [
    "<p style=\"color:blue\">This dataset offers unemployment rates for given categories but does not present the overall unemployment rate. Thus, it needs to be combined with the report published by the U.S. Bureau of Labor Statistics (BLS) containing seasonablly adjusted unemployment rates for eah month of the year.</p>\n",
    "<p style=\"color:blue\">The BLS statistics regard as unemployed all those (16 years old and above) who are willing and available to work, and who have actively sought work within the past four weeks.</p>"
   ]
  },
  {
   "cell_type": "markdown",
   "metadata": {},
   "source": [
    "<p style=\"color:blue\">The contents of the <a href=\"https://data.bls.gov/cgi-bin/surveymost?bls\">BLS unemployment rate statistics</a> are described below.</p>\n",
    "<table>\n",
    "    <thead>\n",
    "        <tr>\n",
    "            <th>Column name</th>\n",
    "            <th>Column type</th>\n",
    "            <th>Description</th>\n",
    "        </tr>\n",
    "    </thead>\n",
    "    <tbody>\n",
    "        <tr>\n",
    "            <td>Series id</td>\n",
    "            <td>Text</td>\n",
    "            <td>The identifier of the associated BLS report.</td>\n",
    "        </tr>\n",
    "        <tr>\n",
    "            <td>Year</td>\n",
    "            <td>Integer</td>\n",
    "            <td>The reporting year.</td>\n",
    "        </tr>\n",
    "        <tr>\n",
    "            <td>Period</td>\n",
    "            <td>Text</td>\n",
    "            <td>The reporting period (month) in the range M01 to M12.</td>\n",
    "        </tr>\n",
    "        <tr>\n",
    "            <td>Value</td>\n",
    "            <td>Text</td>\n",
    "            <td>The unemployment rate in the reported month and year.</td>\n",
    "        </tr>\n",
    "    </tbody>\n",
    "</table>"
   ]
  },
  {
   "cell_type": "code",
   "execution_count": 104,
   "metadata": {},
   "outputs": [],
   "source": [
    "# Load the categorized unemployment dataset into a dataframe\n",
    "unemployment=pd.read_csv('unemployment_data_us.csv', low_memory=False)"
   ]
  },
  {
   "cell_type": "code",
   "execution_count": 105,
   "metadata": {},
   "outputs": [
    {
     "data": {
      "text/html": [
       "<div>\n",
       "<style scoped>\n",
       "    .dataframe tbody tr th:only-of-type {\n",
       "        vertical-align: middle;\n",
       "    }\n",
       "\n",
       "    .dataframe tbody tr th {\n",
       "        vertical-align: top;\n",
       "    }\n",
       "\n",
       "    .dataframe thead th {\n",
       "        text-align: right;\n",
       "    }\n",
       "</style>\n",
       "<table border=\"1\" class=\"dataframe\">\n",
       "  <thead>\n",
       "    <tr style=\"text-align: right;\">\n",
       "      <th></th>\n",
       "      <th>Year</th>\n",
       "      <th>Month</th>\n",
       "      <th>Primary_School</th>\n",
       "      <th>Date</th>\n",
       "      <th>High_School</th>\n",
       "      <th>Associates_Degree</th>\n",
       "      <th>Professional_Degree</th>\n",
       "      <th>White</th>\n",
       "      <th>Black</th>\n",
       "      <th>Asian</th>\n",
       "      <th>Hispanic</th>\n",
       "      <th>Men</th>\n",
       "      <th>Women</th>\n",
       "    </tr>\n",
       "  </thead>\n",
       "  <tbody>\n",
       "    <tr>\n",
       "      <th>0</th>\n",
       "      <td>2010</td>\n",
       "      <td>Jan</td>\n",
       "      <td>15.3</td>\n",
       "      <td>Jan-2010</td>\n",
       "      <td>10.2</td>\n",
       "      <td>8.6</td>\n",
       "      <td>4.9</td>\n",
       "      <td>8.8</td>\n",
       "      <td>16.5</td>\n",
       "      <td>8.3</td>\n",
       "      <td>12.9</td>\n",
       "      <td>10.2</td>\n",
       "      <td>7.9</td>\n",
       "    </tr>\n",
       "    <tr>\n",
       "      <th>1</th>\n",
       "      <td>2011</td>\n",
       "      <td>Jan</td>\n",
       "      <td>14.3</td>\n",
       "      <td>Jan-2011</td>\n",
       "      <td>9.5</td>\n",
       "      <td>8.1</td>\n",
       "      <td>4.3</td>\n",
       "      <td>8.1</td>\n",
       "      <td>15.8</td>\n",
       "      <td>6.8</td>\n",
       "      <td>12.3</td>\n",
       "      <td>9.0</td>\n",
       "      <td>7.9</td>\n",
       "    </tr>\n",
       "    <tr>\n",
       "      <th>2</th>\n",
       "      <td>2012</td>\n",
       "      <td>Jan</td>\n",
       "      <td>13.0</td>\n",
       "      <td>Jan-2012</td>\n",
       "      <td>8.5</td>\n",
       "      <td>7.1</td>\n",
       "      <td>4.3</td>\n",
       "      <td>7.4</td>\n",
       "      <td>13.6</td>\n",
       "      <td>6.7</td>\n",
       "      <td>10.7</td>\n",
       "      <td>7.7</td>\n",
       "      <td>7.6</td>\n",
       "    </tr>\n",
       "    <tr>\n",
       "      <th>3</th>\n",
       "      <td>2013</td>\n",
       "      <td>Jan</td>\n",
       "      <td>12.0</td>\n",
       "      <td>Jan-2013</td>\n",
       "      <td>8.1</td>\n",
       "      <td>6.9</td>\n",
       "      <td>3.8</td>\n",
       "      <td>7.1</td>\n",
       "      <td>13.7</td>\n",
       "      <td>6.4</td>\n",
       "      <td>9.7</td>\n",
       "      <td>7.5</td>\n",
       "      <td>7.2</td>\n",
       "    </tr>\n",
       "    <tr>\n",
       "      <th>4</th>\n",
       "      <td>2014</td>\n",
       "      <td>Jan</td>\n",
       "      <td>9.4</td>\n",
       "      <td>Jan-2014</td>\n",
       "      <td>6.5</td>\n",
       "      <td>5.9</td>\n",
       "      <td>3.3</td>\n",
       "      <td>5.7</td>\n",
       "      <td>12.1</td>\n",
       "      <td>4.7</td>\n",
       "      <td>8.3</td>\n",
       "      <td>6.2</td>\n",
       "      <td>5.8</td>\n",
       "    </tr>\n",
       "    <tr>\n",
       "      <th>...</th>\n",
       "      <td>...</td>\n",
       "      <td>...</td>\n",
       "      <td>...</td>\n",
       "      <td>...</td>\n",
       "      <td>...</td>\n",
       "      <td>...</td>\n",
       "      <td>...</td>\n",
       "      <td>...</td>\n",
       "      <td>...</td>\n",
       "      <td>...</td>\n",
       "      <td>...</td>\n",
       "      <td>...</td>\n",
       "      <td>...</td>\n",
       "    </tr>\n",
       "    <tr>\n",
       "      <th>127</th>\n",
       "      <td>2016</td>\n",
       "      <td>Dec</td>\n",
       "      <td>7.5</td>\n",
       "      <td>Dec-2016</td>\n",
       "      <td>5.1</td>\n",
       "      <td>3.8</td>\n",
       "      <td>2.5</td>\n",
       "      <td>4.2</td>\n",
       "      <td>7.9</td>\n",
       "      <td>2.7</td>\n",
       "      <td>5.9</td>\n",
       "      <td>4.4</td>\n",
       "      <td>4.3</td>\n",
       "    </tr>\n",
       "    <tr>\n",
       "      <th>128</th>\n",
       "      <td>2017</td>\n",
       "      <td>Dec</td>\n",
       "      <td>6.2</td>\n",
       "      <td>Dec-2017</td>\n",
       "      <td>4.2</td>\n",
       "      <td>3.6</td>\n",
       "      <td>2.2</td>\n",
       "      <td>3.7</td>\n",
       "      <td>6.7</td>\n",
       "      <td>2.5</td>\n",
       "      <td>5.0</td>\n",
       "      <td>3.7</td>\n",
       "      <td>3.7</td>\n",
       "    </tr>\n",
       "    <tr>\n",
       "      <th>129</th>\n",
       "      <td>2018</td>\n",
       "      <td>Dec</td>\n",
       "      <td>5.8</td>\n",
       "      <td>Dec-2018</td>\n",
       "      <td>3.8</td>\n",
       "      <td>3.3</td>\n",
       "      <td>2.2</td>\n",
       "      <td>3.4</td>\n",
       "      <td>6.6</td>\n",
       "      <td>3.3</td>\n",
       "      <td>4.4</td>\n",
       "      <td>3.6</td>\n",
       "      <td>3.5</td>\n",
       "    </tr>\n",
       "    <tr>\n",
       "      <th>130</th>\n",
       "      <td>2019</td>\n",
       "      <td>Dec</td>\n",
       "      <td>5.2</td>\n",
       "      <td>Dec-2019</td>\n",
       "      <td>3.7</td>\n",
       "      <td>2.7</td>\n",
       "      <td>1.9</td>\n",
       "      <td>3.2</td>\n",
       "      <td>5.9</td>\n",
       "      <td>2.5</td>\n",
       "      <td>4.2</td>\n",
       "      <td>3.1</td>\n",
       "      <td>3.2</td>\n",
       "    </tr>\n",
       "    <tr>\n",
       "      <th>131</th>\n",
       "      <td>2020</td>\n",
       "      <td>Dec</td>\n",
       "      <td>NaN</td>\n",
       "      <td>Dec-2020</td>\n",
       "      <td>NaN</td>\n",
       "      <td>NaN</td>\n",
       "      <td>NaN</td>\n",
       "      <td>NaN</td>\n",
       "      <td>NaN</td>\n",
       "      <td>NaN</td>\n",
       "      <td>NaN</td>\n",
       "      <td>NaN</td>\n",
       "      <td>NaN</td>\n",
       "    </tr>\n",
       "  </tbody>\n",
       "</table>\n",
       "<p>132 rows × 13 columns</p>\n",
       "</div>"
      ],
      "text/plain": [
       "     Year Month  Primary_School      Date  High_School  Associates_Degree  \\\n",
       "0    2010   Jan            15.3  Jan-2010         10.2                8.6   \n",
       "1    2011   Jan            14.3  Jan-2011          9.5                8.1   \n",
       "2    2012   Jan            13.0  Jan-2012          8.5                7.1   \n",
       "3    2013   Jan            12.0  Jan-2013          8.1                6.9   \n",
       "4    2014   Jan             9.4  Jan-2014          6.5                5.9   \n",
       "..    ...   ...             ...       ...          ...                ...   \n",
       "127  2016   Dec             7.5  Dec-2016          5.1                3.8   \n",
       "128  2017   Dec             6.2  Dec-2017          4.2                3.6   \n",
       "129  2018   Dec             5.8  Dec-2018          3.8                3.3   \n",
       "130  2019   Dec             5.2  Dec-2019          3.7                2.7   \n",
       "131  2020   Dec             NaN  Dec-2020          NaN                NaN   \n",
       "\n",
       "     Professional_Degree  White  Black  Asian  Hispanic   Men  Women  \n",
       "0                    4.9    8.8   16.5    8.3      12.9  10.2    7.9  \n",
       "1                    4.3    8.1   15.8    6.8      12.3   9.0    7.9  \n",
       "2                    4.3    7.4   13.6    6.7      10.7   7.7    7.6  \n",
       "3                    3.8    7.1   13.7    6.4       9.7   7.5    7.2  \n",
       "4                    3.3    5.7   12.1    4.7       8.3   6.2    5.8  \n",
       "..                   ...    ...    ...    ...       ...   ...    ...  \n",
       "127                  2.5    4.2    7.9    2.7       5.9   4.4    4.3  \n",
       "128                  2.2    3.7    6.7    2.5       5.0   3.7    3.7  \n",
       "129                  2.2    3.4    6.6    3.3       4.4   3.6    3.5  \n",
       "130                  1.9    3.2    5.9    2.5       4.2   3.1    3.2  \n",
       "131                  NaN    NaN    NaN    NaN       NaN   NaN    NaN  \n",
       "\n",
       "[132 rows x 13 columns]"
      ]
     },
     "execution_count": 105,
     "metadata": {},
     "output_type": "execute_result"
    }
   ],
   "source": [
    "# display the loaded dataframe\n",
    "unemployment"
   ]
  },
  {
   "cell_type": "markdown",
   "metadata": {},
   "source": [
    "<p style=\"color:blue\">The dataset has 132 unemployment entries.</p>"
   ]
  },
  {
   "cell_type": "code",
   "execution_count": 106,
   "metadata": {},
   "outputs": [
    {
     "name": "stdout",
     "output_type": "stream",
     "text": [
      "<class 'pandas.core.frame.DataFrame'>\n",
      "RangeIndex: 132 entries, 0 to 131\n",
      "Data columns (total 13 columns):\n",
      " #   Column               Non-Null Count  Dtype  \n",
      "---  ------               --------------  -----  \n",
      " 0   Year                 132 non-null    int64  \n",
      " 1   Month                132 non-null    object \n",
      " 2   Primary_School       123 non-null    float64\n",
      " 3   Date                 132 non-null    object \n",
      " 4   High_School          123 non-null    float64\n",
      " 5   Associates_Degree    123 non-null    float64\n",
      " 6   Professional_Degree  123 non-null    float64\n",
      " 7   White                123 non-null    float64\n",
      " 8   Black                123 non-null    float64\n",
      " 9   Asian                123 non-null    float64\n",
      " 10  Hispanic             123 non-null    float64\n",
      " 11  Men                  123 non-null    float64\n",
      " 12  Women                123 non-null    float64\n",
      "dtypes: float64(10), int64(1), object(2)\n",
      "memory usage: 13.5+ KB\n"
     ]
    }
   ],
   "source": [
    "# check the datatypes of the dataframe columns\n",
    "unemployment.info()"
   ]
  },
  {
   "cell_type": "code",
   "execution_count": 107,
   "metadata": {},
   "outputs": [
    {
     "data": {
      "text/html": [
       "<div>\n",
       "<style scoped>\n",
       "    .dataframe tbody tr th:only-of-type {\n",
       "        vertical-align: middle;\n",
       "    }\n",
       "\n",
       "    .dataframe tbody tr th {\n",
       "        vertical-align: top;\n",
       "    }\n",
       "\n",
       "    .dataframe thead th {\n",
       "        text-align: right;\n",
       "    }\n",
       "</style>\n",
       "<table border=\"1\" class=\"dataframe\">\n",
       "  <thead>\n",
       "    <tr style=\"text-align: right;\">\n",
       "      <th></th>\n",
       "      <th>Year</th>\n",
       "      <th>Month</th>\n",
       "      <th>Primary_School</th>\n",
       "      <th>Date</th>\n",
       "      <th>High_School</th>\n",
       "      <th>Associates_Degree</th>\n",
       "      <th>Professional_Degree</th>\n",
       "      <th>White</th>\n",
       "      <th>Black</th>\n",
       "      <th>Asian</th>\n",
       "      <th>Hispanic</th>\n",
       "      <th>Men</th>\n",
       "      <th>Women</th>\n",
       "    </tr>\n",
       "  </thead>\n",
       "  <tbody>\n",
       "    <tr>\n",
       "      <th>43</th>\n",
       "      <td>2020</td>\n",
       "      <td>Apr</td>\n",
       "      <td>NaN</td>\n",
       "      <td>Apr-2020</td>\n",
       "      <td>NaN</td>\n",
       "      <td>NaN</td>\n",
       "      <td>NaN</td>\n",
       "      <td>NaN</td>\n",
       "      <td>NaN</td>\n",
       "      <td>NaN</td>\n",
       "      <td>NaN</td>\n",
       "      <td>NaN</td>\n",
       "      <td>NaN</td>\n",
       "    </tr>\n",
       "    <tr>\n",
       "      <th>54</th>\n",
       "      <td>2020</td>\n",
       "      <td>May</td>\n",
       "      <td>NaN</td>\n",
       "      <td>May-2020</td>\n",
       "      <td>NaN</td>\n",
       "      <td>NaN</td>\n",
       "      <td>NaN</td>\n",
       "      <td>NaN</td>\n",
       "      <td>NaN</td>\n",
       "      <td>NaN</td>\n",
       "      <td>NaN</td>\n",
       "      <td>NaN</td>\n",
       "      <td>NaN</td>\n",
       "    </tr>\n",
       "    <tr>\n",
       "      <th>65</th>\n",
       "      <td>2020</td>\n",
       "      <td>Jun</td>\n",
       "      <td>NaN</td>\n",
       "      <td>Jun-2020</td>\n",
       "      <td>NaN</td>\n",
       "      <td>NaN</td>\n",
       "      <td>NaN</td>\n",
       "      <td>NaN</td>\n",
       "      <td>NaN</td>\n",
       "      <td>NaN</td>\n",
       "      <td>NaN</td>\n",
       "      <td>NaN</td>\n",
       "      <td>NaN</td>\n",
       "    </tr>\n",
       "    <tr>\n",
       "      <th>76</th>\n",
       "      <td>2020</td>\n",
       "      <td>Jul</td>\n",
       "      <td>NaN</td>\n",
       "      <td>Jul-2020</td>\n",
       "      <td>NaN</td>\n",
       "      <td>NaN</td>\n",
       "      <td>NaN</td>\n",
       "      <td>NaN</td>\n",
       "      <td>NaN</td>\n",
       "      <td>NaN</td>\n",
       "      <td>NaN</td>\n",
       "      <td>NaN</td>\n",
       "      <td>NaN</td>\n",
       "    </tr>\n",
       "    <tr>\n",
       "      <th>87</th>\n",
       "      <td>2020</td>\n",
       "      <td>Aug</td>\n",
       "      <td>NaN</td>\n",
       "      <td>Aug-2020</td>\n",
       "      <td>NaN</td>\n",
       "      <td>NaN</td>\n",
       "      <td>NaN</td>\n",
       "      <td>NaN</td>\n",
       "      <td>NaN</td>\n",
       "      <td>NaN</td>\n",
       "      <td>NaN</td>\n",
       "      <td>NaN</td>\n",
       "      <td>NaN</td>\n",
       "    </tr>\n",
       "    <tr>\n",
       "      <th>98</th>\n",
       "      <td>2020</td>\n",
       "      <td>Sep</td>\n",
       "      <td>NaN</td>\n",
       "      <td>Sep-2020</td>\n",
       "      <td>NaN</td>\n",
       "      <td>NaN</td>\n",
       "      <td>NaN</td>\n",
       "      <td>NaN</td>\n",
       "      <td>NaN</td>\n",
       "      <td>NaN</td>\n",
       "      <td>NaN</td>\n",
       "      <td>NaN</td>\n",
       "      <td>NaN</td>\n",
       "    </tr>\n",
       "    <tr>\n",
       "      <th>109</th>\n",
       "      <td>2020</td>\n",
       "      <td>Oct</td>\n",
       "      <td>NaN</td>\n",
       "      <td>Oct-2020</td>\n",
       "      <td>NaN</td>\n",
       "      <td>NaN</td>\n",
       "      <td>NaN</td>\n",
       "      <td>NaN</td>\n",
       "      <td>NaN</td>\n",
       "      <td>NaN</td>\n",
       "      <td>NaN</td>\n",
       "      <td>NaN</td>\n",
       "      <td>NaN</td>\n",
       "    </tr>\n",
       "    <tr>\n",
       "      <th>120</th>\n",
       "      <td>2020</td>\n",
       "      <td>Nov</td>\n",
       "      <td>NaN</td>\n",
       "      <td>Nov-2020</td>\n",
       "      <td>NaN</td>\n",
       "      <td>NaN</td>\n",
       "      <td>NaN</td>\n",
       "      <td>NaN</td>\n",
       "      <td>NaN</td>\n",
       "      <td>NaN</td>\n",
       "      <td>NaN</td>\n",
       "      <td>NaN</td>\n",
       "      <td>NaN</td>\n",
       "    </tr>\n",
       "    <tr>\n",
       "      <th>131</th>\n",
       "      <td>2020</td>\n",
       "      <td>Dec</td>\n",
       "      <td>NaN</td>\n",
       "      <td>Dec-2020</td>\n",
       "      <td>NaN</td>\n",
       "      <td>NaN</td>\n",
       "      <td>NaN</td>\n",
       "      <td>NaN</td>\n",
       "      <td>NaN</td>\n",
       "      <td>NaN</td>\n",
       "      <td>NaN</td>\n",
       "      <td>NaN</td>\n",
       "      <td>NaN</td>\n",
       "    </tr>\n",
       "  </tbody>\n",
       "</table>\n",
       "</div>"
      ],
      "text/plain": [
       "     Year Month  Primary_School      Date  High_School  Associates_Degree  \\\n",
       "43   2020   Apr             NaN  Apr-2020          NaN                NaN   \n",
       "54   2020   May             NaN  May-2020          NaN                NaN   \n",
       "65   2020   Jun             NaN  Jun-2020          NaN                NaN   \n",
       "76   2020   Jul             NaN  Jul-2020          NaN                NaN   \n",
       "87   2020   Aug             NaN  Aug-2020          NaN                NaN   \n",
       "98   2020   Sep             NaN  Sep-2020          NaN                NaN   \n",
       "109  2020   Oct             NaN  Oct-2020          NaN                NaN   \n",
       "120  2020   Nov             NaN  Nov-2020          NaN                NaN   \n",
       "131  2020   Dec             NaN  Dec-2020          NaN                NaN   \n",
       "\n",
       "     Professional_Degree  White  Black  Asian  Hispanic  Men  Women  \n",
       "43                   NaN    NaN    NaN    NaN       NaN  NaN    NaN  \n",
       "54                   NaN    NaN    NaN    NaN       NaN  NaN    NaN  \n",
       "65                   NaN    NaN    NaN    NaN       NaN  NaN    NaN  \n",
       "76                   NaN    NaN    NaN    NaN       NaN  NaN    NaN  \n",
       "87                   NaN    NaN    NaN    NaN       NaN  NaN    NaN  \n",
       "98                   NaN    NaN    NaN    NaN       NaN  NaN    NaN  \n",
       "109                  NaN    NaN    NaN    NaN       NaN  NaN    NaN  \n",
       "120                  NaN    NaN    NaN    NaN       NaN  NaN    NaN  \n",
       "131                  NaN    NaN    NaN    NaN       NaN  NaN    NaN  "
      ]
     },
     "execution_count": 107,
     "metadata": {},
     "output_type": "execute_result"
    }
   ],
   "source": [
    "# look for missing values in the dataframe\n",
    "unemployment[unemployment.isna().any(axis=1)]"
   ]
  },
  {
   "cell_type": "markdown",
   "metadata": {},
   "source": [
    "<p style=\"color:blue\">Nine unemployment entries have missing values. It seems the dataset is actually missing data for 2020.</p>"
   ]
  },
  {
   "cell_type": "code",
   "execution_count": 108,
   "metadata": {},
   "outputs": [],
   "source": [
    "# delete unemployment entries with missing data\n",
    "unemployment.drop(unemployment[unemployment.isna().any(axis=1)].index, inplace=True)"
   ]
  },
  {
   "cell_type": "code",
   "execution_count": 109,
   "metadata": {},
   "outputs": [
    {
     "data": {
      "text/html": [
       "<div>\n",
       "<style scoped>\n",
       "    .dataframe tbody tr th:only-of-type {\n",
       "        vertical-align: middle;\n",
       "    }\n",
       "\n",
       "    .dataframe tbody tr th {\n",
       "        vertical-align: top;\n",
       "    }\n",
       "\n",
       "    .dataframe thead th {\n",
       "        text-align: right;\n",
       "    }\n",
       "</style>\n",
       "<table border=\"1\" class=\"dataframe\">\n",
       "  <thead>\n",
       "    <tr style=\"text-align: right;\">\n",
       "      <th></th>\n",
       "      <th>Year</th>\n",
       "      <th>Month</th>\n",
       "      <th>Primary_School</th>\n",
       "      <th>Date</th>\n",
       "      <th>High_School</th>\n",
       "      <th>Associates_Degree</th>\n",
       "      <th>Professional_Degree</th>\n",
       "      <th>White</th>\n",
       "      <th>Black</th>\n",
       "      <th>Asian</th>\n",
       "      <th>Hispanic</th>\n",
       "      <th>Men</th>\n",
       "      <th>Women</th>\n",
       "    </tr>\n",
       "  </thead>\n",
       "  <tbody>\n",
       "    <tr>\n",
       "      <th>0</th>\n",
       "      <td>2010</td>\n",
       "      <td>Jan</td>\n",
       "      <td>15.3</td>\n",
       "      <td>Jan-2010</td>\n",
       "      <td>10.2</td>\n",
       "      <td>8.6</td>\n",
       "      <td>4.9</td>\n",
       "      <td>8.8</td>\n",
       "      <td>16.5</td>\n",
       "      <td>8.3</td>\n",
       "      <td>12.9</td>\n",
       "      <td>10.2</td>\n",
       "      <td>7.9</td>\n",
       "    </tr>\n",
       "    <tr>\n",
       "      <th>1</th>\n",
       "      <td>2011</td>\n",
       "      <td>Jan</td>\n",
       "      <td>14.3</td>\n",
       "      <td>Jan-2011</td>\n",
       "      <td>9.5</td>\n",
       "      <td>8.1</td>\n",
       "      <td>4.3</td>\n",
       "      <td>8.1</td>\n",
       "      <td>15.8</td>\n",
       "      <td>6.8</td>\n",
       "      <td>12.3</td>\n",
       "      <td>9.0</td>\n",
       "      <td>7.9</td>\n",
       "    </tr>\n",
       "    <tr>\n",
       "      <th>2</th>\n",
       "      <td>2012</td>\n",
       "      <td>Jan</td>\n",
       "      <td>13.0</td>\n",
       "      <td>Jan-2012</td>\n",
       "      <td>8.5</td>\n",
       "      <td>7.1</td>\n",
       "      <td>4.3</td>\n",
       "      <td>7.4</td>\n",
       "      <td>13.6</td>\n",
       "      <td>6.7</td>\n",
       "      <td>10.7</td>\n",
       "      <td>7.7</td>\n",
       "      <td>7.6</td>\n",
       "    </tr>\n",
       "    <tr>\n",
       "      <th>3</th>\n",
       "      <td>2013</td>\n",
       "      <td>Jan</td>\n",
       "      <td>12.0</td>\n",
       "      <td>Jan-2013</td>\n",
       "      <td>8.1</td>\n",
       "      <td>6.9</td>\n",
       "      <td>3.8</td>\n",
       "      <td>7.1</td>\n",
       "      <td>13.7</td>\n",
       "      <td>6.4</td>\n",
       "      <td>9.7</td>\n",
       "      <td>7.5</td>\n",
       "      <td>7.2</td>\n",
       "    </tr>\n",
       "    <tr>\n",
       "      <th>4</th>\n",
       "      <td>2014</td>\n",
       "      <td>Jan</td>\n",
       "      <td>9.4</td>\n",
       "      <td>Jan-2014</td>\n",
       "      <td>6.5</td>\n",
       "      <td>5.9</td>\n",
       "      <td>3.3</td>\n",
       "      <td>5.7</td>\n",
       "      <td>12.1</td>\n",
       "      <td>4.7</td>\n",
       "      <td>8.3</td>\n",
       "      <td>6.2</td>\n",
       "      <td>5.8</td>\n",
       "    </tr>\n",
       "    <tr>\n",
       "      <th>...</th>\n",
       "      <td>...</td>\n",
       "      <td>...</td>\n",
       "      <td>...</td>\n",
       "      <td>...</td>\n",
       "      <td>...</td>\n",
       "      <td>...</td>\n",
       "      <td>...</td>\n",
       "      <td>...</td>\n",
       "      <td>...</td>\n",
       "      <td>...</td>\n",
       "      <td>...</td>\n",
       "      <td>...</td>\n",
       "      <td>...</td>\n",
       "    </tr>\n",
       "    <tr>\n",
       "      <th>126</th>\n",
       "      <td>2015</td>\n",
       "      <td>Dec</td>\n",
       "      <td>6.4</td>\n",
       "      <td>Dec-2015</td>\n",
       "      <td>5.6</td>\n",
       "      <td>4.1</td>\n",
       "      <td>2.5</td>\n",
       "      <td>4.4</td>\n",
       "      <td>8.5</td>\n",
       "      <td>4.1</td>\n",
       "      <td>6.2</td>\n",
       "      <td>4.6</td>\n",
       "      <td>4.5</td>\n",
       "    </tr>\n",
       "    <tr>\n",
       "      <th>127</th>\n",
       "      <td>2016</td>\n",
       "      <td>Dec</td>\n",
       "      <td>7.5</td>\n",
       "      <td>Dec-2016</td>\n",
       "      <td>5.1</td>\n",
       "      <td>3.8</td>\n",
       "      <td>2.5</td>\n",
       "      <td>4.2</td>\n",
       "      <td>7.9</td>\n",
       "      <td>2.7</td>\n",
       "      <td>5.9</td>\n",
       "      <td>4.4</td>\n",
       "      <td>4.3</td>\n",
       "    </tr>\n",
       "    <tr>\n",
       "      <th>128</th>\n",
       "      <td>2017</td>\n",
       "      <td>Dec</td>\n",
       "      <td>6.2</td>\n",
       "      <td>Dec-2017</td>\n",
       "      <td>4.2</td>\n",
       "      <td>3.6</td>\n",
       "      <td>2.2</td>\n",
       "      <td>3.7</td>\n",
       "      <td>6.7</td>\n",
       "      <td>2.5</td>\n",
       "      <td>5.0</td>\n",
       "      <td>3.7</td>\n",
       "      <td>3.7</td>\n",
       "    </tr>\n",
       "    <tr>\n",
       "      <th>129</th>\n",
       "      <td>2018</td>\n",
       "      <td>Dec</td>\n",
       "      <td>5.8</td>\n",
       "      <td>Dec-2018</td>\n",
       "      <td>3.8</td>\n",
       "      <td>3.3</td>\n",
       "      <td>2.2</td>\n",
       "      <td>3.4</td>\n",
       "      <td>6.6</td>\n",
       "      <td>3.3</td>\n",
       "      <td>4.4</td>\n",
       "      <td>3.6</td>\n",
       "      <td>3.5</td>\n",
       "    </tr>\n",
       "    <tr>\n",
       "      <th>130</th>\n",
       "      <td>2019</td>\n",
       "      <td>Dec</td>\n",
       "      <td>5.2</td>\n",
       "      <td>Dec-2019</td>\n",
       "      <td>3.7</td>\n",
       "      <td>2.7</td>\n",
       "      <td>1.9</td>\n",
       "      <td>3.2</td>\n",
       "      <td>5.9</td>\n",
       "      <td>2.5</td>\n",
       "      <td>4.2</td>\n",
       "      <td>3.1</td>\n",
       "      <td>3.2</td>\n",
       "    </tr>\n",
       "  </tbody>\n",
       "</table>\n",
       "<p>123 rows × 13 columns</p>\n",
       "</div>"
      ],
      "text/plain": [
       "     Year Month  Primary_School      Date  High_School  Associates_Degree  \\\n",
       "0    2010   Jan            15.3  Jan-2010         10.2                8.6   \n",
       "1    2011   Jan            14.3  Jan-2011          9.5                8.1   \n",
       "2    2012   Jan            13.0  Jan-2012          8.5                7.1   \n",
       "3    2013   Jan            12.0  Jan-2013          8.1                6.9   \n",
       "4    2014   Jan             9.4  Jan-2014          6.5                5.9   \n",
       "..    ...   ...             ...       ...          ...                ...   \n",
       "126  2015   Dec             6.4  Dec-2015          5.6                4.1   \n",
       "127  2016   Dec             7.5  Dec-2016          5.1                3.8   \n",
       "128  2017   Dec             6.2  Dec-2017          4.2                3.6   \n",
       "129  2018   Dec             5.8  Dec-2018          3.8                3.3   \n",
       "130  2019   Dec             5.2  Dec-2019          3.7                2.7   \n",
       "\n",
       "     Professional_Degree  White  Black  Asian  Hispanic   Men  Women  \n",
       "0                    4.9    8.8   16.5    8.3      12.9  10.2    7.9  \n",
       "1                    4.3    8.1   15.8    6.8      12.3   9.0    7.9  \n",
       "2                    4.3    7.4   13.6    6.7      10.7   7.7    7.6  \n",
       "3                    3.8    7.1   13.7    6.4       9.7   7.5    7.2  \n",
       "4                    3.3    5.7   12.1    4.7       8.3   6.2    5.8  \n",
       "..                   ...    ...    ...    ...       ...   ...    ...  \n",
       "126                  2.5    4.4    8.5    4.1       6.2   4.6    4.5  \n",
       "127                  2.5    4.2    7.9    2.7       5.9   4.4    4.3  \n",
       "128                  2.2    3.7    6.7    2.5       5.0   3.7    3.7  \n",
       "129                  2.2    3.4    6.6    3.3       4.4   3.6    3.5  \n",
       "130                  1.9    3.2    5.9    2.5       4.2   3.1    3.2  \n",
       "\n",
       "[123 rows x 13 columns]"
      ]
     },
     "execution_count": 109,
     "metadata": {},
     "output_type": "execute_result"
    }
   ],
   "source": [
    "# display the dataset\n",
    "unemployment"
   ]
  },
  {
   "cell_type": "markdown",
   "metadata": {},
   "source": [
    "<p style=\"color:blue\">The dataset remains with <b>123 unemployment entries</b> out of the original 132.</p>"
   ]
  },
  {
   "cell_type": "code",
   "execution_count": 110,
   "metadata": {},
   "outputs": [],
   "source": [
    "# Load the unemployment statistics published by the BLS\n",
    "\n",
    "bls=pd.read_csv('bls_statistics.csv', low_memory=False)"
   ]
  },
  {
   "cell_type": "code",
   "execution_count": 111,
   "metadata": {
    "scrolled": true
   },
   "outputs": [
    {
     "data": {
      "text/html": [
       "<div>\n",
       "<style scoped>\n",
       "    .dataframe tbody tr th:only-of-type {\n",
       "        vertical-align: middle;\n",
       "    }\n",
       "\n",
       "    .dataframe tbody tr th {\n",
       "        vertical-align: top;\n",
       "    }\n",
       "\n",
       "    .dataframe thead th {\n",
       "        text-align: right;\n",
       "    }\n",
       "</style>\n",
       "<table border=\"1\" class=\"dataframe\">\n",
       "  <thead>\n",
       "    <tr style=\"text-align: right;\">\n",
       "      <th></th>\n",
       "      <th>Series ID</th>\n",
       "      <th>Year</th>\n",
       "      <th>Period</th>\n",
       "      <th>Value</th>\n",
       "    </tr>\n",
       "  </thead>\n",
       "  <tbody>\n",
       "    <tr>\n",
       "      <th>0</th>\n",
       "      <td>LNS14000000</td>\n",
       "      <td>2010</td>\n",
       "      <td>M01</td>\n",
       "      <td>9.8</td>\n",
       "    </tr>\n",
       "    <tr>\n",
       "      <th>1</th>\n",
       "      <td>LNS14000000</td>\n",
       "      <td>2010</td>\n",
       "      <td>M02</td>\n",
       "      <td>9.8</td>\n",
       "    </tr>\n",
       "    <tr>\n",
       "      <th>2</th>\n",
       "      <td>LNS14000000</td>\n",
       "      <td>2010</td>\n",
       "      <td>M03</td>\n",
       "      <td>9.9</td>\n",
       "    </tr>\n",
       "    <tr>\n",
       "      <th>3</th>\n",
       "      <td>LNS14000000</td>\n",
       "      <td>2010</td>\n",
       "      <td>M04</td>\n",
       "      <td>9.9</td>\n",
       "    </tr>\n",
       "    <tr>\n",
       "      <th>4</th>\n",
       "      <td>LNS14000000</td>\n",
       "      <td>2010</td>\n",
       "      <td>M05</td>\n",
       "      <td>9.6</td>\n",
       "    </tr>\n",
       "    <tr>\n",
       "      <th>...</th>\n",
       "      <td>...</td>\n",
       "      <td>...</td>\n",
       "      <td>...</td>\n",
       "      <td>...</td>\n",
       "    </tr>\n",
       "    <tr>\n",
       "      <th>127</th>\n",
       "      <td>LNS14000000</td>\n",
       "      <td>2020</td>\n",
       "      <td>M08</td>\n",
       "      <td>8.4</td>\n",
       "    </tr>\n",
       "    <tr>\n",
       "      <th>128</th>\n",
       "      <td>LNS14000000</td>\n",
       "      <td>2020</td>\n",
       "      <td>M09</td>\n",
       "      <td>7.8</td>\n",
       "    </tr>\n",
       "    <tr>\n",
       "      <th>129</th>\n",
       "      <td>LNS14000000</td>\n",
       "      <td>2020</td>\n",
       "      <td>M10</td>\n",
       "      <td>6.9</td>\n",
       "    </tr>\n",
       "    <tr>\n",
       "      <th>130</th>\n",
       "      <td>LNS14000000</td>\n",
       "      <td>2020</td>\n",
       "      <td>M11</td>\n",
       "      <td>6.7</td>\n",
       "    </tr>\n",
       "    <tr>\n",
       "      <th>131</th>\n",
       "      <td>LNS14000000</td>\n",
       "      <td>2020</td>\n",
       "      <td>M12</td>\n",
       "      <td>6.7</td>\n",
       "    </tr>\n",
       "  </tbody>\n",
       "</table>\n",
       "<p>132 rows × 4 columns</p>\n",
       "</div>"
      ],
      "text/plain": [
       "       Series ID  Year Period  Value\n",
       "0    LNS14000000  2010    M01    9.8\n",
       "1    LNS14000000  2010    M02    9.8\n",
       "2    LNS14000000  2010    M03    9.9\n",
       "3    LNS14000000  2010    M04    9.9\n",
       "4    LNS14000000  2010    M05    9.6\n",
       "..           ...   ...    ...    ...\n",
       "127  LNS14000000  2020    M08    8.4\n",
       "128  LNS14000000  2020    M09    7.8\n",
       "129  LNS14000000  2020    M10    6.9\n",
       "130  LNS14000000  2020    M11    6.7\n",
       "131  LNS14000000  2020    M12    6.7\n",
       "\n",
       "[132 rows x 4 columns]"
      ]
     },
     "execution_count": 111,
     "metadata": {},
     "output_type": "execute_result"
    }
   ],
   "source": [
    "# display the loaded dataframe\n",
    "bls"
   ]
  },
  {
   "cell_type": "code",
   "execution_count": 112,
   "metadata": {},
   "outputs": [
    {
     "name": "stdout",
     "output_type": "stream",
     "text": [
      "<class 'pandas.core.frame.DataFrame'>\n",
      "RangeIndex: 132 entries, 0 to 131\n",
      "Data columns (total 4 columns):\n",
      " #   Column     Non-Null Count  Dtype  \n",
      "---  ------     --------------  -----  \n",
      " 0   Series ID  132 non-null    object \n",
      " 1   Year       132 non-null    int64  \n",
      " 2   Period     132 non-null    object \n",
      " 3   Value      132 non-null    float64\n",
      "dtypes: float64(1), int64(1), object(2)\n",
      "memory usage: 4.2+ KB\n"
     ]
    }
   ],
   "source": [
    "# check the data types of the dataframe columns\n",
    "bls.info()"
   ]
  },
  {
   "cell_type": "code",
   "execution_count": 113,
   "metadata": {},
   "outputs": [
    {
     "data": {
      "text/html": [
       "<div>\n",
       "<style scoped>\n",
       "    .dataframe tbody tr th:only-of-type {\n",
       "        vertical-align: middle;\n",
       "    }\n",
       "\n",
       "    .dataframe tbody tr th {\n",
       "        vertical-align: top;\n",
       "    }\n",
       "\n",
       "    .dataframe thead th {\n",
       "        text-align: right;\n",
       "    }\n",
       "</style>\n",
       "<table border=\"1\" class=\"dataframe\">\n",
       "  <thead>\n",
       "    <tr style=\"text-align: right;\">\n",
       "      <th></th>\n",
       "      <th>Series ID</th>\n",
       "      <th>Year</th>\n",
       "      <th>Period</th>\n",
       "      <th>Value</th>\n",
       "    </tr>\n",
       "  </thead>\n",
       "  <tbody>\n",
       "  </tbody>\n",
       "</table>\n",
       "</div>"
      ],
      "text/plain": [
       "Empty DataFrame\n",
       "Columns: [Series ID, Year, Period, Value]\n",
       "Index: []"
      ]
     },
     "execution_count": 113,
     "metadata": {},
     "output_type": "execute_result"
    }
   ],
   "source": [
    "# look for missing values in bls statistics (there should not be any)\n",
    "bls[bls.isna().any(axis=1)]"
   ]
  },
  {
   "cell_type": "code",
   "execution_count": 114,
   "metadata": {},
   "outputs": [],
   "source": [
    "# convert the period column of the bls dataframe\n",
    "# use initcap month abbreviations to match the unemployment dataframe\n",
    "bls['Month'] = bls['Period'].replace({'M01':'Jan','M02':'Feb','M03':'Mar','M04':'Apr','M05':'May','M06':'Jun','M07':'Jul','M08':'Aug','M09':'Sep','M10':'Oct','M11':'Nov','M12':'Dec'})"
   ]
  },
  {
   "cell_type": "code",
   "execution_count": 115,
   "metadata": {},
   "outputs": [
    {
     "data": {
      "text/html": [
       "<div>\n",
       "<style scoped>\n",
       "    .dataframe tbody tr th:only-of-type {\n",
       "        vertical-align: middle;\n",
       "    }\n",
       "\n",
       "    .dataframe tbody tr th {\n",
       "        vertical-align: top;\n",
       "    }\n",
       "\n",
       "    .dataframe thead th {\n",
       "        text-align: right;\n",
       "    }\n",
       "</style>\n",
       "<table border=\"1\" class=\"dataframe\">\n",
       "  <thead>\n",
       "    <tr style=\"text-align: right;\">\n",
       "      <th></th>\n",
       "      <th>Series ID</th>\n",
       "      <th>Year</th>\n",
       "      <th>Period</th>\n",
       "      <th>Value</th>\n",
       "      <th>Month</th>\n",
       "    </tr>\n",
       "  </thead>\n",
       "  <tbody>\n",
       "    <tr>\n",
       "      <th>0</th>\n",
       "      <td>LNS14000000</td>\n",
       "      <td>2010</td>\n",
       "      <td>M01</td>\n",
       "      <td>9.8</td>\n",
       "      <td>Jan</td>\n",
       "    </tr>\n",
       "    <tr>\n",
       "      <th>1</th>\n",
       "      <td>LNS14000000</td>\n",
       "      <td>2010</td>\n",
       "      <td>M02</td>\n",
       "      <td>9.8</td>\n",
       "      <td>Feb</td>\n",
       "    </tr>\n",
       "    <tr>\n",
       "      <th>2</th>\n",
       "      <td>LNS14000000</td>\n",
       "      <td>2010</td>\n",
       "      <td>M03</td>\n",
       "      <td>9.9</td>\n",
       "      <td>Mar</td>\n",
       "    </tr>\n",
       "    <tr>\n",
       "      <th>3</th>\n",
       "      <td>LNS14000000</td>\n",
       "      <td>2010</td>\n",
       "      <td>M04</td>\n",
       "      <td>9.9</td>\n",
       "      <td>Apr</td>\n",
       "    </tr>\n",
       "    <tr>\n",
       "      <th>4</th>\n",
       "      <td>LNS14000000</td>\n",
       "      <td>2010</td>\n",
       "      <td>M05</td>\n",
       "      <td>9.6</td>\n",
       "      <td>May</td>\n",
       "    </tr>\n",
       "    <tr>\n",
       "      <th>...</th>\n",
       "      <td>...</td>\n",
       "      <td>...</td>\n",
       "      <td>...</td>\n",
       "      <td>...</td>\n",
       "      <td>...</td>\n",
       "    </tr>\n",
       "    <tr>\n",
       "      <th>127</th>\n",
       "      <td>LNS14000000</td>\n",
       "      <td>2020</td>\n",
       "      <td>M08</td>\n",
       "      <td>8.4</td>\n",
       "      <td>Aug</td>\n",
       "    </tr>\n",
       "    <tr>\n",
       "      <th>128</th>\n",
       "      <td>LNS14000000</td>\n",
       "      <td>2020</td>\n",
       "      <td>M09</td>\n",
       "      <td>7.8</td>\n",
       "      <td>Sep</td>\n",
       "    </tr>\n",
       "    <tr>\n",
       "      <th>129</th>\n",
       "      <td>LNS14000000</td>\n",
       "      <td>2020</td>\n",
       "      <td>M10</td>\n",
       "      <td>6.9</td>\n",
       "      <td>Oct</td>\n",
       "    </tr>\n",
       "    <tr>\n",
       "      <th>130</th>\n",
       "      <td>LNS14000000</td>\n",
       "      <td>2020</td>\n",
       "      <td>M11</td>\n",
       "      <td>6.7</td>\n",
       "      <td>Nov</td>\n",
       "    </tr>\n",
       "    <tr>\n",
       "      <th>131</th>\n",
       "      <td>LNS14000000</td>\n",
       "      <td>2020</td>\n",
       "      <td>M12</td>\n",
       "      <td>6.7</td>\n",
       "      <td>Dec</td>\n",
       "    </tr>\n",
       "  </tbody>\n",
       "</table>\n",
       "<p>132 rows × 5 columns</p>\n",
       "</div>"
      ],
      "text/plain": [
       "       Series ID  Year Period  Value Month\n",
       "0    LNS14000000  2010    M01    9.8   Jan\n",
       "1    LNS14000000  2010    M02    9.8   Feb\n",
       "2    LNS14000000  2010    M03    9.9   Mar\n",
       "3    LNS14000000  2010    M04    9.9   Apr\n",
       "4    LNS14000000  2010    M05    9.6   May\n",
       "..           ...   ...    ...    ...   ...\n",
       "127  LNS14000000  2020    M08    8.4   Aug\n",
       "128  LNS14000000  2020    M09    7.8   Sep\n",
       "129  LNS14000000  2020    M10    6.9   Oct\n",
       "130  LNS14000000  2020    M11    6.7   Nov\n",
       "131  LNS14000000  2020    M12    6.7   Dec\n",
       "\n",
       "[132 rows x 5 columns]"
      ]
     },
     "execution_count": 115,
     "metadata": {},
     "output_type": "execute_result"
    }
   ],
   "source": [
    "# display the augmented dataframe\n",
    "bls"
   ]
  },
  {
   "cell_type": "code",
   "execution_count": 116,
   "metadata": {},
   "outputs": [
    {
     "data": {
      "text/html": [
       "<div>\n",
       "<style scoped>\n",
       "    .dataframe tbody tr th:only-of-type {\n",
       "        vertical-align: middle;\n",
       "    }\n",
       "\n",
       "    .dataframe tbody tr th {\n",
       "        vertical-align: top;\n",
       "    }\n",
       "\n",
       "    .dataframe thead th {\n",
       "        text-align: right;\n",
       "    }\n",
       "</style>\n",
       "<table border=\"1\" class=\"dataframe\">\n",
       "  <thead>\n",
       "    <tr style=\"text-align: right;\">\n",
       "      <th></th>\n",
       "      <th>Year</th>\n",
       "      <th>Month</th>\n",
       "      <th>Primary_School</th>\n",
       "      <th>Date</th>\n",
       "      <th>High_School</th>\n",
       "      <th>Associates_Degree</th>\n",
       "      <th>Professional_Degree</th>\n",
       "      <th>White</th>\n",
       "      <th>Black</th>\n",
       "      <th>Asian</th>\n",
       "      <th>Hispanic</th>\n",
       "      <th>Men</th>\n",
       "      <th>Women</th>\n",
       "    </tr>\n",
       "  </thead>\n",
       "  <tbody>\n",
       "  </tbody>\n",
       "</table>\n",
       "</div>"
      ],
      "text/plain": [
       "Empty DataFrame\n",
       "Columns: [Year, Month, Primary_School, Date, High_School, Associates_Degree, Professional_Degree, White, Black, Asian, Hispanic, Men, Women]\n",
       "Index: []"
      ]
     },
     "execution_count": 116,
     "metadata": {},
     "output_type": "execute_result"
    }
   ],
   "source": [
    "# check which months (from Jan 2010 to Dec 2020) are missing from the unemployment dataset\n",
    "\n",
    "unemployment[~(unemployment['Year'].astype(str) + unemployment['Month'].astype(str)).isin(bls['Year'].astype(str) + bls['Month'].astype(str))]"
   ]
  },
  {
   "cell_type": "code",
   "execution_count": 117,
   "metadata": {},
   "outputs": [
    {
     "data": {
      "text/html": [
       "<div>\n",
       "<style scoped>\n",
       "    .dataframe tbody tr th:only-of-type {\n",
       "        vertical-align: middle;\n",
       "    }\n",
       "\n",
       "    .dataframe tbody tr th {\n",
       "        vertical-align: top;\n",
       "    }\n",
       "\n",
       "    .dataframe thead th {\n",
       "        text-align: right;\n",
       "    }\n",
       "</style>\n",
       "<table border=\"1\" class=\"dataframe\">\n",
       "  <thead>\n",
       "    <tr style=\"text-align: right;\">\n",
       "      <th></th>\n",
       "      <th>Series ID</th>\n",
       "      <th>Year</th>\n",
       "      <th>Period</th>\n",
       "      <th>Value</th>\n",
       "      <th>Month</th>\n",
       "    </tr>\n",
       "  </thead>\n",
       "  <tbody>\n",
       "    <tr>\n",
       "      <th>123</th>\n",
       "      <td>LNS14000000</td>\n",
       "      <td>2020</td>\n",
       "      <td>M04</td>\n",
       "      <td>14.8</td>\n",
       "      <td>Apr</td>\n",
       "    </tr>\n",
       "    <tr>\n",
       "      <th>124</th>\n",
       "      <td>LNS14000000</td>\n",
       "      <td>2020</td>\n",
       "      <td>M05</td>\n",
       "      <td>13.3</td>\n",
       "      <td>May</td>\n",
       "    </tr>\n",
       "    <tr>\n",
       "      <th>125</th>\n",
       "      <td>LNS14000000</td>\n",
       "      <td>2020</td>\n",
       "      <td>M06</td>\n",
       "      <td>11.1</td>\n",
       "      <td>Jun</td>\n",
       "    </tr>\n",
       "    <tr>\n",
       "      <th>126</th>\n",
       "      <td>LNS14000000</td>\n",
       "      <td>2020</td>\n",
       "      <td>M07</td>\n",
       "      <td>10.2</td>\n",
       "      <td>Jul</td>\n",
       "    </tr>\n",
       "    <tr>\n",
       "      <th>127</th>\n",
       "      <td>LNS14000000</td>\n",
       "      <td>2020</td>\n",
       "      <td>M08</td>\n",
       "      <td>8.4</td>\n",
       "      <td>Aug</td>\n",
       "    </tr>\n",
       "    <tr>\n",
       "      <th>128</th>\n",
       "      <td>LNS14000000</td>\n",
       "      <td>2020</td>\n",
       "      <td>M09</td>\n",
       "      <td>7.8</td>\n",
       "      <td>Sep</td>\n",
       "    </tr>\n",
       "    <tr>\n",
       "      <th>129</th>\n",
       "      <td>LNS14000000</td>\n",
       "      <td>2020</td>\n",
       "      <td>M10</td>\n",
       "      <td>6.9</td>\n",
       "      <td>Oct</td>\n",
       "    </tr>\n",
       "    <tr>\n",
       "      <th>130</th>\n",
       "      <td>LNS14000000</td>\n",
       "      <td>2020</td>\n",
       "      <td>M11</td>\n",
       "      <td>6.7</td>\n",
       "      <td>Nov</td>\n",
       "    </tr>\n",
       "    <tr>\n",
       "      <th>131</th>\n",
       "      <td>LNS14000000</td>\n",
       "      <td>2020</td>\n",
       "      <td>M12</td>\n",
       "      <td>6.7</td>\n",
       "      <td>Dec</td>\n",
       "    </tr>\n",
       "  </tbody>\n",
       "</table>\n",
       "</div>"
      ],
      "text/plain": [
       "       Series ID  Year Period  Value Month\n",
       "123  LNS14000000  2020    M04   14.8   Apr\n",
       "124  LNS14000000  2020    M05   13.3   May\n",
       "125  LNS14000000  2020    M06   11.1   Jun\n",
       "126  LNS14000000  2020    M07   10.2   Jul\n",
       "127  LNS14000000  2020    M08    8.4   Aug\n",
       "128  LNS14000000  2020    M09    7.8   Sep\n",
       "129  LNS14000000  2020    M10    6.9   Oct\n",
       "130  LNS14000000  2020    M11    6.7   Nov\n",
       "131  LNS14000000  2020    M12    6.7   Dec"
      ]
     },
     "execution_count": 117,
     "metadata": {},
     "output_type": "execute_result"
    }
   ],
   "source": [
    "# check which months are missing from the unemployment dataset\n",
    "# the range is from Jan 2010 to Dec 2020\n",
    "\n",
    "bls[~(bls['Year'].astype(str) + bls['Month'].astype(str)).isin(unemployment['Year'].astype(str) + unemployment['Month'].astype(str))]"
   ]
  },
  {
   "cell_type": "markdown",
   "metadata": {},
   "source": [
    "<p style=\"color:blue\">The unemployment dataset does not have categorized data for the period ranging from April 2020 to December 2020. But we will keep the overall unemployment rate not o lose the ability to perform analysis using the general unemployment rate.</p>"
   ]
  },
  {
   "cell_type": "code",
   "execution_count": 118,
   "metadata": {},
   "outputs": [],
   "source": [
    "# merge the unemployment dataset with the bls statistics\n",
    "\n",
    "unemployment = pd.merge(left=unemployment, right=bls[['Year','Month','Value']], how='right')"
   ]
  },
  {
   "cell_type": "code",
   "execution_count": 119,
   "metadata": {},
   "outputs": [
    {
     "data": {
      "text/html": [
       "<div>\n",
       "<style scoped>\n",
       "    .dataframe tbody tr th:only-of-type {\n",
       "        vertical-align: middle;\n",
       "    }\n",
       "\n",
       "    .dataframe tbody tr th {\n",
       "        vertical-align: top;\n",
       "    }\n",
       "\n",
       "    .dataframe thead th {\n",
       "        text-align: right;\n",
       "    }\n",
       "</style>\n",
       "<table border=\"1\" class=\"dataframe\">\n",
       "  <thead>\n",
       "    <tr style=\"text-align: right;\">\n",
       "      <th></th>\n",
       "      <th>Year</th>\n",
       "      <th>Month</th>\n",
       "      <th>Primary_School</th>\n",
       "      <th>Date</th>\n",
       "      <th>High_School</th>\n",
       "      <th>Associates_Degree</th>\n",
       "      <th>Professional_Degree</th>\n",
       "      <th>White</th>\n",
       "      <th>Black</th>\n",
       "      <th>Asian</th>\n",
       "      <th>Hispanic</th>\n",
       "      <th>Men</th>\n",
       "      <th>Women</th>\n",
       "      <th>Value</th>\n",
       "    </tr>\n",
       "  </thead>\n",
       "  <tbody>\n",
       "    <tr>\n",
       "      <th>0</th>\n",
       "      <td>2010</td>\n",
       "      <td>Jan</td>\n",
       "      <td>15.3</td>\n",
       "      <td>Jan-2010</td>\n",
       "      <td>10.2</td>\n",
       "      <td>8.6</td>\n",
       "      <td>4.9</td>\n",
       "      <td>8.8</td>\n",
       "      <td>16.5</td>\n",
       "      <td>8.3</td>\n",
       "      <td>12.9</td>\n",
       "      <td>10.2</td>\n",
       "      <td>7.9</td>\n",
       "      <td>9.8</td>\n",
       "    </tr>\n",
       "    <tr>\n",
       "      <th>1</th>\n",
       "      <td>2010</td>\n",
       "      <td>Feb</td>\n",
       "      <td>15.8</td>\n",
       "      <td>Feb-2010</td>\n",
       "      <td>10.7</td>\n",
       "      <td>8.1</td>\n",
       "      <td>4.9</td>\n",
       "      <td>8.9</td>\n",
       "      <td>16.1</td>\n",
       "      <td>8.2</td>\n",
       "      <td>12.7</td>\n",
       "      <td>10.3</td>\n",
       "      <td>8.0</td>\n",
       "      <td>9.8</td>\n",
       "    </tr>\n",
       "    <tr>\n",
       "      <th>2</th>\n",
       "      <td>2010</td>\n",
       "      <td>Mar</td>\n",
       "      <td>14.9</td>\n",
       "      <td>Mar-2010</td>\n",
       "      <td>11.0</td>\n",
       "      <td>8.4</td>\n",
       "      <td>4.9</td>\n",
       "      <td>8.9</td>\n",
       "      <td>16.8</td>\n",
       "      <td>7.6</td>\n",
       "      <td>12.9</td>\n",
       "      <td>10.2</td>\n",
       "      <td>8.1</td>\n",
       "      <td>9.9</td>\n",
       "    </tr>\n",
       "    <tr>\n",
       "      <th>3</th>\n",
       "      <td>2010</td>\n",
       "      <td>Apr</td>\n",
       "      <td>14.7</td>\n",
       "      <td>Apr-2010</td>\n",
       "      <td>10.8</td>\n",
       "      <td>8.4</td>\n",
       "      <td>4.8</td>\n",
       "      <td>9.0</td>\n",
       "      <td>16.6</td>\n",
       "      <td>7.0</td>\n",
       "      <td>12.5</td>\n",
       "      <td>10.2</td>\n",
       "      <td>8.3</td>\n",
       "      <td>9.9</td>\n",
       "    </tr>\n",
       "    <tr>\n",
       "      <th>4</th>\n",
       "      <td>2010</td>\n",
       "      <td>May</td>\n",
       "      <td>14.6</td>\n",
       "      <td>May-2010</td>\n",
       "      <td>10.9</td>\n",
       "      <td>8.2</td>\n",
       "      <td>4.6</td>\n",
       "      <td>8.7</td>\n",
       "      <td>15.5</td>\n",
       "      <td>7.8</td>\n",
       "      <td>12.0</td>\n",
       "      <td>9.7</td>\n",
       "      <td>8.1</td>\n",
       "      <td>9.6</td>\n",
       "    </tr>\n",
       "    <tr>\n",
       "      <th>...</th>\n",
       "      <td>...</td>\n",
       "      <td>...</td>\n",
       "      <td>...</td>\n",
       "      <td>...</td>\n",
       "      <td>...</td>\n",
       "      <td>...</td>\n",
       "      <td>...</td>\n",
       "      <td>...</td>\n",
       "      <td>...</td>\n",
       "      <td>...</td>\n",
       "      <td>...</td>\n",
       "      <td>...</td>\n",
       "      <td>...</td>\n",
       "      <td>...</td>\n",
       "    </tr>\n",
       "    <tr>\n",
       "      <th>127</th>\n",
       "      <td>2020</td>\n",
       "      <td>Aug</td>\n",
       "      <td>NaN</td>\n",
       "      <td>NaN</td>\n",
       "      <td>NaN</td>\n",
       "      <td>NaN</td>\n",
       "      <td>NaN</td>\n",
       "      <td>NaN</td>\n",
       "      <td>NaN</td>\n",
       "      <td>NaN</td>\n",
       "      <td>NaN</td>\n",
       "      <td>NaN</td>\n",
       "      <td>NaN</td>\n",
       "      <td>8.4</td>\n",
       "    </tr>\n",
       "    <tr>\n",
       "      <th>128</th>\n",
       "      <td>2020</td>\n",
       "      <td>Sep</td>\n",
       "      <td>NaN</td>\n",
       "      <td>NaN</td>\n",
       "      <td>NaN</td>\n",
       "      <td>NaN</td>\n",
       "      <td>NaN</td>\n",
       "      <td>NaN</td>\n",
       "      <td>NaN</td>\n",
       "      <td>NaN</td>\n",
       "      <td>NaN</td>\n",
       "      <td>NaN</td>\n",
       "      <td>NaN</td>\n",
       "      <td>7.8</td>\n",
       "    </tr>\n",
       "    <tr>\n",
       "      <th>129</th>\n",
       "      <td>2020</td>\n",
       "      <td>Oct</td>\n",
       "      <td>NaN</td>\n",
       "      <td>NaN</td>\n",
       "      <td>NaN</td>\n",
       "      <td>NaN</td>\n",
       "      <td>NaN</td>\n",
       "      <td>NaN</td>\n",
       "      <td>NaN</td>\n",
       "      <td>NaN</td>\n",
       "      <td>NaN</td>\n",
       "      <td>NaN</td>\n",
       "      <td>NaN</td>\n",
       "      <td>6.9</td>\n",
       "    </tr>\n",
       "    <tr>\n",
       "      <th>130</th>\n",
       "      <td>2020</td>\n",
       "      <td>Nov</td>\n",
       "      <td>NaN</td>\n",
       "      <td>NaN</td>\n",
       "      <td>NaN</td>\n",
       "      <td>NaN</td>\n",
       "      <td>NaN</td>\n",
       "      <td>NaN</td>\n",
       "      <td>NaN</td>\n",
       "      <td>NaN</td>\n",
       "      <td>NaN</td>\n",
       "      <td>NaN</td>\n",
       "      <td>NaN</td>\n",
       "      <td>6.7</td>\n",
       "    </tr>\n",
       "    <tr>\n",
       "      <th>131</th>\n",
       "      <td>2020</td>\n",
       "      <td>Dec</td>\n",
       "      <td>NaN</td>\n",
       "      <td>NaN</td>\n",
       "      <td>NaN</td>\n",
       "      <td>NaN</td>\n",
       "      <td>NaN</td>\n",
       "      <td>NaN</td>\n",
       "      <td>NaN</td>\n",
       "      <td>NaN</td>\n",
       "      <td>NaN</td>\n",
       "      <td>NaN</td>\n",
       "      <td>NaN</td>\n",
       "      <td>6.7</td>\n",
       "    </tr>\n",
       "  </tbody>\n",
       "</table>\n",
       "<p>132 rows × 14 columns</p>\n",
       "</div>"
      ],
      "text/plain": [
       "     Year Month  Primary_School      Date  High_School  Associates_Degree  \\\n",
       "0    2010   Jan            15.3  Jan-2010         10.2                8.6   \n",
       "1    2010   Feb            15.8  Feb-2010         10.7                8.1   \n",
       "2    2010   Mar            14.9  Mar-2010         11.0                8.4   \n",
       "3    2010   Apr            14.7  Apr-2010         10.8                8.4   \n",
       "4    2010   May            14.6  May-2010         10.9                8.2   \n",
       "..    ...   ...             ...       ...          ...                ...   \n",
       "127  2020   Aug             NaN       NaN          NaN                NaN   \n",
       "128  2020   Sep             NaN       NaN          NaN                NaN   \n",
       "129  2020   Oct             NaN       NaN          NaN                NaN   \n",
       "130  2020   Nov             NaN       NaN          NaN                NaN   \n",
       "131  2020   Dec             NaN       NaN          NaN                NaN   \n",
       "\n",
       "     Professional_Degree  White  Black  Asian  Hispanic   Men  Women  Value  \n",
       "0                    4.9    8.8   16.5    8.3      12.9  10.2    7.9    9.8  \n",
       "1                    4.9    8.9   16.1    8.2      12.7  10.3    8.0    9.8  \n",
       "2                    4.9    8.9   16.8    7.6      12.9  10.2    8.1    9.9  \n",
       "3                    4.8    9.0   16.6    7.0      12.5  10.2    8.3    9.9  \n",
       "4                    4.6    8.7   15.5    7.8      12.0   9.7    8.1    9.6  \n",
       "..                   ...    ...    ...    ...       ...   ...    ...    ...  \n",
       "127                  NaN    NaN    NaN    NaN       NaN   NaN    NaN    8.4  \n",
       "128                  NaN    NaN    NaN    NaN       NaN   NaN    NaN    7.8  \n",
       "129                  NaN    NaN    NaN    NaN       NaN   NaN    NaN    6.9  \n",
       "130                  NaN    NaN    NaN    NaN       NaN   NaN    NaN    6.7  \n",
       "131                  NaN    NaN    NaN    NaN       NaN   NaN    NaN    6.7  \n",
       "\n",
       "[132 rows x 14 columns]"
      ]
     },
     "execution_count": 119,
     "metadata": {},
     "output_type": "execute_result"
    }
   ],
   "source": [
    "unemployment"
   ]
  },
  {
   "cell_type": "markdown",
   "metadata": {},
   "source": [
    "<p style=\"color:blue\">The unemployment dataframe now contains the general unemployment rate along with the categorized unemployment rate. No categorized rate is available for the period ranging from April 2020 to December 2020, but the overall unemployment rate for that period is available.</p>"
   ]
  },
  {
   "cell_type": "markdown",
   "metadata": {},
   "source": [
    "## Combining datasets"
   ]
  },
  {
   "cell_type": "code",
   "execution_count": 120,
   "metadata": {},
   "outputs": [
    {
     "data": {
      "text/html": [
       "<div>\n",
       "<style scoped>\n",
       "    .dataframe tbody tr th:only-of-type {\n",
       "        vertical-align: middle;\n",
       "    }\n",
       "\n",
       "    .dataframe tbody tr th {\n",
       "        vertical-align: top;\n",
       "    }\n",
       "\n",
       "    .dataframe thead th {\n",
       "        text-align: right;\n",
       "    }\n",
       "</style>\n",
       "<table border=\"1\" class=\"dataframe\">\n",
       "  <thead>\n",
       "    <tr style=\"text-align: right;\">\n",
       "      <th></th>\n",
       "      <th>budget</th>\n",
       "      <th>genres</th>\n",
       "      <th>id</th>\n",
       "      <th>release_date</th>\n",
       "      <th>revenue</th>\n",
       "      <th>title</th>\n",
       "      <th>vote_average</th>\n",
       "      <th>vote_count</th>\n",
       "    </tr>\n",
       "  </thead>\n",
       "  <tbody>\n",
       "    <tr>\n",
       "      <th>0</th>\n",
       "      <td>30000000</td>\n",
       "      <td>[{'id': 16, 'name': 'Animation'}, {'id': 35, '...</td>\n",
       "      <td>862</td>\n",
       "      <td>1995-10-30</td>\n",
       "      <td>373554033.0</td>\n",
       "      <td>Toy Story</td>\n",
       "      <td>7.7</td>\n",
       "      <td>5415.0</td>\n",
       "    </tr>\n",
       "    <tr>\n",
       "      <th>1</th>\n",
       "      <td>65000000</td>\n",
       "      <td>[{'id': 12, 'name': 'Adventure'}, {'id': 14, '...</td>\n",
       "      <td>8844</td>\n",
       "      <td>1995-12-15</td>\n",
       "      <td>262797249.0</td>\n",
       "      <td>Jumanji</td>\n",
       "      <td>6.9</td>\n",
       "      <td>2413.0</td>\n",
       "    </tr>\n",
       "    <tr>\n",
       "      <th>5</th>\n",
       "      <td>60000000</td>\n",
       "      <td>[{'id': 28, 'name': 'Action'}, {'id': 80, 'nam...</td>\n",
       "      <td>949</td>\n",
       "      <td>1995-12-15</td>\n",
       "      <td>187436818.0</td>\n",
       "      <td>Heat</td>\n",
       "      <td>7.7</td>\n",
       "      <td>1886.0</td>\n",
       "    </tr>\n",
       "    <tr>\n",
       "      <th>9</th>\n",
       "      <td>58000000</td>\n",
       "      <td>[{'id': 12, 'name': 'Adventure'}, {'id': 28, '...</td>\n",
       "      <td>710</td>\n",
       "      <td>1995-11-16</td>\n",
       "      <td>352194034.0</td>\n",
       "      <td>GoldenEye</td>\n",
       "      <td>6.6</td>\n",
       "      <td>1194.0</td>\n",
       "    </tr>\n",
       "    <tr>\n",
       "      <th>14</th>\n",
       "      <td>98000000</td>\n",
       "      <td>[{'id': 28, 'name': 'Action'}, {'id': 12, 'nam...</td>\n",
       "      <td>1408</td>\n",
       "      <td>1995-12-22</td>\n",
       "      <td>10017322.0</td>\n",
       "      <td>Cutthroat Island</td>\n",
       "      <td>5.7</td>\n",
       "      <td>137.0</td>\n",
       "    </tr>\n",
       "    <tr>\n",
       "      <th>...</th>\n",
       "      <td>...</td>\n",
       "      <td>...</td>\n",
       "      <td>...</td>\n",
       "      <td>...</td>\n",
       "      <td>...</td>\n",
       "      <td>...</td>\n",
       "      <td>...</td>\n",
       "      <td>...</td>\n",
       "    </tr>\n",
       "    <tr>\n",
       "      <th>44140</th>\n",
       "      <td>3000000</td>\n",
       "      <td>[{'id': 35, 'name': 'Comedy'}]</td>\n",
       "      <td>52891</td>\n",
       "      <td>2008-09-18</td>\n",
       "      <td>9713500.0</td>\n",
       "      <td>Hitler's Kaput!</td>\n",
       "      <td>3.6</td>\n",
       "      <td>7.0</td>\n",
       "    </tr>\n",
       "    <tr>\n",
       "      <th>44580</th>\n",
       "      <td>5300000</td>\n",
       "      <td>[{'id': 28, 'name': 'Action'}, {'id': 18, 'nam...</td>\n",
       "      <td>8453</td>\n",
       "      <td>2006-05-26</td>\n",
       "      <td>22175908.0</td>\n",
       "      <td>Fanaa</td>\n",
       "      <td>6.7</td>\n",
       "      <td>53.0</td>\n",
       "    </tr>\n",
       "    <tr>\n",
       "      <th>44848</th>\n",
       "      <td>2000000</td>\n",
       "      <td>[{'id': 35, 'name': 'Comedy'}, {'id': 18, 'nam...</td>\n",
       "      <td>159447</td>\n",
       "      <td>2012-12-27</td>\n",
       "      <td>11666088.0</td>\n",
       "      <td>Mommies, Happy New Year!</td>\n",
       "      <td>5.3</td>\n",
       "      <td>9.0</td>\n",
       "    </tr>\n",
       "    <tr>\n",
       "      <th>44850</th>\n",
       "      <td>2000000</td>\n",
       "      <td>[{'id': 35, 'name': 'Comedy'}]</td>\n",
       "      <td>75438</td>\n",
       "      <td>2011-07-21</td>\n",
       "      <td>8000000.0</td>\n",
       "      <td>Pregnant</td>\n",
       "      <td>3.1</td>\n",
       "      <td>7.0</td>\n",
       "    </tr>\n",
       "    <tr>\n",
       "      <th>44970</th>\n",
       "      <td>2196531</td>\n",
       "      <td>[{'id': 35, 'name': 'Comedy'}, {'id': 10749, '...</td>\n",
       "      <td>26147</td>\n",
       "      <td>2005-12-30</td>\n",
       "      <td>2411594.0</td>\n",
       "      <td>FC Venus</td>\n",
       "      <td>5.6</td>\n",
       "      <td>10.0</td>\n",
       "    </tr>\n",
       "  </tbody>\n",
       "</table>\n",
       "<p>1575 rows × 8 columns</p>\n",
       "</div>"
      ],
      "text/plain": [
       "         budget                                             genres      id  \\\n",
       "0      30000000  [{'id': 16, 'name': 'Animation'}, {'id': 35, '...     862   \n",
       "1      65000000  [{'id': 12, 'name': 'Adventure'}, {'id': 14, '...    8844   \n",
       "5      60000000  [{'id': 28, 'name': 'Action'}, {'id': 80, 'nam...     949   \n",
       "9      58000000  [{'id': 12, 'name': 'Adventure'}, {'id': 28, '...     710   \n",
       "14     98000000  [{'id': 28, 'name': 'Action'}, {'id': 12, 'nam...    1408   \n",
       "...         ...                                                ...     ...   \n",
       "44140   3000000                     [{'id': 35, 'name': 'Comedy'}]   52891   \n",
       "44580   5300000  [{'id': 28, 'name': 'Action'}, {'id': 18, 'nam...    8453   \n",
       "44848   2000000  [{'id': 35, 'name': 'Comedy'}, {'id': 18, 'nam...  159447   \n",
       "44850   2000000                     [{'id': 35, 'name': 'Comedy'}]   75438   \n",
       "44970   2196531  [{'id': 35, 'name': 'Comedy'}, {'id': 10749, '...   26147   \n",
       "\n",
       "      release_date      revenue                     title  vote_average  \\\n",
       "0       1995-10-30  373554033.0                 Toy Story           7.7   \n",
       "1       1995-12-15  262797249.0                   Jumanji           6.9   \n",
       "5       1995-12-15  187436818.0                      Heat           7.7   \n",
       "9       1995-11-16  352194034.0                 GoldenEye           6.6   \n",
       "14      1995-12-22   10017322.0          Cutthroat Island           5.7   \n",
       "...            ...          ...                       ...           ...   \n",
       "44140   2008-09-18    9713500.0           Hitler's Kaput!           3.6   \n",
       "44580   2006-05-26   22175908.0                     Fanaa           6.7   \n",
       "44848   2012-12-27   11666088.0  Mommies, Happy New Year!           5.3   \n",
       "44850   2011-07-21    8000000.0                  Pregnant           3.1   \n",
       "44970   2005-12-30    2411594.0                  FC Venus           5.6   \n",
       "\n",
       "       vote_count  \n",
       "0          5415.0  \n",
       "1          2413.0  \n",
       "5          1886.0  \n",
       "9          1194.0  \n",
       "14          137.0  \n",
       "...           ...  \n",
       "44140         7.0  \n",
       "44580        53.0  \n",
       "44848         9.0  \n",
       "44850         7.0  \n",
       "44970        10.0  \n",
       "\n",
       "[1575 rows x 8 columns]"
      ]
     },
     "execution_count": 120,
     "metadata": {},
     "output_type": "execute_result"
    }
   ],
   "source": [
    "# the release dates of the movies will have to correspond to the same period\n",
    "# display the movies dataframe\n",
    "movies"
   ]
  },
  {
   "cell_type": "code",
   "execution_count": 121,
   "metadata": {},
   "outputs": [],
   "source": [
    "# the unemployment rate statistics range from 2010 to 2020\n",
    "# delete all movie entries outside this period\n",
    "movies = movies[(movies['release_date'] >= '2010-01-01') & (movies['release_date'] <= '2020-12-31')]"
   ]
  },
  {
   "cell_type": "code",
   "execution_count": 122,
   "metadata": {},
   "outputs": [
    {
     "data": {
      "text/html": [
       "<div>\n",
       "<style scoped>\n",
       "    .dataframe tbody tr th:only-of-type {\n",
       "        vertical-align: middle;\n",
       "    }\n",
       "\n",
       "    .dataframe tbody tr th {\n",
       "        vertical-align: top;\n",
       "    }\n",
       "\n",
       "    .dataframe thead th {\n",
       "        text-align: right;\n",
       "    }\n",
       "</style>\n",
       "<table border=\"1\" class=\"dataframe\">\n",
       "  <thead>\n",
       "    <tr style=\"text-align: right;\">\n",
       "      <th></th>\n",
       "      <th>budget</th>\n",
       "      <th>genres</th>\n",
       "      <th>id</th>\n",
       "      <th>release_date</th>\n",
       "      <th>revenue</th>\n",
       "      <th>title</th>\n",
       "      <th>vote_average</th>\n",
       "      <th>vote_count</th>\n",
       "    </tr>\n",
       "  </thead>\n",
       "  <tbody>\n",
       "    <tr>\n",
       "      <th>14841</th>\n",
       "      <td>95000000</td>\n",
       "      <td>[{'id': 12, 'name': 'Adventure'}, {'id': 14, '...</td>\n",
       "      <td>32657</td>\n",
       "      <td>2010-02-01</td>\n",
       "      <td>226497209.0</td>\n",
       "      <td>Percy Jackson &amp; the Olympians: The Lightning T...</td>\n",
       "      <td>6.0</td>\n",
       "      <td>2079.0</td>\n",
       "    </tr>\n",
       "    <tr>\n",
       "      <th>14891</th>\n",
       "      <td>12000000</td>\n",
       "      <td>[{'id': 18, 'name': 'Drama'}, {'id': 10749, 'n...</td>\n",
       "      <td>26022</td>\n",
       "      <td>2010-02-12</td>\n",
       "      <td>42345360.0</td>\n",
       "      <td>My Name Is Khan</td>\n",
       "      <td>7.7</td>\n",
       "      <td>237.0</td>\n",
       "    </tr>\n",
       "    <tr>\n",
       "      <th>14899</th>\n",
       "      <td>52000000</td>\n",
       "      <td>[{'id': 28, 'name': 'Action'}, {'id': 80, 'nam...</td>\n",
       "      <td>26389</td>\n",
       "      <td>2010-02-05</td>\n",
       "      <td>52826594.0</td>\n",
       "      <td>From Paris with Love</td>\n",
       "      <td>6.2</td>\n",
       "      <td>684.0</td>\n",
       "    </tr>\n",
       "    <tr>\n",
       "      <th>14910</th>\n",
       "      <td>20000000</td>\n",
       "      <td>[{'id': 35, 'name': 'Comedy'}, {'id': 10749, '...</td>\n",
       "      <td>34016</td>\n",
       "      <td>2010-03-11</td>\n",
       "      <td>49779728.0</td>\n",
       "      <td>She's Out of My League</td>\n",
       "      <td>5.9</td>\n",
       "      <td>544.0</td>\n",
       "    </tr>\n",
       "    <tr>\n",
       "      <th>14943</th>\n",
       "      <td>40000000</td>\n",
       "      <td>[{'id': 28, 'name': 'Action'}]</td>\n",
       "      <td>27573</td>\n",
       "      <td>2010-03-16</td>\n",
       "      <td>136000000.0</td>\n",
       "      <td>The Bounty Hunter</td>\n",
       "      <td>5.6</td>\n",
       "      <td>878.0</td>\n",
       "    </tr>\n",
       "    <tr>\n",
       "      <th>...</th>\n",
       "      <td>...</td>\n",
       "      <td>...</td>\n",
       "      <td>...</td>\n",
       "      <td>...</td>\n",
       "      <td>...</td>\n",
       "      <td>...</td>\n",
       "      <td>...</td>\n",
       "      <td>...</td>\n",
       "    </tr>\n",
       "    <tr>\n",
       "      <th>41511</th>\n",
       "      <td>11178</td>\n",
       "      <td>[{'id': 35, 'name': 'Comedy'}, {'id': 18, 'nam...</td>\n",
       "      <td>121173</td>\n",
       "      <td>2012-09-05</td>\n",
       "      <td>34659.0</td>\n",
       "      <td>Voracious</td>\n",
       "      <td>8.0</td>\n",
       "      <td>1.0</td>\n",
       "    </tr>\n",
       "    <tr>\n",
       "      <th>42271</th>\n",
       "      <td>40000000</td>\n",
       "      <td>[{'id': 28, 'name': 'Action'}, {'id': 27, 'nam...</td>\n",
       "      <td>173897</td>\n",
       "      <td>2016-12-23</td>\n",
       "      <td>312242626.0</td>\n",
       "      <td>Resident Evil: The Final Chapter</td>\n",
       "      <td>5.9</td>\n",
       "      <td>1139.0</td>\n",
       "    </tr>\n",
       "    <tr>\n",
       "      <th>44092</th>\n",
       "      <td>6000000</td>\n",
       "      <td>[{'id': 28, 'name': 'Action'}, {'id': 53, 'nam...</td>\n",
       "      <td>102197</td>\n",
       "      <td>2012-04-05</td>\n",
       "      <td>4588176.0</td>\n",
       "      <td>The Spy</td>\n",
       "      <td>4.6</td>\n",
       "      <td>10.0</td>\n",
       "    </tr>\n",
       "    <tr>\n",
       "      <th>44848</th>\n",
       "      <td>2000000</td>\n",
       "      <td>[{'id': 35, 'name': 'Comedy'}, {'id': 18, 'nam...</td>\n",
       "      <td>159447</td>\n",
       "      <td>2012-12-27</td>\n",
       "      <td>11666088.0</td>\n",
       "      <td>Mommies, Happy New Year!</td>\n",
       "      <td>5.3</td>\n",
       "      <td>9.0</td>\n",
       "    </tr>\n",
       "    <tr>\n",
       "      <th>44850</th>\n",
       "      <td>2000000</td>\n",
       "      <td>[{'id': 35, 'name': 'Comedy'}]</td>\n",
       "      <td>75438</td>\n",
       "      <td>2011-07-21</td>\n",
       "      <td>8000000.0</td>\n",
       "      <td>Pregnant</td>\n",
       "      <td>3.1</td>\n",
       "      <td>7.0</td>\n",
       "    </tr>\n",
       "  </tbody>\n",
       "</table>\n",
       "<p>175 rows × 8 columns</p>\n",
       "</div>"
      ],
      "text/plain": [
       "         budget                                             genres      id  \\\n",
       "14841  95000000  [{'id': 12, 'name': 'Adventure'}, {'id': 14, '...   32657   \n",
       "14891  12000000  [{'id': 18, 'name': 'Drama'}, {'id': 10749, 'n...   26022   \n",
       "14899  52000000  [{'id': 28, 'name': 'Action'}, {'id': 80, 'nam...   26389   \n",
       "14910  20000000  [{'id': 35, 'name': 'Comedy'}, {'id': 10749, '...   34016   \n",
       "14943  40000000                     [{'id': 28, 'name': 'Action'}]   27573   \n",
       "...         ...                                                ...     ...   \n",
       "41511     11178  [{'id': 35, 'name': 'Comedy'}, {'id': 18, 'nam...  121173   \n",
       "42271  40000000  [{'id': 28, 'name': 'Action'}, {'id': 27, 'nam...  173897   \n",
       "44092   6000000  [{'id': 28, 'name': 'Action'}, {'id': 53, 'nam...  102197   \n",
       "44848   2000000  [{'id': 35, 'name': 'Comedy'}, {'id': 18, 'nam...  159447   \n",
       "44850   2000000                     [{'id': 35, 'name': 'Comedy'}]   75438   \n",
       "\n",
       "      release_date      revenue  \\\n",
       "14841   2010-02-01  226497209.0   \n",
       "14891   2010-02-12   42345360.0   \n",
       "14899   2010-02-05   52826594.0   \n",
       "14910   2010-03-11   49779728.0   \n",
       "14943   2010-03-16  136000000.0   \n",
       "...            ...          ...   \n",
       "41511   2012-09-05      34659.0   \n",
       "42271   2016-12-23  312242626.0   \n",
       "44092   2012-04-05    4588176.0   \n",
       "44848   2012-12-27   11666088.0   \n",
       "44850   2011-07-21    8000000.0   \n",
       "\n",
       "                                                   title  vote_average  \\\n",
       "14841  Percy Jackson & the Olympians: The Lightning T...           6.0   \n",
       "14891                                    My Name Is Khan           7.7   \n",
       "14899                               From Paris with Love           6.2   \n",
       "14910                             She's Out of My League           5.9   \n",
       "14943                                  The Bounty Hunter           5.6   \n",
       "...                                                  ...           ...   \n",
       "41511                                          Voracious           8.0   \n",
       "42271                   Resident Evil: The Final Chapter           5.9   \n",
       "44092                                            The Spy           4.6   \n",
       "44848                           Mommies, Happy New Year!           5.3   \n",
       "44850                                           Pregnant           3.1   \n",
       "\n",
       "       vote_count  \n",
       "14841      2079.0  \n",
       "14891       237.0  \n",
       "14899       684.0  \n",
       "14910       544.0  \n",
       "14943       878.0  \n",
       "...           ...  \n",
       "41511         1.0  \n",
       "42271      1139.0  \n",
       "44092        10.0  \n",
       "44848         9.0  \n",
       "44850         7.0  \n",
       "\n",
       "[175 rows x 8 columns]"
      ]
     },
     "execution_count": 122,
     "metadata": {},
     "output_type": "execute_result"
    }
   ],
   "source": [
    "# display the movies dataframe\n",
    "movies"
   ]
  },
  {
   "cell_type": "markdown",
   "metadata": {},
   "source": [
    "<p style=\"color:blue\">Finally, we are left with <b>232 movie entries</b> to work with.</p>\n",
    "<p style=\"color:blue\">As movies were removed, adjust the ratings dataset accordingly.</p>"
   ]
  },
  {
   "cell_type": "code",
   "execution_count": 123,
   "metadata": {},
   "outputs": [],
   "source": [
    "# remove all the ratings for the movies that were outside the range\n",
    "ratings = ratings[ratings['movieId'].isin(movies['id'])]"
   ]
  },
  {
   "cell_type": "code",
   "execution_count": 124,
   "metadata": {},
   "outputs": [
    {
     "data": {
      "text/html": [
       "<div>\n",
       "<style scoped>\n",
       "    .dataframe tbody tr th:only-of-type {\n",
       "        vertical-align: middle;\n",
       "    }\n",
       "\n",
       "    .dataframe tbody tr th {\n",
       "        vertical-align: top;\n",
       "    }\n",
       "\n",
       "    .dataframe thead th {\n",
       "        text-align: right;\n",
       "    }\n",
       "</style>\n",
       "<table border=\"1\" class=\"dataframe\">\n",
       "  <thead>\n",
       "    <tr style=\"text-align: right;\">\n",
       "      <th></th>\n",
       "      <th>userId</th>\n",
       "      <th>movieId</th>\n",
       "      <th>rating</th>\n",
       "      <th>timestamp</th>\n",
       "      <th>rating_date</th>\n",
       "    </tr>\n",
       "  </thead>\n",
       "  <tbody>\n",
       "    <tr>\n",
       "      <th>520</th>\n",
       "      <td>11</td>\n",
       "      <td>49530</td>\n",
       "      <td>3.5</td>\n",
       "      <td>1231676692</td>\n",
       "      <td>2009-01-11 06:24:52</td>\n",
       "    </tr>\n",
       "    <tr>\n",
       "      <th>524</th>\n",
       "      <td>11</td>\n",
       "      <td>50601</td>\n",
       "      <td>2.5</td>\n",
       "      <td>1231678930</td>\n",
       "      <td>2009-01-11 07:02:10</td>\n",
       "    </tr>\n",
       "    <tr>\n",
       "      <th>533</th>\n",
       "      <td>11</td>\n",
       "      <td>51540</td>\n",
       "      <td>4.0</td>\n",
       "      <td>1231676507</td>\n",
       "      <td>2009-01-11 06:21:47</td>\n",
       "    </tr>\n",
       "    <tr>\n",
       "      <th>1082</th>\n",
       "      <td>15</td>\n",
       "      <td>49530</td>\n",
       "      <td>3.5</td>\n",
       "      <td>1346002547</td>\n",
       "      <td>2012-08-26 12:35:47</td>\n",
       "    </tr>\n",
       "    <tr>\n",
       "      <th>2481</th>\n",
       "      <td>28</td>\n",
       "      <td>43930</td>\n",
       "      <td>2.5</td>\n",
       "      <td>1392410062</td>\n",
       "      <td>2014-02-14 14:34:22</td>\n",
       "    </tr>\n",
       "    <tr>\n",
       "      <th>...</th>\n",
       "      <td>...</td>\n",
       "      <td>...</td>\n",
       "      <td>...</td>\n",
       "      <td>...</td>\n",
       "      <td>...</td>\n",
       "    </tr>\n",
       "    <tr>\n",
       "      <th>26023129</th>\n",
       "      <td>270887</td>\n",
       "      <td>115210</td>\n",
       "      <td>5.0</td>\n",
       "      <td>1463271741</td>\n",
       "      <td>2016-05-14 19:22:21</td>\n",
       "    </tr>\n",
       "    <tr>\n",
       "      <th>26023155</th>\n",
       "      <td>270887</td>\n",
       "      <td>116977</td>\n",
       "      <td>1.0</td>\n",
       "      <td>1463853931</td>\n",
       "      <td>2016-05-21 13:05:31</td>\n",
       "    </tr>\n",
       "    <tr>\n",
       "      <th>26023754</th>\n",
       "      <td>270893</td>\n",
       "      <td>1771</td>\n",
       "      <td>1.0</td>\n",
       "      <td>992417726</td>\n",
       "      <td>2001-06-13 02:35:26</td>\n",
       "    </tr>\n",
       "    <tr>\n",
       "      <th>26023970</th>\n",
       "      <td>270894</td>\n",
       "      <td>49530</td>\n",
       "      <td>1.5</td>\n",
       "      <td>1419820513</td>\n",
       "      <td>2014-12-28 20:35:13</td>\n",
       "    </tr>\n",
       "    <tr>\n",
       "      <th>26024271</th>\n",
       "      <td>270896</td>\n",
       "      <td>49530</td>\n",
       "      <td>4.0</td>\n",
       "      <td>1257034436</td>\n",
       "      <td>2009-10-31 19:13:56</td>\n",
       "    </tr>\n",
       "  </tbody>\n",
       "</table>\n",
       "<p>59770 rows × 5 columns</p>\n",
       "</div>"
      ],
      "text/plain": [
       "          userId  movieId  rating   timestamp         rating_date\n",
       "520           11    49530     3.5  1231676692 2009-01-11 06:24:52\n",
       "524           11    50601     2.5  1231678930 2009-01-11 07:02:10\n",
       "533           11    51540     4.0  1231676507 2009-01-11 06:21:47\n",
       "1082          15    49530     3.5  1346002547 2012-08-26 12:35:47\n",
       "2481          28    43930     2.5  1392410062 2014-02-14 14:34:22\n",
       "...          ...      ...     ...         ...                 ...\n",
       "26023129  270887   115210     5.0  1463271741 2016-05-14 19:22:21\n",
       "26023155  270887   116977     1.0  1463853931 2016-05-21 13:05:31\n",
       "26023754  270893     1771     1.0   992417726 2001-06-13 02:35:26\n",
       "26023970  270894    49530     1.5  1419820513 2014-12-28 20:35:13\n",
       "26024271  270896    49530     4.0  1257034436 2009-10-31 19:13:56\n",
       "\n",
       "[59770 rows x 5 columns]"
      ]
     },
     "execution_count": 124,
     "metadata": {},
     "output_type": "execute_result"
    }
   ],
   "source": [
    "# display the ratings dataframe\n",
    "ratings"
   ]
  },
  {
   "cell_type": "markdown",
   "metadata": {},
   "source": [
    "<p style=\"color:blue\">The final result is <b>61,387 ratings for 232 movies.</b></p>"
   ]
  },
  {
   "cell_type": "code",
   "execution_count": 125,
   "metadata": {},
   "outputs": [],
   "source": [
    "# create a df with the data of interest\n",
    "df = pd.DataFrame(movies[['id','title','budget','genres','release_date','revenue','vote_average','vote_count']])"
   ]
  },
  {
   "cell_type": "code",
   "execution_count": 126,
   "metadata": {},
   "outputs": [
    {
     "data": {
      "text/html": [
       "<div>\n",
       "<style scoped>\n",
       "    .dataframe tbody tr th:only-of-type {\n",
       "        vertical-align: middle;\n",
       "    }\n",
       "\n",
       "    .dataframe tbody tr th {\n",
       "        vertical-align: top;\n",
       "    }\n",
       "\n",
       "    .dataframe thead th {\n",
       "        text-align: right;\n",
       "    }\n",
       "</style>\n",
       "<table border=\"1\" class=\"dataframe\">\n",
       "  <thead>\n",
       "    <tr style=\"text-align: right;\">\n",
       "      <th></th>\n",
       "      <th>id</th>\n",
       "      <th>title</th>\n",
       "      <th>budget</th>\n",
       "      <th>genres</th>\n",
       "      <th>release_date</th>\n",
       "      <th>revenue</th>\n",
       "      <th>vote_average</th>\n",
       "      <th>vote_count</th>\n",
       "    </tr>\n",
       "  </thead>\n",
       "  <tbody>\n",
       "    <tr>\n",
       "      <th>14841</th>\n",
       "      <td>32657</td>\n",
       "      <td>Percy Jackson &amp; the Olympians: The Lightning T...</td>\n",
       "      <td>95000000</td>\n",
       "      <td>[{'id': 12, 'name': 'Adventure'}, {'id': 14, '...</td>\n",
       "      <td>2010-02-01</td>\n",
       "      <td>226497209.0</td>\n",
       "      <td>6.0</td>\n",
       "      <td>2079.0</td>\n",
       "    </tr>\n",
       "    <tr>\n",
       "      <th>14891</th>\n",
       "      <td>26022</td>\n",
       "      <td>My Name Is Khan</td>\n",
       "      <td>12000000</td>\n",
       "      <td>[{'id': 18, 'name': 'Drama'}, {'id': 10749, 'n...</td>\n",
       "      <td>2010-02-12</td>\n",
       "      <td>42345360.0</td>\n",
       "      <td>7.7</td>\n",
       "      <td>237.0</td>\n",
       "    </tr>\n",
       "    <tr>\n",
       "      <th>14899</th>\n",
       "      <td>26389</td>\n",
       "      <td>From Paris with Love</td>\n",
       "      <td>52000000</td>\n",
       "      <td>[{'id': 28, 'name': 'Action'}, {'id': 80, 'nam...</td>\n",
       "      <td>2010-02-05</td>\n",
       "      <td>52826594.0</td>\n",
       "      <td>6.2</td>\n",
       "      <td>684.0</td>\n",
       "    </tr>\n",
       "    <tr>\n",
       "      <th>14910</th>\n",
       "      <td>34016</td>\n",
       "      <td>She's Out of My League</td>\n",
       "      <td>20000000</td>\n",
       "      <td>[{'id': 35, 'name': 'Comedy'}, {'id': 10749, '...</td>\n",
       "      <td>2010-03-11</td>\n",
       "      <td>49779728.0</td>\n",
       "      <td>5.9</td>\n",
       "      <td>544.0</td>\n",
       "    </tr>\n",
       "    <tr>\n",
       "      <th>14943</th>\n",
       "      <td>27573</td>\n",
       "      <td>The Bounty Hunter</td>\n",
       "      <td>40000000</td>\n",
       "      <td>[{'id': 28, 'name': 'Action'}]</td>\n",
       "      <td>2010-03-16</td>\n",
       "      <td>136000000.0</td>\n",
       "      <td>5.6</td>\n",
       "      <td>878.0</td>\n",
       "    </tr>\n",
       "    <tr>\n",
       "      <th>...</th>\n",
       "      <td>...</td>\n",
       "      <td>...</td>\n",
       "      <td>...</td>\n",
       "      <td>...</td>\n",
       "      <td>...</td>\n",
       "      <td>...</td>\n",
       "      <td>...</td>\n",
       "      <td>...</td>\n",
       "    </tr>\n",
       "    <tr>\n",
       "      <th>41511</th>\n",
       "      <td>121173</td>\n",
       "      <td>Voracious</td>\n",
       "      <td>11178</td>\n",
       "      <td>[{'id': 35, 'name': 'Comedy'}, {'id': 18, 'nam...</td>\n",
       "      <td>2012-09-05</td>\n",
       "      <td>34659.0</td>\n",
       "      <td>8.0</td>\n",
       "      <td>1.0</td>\n",
       "    </tr>\n",
       "    <tr>\n",
       "      <th>42271</th>\n",
       "      <td>173897</td>\n",
       "      <td>Resident Evil: The Final Chapter</td>\n",
       "      <td>40000000</td>\n",
       "      <td>[{'id': 28, 'name': 'Action'}, {'id': 27, 'nam...</td>\n",
       "      <td>2016-12-23</td>\n",
       "      <td>312242626.0</td>\n",
       "      <td>5.9</td>\n",
       "      <td>1139.0</td>\n",
       "    </tr>\n",
       "    <tr>\n",
       "      <th>44092</th>\n",
       "      <td>102197</td>\n",
       "      <td>The Spy</td>\n",
       "      <td>6000000</td>\n",
       "      <td>[{'id': 28, 'name': 'Action'}, {'id': 53, 'nam...</td>\n",
       "      <td>2012-04-05</td>\n",
       "      <td>4588176.0</td>\n",
       "      <td>4.6</td>\n",
       "      <td>10.0</td>\n",
       "    </tr>\n",
       "    <tr>\n",
       "      <th>44848</th>\n",
       "      <td>159447</td>\n",
       "      <td>Mommies, Happy New Year!</td>\n",
       "      <td>2000000</td>\n",
       "      <td>[{'id': 35, 'name': 'Comedy'}, {'id': 18, 'nam...</td>\n",
       "      <td>2012-12-27</td>\n",
       "      <td>11666088.0</td>\n",
       "      <td>5.3</td>\n",
       "      <td>9.0</td>\n",
       "    </tr>\n",
       "    <tr>\n",
       "      <th>44850</th>\n",
       "      <td>75438</td>\n",
       "      <td>Pregnant</td>\n",
       "      <td>2000000</td>\n",
       "      <td>[{'id': 35, 'name': 'Comedy'}]</td>\n",
       "      <td>2011-07-21</td>\n",
       "      <td>8000000.0</td>\n",
       "      <td>3.1</td>\n",
       "      <td>7.0</td>\n",
       "    </tr>\n",
       "  </tbody>\n",
       "</table>\n",
       "<p>175 rows × 8 columns</p>\n",
       "</div>"
      ],
      "text/plain": [
       "           id                                              title    budget  \\\n",
       "14841   32657  Percy Jackson & the Olympians: The Lightning T...  95000000   \n",
       "14891   26022                                    My Name Is Khan  12000000   \n",
       "14899   26389                               From Paris with Love  52000000   \n",
       "14910   34016                             She's Out of My League  20000000   \n",
       "14943   27573                                  The Bounty Hunter  40000000   \n",
       "...       ...                                                ...       ...   \n",
       "41511  121173                                          Voracious     11178   \n",
       "42271  173897                   Resident Evil: The Final Chapter  40000000   \n",
       "44092  102197                                            The Spy   6000000   \n",
       "44848  159447                           Mommies, Happy New Year!   2000000   \n",
       "44850   75438                                           Pregnant   2000000   \n",
       "\n",
       "                                                  genres release_date  \\\n",
       "14841  [{'id': 12, 'name': 'Adventure'}, {'id': 14, '...   2010-02-01   \n",
       "14891  [{'id': 18, 'name': 'Drama'}, {'id': 10749, 'n...   2010-02-12   \n",
       "14899  [{'id': 28, 'name': 'Action'}, {'id': 80, 'nam...   2010-02-05   \n",
       "14910  [{'id': 35, 'name': 'Comedy'}, {'id': 10749, '...   2010-03-11   \n",
       "14943                     [{'id': 28, 'name': 'Action'}]   2010-03-16   \n",
       "...                                                  ...          ...   \n",
       "41511  [{'id': 35, 'name': 'Comedy'}, {'id': 18, 'nam...   2012-09-05   \n",
       "42271  [{'id': 28, 'name': 'Action'}, {'id': 27, 'nam...   2016-12-23   \n",
       "44092  [{'id': 28, 'name': 'Action'}, {'id': 53, 'nam...   2012-04-05   \n",
       "44848  [{'id': 35, 'name': 'Comedy'}, {'id': 18, 'nam...   2012-12-27   \n",
       "44850                     [{'id': 35, 'name': 'Comedy'}]   2011-07-21   \n",
       "\n",
       "           revenue  vote_average  vote_count  \n",
       "14841  226497209.0           6.0      2079.0  \n",
       "14891   42345360.0           7.7       237.0  \n",
       "14899   52826594.0           6.2       684.0  \n",
       "14910   49779728.0           5.9       544.0  \n",
       "14943  136000000.0           5.6       878.0  \n",
       "...            ...           ...         ...  \n",
       "41511      34659.0           8.0         1.0  \n",
       "42271  312242626.0           5.9      1139.0  \n",
       "44092    4588176.0           4.6        10.0  \n",
       "44848   11666088.0           5.3         9.0  \n",
       "44850    8000000.0           3.1         7.0  \n",
       "\n",
       "[175 rows x 8 columns]"
      ]
     },
     "execution_count": 126,
     "metadata": {},
     "output_type": "execute_result"
    }
   ],
   "source": [
    "# display the dataframe\n",
    "df"
   ]
  },
  {
   "cell_type": "code",
   "execution_count": 127,
   "metadata": {},
   "outputs": [],
   "source": [
    "# add Year and Month columns to the dataframe\n",
    "df['Year'] = pd.DatetimeIndex(df['release_date']).year\n",
    "df['temp'] = pd.DatetimeIndex(df['release_date']).month\n",
    "\n",
    "conditions = [(df['temp']==1),(df['temp']==2),(df['temp']==3),(df['temp']==4),(df['temp']==5),(df['temp']==6),(df['temp']==7),(df['temp']==8),(df['temp']==9),(df['temp']==10),(df['temp']==11),(df['temp']==12)]\n",
    "values = ['Jan','Feb','Mar','Apr','May','Jun','Jul','Aug','Sep','Oct','Nov','Dec']\n",
    "\n",
    "df['Month'] = np.select(conditions, values)\n",
    "df.drop(['temp'], axis=1,inplace=True)"
   ]
  },
  {
   "cell_type": "code",
   "execution_count": 128,
   "metadata": {},
   "outputs": [
    {
     "data": {
      "text/html": [
       "<div>\n",
       "<style scoped>\n",
       "    .dataframe tbody tr th:only-of-type {\n",
       "        vertical-align: middle;\n",
       "    }\n",
       "\n",
       "    .dataframe tbody tr th {\n",
       "        vertical-align: top;\n",
       "    }\n",
       "\n",
       "    .dataframe thead th {\n",
       "        text-align: right;\n",
       "    }\n",
       "</style>\n",
       "<table border=\"1\" class=\"dataframe\">\n",
       "  <thead>\n",
       "    <tr style=\"text-align: right;\">\n",
       "      <th></th>\n",
       "      <th>id</th>\n",
       "      <th>title</th>\n",
       "      <th>budget</th>\n",
       "      <th>genres</th>\n",
       "      <th>release_date</th>\n",
       "      <th>revenue</th>\n",
       "      <th>vote_average</th>\n",
       "      <th>vote_count</th>\n",
       "      <th>Year</th>\n",
       "      <th>Month</th>\n",
       "    </tr>\n",
       "  </thead>\n",
       "  <tbody>\n",
       "    <tr>\n",
       "      <th>14841</th>\n",
       "      <td>32657</td>\n",
       "      <td>Percy Jackson &amp; the Olympians: The Lightning T...</td>\n",
       "      <td>95000000</td>\n",
       "      <td>[{'id': 12, 'name': 'Adventure'}, {'id': 14, '...</td>\n",
       "      <td>2010-02-01</td>\n",
       "      <td>226497209.0</td>\n",
       "      <td>6.0</td>\n",
       "      <td>2079.0</td>\n",
       "      <td>2010</td>\n",
       "      <td>Feb</td>\n",
       "    </tr>\n",
       "    <tr>\n",
       "      <th>14891</th>\n",
       "      <td>26022</td>\n",
       "      <td>My Name Is Khan</td>\n",
       "      <td>12000000</td>\n",
       "      <td>[{'id': 18, 'name': 'Drama'}, {'id': 10749, 'n...</td>\n",
       "      <td>2010-02-12</td>\n",
       "      <td>42345360.0</td>\n",
       "      <td>7.7</td>\n",
       "      <td>237.0</td>\n",
       "      <td>2010</td>\n",
       "      <td>Feb</td>\n",
       "    </tr>\n",
       "    <tr>\n",
       "      <th>14899</th>\n",
       "      <td>26389</td>\n",
       "      <td>From Paris with Love</td>\n",
       "      <td>52000000</td>\n",
       "      <td>[{'id': 28, 'name': 'Action'}, {'id': 80, 'nam...</td>\n",
       "      <td>2010-02-05</td>\n",
       "      <td>52826594.0</td>\n",
       "      <td>6.2</td>\n",
       "      <td>684.0</td>\n",
       "      <td>2010</td>\n",
       "      <td>Feb</td>\n",
       "    </tr>\n",
       "    <tr>\n",
       "      <th>14910</th>\n",
       "      <td>34016</td>\n",
       "      <td>She's Out of My League</td>\n",
       "      <td>20000000</td>\n",
       "      <td>[{'id': 35, 'name': 'Comedy'}, {'id': 10749, '...</td>\n",
       "      <td>2010-03-11</td>\n",
       "      <td>49779728.0</td>\n",
       "      <td>5.9</td>\n",
       "      <td>544.0</td>\n",
       "      <td>2010</td>\n",
       "      <td>Mar</td>\n",
       "    </tr>\n",
       "    <tr>\n",
       "      <th>14943</th>\n",
       "      <td>27573</td>\n",
       "      <td>The Bounty Hunter</td>\n",
       "      <td>40000000</td>\n",
       "      <td>[{'id': 28, 'name': 'Action'}]</td>\n",
       "      <td>2010-03-16</td>\n",
       "      <td>136000000.0</td>\n",
       "      <td>5.6</td>\n",
       "      <td>878.0</td>\n",
       "      <td>2010</td>\n",
       "      <td>Mar</td>\n",
       "    </tr>\n",
       "    <tr>\n",
       "      <th>...</th>\n",
       "      <td>...</td>\n",
       "      <td>...</td>\n",
       "      <td>...</td>\n",
       "      <td>...</td>\n",
       "      <td>...</td>\n",
       "      <td>...</td>\n",
       "      <td>...</td>\n",
       "      <td>...</td>\n",
       "      <td>...</td>\n",
       "      <td>...</td>\n",
       "    </tr>\n",
       "    <tr>\n",
       "      <th>41511</th>\n",
       "      <td>121173</td>\n",
       "      <td>Voracious</td>\n",
       "      <td>11178</td>\n",
       "      <td>[{'id': 35, 'name': 'Comedy'}, {'id': 18, 'nam...</td>\n",
       "      <td>2012-09-05</td>\n",
       "      <td>34659.0</td>\n",
       "      <td>8.0</td>\n",
       "      <td>1.0</td>\n",
       "      <td>2012</td>\n",
       "      <td>Sep</td>\n",
       "    </tr>\n",
       "    <tr>\n",
       "      <th>42271</th>\n",
       "      <td>173897</td>\n",
       "      <td>Resident Evil: The Final Chapter</td>\n",
       "      <td>40000000</td>\n",
       "      <td>[{'id': 28, 'name': 'Action'}, {'id': 27, 'nam...</td>\n",
       "      <td>2016-12-23</td>\n",
       "      <td>312242626.0</td>\n",
       "      <td>5.9</td>\n",
       "      <td>1139.0</td>\n",
       "      <td>2016</td>\n",
       "      <td>Dec</td>\n",
       "    </tr>\n",
       "    <tr>\n",
       "      <th>44092</th>\n",
       "      <td>102197</td>\n",
       "      <td>The Spy</td>\n",
       "      <td>6000000</td>\n",
       "      <td>[{'id': 28, 'name': 'Action'}, {'id': 53, 'nam...</td>\n",
       "      <td>2012-04-05</td>\n",
       "      <td>4588176.0</td>\n",
       "      <td>4.6</td>\n",
       "      <td>10.0</td>\n",
       "      <td>2012</td>\n",
       "      <td>Apr</td>\n",
       "    </tr>\n",
       "    <tr>\n",
       "      <th>44848</th>\n",
       "      <td>159447</td>\n",
       "      <td>Mommies, Happy New Year!</td>\n",
       "      <td>2000000</td>\n",
       "      <td>[{'id': 35, 'name': 'Comedy'}, {'id': 18, 'nam...</td>\n",
       "      <td>2012-12-27</td>\n",
       "      <td>11666088.0</td>\n",
       "      <td>5.3</td>\n",
       "      <td>9.0</td>\n",
       "      <td>2012</td>\n",
       "      <td>Dec</td>\n",
       "    </tr>\n",
       "    <tr>\n",
       "      <th>44850</th>\n",
       "      <td>75438</td>\n",
       "      <td>Pregnant</td>\n",
       "      <td>2000000</td>\n",
       "      <td>[{'id': 35, 'name': 'Comedy'}]</td>\n",
       "      <td>2011-07-21</td>\n",
       "      <td>8000000.0</td>\n",
       "      <td>3.1</td>\n",
       "      <td>7.0</td>\n",
       "      <td>2011</td>\n",
       "      <td>Jul</td>\n",
       "    </tr>\n",
       "  </tbody>\n",
       "</table>\n",
       "<p>175 rows × 10 columns</p>\n",
       "</div>"
      ],
      "text/plain": [
       "           id                                              title    budget  \\\n",
       "14841   32657  Percy Jackson & the Olympians: The Lightning T...  95000000   \n",
       "14891   26022                                    My Name Is Khan  12000000   \n",
       "14899   26389                               From Paris with Love  52000000   \n",
       "14910   34016                             She's Out of My League  20000000   \n",
       "14943   27573                                  The Bounty Hunter  40000000   \n",
       "...       ...                                                ...       ...   \n",
       "41511  121173                                          Voracious     11178   \n",
       "42271  173897                   Resident Evil: The Final Chapter  40000000   \n",
       "44092  102197                                            The Spy   6000000   \n",
       "44848  159447                           Mommies, Happy New Year!   2000000   \n",
       "44850   75438                                           Pregnant   2000000   \n",
       "\n",
       "                                                  genres release_date  \\\n",
       "14841  [{'id': 12, 'name': 'Adventure'}, {'id': 14, '...   2010-02-01   \n",
       "14891  [{'id': 18, 'name': 'Drama'}, {'id': 10749, 'n...   2010-02-12   \n",
       "14899  [{'id': 28, 'name': 'Action'}, {'id': 80, 'nam...   2010-02-05   \n",
       "14910  [{'id': 35, 'name': 'Comedy'}, {'id': 10749, '...   2010-03-11   \n",
       "14943                     [{'id': 28, 'name': 'Action'}]   2010-03-16   \n",
       "...                                                  ...          ...   \n",
       "41511  [{'id': 35, 'name': 'Comedy'}, {'id': 18, 'nam...   2012-09-05   \n",
       "42271  [{'id': 28, 'name': 'Action'}, {'id': 27, 'nam...   2016-12-23   \n",
       "44092  [{'id': 28, 'name': 'Action'}, {'id': 53, 'nam...   2012-04-05   \n",
       "44848  [{'id': 35, 'name': 'Comedy'}, {'id': 18, 'nam...   2012-12-27   \n",
       "44850                     [{'id': 35, 'name': 'Comedy'}]   2011-07-21   \n",
       "\n",
       "           revenue  vote_average  vote_count  Year Month  \n",
       "14841  226497209.0           6.0      2079.0  2010   Feb  \n",
       "14891   42345360.0           7.7       237.0  2010   Feb  \n",
       "14899   52826594.0           6.2       684.0  2010   Feb  \n",
       "14910   49779728.0           5.9       544.0  2010   Mar  \n",
       "14943  136000000.0           5.6       878.0  2010   Mar  \n",
       "...            ...           ...         ...   ...   ...  \n",
       "41511      34659.0           8.0         1.0  2012   Sep  \n",
       "42271  312242626.0           5.9      1139.0  2016   Dec  \n",
       "44092    4588176.0           4.6        10.0  2012   Apr  \n",
       "44848   11666088.0           5.3         9.0  2012   Dec  \n",
       "44850    8000000.0           3.1         7.0  2011   Jul  \n",
       "\n",
       "[175 rows x 10 columns]"
      ]
     },
     "execution_count": 128,
     "metadata": {},
     "output_type": "execute_result"
    }
   ],
   "source": [
    "df"
   ]
  },
  {
   "cell_type": "code",
   "execution_count": 129,
   "metadata": {},
   "outputs": [],
   "source": [
    "# now we can merge the resulting datframe with the unemployment data\n",
    "df = pd.merge(left=df, right=unemployment, how='left')\n",
    "df.drop(['Date'],axis=1, inplace=True)"
   ]
  },
  {
   "cell_type": "code",
   "execution_count": 130,
   "metadata": {},
   "outputs": [
    {
     "data": {
      "text/html": [
       "<div>\n",
       "<style scoped>\n",
       "    .dataframe tbody tr th:only-of-type {\n",
       "        vertical-align: middle;\n",
       "    }\n",
       "\n",
       "    .dataframe tbody tr th {\n",
       "        vertical-align: top;\n",
       "    }\n",
       "\n",
       "    .dataframe thead th {\n",
       "        text-align: right;\n",
       "    }\n",
       "</style>\n",
       "<table border=\"1\" class=\"dataframe\">\n",
       "  <thead>\n",
       "    <tr style=\"text-align: right;\">\n",
       "      <th></th>\n",
       "      <th>id</th>\n",
       "      <th>title</th>\n",
       "      <th>budget</th>\n",
       "      <th>genres</th>\n",
       "      <th>release_date</th>\n",
       "      <th>revenue</th>\n",
       "      <th>vote_average</th>\n",
       "      <th>vote_count</th>\n",
       "      <th>Year</th>\n",
       "      <th>Month</th>\n",
       "      <th>...</th>\n",
       "      <th>High_School</th>\n",
       "      <th>Associates_Degree</th>\n",
       "      <th>Professional_Degree</th>\n",
       "      <th>White</th>\n",
       "      <th>Black</th>\n",
       "      <th>Asian</th>\n",
       "      <th>Hispanic</th>\n",
       "      <th>Men</th>\n",
       "      <th>Women</th>\n",
       "      <th>Value</th>\n",
       "    </tr>\n",
       "  </thead>\n",
       "  <tbody>\n",
       "    <tr>\n",
       "      <th>0</th>\n",
       "      <td>32657</td>\n",
       "      <td>Percy Jackson &amp; the Olympians: The Lightning T...</td>\n",
       "      <td>95000000</td>\n",
       "      <td>[{'id': 12, 'name': 'Adventure'}, {'id': 14, '...</td>\n",
       "      <td>2010-02-01</td>\n",
       "      <td>226497209.0</td>\n",
       "      <td>6.0</td>\n",
       "      <td>2079.0</td>\n",
       "      <td>2010</td>\n",
       "      <td>Feb</td>\n",
       "      <td>...</td>\n",
       "      <td>10.7</td>\n",
       "      <td>8.1</td>\n",
       "      <td>4.9</td>\n",
       "      <td>8.9</td>\n",
       "      <td>16.1</td>\n",
       "      <td>8.2</td>\n",
       "      <td>12.7</td>\n",
       "      <td>10.3</td>\n",
       "      <td>8.0</td>\n",
       "      <td>9.8</td>\n",
       "    </tr>\n",
       "    <tr>\n",
       "      <th>1</th>\n",
       "      <td>26022</td>\n",
       "      <td>My Name Is Khan</td>\n",
       "      <td>12000000</td>\n",
       "      <td>[{'id': 18, 'name': 'Drama'}, {'id': 10749, 'n...</td>\n",
       "      <td>2010-02-12</td>\n",
       "      <td>42345360.0</td>\n",
       "      <td>7.7</td>\n",
       "      <td>237.0</td>\n",
       "      <td>2010</td>\n",
       "      <td>Feb</td>\n",
       "      <td>...</td>\n",
       "      <td>10.7</td>\n",
       "      <td>8.1</td>\n",
       "      <td>4.9</td>\n",
       "      <td>8.9</td>\n",
       "      <td>16.1</td>\n",
       "      <td>8.2</td>\n",
       "      <td>12.7</td>\n",
       "      <td>10.3</td>\n",
       "      <td>8.0</td>\n",
       "      <td>9.8</td>\n",
       "    </tr>\n",
       "    <tr>\n",
       "      <th>2</th>\n",
       "      <td>26389</td>\n",
       "      <td>From Paris with Love</td>\n",
       "      <td>52000000</td>\n",
       "      <td>[{'id': 28, 'name': 'Action'}, {'id': 80, 'nam...</td>\n",
       "      <td>2010-02-05</td>\n",
       "      <td>52826594.0</td>\n",
       "      <td>6.2</td>\n",
       "      <td>684.0</td>\n",
       "      <td>2010</td>\n",
       "      <td>Feb</td>\n",
       "      <td>...</td>\n",
       "      <td>10.7</td>\n",
       "      <td>8.1</td>\n",
       "      <td>4.9</td>\n",
       "      <td>8.9</td>\n",
       "      <td>16.1</td>\n",
       "      <td>8.2</td>\n",
       "      <td>12.7</td>\n",
       "      <td>10.3</td>\n",
       "      <td>8.0</td>\n",
       "      <td>9.8</td>\n",
       "    </tr>\n",
       "    <tr>\n",
       "      <th>3</th>\n",
       "      <td>34016</td>\n",
       "      <td>She's Out of My League</td>\n",
       "      <td>20000000</td>\n",
       "      <td>[{'id': 35, 'name': 'Comedy'}, {'id': 10749, '...</td>\n",
       "      <td>2010-03-11</td>\n",
       "      <td>49779728.0</td>\n",
       "      <td>5.9</td>\n",
       "      <td>544.0</td>\n",
       "      <td>2010</td>\n",
       "      <td>Mar</td>\n",
       "      <td>...</td>\n",
       "      <td>11.0</td>\n",
       "      <td>8.4</td>\n",
       "      <td>4.9</td>\n",
       "      <td>8.9</td>\n",
       "      <td>16.8</td>\n",
       "      <td>7.6</td>\n",
       "      <td>12.9</td>\n",
       "      <td>10.2</td>\n",
       "      <td>8.1</td>\n",
       "      <td>9.9</td>\n",
       "    </tr>\n",
       "    <tr>\n",
       "      <th>4</th>\n",
       "      <td>27573</td>\n",
       "      <td>The Bounty Hunter</td>\n",
       "      <td>40000000</td>\n",
       "      <td>[{'id': 28, 'name': 'Action'}]</td>\n",
       "      <td>2010-03-16</td>\n",
       "      <td>136000000.0</td>\n",
       "      <td>5.6</td>\n",
       "      <td>878.0</td>\n",
       "      <td>2010</td>\n",
       "      <td>Mar</td>\n",
       "      <td>...</td>\n",
       "      <td>11.0</td>\n",
       "      <td>8.4</td>\n",
       "      <td>4.9</td>\n",
       "      <td>8.9</td>\n",
       "      <td>16.8</td>\n",
       "      <td>7.6</td>\n",
       "      <td>12.9</td>\n",
       "      <td>10.2</td>\n",
       "      <td>8.1</td>\n",
       "      <td>9.9</td>\n",
       "    </tr>\n",
       "    <tr>\n",
       "      <th>...</th>\n",
       "      <td>...</td>\n",
       "      <td>...</td>\n",
       "      <td>...</td>\n",
       "      <td>...</td>\n",
       "      <td>...</td>\n",
       "      <td>...</td>\n",
       "      <td>...</td>\n",
       "      <td>...</td>\n",
       "      <td>...</td>\n",
       "      <td>...</td>\n",
       "      <td>...</td>\n",
       "      <td>...</td>\n",
       "      <td>...</td>\n",
       "      <td>...</td>\n",
       "      <td>...</td>\n",
       "      <td>...</td>\n",
       "      <td>...</td>\n",
       "      <td>...</td>\n",
       "      <td>...</td>\n",
       "      <td>...</td>\n",
       "      <td>...</td>\n",
       "    </tr>\n",
       "    <tr>\n",
       "      <th>170</th>\n",
       "      <td>121173</td>\n",
       "      <td>Voracious</td>\n",
       "      <td>11178</td>\n",
       "      <td>[{'id': 35, 'name': 'Comedy'}, {'id': 18, 'nam...</td>\n",
       "      <td>2012-09-05</td>\n",
       "      <td>34659.0</td>\n",
       "      <td>8.0</td>\n",
       "      <td>1.0</td>\n",
       "      <td>2012</td>\n",
       "      <td>Sep</td>\n",
       "      <td>...</td>\n",
       "      <td>8.5</td>\n",
       "      <td>6.6</td>\n",
       "      <td>4.0</td>\n",
       "      <td>7.0</td>\n",
       "      <td>13.6</td>\n",
       "      <td>4.9</td>\n",
       "      <td>9.7</td>\n",
       "      <td>7.3</td>\n",
       "      <td>7.1</td>\n",
       "      <td>7.8</td>\n",
       "    </tr>\n",
       "    <tr>\n",
       "      <th>171</th>\n",
       "      <td>173897</td>\n",
       "      <td>Resident Evil: The Final Chapter</td>\n",
       "      <td>40000000</td>\n",
       "      <td>[{'id': 28, 'name': 'Action'}, {'id': 27, 'nam...</td>\n",
       "      <td>2016-12-23</td>\n",
       "      <td>312242626.0</td>\n",
       "      <td>5.9</td>\n",
       "      <td>1139.0</td>\n",
       "      <td>2016</td>\n",
       "      <td>Dec</td>\n",
       "      <td>...</td>\n",
       "      <td>5.1</td>\n",
       "      <td>3.8</td>\n",
       "      <td>2.5</td>\n",
       "      <td>4.2</td>\n",
       "      <td>7.9</td>\n",
       "      <td>2.7</td>\n",
       "      <td>5.9</td>\n",
       "      <td>4.4</td>\n",
       "      <td>4.3</td>\n",
       "      <td>4.7</td>\n",
       "    </tr>\n",
       "    <tr>\n",
       "      <th>172</th>\n",
       "      <td>102197</td>\n",
       "      <td>The Spy</td>\n",
       "      <td>6000000</td>\n",
       "      <td>[{'id': 28, 'name': 'Action'}, {'id': 53, 'nam...</td>\n",
       "      <td>2012-04-05</td>\n",
       "      <td>4588176.0</td>\n",
       "      <td>4.6</td>\n",
       "      <td>10.0</td>\n",
       "      <td>2012</td>\n",
       "      <td>Apr</td>\n",
       "      <td>...</td>\n",
       "      <td>8.0</td>\n",
       "      <td>7.6</td>\n",
       "      <td>4.0</td>\n",
       "      <td>7.4</td>\n",
       "      <td>13.3</td>\n",
       "      <td>5.4</td>\n",
       "      <td>10.3</td>\n",
       "      <td>7.6</td>\n",
       "      <td>7.4</td>\n",
       "      <td>8.2</td>\n",
       "    </tr>\n",
       "    <tr>\n",
       "      <th>173</th>\n",
       "      <td>159447</td>\n",
       "      <td>Mommies, Happy New Year!</td>\n",
       "      <td>2000000</td>\n",
       "      <td>[{'id': 35, 'name': 'Comedy'}, {'id': 18, 'nam...</td>\n",
       "      <td>2012-12-27</td>\n",
       "      <td>11666088.0</td>\n",
       "      <td>5.3</td>\n",
       "      <td>9.0</td>\n",
       "      <td>2012</td>\n",
       "      <td>Dec</td>\n",
       "      <td>...</td>\n",
       "      <td>8.0</td>\n",
       "      <td>6.9</td>\n",
       "      <td>4.0</td>\n",
       "      <td>6.9</td>\n",
       "      <td>14.0</td>\n",
       "      <td>6.6</td>\n",
       "      <td>9.6</td>\n",
       "      <td>7.2</td>\n",
       "      <td>7.4</td>\n",
       "      <td>7.9</td>\n",
       "    </tr>\n",
       "    <tr>\n",
       "      <th>174</th>\n",
       "      <td>75438</td>\n",
       "      <td>Pregnant</td>\n",
       "      <td>2000000</td>\n",
       "      <td>[{'id': 35, 'name': 'Comedy'}]</td>\n",
       "      <td>2011-07-21</td>\n",
       "      <td>8000000.0</td>\n",
       "      <td>3.1</td>\n",
       "      <td>7.0</td>\n",
       "      <td>2011</td>\n",
       "      <td>Jul</td>\n",
       "      <td>...</td>\n",
       "      <td>9.1</td>\n",
       "      <td>8.3</td>\n",
       "      <td>4.2</td>\n",
       "      <td>8.0</td>\n",
       "      <td>15.9</td>\n",
       "      <td>7.4</td>\n",
       "      <td>11.2</td>\n",
       "      <td>8.8</td>\n",
       "      <td>7.9</td>\n",
       "      <td>9.0</td>\n",
       "    </tr>\n",
       "  </tbody>\n",
       "</table>\n",
       "<p>175 rows × 21 columns</p>\n",
       "</div>"
      ],
      "text/plain": [
       "         id                                              title    budget  \\\n",
       "0     32657  Percy Jackson & the Olympians: The Lightning T...  95000000   \n",
       "1     26022                                    My Name Is Khan  12000000   \n",
       "2     26389                               From Paris with Love  52000000   \n",
       "3     34016                             She's Out of My League  20000000   \n",
       "4     27573                                  The Bounty Hunter  40000000   \n",
       "..      ...                                                ...       ...   \n",
       "170  121173                                          Voracious     11178   \n",
       "171  173897                   Resident Evil: The Final Chapter  40000000   \n",
       "172  102197                                            The Spy   6000000   \n",
       "173  159447                           Mommies, Happy New Year!   2000000   \n",
       "174   75438                                           Pregnant   2000000   \n",
       "\n",
       "                                                genres release_date  \\\n",
       "0    [{'id': 12, 'name': 'Adventure'}, {'id': 14, '...   2010-02-01   \n",
       "1    [{'id': 18, 'name': 'Drama'}, {'id': 10749, 'n...   2010-02-12   \n",
       "2    [{'id': 28, 'name': 'Action'}, {'id': 80, 'nam...   2010-02-05   \n",
       "3    [{'id': 35, 'name': 'Comedy'}, {'id': 10749, '...   2010-03-11   \n",
       "4                       [{'id': 28, 'name': 'Action'}]   2010-03-16   \n",
       "..                                                 ...          ...   \n",
       "170  [{'id': 35, 'name': 'Comedy'}, {'id': 18, 'nam...   2012-09-05   \n",
       "171  [{'id': 28, 'name': 'Action'}, {'id': 27, 'nam...   2016-12-23   \n",
       "172  [{'id': 28, 'name': 'Action'}, {'id': 53, 'nam...   2012-04-05   \n",
       "173  [{'id': 35, 'name': 'Comedy'}, {'id': 18, 'nam...   2012-12-27   \n",
       "174                     [{'id': 35, 'name': 'Comedy'}]   2011-07-21   \n",
       "\n",
       "         revenue  vote_average  vote_count  Year Month  ...  High_School  \\\n",
       "0    226497209.0           6.0      2079.0  2010   Feb  ...         10.7   \n",
       "1     42345360.0           7.7       237.0  2010   Feb  ...         10.7   \n",
       "2     52826594.0           6.2       684.0  2010   Feb  ...         10.7   \n",
       "3     49779728.0           5.9       544.0  2010   Mar  ...         11.0   \n",
       "4    136000000.0           5.6       878.0  2010   Mar  ...         11.0   \n",
       "..           ...           ...         ...   ...   ...  ...          ...   \n",
       "170      34659.0           8.0         1.0  2012   Sep  ...          8.5   \n",
       "171  312242626.0           5.9      1139.0  2016   Dec  ...          5.1   \n",
       "172    4588176.0           4.6        10.0  2012   Apr  ...          8.0   \n",
       "173   11666088.0           5.3         9.0  2012   Dec  ...          8.0   \n",
       "174    8000000.0           3.1         7.0  2011   Jul  ...          9.1   \n",
       "\n",
       "     Associates_Degree  Professional_Degree  White  Black  Asian  Hispanic  \\\n",
       "0                  8.1                  4.9    8.9   16.1    8.2      12.7   \n",
       "1                  8.1                  4.9    8.9   16.1    8.2      12.7   \n",
       "2                  8.1                  4.9    8.9   16.1    8.2      12.7   \n",
       "3                  8.4                  4.9    8.9   16.8    7.6      12.9   \n",
       "4                  8.4                  4.9    8.9   16.8    7.6      12.9   \n",
       "..                 ...                  ...    ...    ...    ...       ...   \n",
       "170                6.6                  4.0    7.0   13.6    4.9       9.7   \n",
       "171                3.8                  2.5    4.2    7.9    2.7       5.9   \n",
       "172                7.6                  4.0    7.4   13.3    5.4      10.3   \n",
       "173                6.9                  4.0    6.9   14.0    6.6       9.6   \n",
       "174                8.3                  4.2    8.0   15.9    7.4      11.2   \n",
       "\n",
       "      Men  Women  Value  \n",
       "0    10.3    8.0    9.8  \n",
       "1    10.3    8.0    9.8  \n",
       "2    10.3    8.0    9.8  \n",
       "3    10.2    8.1    9.9  \n",
       "4    10.2    8.1    9.9  \n",
       "..    ...    ...    ...  \n",
       "170   7.3    7.1    7.8  \n",
       "171   4.4    4.3    4.7  \n",
       "172   7.6    7.4    8.2  \n",
       "173   7.2    7.4    7.9  \n",
       "174   8.8    7.9    9.0  \n",
       "\n",
       "[175 rows x 21 columns]"
      ]
     },
     "execution_count": 130,
     "metadata": {},
     "output_type": "execute_result"
    }
   ],
   "source": [
    "df"
   ]
  },
  {
   "cell_type": "code",
   "execution_count": 131,
   "metadata": {},
   "outputs": [],
   "source": [
    "# compute aggregates on the rating dataframe\n",
    "temp = pd.DataFrame(ratings[['movieId','rating']].groupby(['movieId'], as_index=False).agg({'size','mean'}).rename(columns={'size':'num_ratings','mean':'avg_rating'}))\n",
    "temp = temp.droplevel(axis=1, level=0).reset_index()\n",
    "\n",
    "# merge the aggregate rating data with the target dataframe\n",
    "df = pd.merge(left=df, right=temp, left_on='id', right_on='movieId')\n",
    "\n",
    "# drop the redundant 'movieId' column\n",
    "df.drop(['movieId'], axis=1, inplace=True)\n",
    "\n",
    "# rename the 'Value' column to 'Unemployment_Rate'\n",
    "df.rename(columns={'Value':'Unemployment_Rate'}, inplace=True)"
   ]
  },
  {
   "cell_type": "code",
   "execution_count": 132,
   "metadata": {
    "scrolled": true
   },
   "outputs": [
    {
     "data": {
      "text/plain": [
       "0      [{'id': 12, 'name': 'Adventure'}, {'id': 14, '...\n",
       "1      [{'id': 18, 'name': 'Drama'}, {'id': 10749, 'n...\n",
       "2      [{'id': 28, 'name': 'Action'}, {'id': 80, 'nam...\n",
       "3      [{'id': 35, 'name': 'Comedy'}, {'id': 10749, '...\n",
       "4                         [{'id': 28, 'name': 'Action'}]\n",
       "                             ...                        \n",
       "170    [{'id': 35, 'name': 'Comedy'}, {'id': 18, 'nam...\n",
       "171    [{'id': 28, 'name': 'Action'}, {'id': 27, 'nam...\n",
       "172    [{'id': 28, 'name': 'Action'}, {'id': 53, 'nam...\n",
       "173    [{'id': 35, 'name': 'Comedy'}, {'id': 18, 'nam...\n",
       "174                       [{'id': 35, 'name': 'Comedy'}]\n",
       "Name: genres, Length: 175, dtype: object"
      ]
     },
     "execution_count": 132,
     "metadata": {},
     "output_type": "execute_result"
    }
   ],
   "source": [
    "# display the resulting dataframe\n",
    "df['genres']"
   ]
  },
  {
   "cell_type": "markdown",
   "metadata": {},
   "source": [
    "<p style=\"color:blue\"><b>This is the final dataframe (df). It combines the data which could be associated (movie information, unemployment rates, and user ratings).</b></p>\n",
    "\n",
    "<p style=\"color:blue\"><b>It has aggregate ratings from two different sources, TMDb (referred to as votes) and GroupLens (referred to as ratings).</b></p>"
   ]
  },
  {
   "cell_type": "code",
   "execution_count": 133,
   "metadata": {},
   "outputs": [
    {
     "data": {
      "text/plain": [
       "array(['Adventure', 'Drama', 'Action', 'Comedy', 'Crime', 'Fantasy',\n",
       "       'Horror', 'Mystery', 'Documentary', 'Animation', 'Thriller',\n",
       "       'History', 'War', 'Science Fiction', 'Romance', 'Western',\n",
       "       'Foreign', None, 'Family'], dtype=object)"
      ]
     },
     "execution_count": 133,
     "metadata": {},
     "output_type": "execute_result"
    }
   ],
   "source": [
    "import ast\n",
    "\n",
    "column_changes = ['genres']\n",
    "json_shrinker_dict = dict({'genres': list()})\n",
    "\n",
    "for col in column_changes:\n",
    "    for i in df[col]:\n",
    "        i = ast.literal_eval(i)\n",
    "        if len(i) < 1:\n",
    "            json_shrinker_dict['genres'].append(None)\n",
    "\n",
    "        for element in i:\n",
    "            json_shrinker_dict['genres'].append(element['name'])\n",
    "            break\n",
    "\n",
    "for i in column_changes:\n",
    "    df[i] = json_shrinker_dict[i]\n",
    "df.genres.unique()"
   ]
  },
  {
   "cell_type": "code",
   "execution_count": 134,
   "metadata": {},
   "outputs": [
    {
     "name": "stdout",
     "output_type": "stream",
     "text": [
      "Requirement already satisfied: plotly==4.14.3 in c:\\users\\91770\\anaconda3\\lib\\site-packages (4.14.3)\n",
      "Requirement already satisfied: retrying>=1.3.3 in c:\\users\\91770\\anaconda3\\lib\\site-packages (from plotly==4.14.3) (1.3.3)\n",
      "Requirement already satisfied: six in c:\\users\\91770\\anaconda3\\lib\\site-packages (from plotly==4.14.3) (1.15.0)\n",
      "Note: you may need to restart the kernel to use updated packages.\n"
     ]
    }
   ],
   "source": [
    "pip install plotly==4.14.3"
   ]
  },
  {
   "cell_type": "code",
   "execution_count": 135,
   "metadata": {},
   "outputs": [
    {
     "data": {
      "application/vnd.plotly.v1+json": {
       "config": {
        "plotlyServerURL": "https://plot.ly"
       },
       "data": [
        {
         "type": "scatter",
         "x": [
          1,
          2,
          3,
          4,
          5,
          6,
          7,
          8,
          9,
          10,
          11,
          12,
          13,
          14,
          15,
          16,
          17,
          18,
          19,
          20,
          21,
          22,
          23,
          24,
          25,
          26,
          27,
          28,
          29,
          30
         ],
         "y": [
          -27.890003489933093,
          -17.98083232658653,
          -12.611225500614383,
          -10.571551749824463,
          -8.960711785377915,
          -7.932747322298907,
          -7.158711682528531,
          -6.602486257518768,
          -5.833617313191546,
          -5.394428969643085,
          -5.164044634164831,
          -4.65559835273103,
          -4.4704121128902345,
          -4.107464943824027,
          -3.9403789484241765,
          -3.7064575133913977,
          -3.450559494011935,
          -3.21993228251769,
          -3.0229407894729627,
          -2.7919925040610623,
          -2.6515585710529663,
          -2.4482380300337123,
          -2.3811263535947473,
          -2.247560711616765,
          -2.160864216933593,
          -2.06370299497296,
          -2.011086357725021,
          -1.9588544537535586,
          -1.8688765481114715,
          -1.7822357206920212
         ]
        }
       ],
       "layout": {
        "height": 800,
        "template": {
         "data": {
          "bar": [
           {
            "error_x": {
             "color": "#2a3f5f"
            },
            "error_y": {
             "color": "#2a3f5f"
            },
            "marker": {
             "line": {
              "color": "#E5ECF6",
              "width": 0.5
             }
            },
            "type": "bar"
           }
          ],
          "barpolar": [
           {
            "marker": {
             "line": {
              "color": "#E5ECF6",
              "width": 0.5
             }
            },
            "type": "barpolar"
           }
          ],
          "carpet": [
           {
            "aaxis": {
             "endlinecolor": "#2a3f5f",
             "gridcolor": "white",
             "linecolor": "white",
             "minorgridcolor": "white",
             "startlinecolor": "#2a3f5f"
            },
            "baxis": {
             "endlinecolor": "#2a3f5f",
             "gridcolor": "white",
             "linecolor": "white",
             "minorgridcolor": "white",
             "startlinecolor": "#2a3f5f"
            },
            "type": "carpet"
           }
          ],
          "choropleth": [
           {
            "colorbar": {
             "outlinewidth": 0,
             "ticks": ""
            },
            "type": "choropleth"
           }
          ],
          "contour": [
           {
            "colorbar": {
             "outlinewidth": 0,
             "ticks": ""
            },
            "colorscale": [
             [
              0,
              "#0d0887"
             ],
             [
              0.1111111111111111,
              "#46039f"
             ],
             [
              0.2222222222222222,
              "#7201a8"
             ],
             [
              0.3333333333333333,
              "#9c179e"
             ],
             [
              0.4444444444444444,
              "#bd3786"
             ],
             [
              0.5555555555555556,
              "#d8576b"
             ],
             [
              0.6666666666666666,
              "#ed7953"
             ],
             [
              0.7777777777777778,
              "#fb9f3a"
             ],
             [
              0.8888888888888888,
              "#fdca26"
             ],
             [
              1,
              "#f0f921"
             ]
            ],
            "type": "contour"
           }
          ],
          "contourcarpet": [
           {
            "colorbar": {
             "outlinewidth": 0,
             "ticks": ""
            },
            "type": "contourcarpet"
           }
          ],
          "heatmap": [
           {
            "colorbar": {
             "outlinewidth": 0,
             "ticks": ""
            },
            "colorscale": [
             [
              0,
              "#0d0887"
             ],
             [
              0.1111111111111111,
              "#46039f"
             ],
             [
              0.2222222222222222,
              "#7201a8"
             ],
             [
              0.3333333333333333,
              "#9c179e"
             ],
             [
              0.4444444444444444,
              "#bd3786"
             ],
             [
              0.5555555555555556,
              "#d8576b"
             ],
             [
              0.6666666666666666,
              "#ed7953"
             ],
             [
              0.7777777777777778,
              "#fb9f3a"
             ],
             [
              0.8888888888888888,
              "#fdca26"
             ],
             [
              1,
              "#f0f921"
             ]
            ],
            "type": "heatmap"
           }
          ],
          "heatmapgl": [
           {
            "colorbar": {
             "outlinewidth": 0,
             "ticks": ""
            },
            "colorscale": [
             [
              0,
              "#0d0887"
             ],
             [
              0.1111111111111111,
              "#46039f"
             ],
             [
              0.2222222222222222,
              "#7201a8"
             ],
             [
              0.3333333333333333,
              "#9c179e"
             ],
             [
              0.4444444444444444,
              "#bd3786"
             ],
             [
              0.5555555555555556,
              "#d8576b"
             ],
             [
              0.6666666666666666,
              "#ed7953"
             ],
             [
              0.7777777777777778,
              "#fb9f3a"
             ],
             [
              0.8888888888888888,
              "#fdca26"
             ],
             [
              1,
              "#f0f921"
             ]
            ],
            "type": "heatmapgl"
           }
          ],
          "histogram": [
           {
            "marker": {
             "colorbar": {
              "outlinewidth": 0,
              "ticks": ""
             }
            },
            "type": "histogram"
           }
          ],
          "histogram2d": [
           {
            "colorbar": {
             "outlinewidth": 0,
             "ticks": ""
            },
            "colorscale": [
             [
              0,
              "#0d0887"
             ],
             [
              0.1111111111111111,
              "#46039f"
             ],
             [
              0.2222222222222222,
              "#7201a8"
             ],
             [
              0.3333333333333333,
              "#9c179e"
             ],
             [
              0.4444444444444444,
              "#bd3786"
             ],
             [
              0.5555555555555556,
              "#d8576b"
             ],
             [
              0.6666666666666666,
              "#ed7953"
             ],
             [
              0.7777777777777778,
              "#fb9f3a"
             ],
             [
              0.8888888888888888,
              "#fdca26"
             ],
             [
              1,
              "#f0f921"
             ]
            ],
            "type": "histogram2d"
           }
          ],
          "histogram2dcontour": [
           {
            "colorbar": {
             "outlinewidth": 0,
             "ticks": ""
            },
            "colorscale": [
             [
              0,
              "#0d0887"
             ],
             [
              0.1111111111111111,
              "#46039f"
             ],
             [
              0.2222222222222222,
              "#7201a8"
             ],
             [
              0.3333333333333333,
              "#9c179e"
             ],
             [
              0.4444444444444444,
              "#bd3786"
             ],
             [
              0.5555555555555556,
              "#d8576b"
             ],
             [
              0.6666666666666666,
              "#ed7953"
             ],
             [
              0.7777777777777778,
              "#fb9f3a"
             ],
             [
              0.8888888888888888,
              "#fdca26"
             ],
             [
              1,
              "#f0f921"
             ]
            ],
            "type": "histogram2dcontour"
           }
          ],
          "mesh3d": [
           {
            "colorbar": {
             "outlinewidth": 0,
             "ticks": ""
            },
            "type": "mesh3d"
           }
          ],
          "parcoords": [
           {
            "line": {
             "colorbar": {
              "outlinewidth": 0,
              "ticks": ""
             }
            },
            "type": "parcoords"
           }
          ],
          "pie": [
           {
            "automargin": true,
            "type": "pie"
           }
          ],
          "scatter": [
           {
            "marker": {
             "colorbar": {
              "outlinewidth": 0,
              "ticks": ""
             }
            },
            "type": "scatter"
           }
          ],
          "scatter3d": [
           {
            "line": {
             "colorbar": {
              "outlinewidth": 0,
              "ticks": ""
             }
            },
            "marker": {
             "colorbar": {
              "outlinewidth": 0,
              "ticks": ""
             }
            },
            "type": "scatter3d"
           }
          ],
          "scattercarpet": [
           {
            "marker": {
             "colorbar": {
              "outlinewidth": 0,
              "ticks": ""
             }
            },
            "type": "scattercarpet"
           }
          ],
          "scattergeo": [
           {
            "marker": {
             "colorbar": {
              "outlinewidth": 0,
              "ticks": ""
             }
            },
            "type": "scattergeo"
           }
          ],
          "scattergl": [
           {
            "marker": {
             "colorbar": {
              "outlinewidth": 0,
              "ticks": ""
             }
            },
            "type": "scattergl"
           }
          ],
          "scattermapbox": [
           {
            "marker": {
             "colorbar": {
              "outlinewidth": 0,
              "ticks": ""
             }
            },
            "type": "scattermapbox"
           }
          ],
          "scatterpolar": [
           {
            "marker": {
             "colorbar": {
              "outlinewidth": 0,
              "ticks": ""
             }
            },
            "type": "scatterpolar"
           }
          ],
          "scatterpolargl": [
           {
            "marker": {
             "colorbar": {
              "outlinewidth": 0,
              "ticks": ""
             }
            },
            "type": "scatterpolargl"
           }
          ],
          "scatterternary": [
           {
            "marker": {
             "colorbar": {
              "outlinewidth": 0,
              "ticks": ""
             }
            },
            "type": "scatterternary"
           }
          ],
          "surface": [
           {
            "colorbar": {
             "outlinewidth": 0,
             "ticks": ""
            },
            "colorscale": [
             [
              0,
              "#0d0887"
             ],
             [
              0.1111111111111111,
              "#46039f"
             ],
             [
              0.2222222222222222,
              "#7201a8"
             ],
             [
              0.3333333333333333,
              "#9c179e"
             ],
             [
              0.4444444444444444,
              "#bd3786"
             ],
             [
              0.5555555555555556,
              "#d8576b"
             ],
             [
              0.6666666666666666,
              "#ed7953"
             ],
             [
              0.7777777777777778,
              "#fb9f3a"
             ],
             [
              0.8888888888888888,
              "#fdca26"
             ],
             [
              1,
              "#f0f921"
             ]
            ],
            "type": "surface"
           }
          ],
          "table": [
           {
            "cells": {
             "fill": {
              "color": "#EBF0F8"
             },
             "line": {
              "color": "white"
             }
            },
            "header": {
             "fill": {
              "color": "#C8D4E3"
             },
             "line": {
              "color": "white"
             }
            },
            "type": "table"
           }
          ]
         },
         "layout": {
          "annotationdefaults": {
           "arrowcolor": "#2a3f5f",
           "arrowhead": 0,
           "arrowwidth": 1
          },
          "autotypenumbers": "strict",
          "coloraxis": {
           "colorbar": {
            "outlinewidth": 0,
            "ticks": ""
           }
          },
          "colorscale": {
           "diverging": [
            [
             0,
             "#8e0152"
            ],
            [
             0.1,
             "#c51b7d"
            ],
            [
             0.2,
             "#de77ae"
            ],
            [
             0.3,
             "#f1b6da"
            ],
            [
             0.4,
             "#fde0ef"
            ],
            [
             0.5,
             "#f7f7f7"
            ],
            [
             0.6,
             "#e6f5d0"
            ],
            [
             0.7,
             "#b8e186"
            ],
            [
             0.8,
             "#7fbc41"
            ],
            [
             0.9,
             "#4d9221"
            ],
            [
             1,
             "#276419"
            ]
           ],
           "sequential": [
            [
             0,
             "#0d0887"
            ],
            [
             0.1111111111111111,
             "#46039f"
            ],
            [
             0.2222222222222222,
             "#7201a8"
            ],
            [
             0.3333333333333333,
             "#9c179e"
            ],
            [
             0.4444444444444444,
             "#bd3786"
            ],
            [
             0.5555555555555556,
             "#d8576b"
            ],
            [
             0.6666666666666666,
             "#ed7953"
            ],
            [
             0.7777777777777778,
             "#fb9f3a"
            ],
            [
             0.8888888888888888,
             "#fdca26"
            ],
            [
             1,
             "#f0f921"
            ]
           ],
           "sequentialminus": [
            [
             0,
             "#0d0887"
            ],
            [
             0.1111111111111111,
             "#46039f"
            ],
            [
             0.2222222222222222,
             "#7201a8"
            ],
            [
             0.3333333333333333,
             "#9c179e"
            ],
            [
             0.4444444444444444,
             "#bd3786"
            ],
            [
             0.5555555555555556,
             "#d8576b"
            ],
            [
             0.6666666666666666,
             "#ed7953"
            ],
            [
             0.7777777777777778,
             "#fb9f3a"
            ],
            [
             0.8888888888888888,
             "#fdca26"
            ],
            [
             1,
             "#f0f921"
            ]
           ]
          },
          "colorway": [
           "#636efa",
           "#EF553B",
           "#00cc96",
           "#ab63fa",
           "#FFA15A",
           "#19d3f3",
           "#FF6692",
           "#B6E880",
           "#FF97FF",
           "#FECB52"
          ],
          "font": {
           "color": "#2a3f5f"
          },
          "geo": {
           "bgcolor": "white",
           "lakecolor": "white",
           "landcolor": "#E5ECF6",
           "showlakes": true,
           "showland": true,
           "subunitcolor": "white"
          },
          "hoverlabel": {
           "align": "left"
          },
          "hovermode": "closest",
          "mapbox": {
           "style": "light"
          },
          "paper_bgcolor": "white",
          "plot_bgcolor": "#E5ECF6",
          "polar": {
           "angularaxis": {
            "gridcolor": "white",
            "linecolor": "white",
            "ticks": ""
           },
           "bgcolor": "#E5ECF6",
           "radialaxis": {
            "gridcolor": "white",
            "linecolor": "white",
            "ticks": ""
           }
          },
          "scene": {
           "xaxis": {
            "backgroundcolor": "#E5ECF6",
            "gridcolor": "white",
            "gridwidth": 2,
            "linecolor": "white",
            "showbackground": true,
            "ticks": "",
            "zerolinecolor": "white"
           },
           "yaxis": {
            "backgroundcolor": "#E5ECF6",
            "gridcolor": "white",
            "gridwidth": 2,
            "linecolor": "white",
            "showbackground": true,
            "ticks": "",
            "zerolinecolor": "white"
           },
           "zaxis": {
            "backgroundcolor": "#E5ECF6",
            "gridcolor": "white",
            "gridwidth": 2,
            "linecolor": "white",
            "showbackground": true,
            "ticks": "",
            "zerolinecolor": "white"
           }
          },
          "shapedefaults": {
           "line": {
            "color": "#2a3f5f"
           }
          },
          "ternary": {
           "aaxis": {
            "gridcolor": "white",
            "linecolor": "white",
            "ticks": ""
           },
           "baxis": {
            "gridcolor": "white",
            "linecolor": "white",
            "ticks": ""
           },
           "bgcolor": "#E5ECF6",
           "caxis": {
            "gridcolor": "white",
            "linecolor": "white",
            "ticks": ""
           }
          },
          "title": {
           "x": 0.05
          },
          "xaxis": {
           "automargin": true,
           "gridcolor": "white",
           "linecolor": "white",
           "ticks": "",
           "title": {
            "standoff": 15
           },
           "zerolinecolor": "white",
           "zerolinewidth": 2
          },
          "yaxis": {
           "automargin": true,
           "gridcolor": "white",
           "linecolor": "white",
           "ticks": "",
           "title": {
            "standoff": 15
           },
           "zerolinecolor": "white",
           "zerolinewidth": 2
          }
         }
        },
        "title": {
         "text": "Elbow Method Results"
        },
        "width": 800,
        "xaxis": {
         "title": {
          "text": "Cluster"
         }
        },
        "yaxis": {
         "title": {
          "text": "Score"
         }
        }
       }
      },
      "text/html": [
       "<div>                            <div id=\"d628bc47-0039-41fe-941b-018a0ed4d4be\" class=\"plotly-graph-div\" style=\"height:800px; width:800px;\"></div>            <script type=\"text/javascript\">                require([\"plotly\"], function(Plotly) {                    window.PLOTLYENV=window.PLOTLYENV || {};                                    if (document.getElementById(\"d628bc47-0039-41fe-941b-018a0ed4d4be\")) {                    Plotly.newPlot(                        \"d628bc47-0039-41fe-941b-018a0ed4d4be\",                        [{\"type\": \"scatter\", \"x\": [1, 2, 3, 4, 5, 6, 7, 8, 9, 10, 11, 12, 13, 14, 15, 16, 17, 18, 19, 20, 21, 22, 23, 24, 25, 26, 27, 28, 29, 30], \"y\": [-27.890003489933093, -17.98083232658653, -12.611225500614383, -10.571551749824463, -8.960711785377915, -7.932747322298907, -7.158711682528531, -6.602486257518768, -5.833617313191546, -5.394428969643085, -5.164044634164831, -4.65559835273103, -4.4704121128902345, -4.107464943824027, -3.9403789484241765, -3.7064575133913977, -3.450559494011935, -3.21993228251769, -3.0229407894729627, -2.7919925040610623, -2.6515585710529663, -2.4482380300337123, -2.3811263535947473, -2.247560711616765, -2.160864216933593, -2.06370299497296, -2.011086357725021, -1.9588544537535586, -1.8688765481114715, -1.7822357206920212]}],                        {\"height\": 800, \"template\": {\"data\": {\"bar\": [{\"error_x\": {\"color\": \"#2a3f5f\"}, \"error_y\": {\"color\": \"#2a3f5f\"}, \"marker\": {\"line\": {\"color\": \"#E5ECF6\", \"width\": 0.5}}, \"type\": \"bar\"}], \"barpolar\": [{\"marker\": {\"line\": {\"color\": \"#E5ECF6\", \"width\": 0.5}}, \"type\": \"barpolar\"}], \"carpet\": [{\"aaxis\": {\"endlinecolor\": \"#2a3f5f\", \"gridcolor\": \"white\", \"linecolor\": \"white\", \"minorgridcolor\": \"white\", \"startlinecolor\": \"#2a3f5f\"}, \"baxis\": {\"endlinecolor\": \"#2a3f5f\", \"gridcolor\": \"white\", \"linecolor\": \"white\", \"minorgridcolor\": \"white\", \"startlinecolor\": \"#2a3f5f\"}, \"type\": \"carpet\"}], \"choropleth\": [{\"colorbar\": {\"outlinewidth\": 0, \"ticks\": \"\"}, \"type\": \"choropleth\"}], \"contour\": [{\"colorbar\": {\"outlinewidth\": 0, \"ticks\": \"\"}, \"colorscale\": [[0.0, \"#0d0887\"], [0.1111111111111111, \"#46039f\"], [0.2222222222222222, \"#7201a8\"], [0.3333333333333333, \"#9c179e\"], [0.4444444444444444, \"#bd3786\"], [0.5555555555555556, \"#d8576b\"], [0.6666666666666666, \"#ed7953\"], [0.7777777777777778, \"#fb9f3a\"], [0.8888888888888888, \"#fdca26\"], [1.0, \"#f0f921\"]], \"type\": \"contour\"}], \"contourcarpet\": [{\"colorbar\": {\"outlinewidth\": 0, \"ticks\": \"\"}, \"type\": \"contourcarpet\"}], \"heatmap\": [{\"colorbar\": {\"outlinewidth\": 0, \"ticks\": \"\"}, \"colorscale\": [[0.0, \"#0d0887\"], [0.1111111111111111, \"#46039f\"], [0.2222222222222222, \"#7201a8\"], [0.3333333333333333, \"#9c179e\"], [0.4444444444444444, \"#bd3786\"], [0.5555555555555556, \"#d8576b\"], [0.6666666666666666, \"#ed7953\"], [0.7777777777777778, \"#fb9f3a\"], [0.8888888888888888, \"#fdca26\"], [1.0, \"#f0f921\"]], \"type\": \"heatmap\"}], \"heatmapgl\": [{\"colorbar\": {\"outlinewidth\": 0, \"ticks\": \"\"}, \"colorscale\": [[0.0, \"#0d0887\"], [0.1111111111111111, \"#46039f\"], [0.2222222222222222, \"#7201a8\"], [0.3333333333333333, \"#9c179e\"], [0.4444444444444444, \"#bd3786\"], [0.5555555555555556, \"#d8576b\"], [0.6666666666666666, \"#ed7953\"], [0.7777777777777778, \"#fb9f3a\"], [0.8888888888888888, \"#fdca26\"], [1.0, \"#f0f921\"]], \"type\": \"heatmapgl\"}], \"histogram\": [{\"marker\": {\"colorbar\": {\"outlinewidth\": 0, \"ticks\": \"\"}}, \"type\": \"histogram\"}], \"histogram2d\": [{\"colorbar\": {\"outlinewidth\": 0, \"ticks\": \"\"}, \"colorscale\": [[0.0, \"#0d0887\"], [0.1111111111111111, \"#46039f\"], [0.2222222222222222, \"#7201a8\"], [0.3333333333333333, \"#9c179e\"], [0.4444444444444444, \"#bd3786\"], [0.5555555555555556, \"#d8576b\"], [0.6666666666666666, \"#ed7953\"], [0.7777777777777778, \"#fb9f3a\"], [0.8888888888888888, \"#fdca26\"], [1.0, \"#f0f921\"]], \"type\": \"histogram2d\"}], \"histogram2dcontour\": [{\"colorbar\": {\"outlinewidth\": 0, \"ticks\": \"\"}, \"colorscale\": [[0.0, \"#0d0887\"], [0.1111111111111111, \"#46039f\"], [0.2222222222222222, \"#7201a8\"], [0.3333333333333333, \"#9c179e\"], [0.4444444444444444, \"#bd3786\"], [0.5555555555555556, \"#d8576b\"], [0.6666666666666666, \"#ed7953\"], [0.7777777777777778, \"#fb9f3a\"], [0.8888888888888888, \"#fdca26\"], [1.0, \"#f0f921\"]], \"type\": \"histogram2dcontour\"}], \"mesh3d\": [{\"colorbar\": {\"outlinewidth\": 0, \"ticks\": \"\"}, \"type\": \"mesh3d\"}], \"parcoords\": [{\"line\": {\"colorbar\": {\"outlinewidth\": 0, \"ticks\": \"\"}}, \"type\": \"parcoords\"}], \"pie\": [{\"automargin\": true, \"type\": \"pie\"}], \"scatter\": [{\"marker\": {\"colorbar\": {\"outlinewidth\": 0, \"ticks\": \"\"}}, \"type\": \"scatter\"}], \"scatter3d\": [{\"line\": {\"colorbar\": {\"outlinewidth\": 0, \"ticks\": \"\"}}, \"marker\": {\"colorbar\": {\"outlinewidth\": 0, \"ticks\": \"\"}}, \"type\": \"scatter3d\"}], \"scattercarpet\": [{\"marker\": {\"colorbar\": {\"outlinewidth\": 0, \"ticks\": \"\"}}, \"type\": \"scattercarpet\"}], \"scattergeo\": [{\"marker\": {\"colorbar\": {\"outlinewidth\": 0, \"ticks\": \"\"}}, \"type\": \"scattergeo\"}], \"scattergl\": [{\"marker\": {\"colorbar\": {\"outlinewidth\": 0, \"ticks\": \"\"}}, \"type\": \"scattergl\"}], \"scattermapbox\": [{\"marker\": {\"colorbar\": {\"outlinewidth\": 0, \"ticks\": \"\"}}, \"type\": \"scattermapbox\"}], \"scatterpolar\": [{\"marker\": {\"colorbar\": {\"outlinewidth\": 0, \"ticks\": \"\"}}, \"type\": \"scatterpolar\"}], \"scatterpolargl\": [{\"marker\": {\"colorbar\": {\"outlinewidth\": 0, \"ticks\": \"\"}}, \"type\": \"scatterpolargl\"}], \"scatterternary\": [{\"marker\": {\"colorbar\": {\"outlinewidth\": 0, \"ticks\": \"\"}}, \"type\": \"scatterternary\"}], \"surface\": [{\"colorbar\": {\"outlinewidth\": 0, \"ticks\": \"\"}, \"colorscale\": [[0.0, \"#0d0887\"], [0.1111111111111111, \"#46039f\"], [0.2222222222222222, \"#7201a8\"], [0.3333333333333333, \"#9c179e\"], [0.4444444444444444, \"#bd3786\"], [0.5555555555555556, \"#d8576b\"], [0.6666666666666666, \"#ed7953\"], [0.7777777777777778, \"#fb9f3a\"], [0.8888888888888888, \"#fdca26\"], [1.0, \"#f0f921\"]], \"type\": \"surface\"}], \"table\": [{\"cells\": {\"fill\": {\"color\": \"#EBF0F8\"}, \"line\": {\"color\": \"white\"}}, \"header\": {\"fill\": {\"color\": \"#C8D4E3\"}, \"line\": {\"color\": \"white\"}}, \"type\": \"table\"}]}, \"layout\": {\"annotationdefaults\": {\"arrowcolor\": \"#2a3f5f\", \"arrowhead\": 0, \"arrowwidth\": 1}, \"autotypenumbers\": \"strict\", \"coloraxis\": {\"colorbar\": {\"outlinewidth\": 0, \"ticks\": \"\"}}, \"colorscale\": {\"diverging\": [[0, \"#8e0152\"], [0.1, \"#c51b7d\"], [0.2, \"#de77ae\"], [0.3, \"#f1b6da\"], [0.4, \"#fde0ef\"], [0.5, \"#f7f7f7\"], [0.6, \"#e6f5d0\"], [0.7, \"#b8e186\"], [0.8, \"#7fbc41\"], [0.9, \"#4d9221\"], [1, \"#276419\"]], \"sequential\": [[0.0, \"#0d0887\"], [0.1111111111111111, \"#46039f\"], [0.2222222222222222, \"#7201a8\"], [0.3333333333333333, \"#9c179e\"], [0.4444444444444444, \"#bd3786\"], [0.5555555555555556, \"#d8576b\"], [0.6666666666666666, \"#ed7953\"], [0.7777777777777778, \"#fb9f3a\"], [0.8888888888888888, \"#fdca26\"], [1.0, \"#f0f921\"]], \"sequentialminus\": [[0.0, \"#0d0887\"], [0.1111111111111111, \"#46039f\"], [0.2222222222222222, \"#7201a8\"], [0.3333333333333333, \"#9c179e\"], [0.4444444444444444, \"#bd3786\"], [0.5555555555555556, \"#d8576b\"], [0.6666666666666666, \"#ed7953\"], [0.7777777777777778, \"#fb9f3a\"], [0.8888888888888888, \"#fdca26\"], [1.0, \"#f0f921\"]]}, \"colorway\": [\"#636efa\", \"#EF553B\", \"#00cc96\", \"#ab63fa\", \"#FFA15A\", \"#19d3f3\", \"#FF6692\", \"#B6E880\", \"#FF97FF\", \"#FECB52\"], \"font\": {\"color\": \"#2a3f5f\"}, \"geo\": {\"bgcolor\": \"white\", \"lakecolor\": \"white\", \"landcolor\": \"#E5ECF6\", \"showlakes\": true, \"showland\": true, \"subunitcolor\": \"white\"}, \"hoverlabel\": {\"align\": \"left\"}, \"hovermode\": \"closest\", \"mapbox\": {\"style\": \"light\"}, \"paper_bgcolor\": \"white\", \"plot_bgcolor\": \"#E5ECF6\", \"polar\": {\"angularaxis\": {\"gridcolor\": \"white\", \"linecolor\": \"white\", \"ticks\": \"\"}, \"bgcolor\": \"#E5ECF6\", \"radialaxis\": {\"gridcolor\": \"white\", \"linecolor\": \"white\", \"ticks\": \"\"}}, \"scene\": {\"xaxis\": {\"backgroundcolor\": \"#E5ECF6\", \"gridcolor\": \"white\", \"gridwidth\": 2, \"linecolor\": \"white\", \"showbackground\": true, \"ticks\": \"\", \"zerolinecolor\": \"white\"}, \"yaxis\": {\"backgroundcolor\": \"#E5ECF6\", \"gridcolor\": \"white\", \"gridwidth\": 2, \"linecolor\": \"white\", \"showbackground\": true, \"ticks\": \"\", \"zerolinecolor\": \"white\"}, \"zaxis\": {\"backgroundcolor\": \"#E5ECF6\", \"gridcolor\": \"white\", \"gridwidth\": 2, \"linecolor\": \"white\", \"showbackground\": true, \"ticks\": \"\", \"zerolinecolor\": \"white\"}}, \"shapedefaults\": {\"line\": {\"color\": \"#2a3f5f\"}}, \"ternary\": {\"aaxis\": {\"gridcolor\": \"white\", \"linecolor\": \"white\", \"ticks\": \"\"}, \"baxis\": {\"gridcolor\": \"white\", \"linecolor\": \"white\", \"ticks\": \"\"}, \"bgcolor\": \"#E5ECF6\", \"caxis\": {\"gridcolor\": \"white\", \"linecolor\": \"white\", \"ticks\": \"\"}}, \"title\": {\"x\": 0.05}, \"xaxis\": {\"automargin\": true, \"gridcolor\": \"white\", \"linecolor\": \"white\", \"ticks\": \"\", \"title\": {\"standoff\": 15}, \"zerolinecolor\": \"white\", \"zerolinewidth\": 2}, \"yaxis\": {\"automargin\": true, \"gridcolor\": \"white\", \"linecolor\": \"white\", \"ticks\": \"\", \"title\": {\"standoff\": 15}, \"zerolinecolor\": \"white\", \"zerolinewidth\": 2}}}, \"title\": {\"text\": \"Elbow Method Results\"}, \"width\": 800, \"xaxis\": {\"title\": {\"text\": \"Cluster\"}}, \"yaxis\": {\"title\": {\"text\": \"Score\"}}},                        {\"responsive\": true}                    ).then(function(){\n",
       "                            \n",
       "var gd = document.getElementById('d628bc47-0039-41fe-941b-018a0ed4d4be');\n",
       "var x = new MutationObserver(function (mutations, observer) {{\n",
       "        var display = window.getComputedStyle(gd).display;\n",
       "        if (!display || display === 'none') {{\n",
       "            console.log([gd, 'removed!']);\n",
       "            Plotly.purge(gd);\n",
       "            observer.disconnect();\n",
       "        }}\n",
       "}});\n",
       "\n",
       "// Listen for the removal of the full notebook cells\n",
       "var notebookContainer = gd.closest('#notebook-container');\n",
       "if (notebookContainer) {{\n",
       "    x.observe(notebookContainer, {childList: true});\n",
       "}}\n",
       "\n",
       "// Listen for the clearing of the current output cell\n",
       "var outputEl = gd.closest('.output');\n",
       "if (outputEl) {{\n",
       "    x.observe(outputEl, {childList: true});\n",
       "}}\n",
       "\n",
       "                        })                };                });            </script>        </div>"
      ]
     },
     "metadata": {},
     "output_type": "display_data"
    },
    {
     "data": {
      "text/html": [
       "<div>\n",
       "<style scoped>\n",
       "    .dataframe tbody tr th:only-of-type {\n",
       "        vertical-align: middle;\n",
       "    }\n",
       "\n",
       "    .dataframe tbody tr th {\n",
       "        vertical-align: top;\n",
       "    }\n",
       "\n",
       "    .dataframe thead th {\n",
       "        text-align: right;\n",
       "    }\n",
       "</style>\n",
       "<table border=\"1\" class=\"dataframe\">\n",
       "  <thead>\n",
       "    <tr style=\"text-align: right;\">\n",
       "      <th></th>\n",
       "      <th>budget</th>\n",
       "      <th>revenue</th>\n",
       "      <th>Unemployment_Rate</th>\n",
       "      <th>vote_average</th>\n",
       "      <th>vote_count</th>\n",
       "      <th>cluster_label</th>\n",
       "      <th>cluster_string</th>\n",
       "      <th>title</th>\n",
       "      <th>genres</th>\n",
       "    </tr>\n",
       "  </thead>\n",
       "  <tbody>\n",
       "    <tr>\n",
       "      <th>0</th>\n",
       "      <td>95000000</td>\n",
       "      <td>226497209.0</td>\n",
       "      <td>9.8</td>\n",
       "      <td>6.0</td>\n",
       "      <td>2079.0</td>\n",
       "      <td>0</td>\n",
       "      <td>c0</td>\n",
       "      <td>Percy Jackson &amp; the Olympians: The Lightning T...</td>\n",
       "      <td>Adventure</td>\n",
       "    </tr>\n",
       "    <tr>\n",
       "      <th>1</th>\n",
       "      <td>12000000</td>\n",
       "      <td>42345360.0</td>\n",
       "      <td>9.8</td>\n",
       "      <td>7.7</td>\n",
       "      <td>237.0</td>\n",
       "      <td>0</td>\n",
       "      <td>c0</td>\n",
       "      <td>My Name Is Khan</td>\n",
       "      <td>Drama</td>\n",
       "    </tr>\n",
       "    <tr>\n",
       "      <th>2</th>\n",
       "      <td>52000000</td>\n",
       "      <td>52826594.0</td>\n",
       "      <td>9.8</td>\n",
       "      <td>6.2</td>\n",
       "      <td>684.0</td>\n",
       "      <td>0</td>\n",
       "      <td>c0</td>\n",
       "      <td>From Paris with Love</td>\n",
       "      <td>Action</td>\n",
       "    </tr>\n",
       "    <tr>\n",
       "      <th>3</th>\n",
       "      <td>20000000</td>\n",
       "      <td>49779728.0</td>\n",
       "      <td>9.9</td>\n",
       "      <td>5.9</td>\n",
       "      <td>544.0</td>\n",
       "      <td>0</td>\n",
       "      <td>c0</td>\n",
       "      <td>She's Out of My League</td>\n",
       "      <td>Comedy</td>\n",
       "    </tr>\n",
       "    <tr>\n",
       "      <th>4</th>\n",
       "      <td>40000000</td>\n",
       "      <td>136000000.0</td>\n",
       "      <td>9.9</td>\n",
       "      <td>5.6</td>\n",
       "      <td>878.0</td>\n",
       "      <td>0</td>\n",
       "      <td>c0</td>\n",
       "      <td>The Bounty Hunter</td>\n",
       "      <td>Action</td>\n",
       "    </tr>\n",
       "  </tbody>\n",
       "</table>\n",
       "</div>"
      ],
      "text/plain": [
       "     budget      revenue  Unemployment_Rate  vote_average  vote_count  \\\n",
       "0  95000000  226497209.0                9.8           6.0      2079.0   \n",
       "1  12000000   42345360.0                9.8           7.7       237.0   \n",
       "2  52000000   52826594.0                9.8           6.2       684.0   \n",
       "3  20000000   49779728.0                9.9           5.9       544.0   \n",
       "4  40000000  136000000.0                9.9           5.6       878.0   \n",
       "\n",
       "   cluster_label cluster_string  \\\n",
       "0              0             c0   \n",
       "1              0             c0   \n",
       "2              0             c0   \n",
       "3              0             c0   \n",
       "4              0             c0   \n",
       "\n",
       "                                               title     genres  \n",
       "0  Percy Jackson & the Olympians: The Lightning T...  Adventure  \n",
       "1                                    My Name Is Khan      Drama  \n",
       "2                               From Paris with Love     Action  \n",
       "3                             She's Out of My League     Comedy  \n",
       "4                                  The Bounty Hunter     Action  "
      ]
     },
     "execution_count": 135,
     "metadata": {},
     "output_type": "execute_result"
    }
   ],
   "source": [
    "from sklearn.cluster import KMeans\n",
    "from sklearn.preprocessing import MinMaxScaler\n",
    "import plotly.express as px\n",
    "import plotly.graph_objs as go\n",
    "\n",
    "scalar = MinMaxScaler()\n",
    "\n",
    "scaled_df = df[['budget', 'revenue', 'Unemployment_Rate','vote_average', 'vote_count']]\n",
    "\n",
    "smaller_df = scaled_df.copy()\n",
    "\n",
    "scaled = scalar.fit_transform(df[['budget', 'revenue', 'Unemployment_Rate','vote_average', 'vote_count']])\n",
    "\n",
    "scaled_df = pd.DataFrame(scaled, index=scaled_df.index, columns=scaled_df.columns)\n",
    "\n",
    "scaled_df.head()\n",
    "\n",
    "\n",
    "def apply_kmeans(df, clusters):\n",
    "    kmeans = KMeans(n_clusters=clusters, random_state=0)\n",
    "    cluster_labels = kmeans.fit(df).labels_\n",
    "    string_labels = [\"c{}\".format(i) for i in cluster_labels]\n",
    "    df['cluster_label'] = cluster_labels\n",
    "    df['cluster_string'] = string_labels\n",
    "\n",
    "    return df\n",
    "\n",
    "def param_tune(df):\n",
    "    scores = {'clusters': list(), 'score': list()}\n",
    "    for cluster_num in range(1,31):\n",
    "        scores['clusters'].append(cluster_num)\n",
    "        scores['score'].append(KMeans(n_clusters=cluster_num, random_state=0).fit(df).score(df))\n",
    "\n",
    "    scores_df = pd.DataFrame(scores)\n",
    "\n",
    "    fig = go.Figure(go.Scatter(\n",
    "        x=scores_df['clusters'],\n",
    "        y=scores_df['score']\n",
    "    ))\n",
    "\n",
    "    fig.update_layout(\n",
    "        xaxis_title='Cluster',\n",
    "        yaxis_title='Score',\n",
    "        title='Elbow Method Results',\n",
    "        height=800,\n",
    "        width=800\n",
    "    )\n",
    "\n",
    "    fig.show()\n",
    "\n",
    "    return 4\n",
    "\n",
    "clusters = param_tune(scaled_df)\n",
    "\n",
    "scaled_df = apply_kmeans(scaled_df, clusters)\n",
    "\n",
    "smaller_df = smaller_df.join(scaled_df[['cluster_label', 'cluster_string']])\n",
    "smaller_df = smaller_df.join(df[['title', 'genres']])\n",
    "\n",
    "smaller_df.head()"
   ]
  },
  {
   "cell_type": "code",
   "execution_count": 136,
   "metadata": {},
   "outputs": [
    {
     "data": {
      "application/vnd.plotly.v1+json": {
       "config": {
        "linkText": "Export to plot.ly",
        "plotlyServerURL": "https://plot.ly",
        "showLink": false
       },
       "data": [
        {
         "customdata": [
          [
           "Percy Jackson & the Olympians: The Lightning Thief",
           "Adventure"
          ],
          [
           "My Name Is Khan",
           "Drama"
          ],
          [
           "From Paris with Love",
           "Action"
          ],
          [
           "She's Out of My League",
           "Comedy"
          ],
          [
           "The Bounty Hunter",
           "Action"
          ],
          [
           "Repo Men",
           "Action"
          ],
          [
           "Ca$h",
           "Crime"
          ],
          [
           "Four Lions",
           "Comedy"
          ],
          [
           "Buried",
           "Drama"
          ],
          [
           "The Sorcerer's Apprentice",
           "Fantasy"
          ],
          [
           "Salt",
           "Action"
          ],
          [
           "It's Kind of a Funny Story",
           "Comedy"
          ],
          [
           "Let Me In",
           "Drama"
          ],
          [
           "Dirty Girl",
           "Drama"
          ],
          [
           "127 Hours",
           "Adventure"
          ],
          [
           "Hatchet II",
           "Horror"
          ],
          [
           "Tomorrow, When the War Began",
           "Action"
          ],
          [
           "Vanishing on 7th Street",
           "Mystery"
          ],
          [
           "The Eagle",
           "Adventure"
          ],
          [
           "Battle: Los Angeles",
           "Action"
          ],
          [
           "The Princess of Montpensier",
           "Action"
          ],
          [
           "Bridesmaids",
           "Comedy"
          ],
          [
           "The Tree of Life",
           "Drama"
          ],
          [
           "Pina",
           "Documentary"
          ],
          [
           "Everything Must Go",
           "Comedy"
          ],
          [
           "Larry Crowne",
           "Comedy"
          ],
          [
           "Horrible Bosses",
           "Comedy"
          ],
          [
           "30 Minutes or Less",
           "Action"
          ],
          [
           "Glee: The Concert Movie",
           "Documentary"
          ],
          [
           "The Conspirator",
           "Crime"
          ],
          [
           "A Dangerous Method",
           "Drama"
          ],
          [
           "Warrior",
           "Action"
          ],
          [
           "Enthiran",
           "Action"
          ],
          [
           "In Time",
           "Action"
          ],
          [
           "Carnage",
           "Comedy"
          ],
          [
           "Paranormal Activity 3",
           "Horror"
          ],
          [
           "The Double",
           "Action"
          ],
          [
           "Shaolin",
           "Action"
          ],
          [
           "The Iron Lady",
           "History"
          ],
          [
           "The Flowers of War",
           "Drama"
          ],
          [
           "Chapiteau-Show",
           "Comedy"
          ],
          [
           "Silent House",
           "Horror"
          ],
          [
           "5 Days of War",
           "War"
          ],
          [
           "War of the Arrows",
           "Drama"
          ],
          [
           "Behind the Burly Q",
           "Documentary"
          ],
          [
           "Late Autumn",
           "Drama"
          ],
          [
           "17 Girls",
           "Drama"
          ],
          [
           "Remington and the Curse of the Zombadings",
           "Foreign"
          ],
          [
           "Mere Brother Ki Dulhan",
           "Drama"
          ],
          [
           "La peggior settimana della mia vita",
           "Comedy"
          ],
          [
           "William & Kate",
           "Drama"
          ],
          [
           "Pregnant",
           "Comedy"
          ]
         ],
         "dimensions": [
          {
           "axis": {
            "matches": true
           },
           "label": "budget",
           "values": [
            "95000000",
            "12000000",
            "52000000",
            "20000000",
            "40000000",
            "32000000",
            "7000000",
            "967686",
            "1987650",
            "150000000",
            "110000000",
            "8000000",
            "20000000",
            "4000000",
            "18000000",
            "2500000",
            "27000000",
            "10000000",
            "25000000",
            "70000000",
            "14734000",
            "32500000",
            "32000000",
            "4317946",
            "5000000",
            "30000000",
            "35000000",
            "28000000",
            "9000000",
            "25000000",
            "15000000",
            "25000000",
            "26400000",
            "40000000",
            "25000000",
            "5000000",
            "17000000",
            "29000000",
            "13000000",
            "94000000",
            "2000000",
            "2000000",
            "20000000",
            "8000000",
            "250000",
            "6200000",
            "4141459",
            "22361",
            "5510000",
            "11000000",
            "20",
            "2000000"
           ]
          },
          {
           "axis": {
            "matches": true
           },
           "label": "revenue",
           "values": [
            226497209,
            42345360,
            52826594,
            49779728,
            136000000,
            18409891,
            46488,
            4270000,
            19152480,
            215283742,
            293329073,
            6491240,
            24145613,
            55125,
            35692920,
            52604,
            16504936,
            1068682,
            27122040,
            202466756,
            6775121,
            288383523,
            54674226,
            14624826,
            2614773,
            36160375,
            117000000,
            40547440,
            18663238,
            15478800,
            27462041,
            23057115,
            62000000,
            173930596,
            27603069,
            205703818,
            3696232,
            33662874,
            114956699,
            95311434,
            393816,
            13101672,
            17479,
            49000000,
            23859,
            4820000,
            201607,
            721651,
            18050000,
            12935800,
            15,
            8000000
           ]
          },
          {
           "axis": {
            "matches": true
           },
           "label": "Unemployment_Rate",
           "values": [
            9.8,
            9.8,
            9.8,
            9.9,
            9.9,
            9.9,
            9.8,
            9.6,
            9.5,
            9.4,
            9.4,
            9.4,
            9.4,
            9.5,
            9.8,
            9.5,
            9.5,
            9.5,
            9,
            9,
            9.8,
            9.1,
            9,
            9,
            9.4,
            9.1,
            9,
            9,
            9,
            9.5,
            9,
            9,
            9.4,
            8.8,
            9,
            8.8,
            8.8,
            9.1,
            8.5,
            8.5,
            8.5,
            9.1,
            9.1,
            9,
            9.9,
            9.5,
            9.1,
            9,
            9,
            8.8,
            9.1,
            9
           ]
          },
          {
           "axis": {
            "matches": true
           },
           "label": "vote_average",
           "values": [
            6,
            7.7,
            6.2,
            5.9,
            5.6,
            6.2,
            6,
            7.1,
            6.6,
            5.9,
            6.2,
            6.9,
            6.7,
            6.4,
            7,
            5.6,
            6.2,
            4.8,
            5.9,
            5.5,
            6.4,
            6.5,
            6.5,
            7.3,
            6,
            5.7,
            6.4,
            5.6,
            6.9,
            6.2,
            6.2,
            7.7,
            6.5,
            6.7,
            7,
            5.9,
            5.8,
            6.5,
            6.2,
            7.1,
            6.8,
            5.2,
            5.8,
            6.7,
            5.5,
            6.9,
            5.6,
            5.3,
            6.5,
            5.9,
            5.8,
            3.1
           ]
          },
          {
           "axis": {
            "matches": true
           },
           "label": "vote_count",
           "values": [
            2079,
            237,
            684,
            544,
            878,
            627,
            73,
            428,
            853,
            1526,
            2125,
            691,
            656,
            71,
            2668,
            91,
            195,
            165,
            426,
            1462,
            42,
            1697,
            1009,
            76,
            210,
            369,
            2341,
            537,
            81,
            138,
            589,
            1297,
            46,
            3512,
            760,
            685,
            226,
            102,
            540,
            193,
            13,
            125,
            63,
            68,
            3,
            22,
            103,
            5,
            19,
            96,
            30,
            7
           ]
          }
         ],
         "hovertemplate": "cluster_string=c0<br>%{xaxis.title.text}=%{x}<br>%{yaxis.title.text}=%{y}<br>title=%{customdata[0]}<br>genres=%{customdata[1]}<extra></extra>",
         "legendgroup": "c0",
         "marker": {
          "color": "#636efa",
          "symbol": "circle"
         },
         "name": "c0",
         "showlegend": true,
         "type": "splom"
        },
        {
         "customdata": [
          [
           "Inception",
           "Action"
          ],
          [
           "Pirates of the Caribbean: On Stranger Tides",
           "Adventure"
          ],
          [
           "Cars 2",
           "Animation"
          ],
          [
           "Captain America: The First Avenger",
           "Action"
          ],
          [
           "The Twilight Saga: Breaking Dawn - Part 1",
           "Adventure"
          ],
          [
           "Snow White and the Huntsman",
           "Adventure"
          ],
          [
           "Madagascar 3: Europe's Most Wanted",
           "Animation"
          ],
          [
           "The Amazing Spider-Man",
           "Action"
          ],
          [
           "The Hunger Games: Catching Fire",
           "Adventure"
          ],
          [
           "The Wolf of Wall Street",
           "Crime"
          ],
          [
           "Interstellar",
           "Adventure"
          ],
          [
           "X-Men: Days of Future Past",
           "Action"
          ],
          [
           "Godzilla",
           "Action"
          ],
          [
           "Dawn of the Planet of the Apes",
           "Science Fiction"
          ],
          [
           "Guardians of the Galaxy",
           "Action"
          ],
          [
           "Avengers: Age of Ultron",
           "Action"
          ],
          [
           "Ant-Man",
           "Science Fiction"
          ],
          [
           "Inside Out",
           "Drama"
          ],
          [
           "The Hunger Games: Mockingjay - Part 2",
           "Action"
          ]
         ],
         "dimensions": [
          {
           "axis": {
            "matches": true
           },
           "label": "budget",
           "values": [
            "160000000",
            "380000000",
            "200000000",
            "140000000",
            "110000000",
            "170000000",
            "145000000",
            "215000000",
            "130000000",
            "100000000",
            "165000000",
            "250000000",
            "160000000",
            "170000000",
            "170000000",
            "280000000",
            "130000000",
            "175000000",
            "160000000"
           ]
          },
          {
           "axis": {
            "matches": true
           },
           "label": "revenue",
           "values": [
            825532764,
            1045713802,
            559852396,
            370569774,
            712171856,
            396600000,
            746921274,
            752215857,
            847423452,
            392000694,
            675120017,
            747862775,
            529076069,
            710644566,
            773328629,
            1405403694,
            519311965,
            857611174,
            653428261
           ]
          },
          {
           "axis": {
            "matches": true
           },
           "label": "Unemployment_Rate",
           "values": [
            9.4,
            9,
            9.1,
            9,
            9,
            8.2,
            8.2,
            8.2,
            6.9,
            6.7,
            5.8,
            6.3,
            6.3,
            6.1,
            6.2,
            5.4,
            5.2,
            5.3,
            5.1
           ]
          },
          {
           "axis": {
            "matches": true
           },
           "label": "vote_average",
           "values": [
            8.1,
            6.4,
            5.8,
            6.6,
            5.8,
            5.8,
            6.4,
            6.5,
            7.4,
            7.9,
            8.1,
            7.5,
            6.1,
            7.3,
            7.9,
            7.3,
            7,
            7.9,
            6.6
           ]
          },
          {
           "axis": {
            "matches": true
           },
           "label": "vote_count",
           "values": [
            14075,
            5068,
            2088,
            7174,
            2622,
            3183,
            1857,
            6734,
            6656,
            6768,
            11187,
            6155,
            3232,
            4511,
            10014,
            6908,
            6029,
            6737,
            4117
           ]
          }
         ],
         "hovertemplate": "cluster_string=c1<br>%{xaxis.title.text}=%{x}<br>%{yaxis.title.text}=%{y}<br>title=%{customdata[0]}<br>genres=%{customdata[1]}<extra></extra>",
         "legendgroup": "c1",
         "marker": {
          "color": "#EF553B",
          "symbol": "circle"
         },
         "name": "c1",
         "showlegend": true,
         "type": "splom"
        },
        {
         "customdata": [
          [
           "The Expendables 2",
           "Action"
          ],
          [
           "Contraband",
           "Thriller"
          ],
          [
           "Big Miracle",
           "Adventure"
          ],
          [
           "Mirror Mirror",
           "Adventure"
          ],
          [
           "Dark Shadows",
           "Comedy"
          ],
          [
           "Moonrise Kingdom",
           "Comedy"
          ],
          [
           "Seeking a Friend for the End of the World",
           "Comedy"
          ],
          [
           "Savages",
           "Crime"
          ],
          [
           "Premium Rush",
           "Crime"
          ],
          [
           "Lawless",
           "Crime"
          ],
          [
           "Piranha 3DD",
           "Horror"
          ],
          [
           "The Possession",
           "Horror"
          ],
          [
           "Robot & Frank",
           "Science Fiction"
          ],
          [
           "Arbitrage",
           "Drama"
          ],
          [
           "The Hunt",
           "Drama"
          ],
          [
           "The Paperboy",
           "Thriller"
          ],
          [
           "The Sessions",
           "Drama"
          ],
          [
           "Amour",
           "Drama"
          ],
          [
           "Fire with Fire",
           "Action"
          ],
          [
           "This Is 40",
           "Comedy"
          ],
          [
           "Parental Guidance",
           "Comedy"
          ],
          [
           "Gangster Squad",
           "Crime"
          ],
          [
           "The Samaritan",
           "Thriller"
          ],
          [
           "Mama",
           "Horror"
          ],
          [
           "The East",
           "Drama"
          ],
          [
           "Universal Soldier: Day of Reckoning",
           "Thriller"
          ],
          [
           "Before Midnight",
           "Romance"
          ],
          [
           "Snitch",
           "Thriller"
          ],
          [
           "G.I. Joe: Retaliation",
           "Adventure"
          ],
          [
           "The Call",
           "Crime"
          ],
          [
           "Admission",
           "Comedy"
          ],
          [
           "Scary Movie 5",
           "Comedy"
          ],
          [
           "Pain & Gain",
           "Thriller"
          ],
          [
           "Mud",
           "Drama"
          ],
          [
           "The Past",
           "Drama"
          ],
          [
           "Behind the Candelabra",
           "Drama"
          ],
          [
           "Aftershock",
           "Horror"
          ],
          [
           "Redd Inc.",
           "Thriller"
          ],
          [
           "The Purge",
           "Science Fiction"
          ],
          [
           "R.I.P.D.",
           "Fantasy"
          ],
          [
           "Lost in Thailand",
           "Comedy"
          ],
          [
           "Blue Jasmine",
           "Comedy"
          ],
          [
           "The Smurfs 2",
           "Fantasy"
          ],
          [
           "Grown Ups 2",
           "Comedy"
          ],
          [
           "Paranoia",
           "Drama"
          ],
          [
           "The Mortal Instruments: City of Bones",
           "Action"
          ],
          [
           "Runner Runner",
           "Crime"
          ],
          [
           "Machete Kills",
           "Action"
          ],
          [
           "Filth",
           "Crime"
          ],
          [
           "Stitches",
           "Horror"
          ],
          [
           "Escape Plan",
           "Action"
          ],
          [
           "All Is Lost",
           "Action"
          ],
          [
           "Inside Llewyn Davis",
           "Drama"
          ],
          [
           "Sweetwater",
           "Western"
          ],
          [
           "Oldboy",
           "Drama"
          ],
          [
           "Snowpiercer",
           "Action"
          ],
          [
           "Underdogs",
           "Animation"
          ],
          [
           "The Young and Prodigious T.S. Spivet",
           "Adventure"
          ],
          [
           "Best Man Down",
           "Comedy"
          ],
          [
           "The Immigrant",
           "Drama"
          ],
          [
           "Minuscule: Valley of the Lost Ants",
           "Animation"
          ],
          [
           "No One Lives",
           "Horror"
          ],
          [
           "Ragnarok",
           "Action"
          ],
          [
           "Khumba",
           "Animation"
          ],
          [
           "Foodfight!",
           "Animation"
          ],
          [
           "A Company Man",
           "Drama"
          ],
          [
           "Jimmy P.",
           "Drama"
          ],
          [
           "White Tiger",
           "Action"
          ],
          [
           "Captive",
           "Drama"
          ],
          [
           "Rita's Last Fairy Tale",
           null
          ],
          [
           "Grandmaster",
           "Mystery"
          ],
          [
           "Voracious",
           "Comedy"
          ],
          [
           "The Spy",
           "Action"
          ],
          [
           "Mommies, Happy New Year!",
           "Comedy"
          ]
         ],
         "dimensions": [
          {
           "axis": {
            "matches": true
           },
           "label": "budget",
           "values": [
            "100000000",
            "25000000",
            "40000000",
            "85000000",
            "150000000",
            "16000000",
            "10000000",
            "45000000",
            "35000000",
            "26000000",
            "5000000",
            "14000000",
            "2500000",
            "12000000",
            "3800000",
            "12500000",
            "1000000",
            "8900000",
            "20000000",
            "35000000",
            "25000000",
            "60000000",
            "12000000",
            "15000000",
            "6500000",
            "11500000",
            "3000000",
            "35000000",
            "130000000",
            "13000000",
            "13000000",
            "20000000",
            "25000000",
            "10000000",
            "11000000",
            "23000000",
            "2000000",
            "500000",
            "3000000",
            "130000000",
            "2200000",
            "18000000",
            "105000000",
            "80000000",
            "35000000",
            "60000000",
            "30000000",
            "12000000",
            "5000000",
            "100000",
            "50000000",
            "9000000",
            "11000000",
            "7000000",
            "30000000",
            "39200000",
            "22000000",
            "33000000",
            "1500000",
            "16000000",
            "19700000",
            "2900000",
            "6500000",
            "20000000",
            "65000000",
            "3500000",
            "10000000",
            "11000000",
            "11180",
            "200000",
            "120000",
            "11178",
            "6000000",
            "2000000"
           ]
          },
          {
           "axis": {
            "matches": true
           },
           "label": "revenue",
           "values": [
            312573423,
            63100000,
            24719215,
            183018522,
            245527149,
            68263166,
            9636289,
            82966152,
            31083599,
            53676580,
            8493728,
            85446075,
            3325038,
            35485056,
            16800000,
            1353868,
            9138338,
            29844753,
            4636169,
            88058786,
            119772232,
            105200903,
            2521,
            146497771,
            2401510,
            1402307,
            11176469,
            42930462,
            371876278,
            68572378,
            18000000,
            78378744,
            86175291,
            21587700,
            10631747,
            15600000,
            58510,
            1000000,
            89328627,
            61648500,
            208000000,
            99206215,
            347434178,
            246984278,
            13785015,
            90565421,
            62616646,
            15008161,
            9114264,
            95000,
            122915111,
            6108720,
            32935319,
            6147,
            4861022,
            86758912,
            24000000,
            9494789,
            1938,
            5867686,
            30000000,
            74918,
            3721345,
            27187375,
            73706,
            7339398,
            30283,
            7200000,
            24591,
            486937,
            130000,
            34659,
            4588176,
            11666088
           ]
          },
          {
           "axis": {
            "matches": true
           },
           "label": "Unemployment_Rate",
           "values": [
            8.1,
            8.3,
            8.3,
            8.2,
            8.2,
            8.2,
            8.2,
            8.2,
            8.1,
            8.1,
            8.2,
            8.1,
            8.1,
            7.8,
            8.1,
            7.8,
            8.2,
            8.2,
            8.1,
            7.9,
            7.9,
            8,
            8.2,
            8,
            7.5,
            7.8,
            7.6,
            7.7,
            7.5,
            7.5,
            7.5,
            7.6,
            7.6,
            7.5,
            7.5,
            7.5,
            7.8,
            7.7,
            7.5,
            7.3,
            7.9,
            7.3,
            7.3,
            7.3,
            7.2,
            7.2,
            7.2,
            7.2,
            7.2,
            8.2,
            7.2,
            7.2,
            7.2,
            8,
            6.9,
            7.2,
            7.3,
            7.2,
            7.8,
            7.3,
            6.9,
            7.5,
            6.9,
            7.3,
            8.2,
            7.8,
            7.2,
            8.2,
            7.8,
            7.7,
            8.2,
            7.8,
            8.2,
            7.9
           ]
          },
          {
           "axis": {
            "matches": true
           },
           "label": "vote_average",
           "values": [
            6.1,
            6.1,
            6.6,
            5.5,
            5.7,
            7.6,
            6.3,
            6.2,
            6.2,
            6.8,
            4.1,
            5.8,
            6.8,
            6.1,
            7.9,
            5.4,
            6.6,
            7.5,
            5.6,
            5.6,
            5.8,
            6.2,
            5.2,
            6,
            6.5,
            5.1,
            7.3,
            5.8,
            5.4,
            6.6,
            5.5,
            4.6,
            6.1,
            7,
            7.1,
            6.6,
            5.3,
            5.5,
            6,
            5.4,
            6.1,
            7,
            5.5,
            5.8,
            5.6,
            6.2,
            5.5,
            5.3,
            6.8,
            5.5,
            6.7,
            6.6,
            7.2,
            6,
            5.9,
            6.7,
            6,
            6.7,
            6.1,
            6.2,
            6.6,
            5.5,
            5.7,
            5.8,
            2.3,
            6.6,
            6,
            5.9,
            5.9,
            7.4,
            6.1,
            8,
            4.6,
            5.3
           ]
          },
          {
           "axis": {
            "matches": true
           },
           "label": "vote_count",
           "values": [
            2940,
            777,
            153,
            1148,
            2383,
            1701,
            713,
            784,
            848,
            1055,
            319,
            509,
            454,
            300,
            946,
            244,
            183,
            413,
            223,
            909,
            212,
            1805,
            69,
            1452,
            308,
            139,
            583,
            1155,
            3045,
            1275,
            307,
            813,
            1595,
            1080,
            161,
            307,
            110,
            28,
            2498,
            1280,
            28,
            1126,
            711,
            1180,
            358,
            1649,
            547,
            642,
            628,
            94,
            1688,
            679,
            845,
            71,
            632,
            2910,
            127,
            234,
            65,
            256,
            128,
            173,
            59,
            74,
            28,
            52,
            30,
            24,
            11,
            8,
            10,
            1,
            10,
            9
           ]
          }
         ],
         "hovertemplate": "cluster_string=c2<br>%{xaxis.title.text}=%{x}<br>%{yaxis.title.text}=%{y}<br>title=%{customdata[0]}<br>genres=%{customdata[1]}<extra></extra>",
         "legendgroup": "c2",
         "marker": {
          "color": "#00cc96",
          "symbol": "circle"
         },
         "name": "c2",
         "showlegend": true,
         "type": "splom"
        },
        {
         "customdata": [
          [
           "August: Osage County",
           "Comedy"
          ],
          [
           "American Hustle",
           "Drama"
          ],
          [
           "Her",
           "Romance"
          ],
          [
           "Ride Along",
           "Action"
          ],
          [
           "Divergent",
           "Adventure"
          ],
          [
           "Labor Day",
           "Drama"
          ],
          [
           "Sabotage",
           "Action"
          ],
          [
           "Joe",
           "Drama"
          ],
          [
           "Mr. Peabody & Sherman",
           "Animation"
          ],
          [
           "13 Sins",
           "Horror"
          ],
          [
           "Muppets Most Wanted",
           "Comedy"
          ],
          [
           "A Most Wanted Man",
           "Thriller"
          ],
          [
           "The Rover",
           "Crime"
          ],
          [
           "Teenage Mutant Ninja Turtles",
           "Science Fiction"
          ],
          [
           "Sin City: A Dame to Kill For",
           "Crime"
          ],
          [
           "The Drop",
           "Drama"
          ],
          [
           "The Boxtrolls",
           "Animation"
          ],
          [
           "Walking With Dinosaurs",
           "Animation"
          ],
          [
           "Exodus: Gods and Kings",
           "Adventure"
          ],
          [
           "Dumb and Dumber To",
           "Comedy"
          ],
          [
           "The Loft",
           "Thriller"
          ],
          [
           "Lost River",
           "Fantasy"
          ],
          [
           "Tomorrowland",
           "Adventure"
          ],
          [
           "The Vatican Tapes",
           "Thriller"
          ],
          [
           "Paranormal Activity: The Ghost Dimension",
           "Horror"
          ],
          [
           "Louder Than Bombs",
           "Drama"
          ],
          [
           "Jane Got a Gun",
           "Action"
          ],
          [
           "Triple 9",
           "Action"
          ],
          [
           "The Angry Birds Movie",
           "Family"
          ],
          [
           "Resident Evil: The Final Chapter",
           "Action"
          ]
         ],
         "dimensions": [
          {
           "axis": {
            "matches": true
           },
           "label": "budget",
           "values": [
            "25000000",
            "40000000",
            "23000000",
            "25000000",
            "85000000",
            "18000000",
            "35000000",
            "4000000",
            "145000000",
            "5000000",
            "50000000",
            "15000000",
            "12250000",
            "125000000",
            "65000000",
            "12600000",
            "60000000",
            "80000000",
            "140000000",
            "40000000",
            "14000000",
            "2000000",
            "190000000",
            "13000000",
            "10000000",
            "11000000",
            "25000000",
            "20000000",
            "73000000",
            "40000000"
           ]
          },
          {
           "axis": {
            "matches": true
           },
           "label": "revenue",
           "values": [
            74188937,
            251171807,
            47351251,
            153997819,
            288747895,
            20275812,
            17508518,
            2365467,
            272912430,
            13809,
            80383290,
            31554855,
            2295423,
            477200000,
            39407616,
            19054534,
            108255770,
            126546518,
            268031828,
            169837010,
            10076790,
            45431,
            209154322,
            1784763,
            78096553,
            161789,
            1397284,
            12639297,
            349779543,
            312242626
           ]
          },
          {
           "axis": {
            "matches": true
           },
           "label": "Unemployment_Rate",
           "values": [
            6.7,
            6.7,
            6.7,
            6.6,
            6.7,
            6.7,
            6.7,
            6.2,
            6.7,
            6.2,
            6.7,
            6.2,
            6.3,
            6.1,
            6.1,
            5.9,
            5.9,
            6.7,
            5.6,
            5.8,
            5.7,
            5.4,
            5.6,
            5.2,
            5,
            5.6,
            4.8,
            4.9,
            4.8,
            4.7
           ]
          },
          {
           "axis": {
            "matches": true
           },
           "label": "vote_average",
           "values": [
            6.9,
            6.8,
            7.9,
            6.1,
            6.9,
            6.7,
            5.5,
            6.5,
            6.7,
            6.2,
            6.2,
            6.5,
            6.1,
            5.8,
            6.3,
            6.7,
            6.6,
            5.2,
            5.6,
            5.4,
            6.4,
            5.8,
            6.2,
            4.6,
            5,
            6.7,
            5.4,
            5.6,
            5.9,
            5.9
           ]
          },
          {
           "axis": {
            "matches": true
           },
           "label": "vote_count",
           "values": [
            497,
            2868,
            4215,
            867,
            4784,
            306,
            560,
            346,
            861,
            355,
            318,
            545,
            295,
            2677,
            1314,
            859,
            689,
            136,
            1957,
            1140,
            500,
            228,
            2904,
            248,
            435,
            93,
            293,
            812,
            1048,
            1139
           ]
          }
         ],
         "hovertemplate": "cluster_string=c3<br>%{xaxis.title.text}=%{x}<br>%{yaxis.title.text}=%{y}<br>title=%{customdata[0]}<br>genres=%{customdata[1]}<extra></extra>",
         "legendgroup": "c3",
         "marker": {
          "color": "#ab63fa",
          "symbol": "circle"
         },
         "name": "c3",
         "showlegend": true,
         "type": "splom"
        }
       ],
       "layout": {
        "dragmode": "select",
        "height": 1000,
        "legend": {
         "title": {
          "text": "cluster_string"
         },
         "tracegroupgap": 0
        },
        "margin": {
         "t": 60
        },
        "template": {
         "data": {
          "bar": [
           {
            "error_x": {
             "color": "#2a3f5f"
            },
            "error_y": {
             "color": "#2a3f5f"
            },
            "marker": {
             "line": {
              "color": "#E5ECF6",
              "width": 0.5
             }
            },
            "type": "bar"
           }
          ],
          "barpolar": [
           {
            "marker": {
             "line": {
              "color": "#E5ECF6",
              "width": 0.5
             }
            },
            "type": "barpolar"
           }
          ],
          "carpet": [
           {
            "aaxis": {
             "endlinecolor": "#2a3f5f",
             "gridcolor": "white",
             "linecolor": "white",
             "minorgridcolor": "white",
             "startlinecolor": "#2a3f5f"
            },
            "baxis": {
             "endlinecolor": "#2a3f5f",
             "gridcolor": "white",
             "linecolor": "white",
             "minorgridcolor": "white",
             "startlinecolor": "#2a3f5f"
            },
            "type": "carpet"
           }
          ],
          "choropleth": [
           {
            "colorbar": {
             "outlinewidth": 0,
             "ticks": ""
            },
            "type": "choropleth"
           }
          ],
          "contour": [
           {
            "colorbar": {
             "outlinewidth": 0,
             "ticks": ""
            },
            "colorscale": [
             [
              0,
              "#0d0887"
             ],
             [
              0.1111111111111111,
              "#46039f"
             ],
             [
              0.2222222222222222,
              "#7201a8"
             ],
             [
              0.3333333333333333,
              "#9c179e"
             ],
             [
              0.4444444444444444,
              "#bd3786"
             ],
             [
              0.5555555555555556,
              "#d8576b"
             ],
             [
              0.6666666666666666,
              "#ed7953"
             ],
             [
              0.7777777777777778,
              "#fb9f3a"
             ],
             [
              0.8888888888888888,
              "#fdca26"
             ],
             [
              1,
              "#f0f921"
             ]
            ],
            "type": "contour"
           }
          ],
          "contourcarpet": [
           {
            "colorbar": {
             "outlinewidth": 0,
             "ticks": ""
            },
            "type": "contourcarpet"
           }
          ],
          "heatmap": [
           {
            "colorbar": {
             "outlinewidth": 0,
             "ticks": ""
            },
            "colorscale": [
             [
              0,
              "#0d0887"
             ],
             [
              0.1111111111111111,
              "#46039f"
             ],
             [
              0.2222222222222222,
              "#7201a8"
             ],
             [
              0.3333333333333333,
              "#9c179e"
             ],
             [
              0.4444444444444444,
              "#bd3786"
             ],
             [
              0.5555555555555556,
              "#d8576b"
             ],
             [
              0.6666666666666666,
              "#ed7953"
             ],
             [
              0.7777777777777778,
              "#fb9f3a"
             ],
             [
              0.8888888888888888,
              "#fdca26"
             ],
             [
              1,
              "#f0f921"
             ]
            ],
            "type": "heatmap"
           }
          ],
          "heatmapgl": [
           {
            "colorbar": {
             "outlinewidth": 0,
             "ticks": ""
            },
            "colorscale": [
             [
              0,
              "#0d0887"
             ],
             [
              0.1111111111111111,
              "#46039f"
             ],
             [
              0.2222222222222222,
              "#7201a8"
             ],
             [
              0.3333333333333333,
              "#9c179e"
             ],
             [
              0.4444444444444444,
              "#bd3786"
             ],
             [
              0.5555555555555556,
              "#d8576b"
             ],
             [
              0.6666666666666666,
              "#ed7953"
             ],
             [
              0.7777777777777778,
              "#fb9f3a"
             ],
             [
              0.8888888888888888,
              "#fdca26"
             ],
             [
              1,
              "#f0f921"
             ]
            ],
            "type": "heatmapgl"
           }
          ],
          "histogram": [
           {
            "marker": {
             "colorbar": {
              "outlinewidth": 0,
              "ticks": ""
             }
            },
            "type": "histogram"
           }
          ],
          "histogram2d": [
           {
            "colorbar": {
             "outlinewidth": 0,
             "ticks": ""
            },
            "colorscale": [
             [
              0,
              "#0d0887"
             ],
             [
              0.1111111111111111,
              "#46039f"
             ],
             [
              0.2222222222222222,
              "#7201a8"
             ],
             [
              0.3333333333333333,
              "#9c179e"
             ],
             [
              0.4444444444444444,
              "#bd3786"
             ],
             [
              0.5555555555555556,
              "#d8576b"
             ],
             [
              0.6666666666666666,
              "#ed7953"
             ],
             [
              0.7777777777777778,
              "#fb9f3a"
             ],
             [
              0.8888888888888888,
              "#fdca26"
             ],
             [
              1,
              "#f0f921"
             ]
            ],
            "type": "histogram2d"
           }
          ],
          "histogram2dcontour": [
           {
            "colorbar": {
             "outlinewidth": 0,
             "ticks": ""
            },
            "colorscale": [
             [
              0,
              "#0d0887"
             ],
             [
              0.1111111111111111,
              "#46039f"
             ],
             [
              0.2222222222222222,
              "#7201a8"
             ],
             [
              0.3333333333333333,
              "#9c179e"
             ],
             [
              0.4444444444444444,
              "#bd3786"
             ],
             [
              0.5555555555555556,
              "#d8576b"
             ],
             [
              0.6666666666666666,
              "#ed7953"
             ],
             [
              0.7777777777777778,
              "#fb9f3a"
             ],
             [
              0.8888888888888888,
              "#fdca26"
             ],
             [
              1,
              "#f0f921"
             ]
            ],
            "type": "histogram2dcontour"
           }
          ],
          "mesh3d": [
           {
            "colorbar": {
             "outlinewidth": 0,
             "ticks": ""
            },
            "type": "mesh3d"
           }
          ],
          "parcoords": [
           {
            "line": {
             "colorbar": {
              "outlinewidth": 0,
              "ticks": ""
             }
            },
            "type": "parcoords"
           }
          ],
          "pie": [
           {
            "automargin": true,
            "type": "pie"
           }
          ],
          "scatter": [
           {
            "marker": {
             "colorbar": {
              "outlinewidth": 0,
              "ticks": ""
             }
            },
            "type": "scatter"
           }
          ],
          "scatter3d": [
           {
            "line": {
             "colorbar": {
              "outlinewidth": 0,
              "ticks": ""
             }
            },
            "marker": {
             "colorbar": {
              "outlinewidth": 0,
              "ticks": ""
             }
            },
            "type": "scatter3d"
           }
          ],
          "scattercarpet": [
           {
            "marker": {
             "colorbar": {
              "outlinewidth": 0,
              "ticks": ""
             }
            },
            "type": "scattercarpet"
           }
          ],
          "scattergeo": [
           {
            "marker": {
             "colorbar": {
              "outlinewidth": 0,
              "ticks": ""
             }
            },
            "type": "scattergeo"
           }
          ],
          "scattergl": [
           {
            "marker": {
             "colorbar": {
              "outlinewidth": 0,
              "ticks": ""
             }
            },
            "type": "scattergl"
           }
          ],
          "scattermapbox": [
           {
            "marker": {
             "colorbar": {
              "outlinewidth": 0,
              "ticks": ""
             }
            },
            "type": "scattermapbox"
           }
          ],
          "scatterpolar": [
           {
            "marker": {
             "colorbar": {
              "outlinewidth": 0,
              "ticks": ""
             }
            },
            "type": "scatterpolar"
           }
          ],
          "scatterpolargl": [
           {
            "marker": {
             "colorbar": {
              "outlinewidth": 0,
              "ticks": ""
             }
            },
            "type": "scatterpolargl"
           }
          ],
          "scatterternary": [
           {
            "marker": {
             "colorbar": {
              "outlinewidth": 0,
              "ticks": ""
             }
            },
            "type": "scatterternary"
           }
          ],
          "surface": [
           {
            "colorbar": {
             "outlinewidth": 0,
             "ticks": ""
            },
            "colorscale": [
             [
              0,
              "#0d0887"
             ],
             [
              0.1111111111111111,
              "#46039f"
             ],
             [
              0.2222222222222222,
              "#7201a8"
             ],
             [
              0.3333333333333333,
              "#9c179e"
             ],
             [
              0.4444444444444444,
              "#bd3786"
             ],
             [
              0.5555555555555556,
              "#d8576b"
             ],
             [
              0.6666666666666666,
              "#ed7953"
             ],
             [
              0.7777777777777778,
              "#fb9f3a"
             ],
             [
              0.8888888888888888,
              "#fdca26"
             ],
             [
              1,
              "#f0f921"
             ]
            ],
            "type": "surface"
           }
          ],
          "table": [
           {
            "cells": {
             "fill": {
              "color": "#EBF0F8"
             },
             "line": {
              "color": "white"
             }
            },
            "header": {
             "fill": {
              "color": "#C8D4E3"
             },
             "line": {
              "color": "white"
             }
            },
            "type": "table"
           }
          ]
         },
         "layout": {
          "annotationdefaults": {
           "arrowcolor": "#2a3f5f",
           "arrowhead": 0,
           "arrowwidth": 1
          },
          "autotypenumbers": "strict",
          "coloraxis": {
           "colorbar": {
            "outlinewidth": 0,
            "ticks": ""
           }
          },
          "colorscale": {
           "diverging": [
            [
             0,
             "#8e0152"
            ],
            [
             0.1,
             "#c51b7d"
            ],
            [
             0.2,
             "#de77ae"
            ],
            [
             0.3,
             "#f1b6da"
            ],
            [
             0.4,
             "#fde0ef"
            ],
            [
             0.5,
             "#f7f7f7"
            ],
            [
             0.6,
             "#e6f5d0"
            ],
            [
             0.7,
             "#b8e186"
            ],
            [
             0.8,
             "#7fbc41"
            ],
            [
             0.9,
             "#4d9221"
            ],
            [
             1,
             "#276419"
            ]
           ],
           "sequential": [
            [
             0,
             "#0d0887"
            ],
            [
             0.1111111111111111,
             "#46039f"
            ],
            [
             0.2222222222222222,
             "#7201a8"
            ],
            [
             0.3333333333333333,
             "#9c179e"
            ],
            [
             0.4444444444444444,
             "#bd3786"
            ],
            [
             0.5555555555555556,
             "#d8576b"
            ],
            [
             0.6666666666666666,
             "#ed7953"
            ],
            [
             0.7777777777777778,
             "#fb9f3a"
            ],
            [
             0.8888888888888888,
             "#fdca26"
            ],
            [
             1,
             "#f0f921"
            ]
           ],
           "sequentialminus": [
            [
             0,
             "#0d0887"
            ],
            [
             0.1111111111111111,
             "#46039f"
            ],
            [
             0.2222222222222222,
             "#7201a8"
            ],
            [
             0.3333333333333333,
             "#9c179e"
            ],
            [
             0.4444444444444444,
             "#bd3786"
            ],
            [
             0.5555555555555556,
             "#d8576b"
            ],
            [
             0.6666666666666666,
             "#ed7953"
            ],
            [
             0.7777777777777778,
             "#fb9f3a"
            ],
            [
             0.8888888888888888,
             "#fdca26"
            ],
            [
             1,
             "#f0f921"
            ]
           ]
          },
          "colorway": [
           "#636efa",
           "#EF553B",
           "#00cc96",
           "#ab63fa",
           "#FFA15A",
           "#19d3f3",
           "#FF6692",
           "#B6E880",
           "#FF97FF",
           "#FECB52"
          ],
          "font": {
           "color": "#2a3f5f"
          },
          "geo": {
           "bgcolor": "white",
           "lakecolor": "white",
           "landcolor": "#E5ECF6",
           "showlakes": true,
           "showland": true,
           "subunitcolor": "white"
          },
          "hoverlabel": {
           "align": "left"
          },
          "hovermode": "closest",
          "mapbox": {
           "style": "light"
          },
          "paper_bgcolor": "white",
          "plot_bgcolor": "#E5ECF6",
          "polar": {
           "angularaxis": {
            "gridcolor": "white",
            "linecolor": "white",
            "ticks": ""
           },
           "bgcolor": "#E5ECF6",
           "radialaxis": {
            "gridcolor": "white",
            "linecolor": "white",
            "ticks": ""
           }
          },
          "scene": {
           "xaxis": {
            "backgroundcolor": "#E5ECF6",
            "gridcolor": "white",
            "gridwidth": 2,
            "linecolor": "white",
            "showbackground": true,
            "ticks": "",
            "zerolinecolor": "white"
           },
           "yaxis": {
            "backgroundcolor": "#E5ECF6",
            "gridcolor": "white",
            "gridwidth": 2,
            "linecolor": "white",
            "showbackground": true,
            "ticks": "",
            "zerolinecolor": "white"
           },
           "zaxis": {
            "backgroundcolor": "#E5ECF6",
            "gridcolor": "white",
            "gridwidth": 2,
            "linecolor": "white",
            "showbackground": true,
            "ticks": "",
            "zerolinecolor": "white"
           }
          },
          "shapedefaults": {
           "line": {
            "color": "#2a3f5f"
           }
          },
          "ternary": {
           "aaxis": {
            "gridcolor": "white",
            "linecolor": "white",
            "ticks": ""
           },
           "baxis": {
            "gridcolor": "white",
            "linecolor": "white",
            "ticks": ""
           },
           "bgcolor": "#E5ECF6",
           "caxis": {
            "gridcolor": "white",
            "linecolor": "white",
            "ticks": ""
           }
          },
          "title": {
           "x": 0.05
          },
          "xaxis": {
           "automargin": true,
           "gridcolor": "white",
           "linecolor": "white",
           "ticks": "",
           "title": {
            "standoff": 15
           },
           "zerolinecolor": "white",
           "zerolinewidth": 2
          },
          "yaxis": {
           "automargin": true,
           "gridcolor": "white",
           "linecolor": "white",
           "ticks": "",
           "title": {
            "standoff": 15
           },
           "zerolinecolor": "white",
           "zerolinewidth": 2
          }
         }
        },
        "title": {
         "text": "Cluster Scatter Matrix"
        },
        "width": 800
       }
      },
      "text/html": [
       "<div>                            <div id=\"68490e95-de87-401f-b0d1-652b2c02426e\" class=\"plotly-graph-div\" style=\"height:1000px; width:800px;\"></div>            <script type=\"text/javascript\">                require([\"plotly\"], function(Plotly) {                    window.PLOTLYENV=window.PLOTLYENV || {};                                    if (document.getElementById(\"68490e95-de87-401f-b0d1-652b2c02426e\")) {                    Plotly.newPlot(                        \"68490e95-de87-401f-b0d1-652b2c02426e\",                        [{\"customdata\": [[\"Percy Jackson & the Olympians: The Lightning Thief\", \"Adventure\"], [\"My Name Is Khan\", \"Drama\"], [\"From Paris with Love\", \"Action\"], [\"She's Out of My League\", \"Comedy\"], [\"The Bounty Hunter\", \"Action\"], [\"Repo Men\", \"Action\"], [\"Ca$h\", \"Crime\"], [\"Four Lions\", \"Comedy\"], [\"Buried\", \"Drama\"], [\"The Sorcerer's Apprentice\", \"Fantasy\"], [\"Salt\", \"Action\"], [\"It's Kind of a Funny Story\", \"Comedy\"], [\"Let Me In\", \"Drama\"], [\"Dirty Girl\", \"Drama\"], [\"127 Hours\", \"Adventure\"], [\"Hatchet II\", \"Horror\"], [\"Tomorrow, When the War Began\", \"Action\"], [\"Vanishing on 7th Street\", \"Mystery\"], [\"The Eagle\", \"Adventure\"], [\"Battle: Los Angeles\", \"Action\"], [\"The Princess of Montpensier\", \"Action\"], [\"Bridesmaids\", \"Comedy\"], [\"The Tree of Life\", \"Drama\"], [\"Pina\", \"Documentary\"], [\"Everything Must Go\", \"Comedy\"], [\"Larry Crowne\", \"Comedy\"], [\"Horrible Bosses\", \"Comedy\"], [\"30 Minutes or Less\", \"Action\"], [\"Glee: The Concert Movie\", \"Documentary\"], [\"The Conspirator\", \"Crime\"], [\"A Dangerous Method\", \"Drama\"], [\"Warrior\", \"Action\"], [\"Enthiran\", \"Action\"], [\"In Time\", \"Action\"], [\"Carnage\", \"Comedy\"], [\"Paranormal Activity 3\", \"Horror\"], [\"The Double\", \"Action\"], [\"Shaolin\", \"Action\"], [\"The Iron Lady\", \"History\"], [\"The Flowers of War\", \"Drama\"], [\"Chapiteau-Show\", \"Comedy\"], [\"Silent House\", \"Horror\"], [\"5 Days of War\", \"War\"], [\"War of the Arrows\", \"Drama\"], [\"Behind the Burly Q\", \"Documentary\"], [\"Late Autumn\", \"Drama\"], [\"17 Girls\", \"Drama\"], [\"Remington and the Curse of the Zombadings\", \"Foreign\"], [\"Mere Brother Ki Dulhan\", \"Drama\"], [\"La peggior settimana della mia vita\", \"Comedy\"], [\"William & Kate\", \"Drama\"], [\"Pregnant\", \"Comedy\"]], \"dimensions\": [{\"axis\": {\"matches\": true}, \"label\": \"budget\", \"values\": [\"95000000\", \"12000000\", \"52000000\", \"20000000\", \"40000000\", \"32000000\", \"7000000\", \"967686\", \"1987650\", \"150000000\", \"110000000\", \"8000000\", \"20000000\", \"4000000\", \"18000000\", \"2500000\", \"27000000\", \"10000000\", \"25000000\", \"70000000\", \"14734000\", \"32500000\", \"32000000\", \"4317946\", \"5000000\", \"30000000\", \"35000000\", \"28000000\", \"9000000\", \"25000000\", \"15000000\", \"25000000\", \"26400000\", \"40000000\", \"25000000\", \"5000000\", \"17000000\", \"29000000\", \"13000000\", \"94000000\", \"2000000\", \"2000000\", \"20000000\", \"8000000\", \"250000\", \"6200000\", \"4141459\", \"22361\", \"5510000\", \"11000000\", \"20\", \"2000000\"]}, {\"axis\": {\"matches\": true}, \"label\": \"revenue\", \"values\": [226497209.0, 42345360.0, 52826594.0, 49779728.0, 136000000.0, 18409891.0, 46488.0, 4270000.0, 19152480.0, 215283742.0, 293329073.0, 6491240.0, 24145613.0, 55125.0, 35692920.0, 52604.0, 16504936.0, 1068682.0, 27122040.0, 202466756.0, 6775121.0, 288383523.0, 54674226.0, 14624826.0, 2614773.0, 36160375.0, 117000000.0, 40547440.0, 18663238.0, 15478800.0, 27462041.0, 23057115.0, 62000000.0, 173930596.0, 27603069.0, 205703818.0, 3696232.0, 33662874.0, 114956699.0, 95311434.0, 393816.0, 13101672.0, 17479.0, 49000000.0, 23859.0, 4820000.0, 201607.0, 721651.0, 18050000.0, 12935800.0, 15.0, 8000000.0]}, {\"axis\": {\"matches\": true}, \"label\": \"Unemployment_Rate\", \"values\": [9.8, 9.8, 9.8, 9.9, 9.9, 9.9, 9.8, 9.6, 9.5, 9.4, 9.4, 9.4, 9.4, 9.5, 9.8, 9.5, 9.5, 9.5, 9.0, 9.0, 9.8, 9.1, 9.0, 9.0, 9.4, 9.1, 9.0, 9.0, 9.0, 9.5, 9.0, 9.0, 9.4, 8.8, 9.0, 8.8, 8.8, 9.1, 8.5, 8.5, 8.5, 9.1, 9.1, 9.0, 9.9, 9.5, 9.1, 9.0, 9.0, 8.8, 9.1, 9.0]}, {\"axis\": {\"matches\": true}, \"label\": \"vote_average\", \"values\": [6.0, 7.7, 6.2, 5.9, 5.6, 6.2, 6.0, 7.1, 6.6, 5.9, 6.2, 6.9, 6.7, 6.4, 7.0, 5.6, 6.2, 4.8, 5.9, 5.5, 6.4, 6.5, 6.5, 7.3, 6.0, 5.7, 6.4, 5.6, 6.9, 6.2, 6.2, 7.7, 6.5, 6.7, 7.0, 5.9, 5.8, 6.5, 6.2, 7.1, 6.8, 5.2, 5.8, 6.7, 5.5, 6.9, 5.6, 5.3, 6.5, 5.9, 5.8, 3.1]}, {\"axis\": {\"matches\": true}, \"label\": \"vote_count\", \"values\": [2079.0, 237.0, 684.0, 544.0, 878.0, 627.0, 73.0, 428.0, 853.0, 1526.0, 2125.0, 691.0, 656.0, 71.0, 2668.0, 91.0, 195.0, 165.0, 426.0, 1462.0, 42.0, 1697.0, 1009.0, 76.0, 210.0, 369.0, 2341.0, 537.0, 81.0, 138.0, 589.0, 1297.0, 46.0, 3512.0, 760.0, 685.0, 226.0, 102.0, 540.0, 193.0, 13.0, 125.0, 63.0, 68.0, 3.0, 22.0, 103.0, 5.0, 19.0, 96.0, 30.0, 7.0]}], \"hovertemplate\": \"cluster_string=c0<br>%{xaxis.title.text}=%{x}<br>%{yaxis.title.text}=%{y}<br>title=%{customdata[0]}<br>genres=%{customdata[1]}<extra></extra>\", \"legendgroup\": \"c0\", \"marker\": {\"color\": \"#636efa\", \"symbol\": \"circle\"}, \"name\": \"c0\", \"showlegend\": true, \"type\": \"splom\"}, {\"customdata\": [[\"Inception\", \"Action\"], [\"Pirates of the Caribbean: On Stranger Tides\", \"Adventure\"], [\"Cars 2\", \"Animation\"], [\"Captain America: The First Avenger\", \"Action\"], [\"The Twilight Saga: Breaking Dawn - Part 1\", \"Adventure\"], [\"Snow White and the Huntsman\", \"Adventure\"], [\"Madagascar 3: Europe's Most Wanted\", \"Animation\"], [\"The Amazing Spider-Man\", \"Action\"], [\"The Hunger Games: Catching Fire\", \"Adventure\"], [\"The Wolf of Wall Street\", \"Crime\"], [\"Interstellar\", \"Adventure\"], [\"X-Men: Days of Future Past\", \"Action\"], [\"Godzilla\", \"Action\"], [\"Dawn of the Planet of the Apes\", \"Science Fiction\"], [\"Guardians of the Galaxy\", \"Action\"], [\"Avengers: Age of Ultron\", \"Action\"], [\"Ant-Man\", \"Science Fiction\"], [\"Inside Out\", \"Drama\"], [\"The Hunger Games: Mockingjay - Part 2\", \"Action\"]], \"dimensions\": [{\"axis\": {\"matches\": true}, \"label\": \"budget\", \"values\": [\"160000000\", \"380000000\", \"200000000\", \"140000000\", \"110000000\", \"170000000\", \"145000000\", \"215000000\", \"130000000\", \"100000000\", \"165000000\", \"250000000\", \"160000000\", \"170000000\", \"170000000\", \"280000000\", \"130000000\", \"175000000\", \"160000000\"]}, {\"axis\": {\"matches\": true}, \"label\": \"revenue\", \"values\": [825532764.0, 1045713802.0, 559852396.0, 370569774.0, 712171856.0, 396600000.0, 746921274.0, 752215857.0, 847423452.0, 392000694.0, 675120017.0, 747862775.0, 529076069.0, 710644566.0, 773328629.0, 1405403694.0, 519311965.0, 857611174.0, 653428261.0]}, {\"axis\": {\"matches\": true}, \"label\": \"Unemployment_Rate\", \"values\": [9.4, 9.0, 9.1, 9.0, 9.0, 8.2, 8.2, 8.2, 6.9, 6.7, 5.8, 6.3, 6.3, 6.1, 6.2, 5.4, 5.2, 5.3, 5.1]}, {\"axis\": {\"matches\": true}, \"label\": \"vote_average\", \"values\": [8.1, 6.4, 5.8, 6.6, 5.8, 5.8, 6.4, 6.5, 7.4, 7.9, 8.1, 7.5, 6.1, 7.3, 7.9, 7.3, 7.0, 7.9, 6.6]}, {\"axis\": {\"matches\": true}, \"label\": \"vote_count\", \"values\": [14075.0, 5068.0, 2088.0, 7174.0, 2622.0, 3183.0, 1857.0, 6734.0, 6656.0, 6768.0, 11187.0, 6155.0, 3232.0, 4511.0, 10014.0, 6908.0, 6029.0, 6737.0, 4117.0]}], \"hovertemplate\": \"cluster_string=c1<br>%{xaxis.title.text}=%{x}<br>%{yaxis.title.text}=%{y}<br>title=%{customdata[0]}<br>genres=%{customdata[1]}<extra></extra>\", \"legendgroup\": \"c1\", \"marker\": {\"color\": \"#EF553B\", \"symbol\": \"circle\"}, \"name\": \"c1\", \"showlegend\": true, \"type\": \"splom\"}, {\"customdata\": [[\"The Expendables 2\", \"Action\"], [\"Contraband\", \"Thriller\"], [\"Big Miracle\", \"Adventure\"], [\"Mirror Mirror\", \"Adventure\"], [\"Dark Shadows\", \"Comedy\"], [\"Moonrise Kingdom\", \"Comedy\"], [\"Seeking a Friend for the End of the World\", \"Comedy\"], [\"Savages\", \"Crime\"], [\"Premium Rush\", \"Crime\"], [\"Lawless\", \"Crime\"], [\"Piranha 3DD\", \"Horror\"], [\"The Possession\", \"Horror\"], [\"Robot & Frank\", \"Science Fiction\"], [\"Arbitrage\", \"Drama\"], [\"The Hunt\", \"Drama\"], [\"The Paperboy\", \"Thriller\"], [\"The Sessions\", \"Drama\"], [\"Amour\", \"Drama\"], [\"Fire with Fire\", \"Action\"], [\"This Is 40\", \"Comedy\"], [\"Parental Guidance\", \"Comedy\"], [\"Gangster Squad\", \"Crime\"], [\"The Samaritan\", \"Thriller\"], [\"Mama\", \"Horror\"], [\"The East\", \"Drama\"], [\"Universal Soldier: Day of Reckoning\", \"Thriller\"], [\"Before Midnight\", \"Romance\"], [\"Snitch\", \"Thriller\"], [\"G.I. Joe: Retaliation\", \"Adventure\"], [\"The Call\", \"Crime\"], [\"Admission\", \"Comedy\"], [\"Scary Movie 5\", \"Comedy\"], [\"Pain & Gain\", \"Thriller\"], [\"Mud\", \"Drama\"], [\"The Past\", \"Drama\"], [\"Behind the Candelabra\", \"Drama\"], [\"Aftershock\", \"Horror\"], [\"Redd Inc.\", \"Thriller\"], [\"The Purge\", \"Science Fiction\"], [\"R.I.P.D.\", \"Fantasy\"], [\"Lost in Thailand\", \"Comedy\"], [\"Blue Jasmine\", \"Comedy\"], [\"The Smurfs 2\", \"Fantasy\"], [\"Grown Ups 2\", \"Comedy\"], [\"Paranoia\", \"Drama\"], [\"The Mortal Instruments: City of Bones\", \"Action\"], [\"Runner Runner\", \"Crime\"], [\"Machete Kills\", \"Action\"], [\"Filth\", \"Crime\"], [\"Stitches\", \"Horror\"], [\"Escape Plan\", \"Action\"], [\"All Is Lost\", \"Action\"], [\"Inside Llewyn Davis\", \"Drama\"], [\"Sweetwater\", \"Western\"], [\"Oldboy\", \"Drama\"], [\"Snowpiercer\", \"Action\"], [\"Underdogs\", \"Animation\"], [\"The Young and Prodigious T.S. Spivet\", \"Adventure\"], [\"Best Man Down\", \"Comedy\"], [\"The Immigrant\", \"Drama\"], [\"Minuscule: Valley of the Lost Ants\", \"Animation\"], [\"No One Lives\", \"Horror\"], [\"Ragnarok\", \"Action\"], [\"Khumba\", \"Animation\"], [\"Foodfight!\", \"Animation\"], [\"A Company Man\", \"Drama\"], [\"Jimmy P.\", \"Drama\"], [\"White Tiger\", \"Action\"], [\"Captive\", \"Drama\"], [\"Rita's Last Fairy Tale\", null], [\"Grandmaster\", \"Mystery\"], [\"Voracious\", \"Comedy\"], [\"The Spy\", \"Action\"], [\"Mommies, Happy New Year!\", \"Comedy\"]], \"dimensions\": [{\"axis\": {\"matches\": true}, \"label\": \"budget\", \"values\": [\"100000000\", \"25000000\", \"40000000\", \"85000000\", \"150000000\", \"16000000\", \"10000000\", \"45000000\", \"35000000\", \"26000000\", \"5000000\", \"14000000\", \"2500000\", \"12000000\", \"3800000\", \"12500000\", \"1000000\", \"8900000\", \"20000000\", \"35000000\", \"25000000\", \"60000000\", \"12000000\", \"15000000\", \"6500000\", \"11500000\", \"3000000\", \"35000000\", \"130000000\", \"13000000\", \"13000000\", \"20000000\", \"25000000\", \"10000000\", \"11000000\", \"23000000\", \"2000000\", \"500000\", \"3000000\", \"130000000\", \"2200000\", \"18000000\", \"105000000\", \"80000000\", \"35000000\", \"60000000\", \"30000000\", \"12000000\", \"5000000\", \"100000\", \"50000000\", \"9000000\", \"11000000\", \"7000000\", \"30000000\", \"39200000\", \"22000000\", \"33000000\", \"1500000\", \"16000000\", \"19700000\", \"2900000\", \"6500000\", \"20000000\", \"65000000\", \"3500000\", \"10000000\", \"11000000\", \"11180\", \"200000\", \"120000\", \"11178\", \"6000000\", \"2000000\"]}, {\"axis\": {\"matches\": true}, \"label\": \"revenue\", \"values\": [312573423.0, 63100000.0, 24719215.0, 183018522.0, 245527149.0, 68263166.0, 9636289.0, 82966152.0, 31083599.0, 53676580.0, 8493728.0, 85446075.0, 3325038.0, 35485056.0, 16800000.0, 1353868.0, 9138338.0, 29844753.0, 4636169.0, 88058786.0, 119772232.0, 105200903.0, 2521.0, 146497771.0, 2401510.0, 1402307.0, 11176469.0, 42930462.0, 371876278.0, 68572378.0, 18000000.0, 78378744.0, 86175291.0, 21587700.0, 10631747.0, 15600000.0, 58510.0, 1000000.0, 89328627.0, 61648500.0, 208000000.0, 99206215.0, 347434178.0, 246984278.0, 13785015.0, 90565421.0, 62616646.0, 15008161.0, 9114264.0, 95000.0, 122915111.0, 6108720.0, 32935319.0, 6147.0, 4861022.0, 86758912.0, 24000000.0, 9494789.0, 1938.0, 5867686.0, 30000000.0, 74918.0, 3721345.0, 27187375.0, 73706.0, 7339398.0, 30283.0, 7200000.0, 24591.0, 486937.0, 130000.0, 34659.0, 4588176.0, 11666088.0]}, {\"axis\": {\"matches\": true}, \"label\": \"Unemployment_Rate\", \"values\": [8.1, 8.3, 8.3, 8.2, 8.2, 8.2, 8.2, 8.2, 8.1, 8.1, 8.2, 8.1, 8.1, 7.8, 8.1, 7.8, 8.2, 8.2, 8.1, 7.9, 7.9, 8.0, 8.2, 8.0, 7.5, 7.8, 7.6, 7.7, 7.5, 7.5, 7.5, 7.6, 7.6, 7.5, 7.5, 7.5, 7.8, 7.7, 7.5, 7.3, 7.9, 7.3, 7.3, 7.3, 7.2, 7.2, 7.2, 7.2, 7.2, 8.2, 7.2, 7.2, 7.2, 8.0, 6.9, 7.2, 7.3, 7.2, 7.8, 7.3, 6.9, 7.5, 6.9, 7.3, 8.2, 7.8, 7.2, 8.2, 7.8, 7.7, 8.2, 7.8, 8.2, 7.9]}, {\"axis\": {\"matches\": true}, \"label\": \"vote_average\", \"values\": [6.1, 6.1, 6.6, 5.5, 5.7, 7.6, 6.3, 6.2, 6.2, 6.8, 4.1, 5.8, 6.8, 6.1, 7.9, 5.4, 6.6, 7.5, 5.6, 5.6, 5.8, 6.2, 5.2, 6.0, 6.5, 5.1, 7.3, 5.8, 5.4, 6.6, 5.5, 4.6, 6.1, 7.0, 7.1, 6.6, 5.3, 5.5, 6.0, 5.4, 6.1, 7.0, 5.5, 5.8, 5.6, 6.2, 5.5, 5.3, 6.8, 5.5, 6.7, 6.6, 7.2, 6.0, 5.9, 6.7, 6.0, 6.7, 6.1, 6.2, 6.6, 5.5, 5.7, 5.8, 2.3, 6.6, 6.0, 5.9, 5.9, 7.4, 6.1, 8.0, 4.6, 5.3]}, {\"axis\": {\"matches\": true}, \"label\": \"vote_count\", \"values\": [2940.0, 777.0, 153.0, 1148.0, 2383.0, 1701.0, 713.0, 784.0, 848.0, 1055.0, 319.0, 509.0, 454.0, 300.0, 946.0, 244.0, 183.0, 413.0, 223.0, 909.0, 212.0, 1805.0, 69.0, 1452.0, 308.0, 139.0, 583.0, 1155.0, 3045.0, 1275.0, 307.0, 813.0, 1595.0, 1080.0, 161.0, 307.0, 110.0, 28.0, 2498.0, 1280.0, 28.0, 1126.0, 711.0, 1180.0, 358.0, 1649.0, 547.0, 642.0, 628.0, 94.0, 1688.0, 679.0, 845.0, 71.0, 632.0, 2910.0, 127.0, 234.0, 65.0, 256.0, 128.0, 173.0, 59.0, 74.0, 28.0, 52.0, 30.0, 24.0, 11.0, 8.0, 10.0, 1.0, 10.0, 9.0]}], \"hovertemplate\": \"cluster_string=c2<br>%{xaxis.title.text}=%{x}<br>%{yaxis.title.text}=%{y}<br>title=%{customdata[0]}<br>genres=%{customdata[1]}<extra></extra>\", \"legendgroup\": \"c2\", \"marker\": {\"color\": \"#00cc96\", \"symbol\": \"circle\"}, \"name\": \"c2\", \"showlegend\": true, \"type\": \"splom\"}, {\"customdata\": [[\"August: Osage County\", \"Comedy\"], [\"American Hustle\", \"Drama\"], [\"Her\", \"Romance\"], [\"Ride Along\", \"Action\"], [\"Divergent\", \"Adventure\"], [\"Labor Day\", \"Drama\"], [\"Sabotage\", \"Action\"], [\"Joe\", \"Drama\"], [\"Mr. Peabody & Sherman\", \"Animation\"], [\"13 Sins\", \"Horror\"], [\"Muppets Most Wanted\", \"Comedy\"], [\"A Most Wanted Man\", \"Thriller\"], [\"The Rover\", \"Crime\"], [\"Teenage Mutant Ninja Turtles\", \"Science Fiction\"], [\"Sin City: A Dame to Kill For\", \"Crime\"], [\"The Drop\", \"Drama\"], [\"The Boxtrolls\", \"Animation\"], [\"Walking With Dinosaurs\", \"Animation\"], [\"Exodus: Gods and Kings\", \"Adventure\"], [\"Dumb and Dumber To\", \"Comedy\"], [\"The Loft\", \"Thriller\"], [\"Lost River\", \"Fantasy\"], [\"Tomorrowland\", \"Adventure\"], [\"The Vatican Tapes\", \"Thriller\"], [\"Paranormal Activity: The Ghost Dimension\", \"Horror\"], [\"Louder Than Bombs\", \"Drama\"], [\"Jane Got a Gun\", \"Action\"], [\"Triple 9\", \"Action\"], [\"The Angry Birds Movie\", \"Family\"], [\"Resident Evil: The Final Chapter\", \"Action\"]], \"dimensions\": [{\"axis\": {\"matches\": true}, \"label\": \"budget\", \"values\": [\"25000000\", \"40000000\", \"23000000\", \"25000000\", \"85000000\", \"18000000\", \"35000000\", \"4000000\", \"145000000\", \"5000000\", \"50000000\", \"15000000\", \"12250000\", \"125000000\", \"65000000\", \"12600000\", \"60000000\", \"80000000\", \"140000000\", \"40000000\", \"14000000\", \"2000000\", \"190000000\", \"13000000\", \"10000000\", \"11000000\", \"25000000\", \"20000000\", \"73000000\", \"40000000\"]}, {\"axis\": {\"matches\": true}, \"label\": \"revenue\", \"values\": [74188937.0, 251171807.0, 47351251.0, 153997819.0, 288747895.0, 20275812.0, 17508518.0, 2365467.0, 272912430.0, 13809.0, 80383290.0, 31554855.0, 2295423.0, 477200000.0, 39407616.0, 19054534.0, 108255770.0, 126546518.0, 268031828.0, 169837010.0, 10076790.0, 45431.0, 209154322.0, 1784763.0, 78096553.0, 161789.0, 1397284.0, 12639297.0, 349779543.0, 312242626.0]}, {\"axis\": {\"matches\": true}, \"label\": \"Unemployment_Rate\", \"values\": [6.7, 6.7, 6.7, 6.6, 6.7, 6.7, 6.7, 6.2, 6.7, 6.2, 6.7, 6.2, 6.3, 6.1, 6.1, 5.9, 5.9, 6.7, 5.6, 5.8, 5.7, 5.4, 5.6, 5.2, 5.0, 5.6, 4.8, 4.9, 4.8, 4.7]}, {\"axis\": {\"matches\": true}, \"label\": \"vote_average\", \"values\": [6.9, 6.8, 7.9, 6.1, 6.9, 6.7, 5.5, 6.5, 6.7, 6.2, 6.2, 6.5, 6.1, 5.8, 6.3, 6.7, 6.6, 5.2, 5.6, 5.4, 6.4, 5.8, 6.2, 4.6, 5.0, 6.7, 5.4, 5.6, 5.9, 5.9]}, {\"axis\": {\"matches\": true}, \"label\": \"vote_count\", \"values\": [497.0, 2868.0, 4215.0, 867.0, 4784.0, 306.0, 560.0, 346.0, 861.0, 355.0, 318.0, 545.0, 295.0, 2677.0, 1314.0, 859.0, 689.0, 136.0, 1957.0, 1140.0, 500.0, 228.0, 2904.0, 248.0, 435.0, 93.0, 293.0, 812.0, 1048.0, 1139.0]}], \"hovertemplate\": \"cluster_string=c3<br>%{xaxis.title.text}=%{x}<br>%{yaxis.title.text}=%{y}<br>title=%{customdata[0]}<br>genres=%{customdata[1]}<extra></extra>\", \"legendgroup\": \"c3\", \"marker\": {\"color\": \"#ab63fa\", \"symbol\": \"circle\"}, \"name\": \"c3\", \"showlegend\": true, \"type\": \"splom\"}],                        {\"dragmode\": \"select\", \"height\": 1000, \"legend\": {\"title\": {\"text\": \"cluster_string\"}, \"tracegroupgap\": 0}, \"margin\": {\"t\": 60}, \"template\": {\"data\": {\"bar\": [{\"error_x\": {\"color\": \"#2a3f5f\"}, \"error_y\": {\"color\": \"#2a3f5f\"}, \"marker\": {\"line\": {\"color\": \"#E5ECF6\", \"width\": 0.5}}, \"type\": \"bar\"}], \"barpolar\": [{\"marker\": {\"line\": {\"color\": \"#E5ECF6\", \"width\": 0.5}}, \"type\": \"barpolar\"}], \"carpet\": [{\"aaxis\": {\"endlinecolor\": \"#2a3f5f\", \"gridcolor\": \"white\", \"linecolor\": \"white\", \"minorgridcolor\": \"white\", \"startlinecolor\": \"#2a3f5f\"}, \"baxis\": {\"endlinecolor\": \"#2a3f5f\", \"gridcolor\": \"white\", \"linecolor\": \"white\", \"minorgridcolor\": \"white\", \"startlinecolor\": \"#2a3f5f\"}, \"type\": \"carpet\"}], \"choropleth\": [{\"colorbar\": {\"outlinewidth\": 0, \"ticks\": \"\"}, \"type\": \"choropleth\"}], \"contour\": [{\"colorbar\": {\"outlinewidth\": 0, \"ticks\": \"\"}, \"colorscale\": [[0.0, \"#0d0887\"], [0.1111111111111111, \"#46039f\"], [0.2222222222222222, \"#7201a8\"], [0.3333333333333333, \"#9c179e\"], [0.4444444444444444, \"#bd3786\"], [0.5555555555555556, \"#d8576b\"], [0.6666666666666666, \"#ed7953\"], [0.7777777777777778, \"#fb9f3a\"], [0.8888888888888888, \"#fdca26\"], [1.0, \"#f0f921\"]], \"type\": \"contour\"}], \"contourcarpet\": [{\"colorbar\": {\"outlinewidth\": 0, \"ticks\": \"\"}, \"type\": \"contourcarpet\"}], \"heatmap\": [{\"colorbar\": {\"outlinewidth\": 0, \"ticks\": \"\"}, \"colorscale\": [[0.0, \"#0d0887\"], [0.1111111111111111, \"#46039f\"], [0.2222222222222222, \"#7201a8\"], [0.3333333333333333, \"#9c179e\"], [0.4444444444444444, \"#bd3786\"], [0.5555555555555556, \"#d8576b\"], [0.6666666666666666, \"#ed7953\"], [0.7777777777777778, \"#fb9f3a\"], [0.8888888888888888, \"#fdca26\"], [1.0, \"#f0f921\"]], \"type\": \"heatmap\"}], \"heatmapgl\": [{\"colorbar\": {\"outlinewidth\": 0, \"ticks\": \"\"}, \"colorscale\": [[0.0, \"#0d0887\"], [0.1111111111111111, \"#46039f\"], [0.2222222222222222, \"#7201a8\"], [0.3333333333333333, \"#9c179e\"], [0.4444444444444444, \"#bd3786\"], [0.5555555555555556, \"#d8576b\"], [0.6666666666666666, \"#ed7953\"], [0.7777777777777778, \"#fb9f3a\"], [0.8888888888888888, \"#fdca26\"], [1.0, \"#f0f921\"]], \"type\": \"heatmapgl\"}], \"histogram\": [{\"marker\": {\"colorbar\": {\"outlinewidth\": 0, \"ticks\": \"\"}}, \"type\": \"histogram\"}], \"histogram2d\": [{\"colorbar\": {\"outlinewidth\": 0, \"ticks\": \"\"}, \"colorscale\": [[0.0, \"#0d0887\"], [0.1111111111111111, \"#46039f\"], [0.2222222222222222, \"#7201a8\"], [0.3333333333333333, \"#9c179e\"], [0.4444444444444444, \"#bd3786\"], [0.5555555555555556, \"#d8576b\"], [0.6666666666666666, \"#ed7953\"], [0.7777777777777778, \"#fb9f3a\"], [0.8888888888888888, \"#fdca26\"], [1.0, \"#f0f921\"]], \"type\": \"histogram2d\"}], \"histogram2dcontour\": [{\"colorbar\": {\"outlinewidth\": 0, \"ticks\": \"\"}, \"colorscale\": [[0.0, \"#0d0887\"], [0.1111111111111111, \"#46039f\"], [0.2222222222222222, \"#7201a8\"], [0.3333333333333333, \"#9c179e\"], [0.4444444444444444, \"#bd3786\"], [0.5555555555555556, \"#d8576b\"], [0.6666666666666666, \"#ed7953\"], [0.7777777777777778, \"#fb9f3a\"], [0.8888888888888888, \"#fdca26\"], [1.0, \"#f0f921\"]], \"type\": \"histogram2dcontour\"}], \"mesh3d\": [{\"colorbar\": {\"outlinewidth\": 0, \"ticks\": \"\"}, \"type\": \"mesh3d\"}], \"parcoords\": [{\"line\": {\"colorbar\": {\"outlinewidth\": 0, \"ticks\": \"\"}}, \"type\": \"parcoords\"}], \"pie\": [{\"automargin\": true, \"type\": \"pie\"}], \"scatter\": [{\"marker\": {\"colorbar\": {\"outlinewidth\": 0, \"ticks\": \"\"}}, \"type\": \"scatter\"}], \"scatter3d\": [{\"line\": {\"colorbar\": {\"outlinewidth\": 0, \"ticks\": \"\"}}, \"marker\": {\"colorbar\": {\"outlinewidth\": 0, \"ticks\": \"\"}}, \"type\": \"scatter3d\"}], \"scattercarpet\": [{\"marker\": {\"colorbar\": {\"outlinewidth\": 0, \"ticks\": \"\"}}, \"type\": \"scattercarpet\"}], \"scattergeo\": [{\"marker\": {\"colorbar\": {\"outlinewidth\": 0, \"ticks\": \"\"}}, \"type\": \"scattergeo\"}], \"scattergl\": [{\"marker\": {\"colorbar\": {\"outlinewidth\": 0, \"ticks\": \"\"}}, \"type\": \"scattergl\"}], \"scattermapbox\": [{\"marker\": {\"colorbar\": {\"outlinewidth\": 0, \"ticks\": \"\"}}, \"type\": \"scattermapbox\"}], \"scatterpolar\": [{\"marker\": {\"colorbar\": {\"outlinewidth\": 0, \"ticks\": \"\"}}, \"type\": \"scatterpolar\"}], \"scatterpolargl\": [{\"marker\": {\"colorbar\": {\"outlinewidth\": 0, \"ticks\": \"\"}}, \"type\": \"scatterpolargl\"}], \"scatterternary\": [{\"marker\": {\"colorbar\": {\"outlinewidth\": 0, \"ticks\": \"\"}}, \"type\": \"scatterternary\"}], \"surface\": [{\"colorbar\": {\"outlinewidth\": 0, \"ticks\": \"\"}, \"colorscale\": [[0.0, \"#0d0887\"], [0.1111111111111111, \"#46039f\"], [0.2222222222222222, \"#7201a8\"], [0.3333333333333333, \"#9c179e\"], [0.4444444444444444, \"#bd3786\"], [0.5555555555555556, \"#d8576b\"], [0.6666666666666666, \"#ed7953\"], [0.7777777777777778, \"#fb9f3a\"], [0.8888888888888888, \"#fdca26\"], [1.0, \"#f0f921\"]], \"type\": \"surface\"}], \"table\": [{\"cells\": {\"fill\": {\"color\": \"#EBF0F8\"}, \"line\": {\"color\": \"white\"}}, \"header\": {\"fill\": {\"color\": \"#C8D4E3\"}, \"line\": {\"color\": \"white\"}}, \"type\": \"table\"}]}, \"layout\": {\"annotationdefaults\": {\"arrowcolor\": \"#2a3f5f\", \"arrowhead\": 0, \"arrowwidth\": 1}, \"autotypenumbers\": \"strict\", \"coloraxis\": {\"colorbar\": {\"outlinewidth\": 0, \"ticks\": \"\"}}, \"colorscale\": {\"diverging\": [[0, \"#8e0152\"], [0.1, \"#c51b7d\"], [0.2, \"#de77ae\"], [0.3, \"#f1b6da\"], [0.4, \"#fde0ef\"], [0.5, \"#f7f7f7\"], [0.6, \"#e6f5d0\"], [0.7, \"#b8e186\"], [0.8, \"#7fbc41\"], [0.9, \"#4d9221\"], [1, \"#276419\"]], \"sequential\": [[0.0, \"#0d0887\"], [0.1111111111111111, \"#46039f\"], [0.2222222222222222, \"#7201a8\"], [0.3333333333333333, \"#9c179e\"], [0.4444444444444444, \"#bd3786\"], [0.5555555555555556, \"#d8576b\"], [0.6666666666666666, \"#ed7953\"], [0.7777777777777778, \"#fb9f3a\"], [0.8888888888888888, \"#fdca26\"], [1.0, \"#f0f921\"]], \"sequentialminus\": [[0.0, \"#0d0887\"], [0.1111111111111111, \"#46039f\"], [0.2222222222222222, \"#7201a8\"], [0.3333333333333333, \"#9c179e\"], [0.4444444444444444, \"#bd3786\"], [0.5555555555555556, \"#d8576b\"], [0.6666666666666666, \"#ed7953\"], [0.7777777777777778, \"#fb9f3a\"], [0.8888888888888888, \"#fdca26\"], [1.0, \"#f0f921\"]]}, \"colorway\": [\"#636efa\", \"#EF553B\", \"#00cc96\", \"#ab63fa\", \"#FFA15A\", \"#19d3f3\", \"#FF6692\", \"#B6E880\", \"#FF97FF\", \"#FECB52\"], \"font\": {\"color\": \"#2a3f5f\"}, \"geo\": {\"bgcolor\": \"white\", \"lakecolor\": \"white\", \"landcolor\": \"#E5ECF6\", \"showlakes\": true, \"showland\": true, \"subunitcolor\": \"white\"}, \"hoverlabel\": {\"align\": \"left\"}, \"hovermode\": \"closest\", \"mapbox\": {\"style\": \"light\"}, \"paper_bgcolor\": \"white\", \"plot_bgcolor\": \"#E5ECF6\", \"polar\": {\"angularaxis\": {\"gridcolor\": \"white\", \"linecolor\": \"white\", \"ticks\": \"\"}, \"bgcolor\": \"#E5ECF6\", \"radialaxis\": {\"gridcolor\": \"white\", \"linecolor\": \"white\", \"ticks\": \"\"}}, \"scene\": {\"xaxis\": {\"backgroundcolor\": \"#E5ECF6\", \"gridcolor\": \"white\", \"gridwidth\": 2, \"linecolor\": \"white\", \"showbackground\": true, \"ticks\": \"\", \"zerolinecolor\": \"white\"}, \"yaxis\": {\"backgroundcolor\": \"#E5ECF6\", \"gridcolor\": \"white\", \"gridwidth\": 2, \"linecolor\": \"white\", \"showbackground\": true, \"ticks\": \"\", \"zerolinecolor\": \"white\"}, \"zaxis\": {\"backgroundcolor\": \"#E5ECF6\", \"gridcolor\": \"white\", \"gridwidth\": 2, \"linecolor\": \"white\", \"showbackground\": true, \"ticks\": \"\", \"zerolinecolor\": \"white\"}}, \"shapedefaults\": {\"line\": {\"color\": \"#2a3f5f\"}}, \"ternary\": {\"aaxis\": {\"gridcolor\": \"white\", \"linecolor\": \"white\", \"ticks\": \"\"}, \"baxis\": {\"gridcolor\": \"white\", \"linecolor\": \"white\", \"ticks\": \"\"}, \"bgcolor\": \"#E5ECF6\", \"caxis\": {\"gridcolor\": \"white\", \"linecolor\": \"white\", \"ticks\": \"\"}}, \"title\": {\"x\": 0.05}, \"xaxis\": {\"automargin\": true, \"gridcolor\": \"white\", \"linecolor\": \"white\", \"ticks\": \"\", \"title\": {\"standoff\": 15}, \"zerolinecolor\": \"white\", \"zerolinewidth\": 2}, \"yaxis\": {\"automargin\": true, \"gridcolor\": \"white\", \"linecolor\": \"white\", \"ticks\": \"\", \"title\": {\"standoff\": 15}, \"zerolinecolor\": \"white\", \"zerolinewidth\": 2}}}, \"title\": {\"text\": \"Cluster Scatter Matrix\"}, \"width\": 800},                        {\"responsive\": true}                    ).then(function(){\n",
       "                            \n",
       "var gd = document.getElementById('68490e95-de87-401f-b0d1-652b2c02426e');\n",
       "var x = new MutationObserver(function (mutations, observer) {{\n",
       "        var display = window.getComputedStyle(gd).display;\n",
       "        if (!display || display === 'none') {{\n",
       "            console.log([gd, 'removed!']);\n",
       "            Plotly.purge(gd);\n",
       "            observer.disconnect();\n",
       "        }}\n",
       "}});\n",
       "\n",
       "// Listen for the removal of the full notebook cells\n",
       "var notebookContainer = gd.closest('#notebook-container');\n",
       "if (notebookContainer) {{\n",
       "    x.observe(notebookContainer, {childList: true});\n",
       "}}\n",
       "\n",
       "// Listen for the clearing of the current output cell\n",
       "var outputEl = gd.closest('.output');\n",
       "if (outputEl) {{\n",
       "    x.observe(outputEl, {childList: true});\n",
       "}}\n",
       "\n",
       "                        })                };                });            </script>        </div>"
      ]
     },
     "metadata": {},
     "output_type": "display_data"
    },
    {
     "data": {
      "image/png": "[encoded data removed]",
      "text/plain": [
       "<Figure size 1080x1080 with 4 Axes>"
      ]
     },
     "metadata": {
      "needs_background": "light"
     },
     "output_type": "display_data"
    }
   ],
   "source": [
    "import seaborn as sns\n",
    "import matplotlib.pyplot as plt\n",
    "import matplotlib.style as style\n",
    "from plotly.offline import init_notebook_mode, iplot, plot\n",
    "\n",
    "fig = px.scatter_matrix(smaller_df, dimensions=['budget', 'revenue', 'Unemployment_Rate','vote_average', 'vote_count'],\n",
    "                        color='cluster_string', hover_data=['title', 'genres'])\n",
    "fig.update_layout(\n",
    "    title='Cluster Scatter Matrix',\n",
    "    height=1000,\n",
    "    width=800\n",
    ")\n",
    "\n",
    "iplot(fig)\n",
    "clusters = list(smaller_df['cluster_label'].unique())\n",
    "cluster_dict = dict()\n",
    "\n",
    "cluster_count = 0\n",
    "for col in range(2):\n",
    "    for row in range(2):\n",
    "        cluster_df = smaller_df[smaller_df.cluster_label == clusters[cluster_count]]\n",
    "        cluster_dict[\"{},{}\".format(str(col), str(row))] = cluster_df['genres'].value_counts()\n",
    "        cluster_count += 1\n",
    "\n",
    "cluster_count = 0\n",
    "\n",
    "fig, axs = plt.subplots(2, 2, figsize=(15,15))\n",
    "\n",
    "for col in range(2):\n",
    "    for row in range(2):\n",
    "        coord = \"{},{}\".format(str(col), str(row))\n",
    "\n",
    "        sns.barplot(y=cluster_dict[coord].index, x=cluster_dict[coord].values, orient='h',\n",
    "                    palette={'Drama': '#94447f',\n",
    "                             'Action': '#5796ef',\n",
    "                             'Adventure': '#8a59c0',\n",
    "                             'Comedy': '#288abf',\n",
    "                             'Crime': '#0ab78d',\n",
    "                             'Thriller': '#4ed993',\n",
    "                             'Fantasy': '#7d3970',\n",
    "                             'Horror': '#b3dc67',\n",
    "                             'Science Fiction': '#dc560a',\n",
    "                             'Animation': '#0079fe',\n",
    "                             'Romance': '#98d3a8',\n",
    "                             'Foreign':'#99ff00',\n",
    "                             'Mystery': '#d5105a',\n",
    "                             'Family': '#d04dcf',\n",
    "                             'War': '#58c7a2',\n",
    "                             'History': '#7bf1f8',\n",
    "                             'Western': '#244155',\n",
    "                             'TV Movie': '#587b77',\n",
    "                             'Music': '#c64ac2',\n",
    "                             'Documentary': '#5e805d'}, edgecolor='black', linewidth=0.9, ax=axs[col][row])\n",
    "\n",
    "        title = \"Cluster {}'s Genre Distribution\".format(cluster_count)\n",
    "        axs[col][row].set_title(title, fontsize=15, fontweight='bold')\n",
    "        cluster_count += 1\n",
    "plt.tight_layout()\n",
    "plt.show()"
   ]
  },
  {
   "cell_type": "code",
   "execution_count": 137,
   "metadata": {},
   "outputs": [
    {
     "data": {
      "application/vnd.plotly.v1+json": {
       "config": {
        "linkText": "Export to plot.ly",
        "plotlyServerURL": "https://plot.ly",
        "showLink": false
       },
       "data": [
        {
         "alignmentgroup": "True",
         "box": {
          "visible": false
         },
         "customdata": [
          [
           "52000000",
           9.8,
           6.2,
           684,
           0,
           "From Paris with Love",
           "Action"
          ],
          [
           "29000000",
           9.1,
           6.5,
           102,
           0,
           "Shaolin",
           "Action"
          ],
          [
           "17000000",
           8.8,
           5.8,
           226,
           0,
           "The Double",
           "Action"
          ],
          [
           "40000000",
           8.8,
           6.7,
           3512,
           0,
           "In Time",
           "Action"
          ],
          [
           "26400000",
           9.4,
           6.5,
           46,
           0,
           "Enthiran",
           "Action"
          ],
          [
           "28000000",
           9,
           5.6,
           537,
           0,
           "30 Minutes or Less",
           "Action"
          ],
          [
           "14734000",
           9.8,
           6.4,
           42,
           0,
           "The Princess of Montpensier",
           "Action"
          ],
          [
           "25000000",
           9,
           7.7,
           1297,
           0,
           "Warrior",
           "Action"
          ],
          [
           "27000000",
           9.5,
           6.2,
           195,
           0,
           "Tomorrow, When the War Began",
           "Action"
          ],
          [
           "110000000",
           9.4,
           6.2,
           2125,
           0,
           "Salt",
           "Action"
          ],
          [
           "32000000",
           9.9,
           6.2,
           627,
           0,
           "Repo Men",
           "Action"
          ],
          [
           "40000000",
           9.9,
           5.6,
           878,
           0,
           "The Bounty Hunter",
           "Action"
          ],
          [
           "70000000",
           9,
           5.5,
           1462,
           0,
           "Battle: Los Angeles",
           "Action"
          ]
         ],
         "hovertemplate": "cluster_string=%{x}<br>revenue=%{y}<br>budget=%{customdata[0]}<br>Unemployment_Rate=%{customdata[1]}<br>vote_average=%{customdata[2]}<br>vote_count=%{customdata[3]}<br>cluster_label=%{customdata[4]}<br>title=%{customdata[5]}<br>genres=%{customdata[6]}<extra></extra>",
         "legendgroup": "c0",
         "marker": {
          "color": "#636efa"
         },
         "name": "c0",
         "offsetgroup": "c0",
         "orientation": "v",
         "points": "all",
         "scalegroup": "True",
         "showlegend": true,
         "type": "violin",
         "x": [
          "c0",
          "c0",
          "c0",
          "c0",
          "c0",
          "c0",
          "c0",
          "c0",
          "c0",
          "c0",
          "c0",
          "c0",
          "c0"
         ],
         "x0": " ",
         "xaxis": "x",
         "y": [
          52826594,
          33662874,
          3696232,
          173930596,
          62000000,
          40547440,
          6775121,
          23057115,
          16504936,
          293329073,
          18409891,
          136000000,
          202466756
         ],
         "y0": " ",
         "yaxis": "y"
        },
        {
         "alignmentgroup": "True",
         "box": {
          "visible": false
         },
         "customdata": [
          [
           "140000000",
           9,
           6.6,
           7174,
           1,
           "Captain America: The First Avenger",
           "Action"
          ],
          [
           "160000000",
           6.3,
           6.1,
           3232,
           1,
           "Godzilla",
           "Action"
          ],
          [
           "160000000",
           9.4,
           8.1,
           14075,
           1,
           "Inception",
           "Action"
          ],
          [
           "160000000",
           5.1,
           6.6,
           4117,
           1,
           "The Hunger Games: Mockingjay - Part 2",
           "Action"
          ],
          [
           "215000000",
           8.2,
           6.5,
           6734,
           1,
           "The Amazing Spider-Man",
           "Action"
          ],
          [
           "280000000",
           5.4,
           7.3,
           6908,
           1,
           "Avengers: Age of Ultron",
           "Action"
          ],
          [
           "170000000",
           6.2,
           7.9,
           10014,
           1,
           "Guardians of the Galaxy",
           "Action"
          ],
          [
           "250000000",
           6.3,
           7.5,
           6155,
           1,
           "X-Men: Days of Future Past",
           "Action"
          ]
         ],
         "hovertemplate": "cluster_string=%{x}<br>revenue=%{y}<br>budget=%{customdata[0]}<br>Unemployment_Rate=%{customdata[1]}<br>vote_average=%{customdata[2]}<br>vote_count=%{customdata[3]}<br>cluster_label=%{customdata[4]}<br>title=%{customdata[5]}<br>genres=%{customdata[6]}<extra></extra>",
         "legendgroup": "c1",
         "marker": {
          "color": "#EF553B"
         },
         "name": "c1",
         "offsetgroup": "c1",
         "orientation": "v",
         "points": "all",
         "scalegroup": "True",
         "showlegend": true,
         "type": "violin",
         "x": [
          "c1",
          "c1",
          "c1",
          "c1",
          "c1",
          "c1",
          "c1",
          "c1"
         ],
         "x0": " ",
         "xaxis": "x",
         "y": [
          370569774,
          529076069,
          825532764,
          653428261,
          752215857,
          1405403694,
          773328629,
          747862775
         ],
         "y0": " ",
         "yaxis": "y"
        },
        {
         "alignmentgroup": "True",
         "box": {
          "visible": false
         },
         "customdata": [
          [
           "6500000",
           6.9,
           5.7,
           59,
           2,
           "Ragnarok",
           "Action"
          ],
          [
           "100000000",
           8.1,
           6.1,
           2940,
           2,
           "The Expendables 2",
           "Action"
          ],
          [
           "9000000",
           7.2,
           6.6,
           679,
           2,
           "All Is Lost",
           "Action"
          ],
          [
           "50000000",
           7.2,
           6.7,
           1688,
           2,
           "Escape Plan",
           "Action"
          ],
          [
           "12000000",
           7.2,
           5.3,
           642,
           2,
           "Machete Kills",
           "Action"
          ],
          [
           "60000000",
           7.2,
           6.2,
           1649,
           2,
           "The Mortal Instruments: City of Bones",
           "Action"
          ],
          [
           "20000000",
           8.1,
           5.6,
           223,
           2,
           "Fire with Fire",
           "Action"
          ],
          [
           "11000000",
           8.2,
           5.9,
           24,
           2,
           "White Tiger",
           "Action"
          ],
          [
           "39200000",
           7.2,
           6.7,
           2910,
           2,
           "Snowpiercer",
           "Action"
          ],
          [
           "6000000",
           8.2,
           4.6,
           10,
           2,
           "The Spy",
           "Action"
          ]
         ],
         "hovertemplate": "cluster_string=%{x}<br>revenue=%{y}<br>budget=%{customdata[0]}<br>Unemployment_Rate=%{customdata[1]}<br>vote_average=%{customdata[2]}<br>vote_count=%{customdata[3]}<br>cluster_label=%{customdata[4]}<br>title=%{customdata[5]}<br>genres=%{customdata[6]}<extra></extra>",
         "legendgroup": "c2",
         "marker": {
          "color": "#00cc96"
         },
         "name": "c2",
         "offsetgroup": "c2",
         "orientation": "v",
         "points": "all",
         "scalegroup": "True",
         "showlegend": true,
         "type": "violin",
         "x": [
          "c2",
          "c2",
          "c2",
          "c2",
          "c2",
          "c2",
          "c2",
          "c2",
          "c2",
          "c2"
         ],
         "x0": " ",
         "xaxis": "x",
         "y": [
          3721345,
          312573423,
          6108720,
          122915111,
          15008161,
          90565421,
          4636169,
          7200000,
          86758912,
          4588176
         ],
         "y0": " ",
         "yaxis": "y"
        }
       ],
       "layout": {
        "height": 1000,
        "legend": {
         "title": {
          "text": "cluster_string"
         },
         "tracegroupgap": 0
        },
        "margin": {
         "t": 60
        },
        "template": {
         "data": {
          "bar": [
           {
            "error_x": {
             "color": "#2a3f5f"
            },
            "error_y": {
             "color": "#2a3f5f"
            },
            "marker": {
             "line": {
              "color": "#E5ECF6",
              "width": 0.5
             }
            },
            "type": "bar"
           }
          ],
          "barpolar": [
           {
            "marker": {
             "line": {
              "color": "#E5ECF6",
              "width": 0.5
             }
            },
            "type": "barpolar"
           }
          ],
          "carpet": [
           {
            "aaxis": {
             "endlinecolor": "#2a3f5f",
             "gridcolor": "white",
             "linecolor": "white",
             "minorgridcolor": "white",
             "startlinecolor": "#2a3f5f"
            },
            "baxis": {
             "endlinecolor": "#2a3f5f",
             "gridcolor": "white",
             "linecolor": "white",
             "minorgridcolor": "white",
             "startlinecolor": "#2a3f5f"
            },
            "type": "carpet"
           }
          ],
          "choropleth": [
           {
            "colorbar": {
             "outlinewidth": 0,
             "ticks": ""
            },
            "type": "choropleth"
           }
          ],
          "contour": [
           {
            "colorbar": {
             "outlinewidth": 0,
             "ticks": ""
            },
            "colorscale": [
             [
              0,
              "#0d0887"
             ],
             [
              0.1111111111111111,
              "#46039f"
             ],
             [
              0.2222222222222222,
              "#7201a8"
             ],
             [
              0.3333333333333333,
              "#9c179e"
             ],
             [
              0.4444444444444444,
              "#bd3786"
             ],
             [
              0.5555555555555556,
              "#d8576b"
             ],
             [
              0.6666666666666666,
              "#ed7953"
             ],
             [
              0.7777777777777778,
              "#fb9f3a"
             ],
             [
              0.8888888888888888,
              "#fdca26"
             ],
             [
              1,
              "#f0f921"
             ]
            ],
            "type": "contour"
           }
          ],
          "contourcarpet": [
           {
            "colorbar": {
             "outlinewidth": 0,
             "ticks": ""
            },
            "type": "contourcarpet"
           }
          ],
          "heatmap": [
           {
            "colorbar": {
             "outlinewidth": 0,
             "ticks": ""
            },
            "colorscale": [
             [
              0,
              "#0d0887"
             ],
             [
              0.1111111111111111,
              "#46039f"
             ],
             [
              0.2222222222222222,
              "#7201a8"
             ],
             [
              0.3333333333333333,
              "#9c179e"
             ],
             [
              0.4444444444444444,
              "#bd3786"
             ],
             [
              0.5555555555555556,
              "#d8576b"
             ],
             [
              0.6666666666666666,
              "#ed7953"
             ],
             [
              0.7777777777777778,
              "#fb9f3a"
             ],
             [
              0.8888888888888888,
              "#fdca26"
             ],
             [
              1,
              "#f0f921"
             ]
            ],
            "type": "heatmap"
           }
          ],
          "heatmapgl": [
           {
            "colorbar": {
             "outlinewidth": 0,
             "ticks": ""
            },
            "colorscale": [
             [
              0,
              "#0d0887"
             ],
             [
              0.1111111111111111,
              "#46039f"
             ],
             [
              0.2222222222222222,
              "#7201a8"
             ],
             [
              0.3333333333333333,
              "#9c179e"
             ],
             [
              0.4444444444444444,
              "#bd3786"
             ],
             [
              0.5555555555555556,
              "#d8576b"
             ],
             [
              0.6666666666666666,
              "#ed7953"
             ],
             [
              0.7777777777777778,
              "#fb9f3a"
             ],
             [
              0.8888888888888888,
              "#fdca26"
             ],
             [
              1,
              "#f0f921"
             ]
            ],
            "type": "heatmapgl"
           }
          ],
          "histogram": [
           {
            "marker": {
             "colorbar": {
              "outlinewidth": 0,
              "ticks": ""
             }
            },
            "type": "histogram"
           }
          ],
          "histogram2d": [
           {
            "colorbar": {
             "outlinewidth": 0,
             "ticks": ""
            },
            "colorscale": [
             [
              0,
              "#0d0887"
             ],
             [
              0.1111111111111111,
              "#46039f"
             ],
             [
              0.2222222222222222,
              "#7201a8"
             ],
             [
              0.3333333333333333,
              "#9c179e"
             ],
             [
              0.4444444444444444,
              "#bd3786"
             ],
             [
              0.5555555555555556,
              "#d8576b"
             ],
             [
              0.6666666666666666,
              "#ed7953"
             ],
             [
              0.7777777777777778,
              "#fb9f3a"
             ],
             [
              0.8888888888888888,
              "#fdca26"
             ],
             [
              1,
              "#f0f921"
             ]
            ],
            "type": "histogram2d"
           }
          ],
          "histogram2dcontour": [
           {
            "colorbar": {
             "outlinewidth": 0,
             "ticks": ""
            },
            "colorscale": [
             [
              0,
              "#0d0887"
             ],
             [
              0.1111111111111111,
              "#46039f"
             ],
             [
              0.2222222222222222,
              "#7201a8"
             ],
             [
              0.3333333333333333,
              "#9c179e"
             ],
             [
              0.4444444444444444,
              "#bd3786"
             ],
             [
              0.5555555555555556,
              "#d8576b"
             ],
             [
              0.6666666666666666,
              "#ed7953"
             ],
             [
              0.7777777777777778,
              "#fb9f3a"
             ],
             [
              0.8888888888888888,
              "#fdca26"
             ],
             [
              1,
              "#f0f921"
             ]
            ],
            "type": "histogram2dcontour"
           }
          ],
          "mesh3d": [
           {
            "colorbar": {
             "outlinewidth": 0,
             "ticks": ""
            },
            "type": "mesh3d"
           }
          ],
          "parcoords": [
           {
            "line": {
             "colorbar": {
              "outlinewidth": 0,
              "ticks": ""
             }
            },
            "type": "parcoords"
           }
          ],
          "pie": [
           {
            "automargin": true,
            "type": "pie"
           }
          ],
          "scatter": [
           {
            "marker": {
             "colorbar": {
              "outlinewidth": 0,
              "ticks": ""
             }
            },
            "type": "scatter"
           }
          ],
          "scatter3d": [
           {
            "line": {
             "colorbar": {
              "outlinewidth": 0,
              "ticks": ""
             }
            },
            "marker": {
             "colorbar": {
              "outlinewidth": 0,
              "ticks": ""
             }
            },
            "type": "scatter3d"
           }
          ],
          "scattercarpet": [
           {
            "marker": {
             "colorbar": {
              "outlinewidth": 0,
              "ticks": ""
             }
            },
            "type": "scattercarpet"
           }
          ],
          "scattergeo": [
           {
            "marker": {
             "colorbar": {
              "outlinewidth": 0,
              "ticks": ""
             }
            },
            "type": "scattergeo"
           }
          ],
          "scattergl": [
           {
            "marker": {
             "colorbar": {
              "outlinewidth": 0,
              "ticks": ""
             }
            },
            "type": "scattergl"
           }
          ],
          "scattermapbox": [
           {
            "marker": {
             "colorbar": {
              "outlinewidth": 0,
              "ticks": ""
             }
            },
            "type": "scattermapbox"
           }
          ],
          "scatterpolar": [
           {
            "marker": {
             "colorbar": {
              "outlinewidth": 0,
              "ticks": ""
             }
            },
            "type": "scatterpolar"
           }
          ],
          "scatterpolargl": [
           {
            "marker": {
             "colorbar": {
              "outlinewidth": 0,
              "ticks": ""
             }
            },
            "type": "scatterpolargl"
           }
          ],
          "scatterternary": [
           {
            "marker": {
             "colorbar": {
              "outlinewidth": 0,
              "ticks": ""
             }
            },
            "type": "scatterternary"
           }
          ],
          "surface": [
           {
            "colorbar": {
             "outlinewidth": 0,
             "ticks": ""
            },
            "colorscale": [
             [
              0,
              "#0d0887"
             ],
             [
              0.1111111111111111,
              "#46039f"
             ],
             [
              0.2222222222222222,
              "#7201a8"
             ],
             [
              0.3333333333333333,
              "#9c179e"
             ],
             [
              0.4444444444444444,
              "#bd3786"
             ],
             [
              0.5555555555555556,
              "#d8576b"
             ],
             [
              0.6666666666666666,
              "#ed7953"
             ],
             [
              0.7777777777777778,
              "#fb9f3a"
             ],
             [
              0.8888888888888888,
              "#fdca26"
             ],
             [
              1,
              "#f0f921"
             ]
            ],
            "type": "surface"
           }
          ],
          "table": [
           {
            "cells": {
             "fill": {
              "color": "#EBF0F8"
             },
             "line": {
              "color": "white"
             }
            },
            "header": {
             "fill": {
              "color": "#C8D4E3"
             },
             "line": {
              "color": "white"
             }
            },
            "type": "table"
           }
          ]
         },
         "layout": {
          "annotationdefaults": {
           "arrowcolor": "#2a3f5f",
           "arrowhead": 0,
           "arrowwidth": 1
          },
          "autotypenumbers": "strict",
          "coloraxis": {
           "colorbar": {
            "outlinewidth": 0,
            "ticks": ""
           }
          },
          "colorscale": {
           "diverging": [
            [
             0,
             "#8e0152"
            ],
            [
             0.1,
             "#c51b7d"
            ],
            [
             0.2,
             "#de77ae"
            ],
            [
             0.3,
             "#f1b6da"
            ],
            [
             0.4,
             "#fde0ef"
            ],
            [
             0.5,
             "#f7f7f7"
            ],
            [
             0.6,
             "#e6f5d0"
            ],
            [
             0.7,
             "#b8e186"
            ],
            [
             0.8,
             "#7fbc41"
            ],
            [
             0.9,
             "#4d9221"
            ],
            [
             1,
             "#276419"
            ]
           ],
           "sequential": [
            [
             0,
             "#0d0887"
            ],
            [
             0.1111111111111111,
             "#46039f"
            ],
            [
             0.2222222222222222,
             "#7201a8"
            ],
            [
             0.3333333333333333,
             "#9c179e"
            ],
            [
             0.4444444444444444,
             "#bd3786"
            ],
            [
             0.5555555555555556,
             "#d8576b"
            ],
            [
             0.6666666666666666,
             "#ed7953"
            ],
            [
             0.7777777777777778,
             "#fb9f3a"
            ],
            [
             0.8888888888888888,
             "#fdca26"
            ],
            [
             1,
             "#f0f921"
            ]
           ],
           "sequentialminus": [
            [
             0,
             "#0d0887"
            ],
            [
             0.1111111111111111,
             "#46039f"
            ],
            [
             0.2222222222222222,
             "#7201a8"
            ],
            [
             0.3333333333333333,
             "#9c179e"
            ],
            [
             0.4444444444444444,
             "#bd3786"
            ],
            [
             0.5555555555555556,
             "#d8576b"
            ],
            [
             0.6666666666666666,
             "#ed7953"
            ],
            [
             0.7777777777777778,
             "#fb9f3a"
            ],
            [
             0.8888888888888888,
             "#fdca26"
            ],
            [
             1,
             "#f0f921"
            ]
           ]
          },
          "colorway": [
           "#636efa",
           "#EF553B",
           "#00cc96",
           "#ab63fa",
           "#FFA15A",
           "#19d3f3",
           "#FF6692",
           "#B6E880",
           "#FF97FF",
           "#FECB52"
          ],
          "font": {
           "color": "#2a3f5f"
          },
          "geo": {
           "bgcolor": "white",
           "lakecolor": "white",
           "landcolor": "#E5ECF6",
           "showlakes": true,
           "showland": true,
           "subunitcolor": "white"
          },
          "hoverlabel": {
           "align": "left"
          },
          "hovermode": "closest",
          "mapbox": {
           "style": "light"
          },
          "paper_bgcolor": "white",
          "plot_bgcolor": "#E5ECF6",
          "polar": {
           "angularaxis": {
            "gridcolor": "white",
            "linecolor": "white",
            "ticks": ""
           },
           "bgcolor": "#E5ECF6",
           "radialaxis": {
            "gridcolor": "white",
            "linecolor": "white",
            "ticks": ""
           }
          },
          "scene": {
           "xaxis": {
            "backgroundcolor": "#E5ECF6",
            "gridcolor": "white",
            "gridwidth": 2,
            "linecolor": "white",
            "showbackground": true,
            "ticks": "",
            "zerolinecolor": "white"
           },
           "yaxis": {
            "backgroundcolor": "#E5ECF6",
            "gridcolor": "white",
            "gridwidth": 2,
            "linecolor": "white",
            "showbackground": true,
            "ticks": "",
            "zerolinecolor": "white"
           },
           "zaxis": {
            "backgroundcolor": "#E5ECF6",
            "gridcolor": "white",
            "gridwidth": 2,
            "linecolor": "white",
            "showbackground": true,
            "ticks": "",
            "zerolinecolor": "white"
           }
          },
          "shapedefaults": {
           "line": {
            "color": "#2a3f5f"
           }
          },
          "ternary": {
           "aaxis": {
            "gridcolor": "white",
            "linecolor": "white",
            "ticks": ""
           },
           "baxis": {
            "gridcolor": "white",
            "linecolor": "white",
            "ticks": ""
           },
           "bgcolor": "#E5ECF6",
           "caxis": {
            "gridcolor": "white",
            "linecolor": "white",
            "ticks": ""
           }
          },
          "title": {
           "x": 0.05
          },
          "xaxis": {
           "automargin": true,
           "gridcolor": "white",
           "linecolor": "white",
           "ticks": "",
           "title": {
            "standoff": 15
           },
           "zerolinecolor": "white",
           "zerolinewidth": 2
          },
          "yaxis": {
           "automargin": true,
           "gridcolor": "white",
           "linecolor": "white",
           "ticks": "",
           "title": {
            "standoff": 15
           },
           "zerolinecolor": "white",
           "zerolinewidth": 2
          }
         }
        },
        "title": {
         "text": "Revenue Distribution in Action Movies"
        },
        "violinmode": "overlay",
        "width": 800,
        "xaxis": {
         "anchor": "y",
         "categoryarray": [
          "c0",
          "c1",
          "c2"
         ],
         "categoryorder": "array",
         "domain": [
          0,
          1
         ],
         "title": {
          "text": "Cluster"
         }
        },
        "yaxis": {
         "anchor": "x",
         "domain": [
          0,
          1
         ],
         "title": {
          "text": "Revenue"
         }
        }
       }
      },
      "text/html": [
       "<div>                            <div id=\"d9be547e-4589-41b8-b090-bf9c9455b3f4\" class=\"plotly-graph-div\" style=\"height:1000px; width:800px;\"></div>            <script type=\"text/javascript\">                require([\"plotly\"], function(Plotly) {                    window.PLOTLYENV=window.PLOTLYENV || {};                                    if (document.getElementById(\"d9be547e-4589-41b8-b090-bf9c9455b3f4\")) {                    Plotly.newPlot(                        \"d9be547e-4589-41b8-b090-bf9c9455b3f4\",                        [{\"alignmentgroup\": \"True\", \"box\": {\"visible\": false}, \"customdata\": [[\"52000000\", 9.8, 6.2, 684.0, 0, \"From Paris with Love\", \"Action\"], [\"29000000\", 9.1, 6.5, 102.0, 0, \"Shaolin\", \"Action\"], [\"17000000\", 8.8, 5.8, 226.0, 0, \"The Double\", \"Action\"], [\"40000000\", 8.8, 6.7, 3512.0, 0, \"In Time\", \"Action\"], [\"26400000\", 9.4, 6.5, 46.0, 0, \"Enthiran\", \"Action\"], [\"28000000\", 9.0, 5.6, 537.0, 0, \"30 Minutes or Less\", \"Action\"], [\"14734000\", 9.8, 6.4, 42.0, 0, \"The Princess of Montpensier\", \"Action\"], [\"25000000\", 9.0, 7.7, 1297.0, 0, \"Warrior\", \"Action\"], [\"27000000\", 9.5, 6.2, 195.0, 0, \"Tomorrow, When the War Began\", \"Action\"], [\"110000000\", 9.4, 6.2, 2125.0, 0, \"Salt\", \"Action\"], [\"32000000\", 9.9, 6.2, 627.0, 0, \"Repo Men\", \"Action\"], [\"40000000\", 9.9, 5.6, 878.0, 0, \"The Bounty Hunter\", \"Action\"], [\"70000000\", 9.0, 5.5, 1462.0, 0, \"Battle: Los Angeles\", \"Action\"]], \"hovertemplate\": \"cluster_string=%{x}<br>revenue=%{y}<br>budget=%{customdata[0]}<br>Unemployment_Rate=%{customdata[1]}<br>vote_average=%{customdata[2]}<br>vote_count=%{customdata[3]}<br>cluster_label=%{customdata[4]}<br>title=%{customdata[5]}<br>genres=%{customdata[6]}<extra></extra>\", \"legendgroup\": \"c0\", \"marker\": {\"color\": \"#636efa\"}, \"name\": \"c0\", \"offsetgroup\": \"c0\", \"orientation\": \"v\", \"points\": \"all\", \"scalegroup\": \"True\", \"showlegend\": true, \"type\": \"violin\", \"x\": [\"c0\", \"c0\", \"c0\", \"c0\", \"c0\", \"c0\", \"c0\", \"c0\", \"c0\", \"c0\", \"c0\", \"c0\", \"c0\"], \"x0\": \" \", \"xaxis\": \"x\", \"y\": [52826594.0, 33662874.0, 3696232.0, 173930596.0, 62000000.0, 40547440.0, 6775121.0, 23057115.0, 16504936.0, 293329073.0, 18409891.0, 136000000.0, 202466756.0], \"y0\": \" \", \"yaxis\": \"y\"}, {\"alignmentgroup\": \"True\", \"box\": {\"visible\": false}, \"customdata\": [[\"140000000\", 9.0, 6.6, 7174.0, 1, \"Captain America: The First Avenger\", \"Action\"], [\"160000000\", 6.3, 6.1, 3232.0, 1, \"Godzilla\", \"Action\"], [\"160000000\", 9.4, 8.1, 14075.0, 1, \"Inception\", \"Action\"], [\"160000000\", 5.1, 6.6, 4117.0, 1, \"The Hunger Games: Mockingjay - Part 2\", \"Action\"], [\"215000000\", 8.2, 6.5, 6734.0, 1, \"The Amazing Spider-Man\", \"Action\"], [\"280000000\", 5.4, 7.3, 6908.0, 1, \"Avengers: Age of Ultron\", \"Action\"], [\"170000000\", 6.2, 7.9, 10014.0, 1, \"Guardians of the Galaxy\", \"Action\"], [\"250000000\", 6.3, 7.5, 6155.0, 1, \"X-Men: Days of Future Past\", \"Action\"]], \"hovertemplate\": \"cluster_string=%{x}<br>revenue=%{y}<br>budget=%{customdata[0]}<br>Unemployment_Rate=%{customdata[1]}<br>vote_average=%{customdata[2]}<br>vote_count=%{customdata[3]}<br>cluster_label=%{customdata[4]}<br>title=%{customdata[5]}<br>genres=%{customdata[6]}<extra></extra>\", \"legendgroup\": \"c1\", \"marker\": {\"color\": \"#EF553B\"}, \"name\": \"c1\", \"offsetgroup\": \"c1\", \"orientation\": \"v\", \"points\": \"all\", \"scalegroup\": \"True\", \"showlegend\": true, \"type\": \"violin\", \"x\": [\"c1\", \"c1\", \"c1\", \"c1\", \"c1\", \"c1\", \"c1\", \"c1\"], \"x0\": \" \", \"xaxis\": \"x\", \"y\": [370569774.0, 529076069.0, 825532764.0, 653428261.0, 752215857.0, 1405403694.0, 773328629.0, 747862775.0], \"y0\": \" \", \"yaxis\": \"y\"}, {\"alignmentgroup\": \"True\", \"box\": {\"visible\": false}, \"customdata\": [[\"6500000\", 6.9, 5.7, 59.0, 2, \"Ragnarok\", \"Action\"], [\"100000000\", 8.1, 6.1, 2940.0, 2, \"The Expendables 2\", \"Action\"], [\"9000000\", 7.2, 6.6, 679.0, 2, \"All Is Lost\", \"Action\"], [\"50000000\", 7.2, 6.7, 1688.0, 2, \"Escape Plan\", \"Action\"], [\"12000000\", 7.2, 5.3, 642.0, 2, \"Machete Kills\", \"Action\"], [\"60000000\", 7.2, 6.2, 1649.0, 2, \"The Mortal Instruments: City of Bones\", \"Action\"], [\"20000000\", 8.1, 5.6, 223.0, 2, \"Fire with Fire\", \"Action\"], [\"11000000\", 8.2, 5.9, 24.0, 2, \"White Tiger\", \"Action\"], [\"39200000\", 7.2, 6.7, 2910.0, 2, \"Snowpiercer\", \"Action\"], [\"6000000\", 8.2, 4.6, 10.0, 2, \"The Spy\", \"Action\"]], \"hovertemplate\": \"cluster_string=%{x}<br>revenue=%{y}<br>budget=%{customdata[0]}<br>Unemployment_Rate=%{customdata[1]}<br>vote_average=%{customdata[2]}<br>vote_count=%{customdata[3]}<br>cluster_label=%{customdata[4]}<br>title=%{customdata[5]}<br>genres=%{customdata[6]}<extra></extra>\", \"legendgroup\": \"c2\", \"marker\": {\"color\": \"#00cc96\"}, \"name\": \"c2\", \"offsetgroup\": \"c2\", \"orientation\": \"v\", \"points\": \"all\", \"scalegroup\": \"True\", \"showlegend\": true, \"type\": \"violin\", \"x\": [\"c2\", \"c2\", \"c2\", \"c2\", \"c2\", \"c2\", \"c2\", \"c2\", \"c2\", \"c2\"], \"x0\": \" \", \"xaxis\": \"x\", \"y\": [3721345.0, 312573423.0, 6108720.0, 122915111.0, 15008161.0, 90565421.0, 4636169.0, 7200000.0, 86758912.0, 4588176.0], \"y0\": \" \", \"yaxis\": \"y\"}],                        {\"height\": 1000, \"legend\": {\"title\": {\"text\": \"cluster_string\"}, \"tracegroupgap\": 0}, \"margin\": {\"t\": 60}, \"template\": {\"data\": {\"bar\": [{\"error_x\": {\"color\": \"#2a3f5f\"}, \"error_y\": {\"color\": \"#2a3f5f\"}, \"marker\": {\"line\": {\"color\": \"#E5ECF6\", \"width\": 0.5}}, \"type\": \"bar\"}], \"barpolar\": [{\"marker\": {\"line\": {\"color\": \"#E5ECF6\", \"width\": 0.5}}, \"type\": \"barpolar\"}], \"carpet\": [{\"aaxis\": {\"endlinecolor\": \"#2a3f5f\", \"gridcolor\": \"white\", \"linecolor\": \"white\", \"minorgridcolor\": \"white\", \"startlinecolor\": \"#2a3f5f\"}, \"baxis\": {\"endlinecolor\": \"#2a3f5f\", \"gridcolor\": \"white\", \"linecolor\": \"white\", \"minorgridcolor\": \"white\", \"startlinecolor\": \"#2a3f5f\"}, \"type\": \"carpet\"}], \"choropleth\": [{\"colorbar\": {\"outlinewidth\": 0, \"ticks\": \"\"}, \"type\": \"choropleth\"}], \"contour\": [{\"colorbar\": {\"outlinewidth\": 0, \"ticks\": \"\"}, \"colorscale\": [[0.0, \"#0d0887\"], [0.1111111111111111, \"#46039f\"], [0.2222222222222222, \"#7201a8\"], [0.3333333333333333, \"#9c179e\"], [0.4444444444444444, \"#bd3786\"], [0.5555555555555556, \"#d8576b\"], [0.6666666666666666, \"#ed7953\"], [0.7777777777777778, \"#fb9f3a\"], [0.8888888888888888, \"#fdca26\"], [1.0, \"#f0f921\"]], \"type\": \"contour\"}], \"contourcarpet\": [{\"colorbar\": {\"outlinewidth\": 0, \"ticks\": \"\"}, \"type\": \"contourcarpet\"}], \"heatmap\": [{\"colorbar\": {\"outlinewidth\": 0, \"ticks\": \"\"}, \"colorscale\": [[0.0, \"#0d0887\"], [0.1111111111111111, \"#46039f\"], [0.2222222222222222, \"#7201a8\"], [0.3333333333333333, \"#9c179e\"], [0.4444444444444444, \"#bd3786\"], [0.5555555555555556, \"#d8576b\"], [0.6666666666666666, \"#ed7953\"], [0.7777777777777778, \"#fb9f3a\"], [0.8888888888888888, \"#fdca26\"], [1.0, \"#f0f921\"]], \"type\": \"heatmap\"}], \"heatmapgl\": [{\"colorbar\": {\"outlinewidth\": 0, \"ticks\": \"\"}, \"colorscale\": [[0.0, \"#0d0887\"], [0.1111111111111111, \"#46039f\"], [0.2222222222222222, \"#7201a8\"], [0.3333333333333333, \"#9c179e\"], [0.4444444444444444, \"#bd3786\"], [0.5555555555555556, \"#d8576b\"], [0.6666666666666666, \"#ed7953\"], [0.7777777777777778, \"#fb9f3a\"], [0.8888888888888888, \"#fdca26\"], [1.0, \"#f0f921\"]], \"type\": \"heatmapgl\"}], \"histogram\": [{\"marker\": {\"colorbar\": {\"outlinewidth\": 0, \"ticks\": \"\"}}, \"type\": \"histogram\"}], \"histogram2d\": [{\"colorbar\": {\"outlinewidth\": 0, \"ticks\": \"\"}, \"colorscale\": [[0.0, \"#0d0887\"], [0.1111111111111111, \"#46039f\"], [0.2222222222222222, \"#7201a8\"], [0.3333333333333333, \"#9c179e\"], [0.4444444444444444, \"#bd3786\"], [0.5555555555555556, \"#d8576b\"], [0.6666666666666666, \"#ed7953\"], [0.7777777777777778, \"#fb9f3a\"], [0.8888888888888888, \"#fdca26\"], [1.0, \"#f0f921\"]], \"type\": \"histogram2d\"}], \"histogram2dcontour\": [{\"colorbar\": {\"outlinewidth\": 0, \"ticks\": \"\"}, \"colorscale\": [[0.0, \"#0d0887\"], [0.1111111111111111, \"#46039f\"], [0.2222222222222222, \"#7201a8\"], [0.3333333333333333, \"#9c179e\"], [0.4444444444444444, \"#bd3786\"], [0.5555555555555556, \"#d8576b\"], [0.6666666666666666, \"#ed7953\"], [0.7777777777777778, \"#fb9f3a\"], [0.8888888888888888, \"#fdca26\"], [1.0, \"#f0f921\"]], \"type\": \"histogram2dcontour\"}], \"mesh3d\": [{\"colorbar\": {\"outlinewidth\": 0, \"ticks\": \"\"}, \"type\": \"mesh3d\"}], \"parcoords\": [{\"line\": {\"colorbar\": {\"outlinewidth\": 0, \"ticks\": \"\"}}, \"type\": \"parcoords\"}], \"pie\": [{\"automargin\": true, \"type\": \"pie\"}], \"scatter\": [{\"marker\": {\"colorbar\": {\"outlinewidth\": 0, \"ticks\": \"\"}}, \"type\": \"scatter\"}], \"scatter3d\": [{\"line\": {\"colorbar\": {\"outlinewidth\": 0, \"ticks\": \"\"}}, \"marker\": {\"colorbar\": {\"outlinewidth\": 0, \"ticks\": \"\"}}, \"type\": \"scatter3d\"}], \"scattercarpet\": [{\"marker\": {\"colorbar\": {\"outlinewidth\": 0, \"ticks\": \"\"}}, \"type\": \"scattercarpet\"}], \"scattergeo\": [{\"marker\": {\"colorbar\": {\"outlinewidth\": 0, \"ticks\": \"\"}}, \"type\": \"scattergeo\"}], \"scattergl\": [{\"marker\": {\"colorbar\": {\"outlinewidth\": 0, \"ticks\": \"\"}}, \"type\": \"scattergl\"}], \"scattermapbox\": [{\"marker\": {\"colorbar\": {\"outlinewidth\": 0, \"ticks\": \"\"}}, \"type\": \"scattermapbox\"}], \"scatterpolar\": [{\"marker\": {\"colorbar\": {\"outlinewidth\": 0, \"ticks\": \"\"}}, \"type\": \"scatterpolar\"}], \"scatterpolargl\": [{\"marker\": {\"colorbar\": {\"outlinewidth\": 0, \"ticks\": \"\"}}, \"type\": \"scatterpolargl\"}], \"scatterternary\": [{\"marker\": {\"colorbar\": {\"outlinewidth\": 0, \"ticks\": \"\"}}, \"type\": \"scatterternary\"}], \"surface\": [{\"colorbar\": {\"outlinewidth\": 0, \"ticks\": \"\"}, \"colorscale\": [[0.0, \"#0d0887\"], [0.1111111111111111, \"#46039f\"], [0.2222222222222222, \"#7201a8\"], [0.3333333333333333, \"#9c179e\"], [0.4444444444444444, \"#bd3786\"], [0.5555555555555556, \"#d8576b\"], [0.6666666666666666, \"#ed7953\"], [0.7777777777777778, \"#fb9f3a\"], [0.8888888888888888, \"#fdca26\"], [1.0, \"#f0f921\"]], \"type\": \"surface\"}], \"table\": [{\"cells\": {\"fill\": {\"color\": \"#EBF0F8\"}, \"line\": {\"color\": \"white\"}}, \"header\": {\"fill\": {\"color\": \"#C8D4E3\"}, \"line\": {\"color\": \"white\"}}, \"type\": \"table\"}]}, \"layout\": {\"annotationdefaults\": {\"arrowcolor\": \"#2a3f5f\", \"arrowhead\": 0, \"arrowwidth\": 1}, \"autotypenumbers\": \"strict\", \"coloraxis\": {\"colorbar\": {\"outlinewidth\": 0, \"ticks\": \"\"}}, \"colorscale\": {\"diverging\": [[0, \"#8e0152\"], [0.1, \"#c51b7d\"], [0.2, \"#de77ae\"], [0.3, \"#f1b6da\"], [0.4, \"#fde0ef\"], [0.5, \"#f7f7f7\"], [0.6, \"#e6f5d0\"], [0.7, \"#b8e186\"], [0.8, \"#7fbc41\"], [0.9, \"#4d9221\"], [1, \"#276419\"]], \"sequential\": [[0.0, \"#0d0887\"], [0.1111111111111111, \"#46039f\"], [0.2222222222222222, \"#7201a8\"], [0.3333333333333333, \"#9c179e\"], [0.4444444444444444, \"#bd3786\"], [0.5555555555555556, \"#d8576b\"], [0.6666666666666666, \"#ed7953\"], [0.7777777777777778, \"#fb9f3a\"], [0.8888888888888888, \"#fdca26\"], [1.0, \"#f0f921\"]], \"sequentialminus\": [[0.0, \"#0d0887\"], [0.1111111111111111, \"#46039f\"], [0.2222222222222222, \"#7201a8\"], [0.3333333333333333, \"#9c179e\"], [0.4444444444444444, \"#bd3786\"], [0.5555555555555556, \"#d8576b\"], [0.6666666666666666, \"#ed7953\"], [0.7777777777777778, \"#fb9f3a\"], [0.8888888888888888, \"#fdca26\"], [1.0, \"#f0f921\"]]}, \"colorway\": [\"#636efa\", \"#EF553B\", \"#00cc96\", \"#ab63fa\", \"#FFA15A\", \"#19d3f3\", \"#FF6692\", \"#B6E880\", \"#FF97FF\", \"#FECB52\"], \"font\": {\"color\": \"#2a3f5f\"}, \"geo\": {\"bgcolor\": \"white\", \"lakecolor\": \"white\", \"landcolor\": \"#E5ECF6\", \"showlakes\": true, \"showland\": true, \"subunitcolor\": \"white\"}, \"hoverlabel\": {\"align\": \"left\"}, \"hovermode\": \"closest\", \"mapbox\": {\"style\": \"light\"}, \"paper_bgcolor\": \"white\", \"plot_bgcolor\": \"#E5ECF6\", \"polar\": {\"angularaxis\": {\"gridcolor\": \"white\", \"linecolor\": \"white\", \"ticks\": \"\"}, \"bgcolor\": \"#E5ECF6\", \"radialaxis\": {\"gridcolor\": \"white\", \"linecolor\": \"white\", \"ticks\": \"\"}}, \"scene\": {\"xaxis\": {\"backgroundcolor\": \"#E5ECF6\", \"gridcolor\": \"white\", \"gridwidth\": 2, \"linecolor\": \"white\", \"showbackground\": true, \"ticks\": \"\", \"zerolinecolor\": \"white\"}, \"yaxis\": {\"backgroundcolor\": \"#E5ECF6\", \"gridcolor\": \"white\", \"gridwidth\": 2, \"linecolor\": \"white\", \"showbackground\": true, \"ticks\": \"\", \"zerolinecolor\": \"white\"}, \"zaxis\": {\"backgroundcolor\": \"#E5ECF6\", \"gridcolor\": \"white\", \"gridwidth\": 2, \"linecolor\": \"white\", \"showbackground\": true, \"ticks\": \"\", \"zerolinecolor\": \"white\"}}, \"shapedefaults\": {\"line\": {\"color\": \"#2a3f5f\"}}, \"ternary\": {\"aaxis\": {\"gridcolor\": \"white\", \"linecolor\": \"white\", \"ticks\": \"\"}, \"baxis\": {\"gridcolor\": \"white\", \"linecolor\": \"white\", \"ticks\": \"\"}, \"bgcolor\": \"#E5ECF6\", \"caxis\": {\"gridcolor\": \"white\", \"linecolor\": \"white\", \"ticks\": \"\"}}, \"title\": {\"x\": 0.05}, \"xaxis\": {\"automargin\": true, \"gridcolor\": \"white\", \"linecolor\": \"white\", \"ticks\": \"\", \"title\": {\"standoff\": 15}, \"zerolinecolor\": \"white\", \"zerolinewidth\": 2}, \"yaxis\": {\"automargin\": true, \"gridcolor\": \"white\", \"linecolor\": \"white\", \"ticks\": \"\", \"title\": {\"standoff\": 15}, \"zerolinecolor\": \"white\", \"zerolinewidth\": 2}}}, \"title\": {\"text\": \"Revenue Distribution in Action Movies\"}, \"violinmode\": \"overlay\", \"width\": 800, \"xaxis\": {\"anchor\": \"y\", \"categoryarray\": [\"c0\", \"c1\", \"c2\"], \"categoryorder\": \"array\", \"domain\": [0.0, 1.0], \"title\": {\"text\": \"Cluster\"}}, \"yaxis\": {\"anchor\": \"x\", \"domain\": [0.0, 1.0], \"title\": {\"text\": \"Revenue\"}}},                        {\"responsive\": true}                    ).then(function(){\n",
       "                            \n",
       "var gd = document.getElementById('d9be547e-4589-41b8-b090-bf9c9455b3f4');\n",
       "var x = new MutationObserver(function (mutations, observer) {{\n",
       "        var display = window.getComputedStyle(gd).display;\n",
       "        if (!display || display === 'none') {{\n",
       "            console.log([gd, 'removed!']);\n",
       "            Plotly.purge(gd);\n",
       "            observer.disconnect();\n",
       "        }}\n",
       "}});\n",
       "\n",
       "// Listen for the removal of the full notebook cells\n",
       "var notebookContainer = gd.closest('#notebook-container');\n",
       "if (notebookContainer) {{\n",
       "    x.observe(notebookContainer, {childList: true});\n",
       "}}\n",
       "\n",
       "// Listen for the clearing of the current output cell\n",
       "var outputEl = gd.closest('.output');\n",
       "if (outputEl) {{\n",
       "    x.observe(outputEl, {childList: true});\n",
       "}}\n",
       "\n",
       "                        })                };                });            </script>        </div>"
      ]
     },
     "metadata": {},
     "output_type": "display_data"
    }
   ],
   "source": [
    "drama_df = smaller_df[(smaller_df.genres == 'Action') & (smaller_df.cluster_label.isin([0, 1, 2, 5]))]\n",
    "drama_df = drama_df.sort_values('cluster_label')\n",
    "\n",
    "fig = px.violin(drama_df, y='revenue', x='cluster_string', color='cluster_string', points='all', hover_data=drama_df)\n",
    "\n",
    "fig.update_layout(\n",
    "    title='Revenue Distribution in Action Movies',\n",
    "    yaxis_title='Revenue',\n",
    "    xaxis_title='Cluster',\n",
    "    height=1000,\n",
    "    width=800\n",
    ")\n",
    "\n",
    "iplot(fig)"
   ]
  },
  {
   "cell_type": "code",
   "execution_count": 138,
   "metadata": {},
   "outputs": [
    {
     "data": {
      "application/vnd.plotly.v1+json": {
       "config": {
        "linkText": "Export to plot.ly",
        "plotlyServerURL": "https://plot.ly",
        "showLink": false
       },
       "data": [
        {
         "alignmentgroup": "True",
         "box": {
          "visible": false
         },
         "customdata": [
          [
           "12000000",
           9.8,
           7.7,
           237,
           0,
           "My Name Is Khan",
           "Drama"
          ],
          [
           "5510000",
           9,
           6.5,
           19,
           0,
           "Mere Brother Ki Dulhan",
           "Drama"
          ],
          [
           "4141459",
           9.1,
           5.6,
           103,
           0,
           "17 Girls",
           "Drama"
          ],
          [
           "8000000",
           9,
           6.7,
           68,
           0,
           "War of the Arrows",
           "Drama"
          ],
          [
           "94000000",
           8.5,
           7.1,
           193,
           0,
           "The Flowers of War",
           "Drama"
          ],
          [
           "6200000",
           9.5,
           6.9,
           22,
           0,
           "Late Autumn",
           "Drama"
          ],
          [
           "32000000",
           9,
           6.5,
           1009,
           0,
           "The Tree of Life",
           "Drama"
          ],
          [
           "1987650",
           9.5,
           6.6,
           853,
           0,
           "Buried",
           "Drama"
          ],
          [
           "20000000",
           9.4,
           6.7,
           656,
           0,
           "Let Me In",
           "Drama"
          ],
          [
           "15000000",
           9,
           6.2,
           589,
           0,
           "A Dangerous Method",
           "Drama"
          ],
          [
           "20",
           9.1,
           5.8,
           30,
           0,
           "William & Kate",
           "Drama"
          ],
          [
           "4000000",
           9.5,
           6.4,
           71,
           0,
           "Dirty Girl",
           "Drama"
          ]
         ],
         "hovertemplate": "cluster_string=%{x}<br>revenue=%{y}<br>budget=%{customdata[0]}<br>Unemployment_Rate=%{customdata[1]}<br>vote_average=%{customdata[2]}<br>vote_count=%{customdata[3]}<br>cluster_label=%{customdata[4]}<br>title=%{customdata[5]}<br>genres=%{customdata[6]}<extra></extra>",
         "legendgroup": "c0",
         "marker": {
          "color": "#636efa"
         },
         "name": "c0",
         "offsetgroup": "c0",
         "orientation": "v",
         "points": "all",
         "scalegroup": "True",
         "showlegend": true,
         "type": "violin",
         "x": [
          "c0",
          "c0",
          "c0",
          "c0",
          "c0",
          "c0",
          "c0",
          "c0",
          "c0",
          "c0",
          "c0",
          "c0"
         ],
         "x0": " ",
         "xaxis": "x",
         "y": [
          42345360,
          18050000,
          201607,
          49000000,
          95311434,
          4820000,
          54674226,
          19152480,
          24145613,
          27462041,
          15,
          55125
         ],
         "y0": " ",
         "yaxis": "y"
        },
        {
         "alignmentgroup": "True",
         "box": {
          "visible": false
         },
         "customdata": [
          [
           "175000000",
           5.3,
           7.9,
           6737,
           1,
           "Inside Out",
           "Drama"
          ]
         ],
         "hovertemplate": "cluster_string=%{x}<br>revenue=%{y}<br>budget=%{customdata[0]}<br>Unemployment_Rate=%{customdata[1]}<br>vote_average=%{customdata[2]}<br>vote_count=%{customdata[3]}<br>cluster_label=%{customdata[4]}<br>title=%{customdata[5]}<br>genres=%{customdata[6]}<extra></extra>",
         "legendgroup": "c1",
         "marker": {
          "color": "#EF553B"
         },
         "name": "c1",
         "offsetgroup": "c1",
         "orientation": "v",
         "points": "all",
         "scalegroup": "True",
         "showlegend": true,
         "type": "violin",
         "x": [
          "c1"
         ],
         "x0": " ",
         "xaxis": "x",
         "y": [
          857611174
         ],
         "y0": " ",
         "yaxis": "y"
        },
        {
         "alignmentgroup": "True",
         "box": {
          "visible": false
         },
         "customdata": [
          [
           "8900000",
           8.2,
           7.5,
           413,
           2,
           "Amour",
           "Drama"
          ],
          [
           "10000000",
           7.2,
           6,
           30,
           2,
           "Jimmy P.",
           "Drama"
          ],
          [
           "3500000",
           7.8,
           6.6,
           52,
           2,
           "A Company Man",
           "Drama"
          ],
          [
           "12000000",
           7.8,
           6.1,
           300,
           2,
           "Arbitrage",
           "Drama"
          ],
          [
           "16000000",
           7.3,
           6.2,
           256,
           2,
           "The Immigrant",
           "Drama"
          ],
          [
           "1000000",
           8.2,
           6.6,
           183,
           2,
           "The Sessions",
           "Drama"
          ],
          [
           "30000000",
           6.9,
           5.9,
           632,
           2,
           "Oldboy",
           "Drama"
          ],
          [
           "35000000",
           7.2,
           5.6,
           358,
           2,
           "Paranoia",
           "Drama"
          ],
          [
           "3800000",
           8.1,
           7.9,
           946,
           2,
           "The Hunt",
           "Drama"
          ],
          [
           "11000000",
           7.5,
           7.1,
           161,
           2,
           "The Past",
           "Drama"
          ],
          [
           "10000000",
           7.5,
           7,
           1080,
           2,
           "Mud",
           "Drama"
          ],
          [
           "11180",
           7.8,
           5.9,
           11,
           2,
           "Captive",
           "Drama"
          ],
          [
           "6500000",
           7.5,
           6.5,
           308,
           2,
           "The East",
           "Drama"
          ],
          [
           "11000000",
           7.2,
           7.2,
           845,
           2,
           "Inside Llewyn Davis",
           "Drama"
          ],
          [
           "23000000",
           7.5,
           6.6,
           307,
           2,
           "Behind the Candelabra",
           "Drama"
          ]
         ],
         "hovertemplate": "cluster_string=%{x}<br>revenue=%{y}<br>budget=%{customdata[0]}<br>Unemployment_Rate=%{customdata[1]}<br>vote_average=%{customdata[2]}<br>vote_count=%{customdata[3]}<br>cluster_label=%{customdata[4]}<br>title=%{customdata[5]}<br>genres=%{customdata[6]}<extra></extra>",
         "legendgroup": "c2",
         "marker": {
          "color": "#00cc96"
         },
         "name": "c2",
         "offsetgroup": "c2",
         "orientation": "v",
         "points": "all",
         "scalegroup": "True",
         "showlegend": true,
         "type": "violin",
         "x": [
          "c2",
          "c2",
          "c2",
          "c2",
          "c2",
          "c2",
          "c2",
          "c2",
          "c2",
          "c2",
          "c2",
          "c2",
          "c2",
          "c2",
          "c2"
         ],
         "x0": " ",
         "xaxis": "x",
         "y": [
          29844753,
          30283,
          7339398,
          35485056,
          5867686,
          9138338,
          4861022,
          13785015,
          16800000,
          10631747,
          21587700,
          24591,
          2401510,
          32935319,
          15600000
         ],
         "y0": " ",
         "yaxis": "y"
        }
       ],
       "layout": {
        "height": 1000,
        "legend": {
         "title": {
          "text": "cluster_string"
         },
         "tracegroupgap": 0
        },
        "margin": {
         "t": 60
        },
        "template": {
         "data": {
          "bar": [
           {
            "error_x": {
             "color": "#2a3f5f"
            },
            "error_y": {
             "color": "#2a3f5f"
            },
            "marker": {
             "line": {
              "color": "#E5ECF6",
              "width": 0.5
             }
            },
            "type": "bar"
           }
          ],
          "barpolar": [
           {
            "marker": {
             "line": {
              "color": "#E5ECF6",
              "width": 0.5
             }
            },
            "type": "barpolar"
           }
          ],
          "carpet": [
           {
            "aaxis": {
             "endlinecolor": "#2a3f5f",
             "gridcolor": "white",
             "linecolor": "white",
             "minorgridcolor": "white",
             "startlinecolor": "#2a3f5f"
            },
            "baxis": {
             "endlinecolor": "#2a3f5f",
             "gridcolor": "white",
             "linecolor": "white",
             "minorgridcolor": "white",
             "startlinecolor": "#2a3f5f"
            },
            "type": "carpet"
           }
          ],
          "choropleth": [
           {
            "colorbar": {
             "outlinewidth": 0,
             "ticks": ""
            },
            "type": "choropleth"
           }
          ],
          "contour": [
           {
            "colorbar": {
             "outlinewidth": 0,
             "ticks": ""
            },
            "colorscale": [
             [
              0,
              "#0d0887"
             ],
             [
              0.1111111111111111,
              "#46039f"
             ],
             [
              0.2222222222222222,
              "#7201a8"
             ],
             [
              0.3333333333333333,
              "#9c179e"
             ],
             [
              0.4444444444444444,
              "#bd3786"
             ],
             [
              0.5555555555555556,
              "#d8576b"
             ],
             [
              0.6666666666666666,
              "#ed7953"
             ],
             [
              0.7777777777777778,
              "#fb9f3a"
             ],
             [
              0.8888888888888888,
              "#fdca26"
             ],
             [
              1,
              "#f0f921"
             ]
            ],
            "type": "contour"
           }
          ],
          "contourcarpet": [
           {
            "colorbar": {
             "outlinewidth": 0,
             "ticks": ""
            },
            "type": "contourcarpet"
           }
          ],
          "heatmap": [
           {
            "colorbar": {
             "outlinewidth": 0,
             "ticks": ""
            },
            "colorscale": [
             [
              0,
              "#0d0887"
             ],
             [
              0.1111111111111111,
              "#46039f"
             ],
             [
              0.2222222222222222,
              "#7201a8"
             ],
             [
              0.3333333333333333,
              "#9c179e"
             ],
             [
              0.4444444444444444,
              "#bd3786"
             ],
             [
              0.5555555555555556,
              "#d8576b"
             ],
             [
              0.6666666666666666,
              "#ed7953"
             ],
             [
              0.7777777777777778,
              "#fb9f3a"
             ],
             [
              0.8888888888888888,
              "#fdca26"
             ],
             [
              1,
              "#f0f921"
             ]
            ],
            "type": "heatmap"
           }
          ],
          "heatmapgl": [
           {
            "colorbar": {
             "outlinewidth": 0,
             "ticks": ""
            },
            "colorscale": [
             [
              0,
              "#0d0887"
             ],
             [
              0.1111111111111111,
              "#46039f"
             ],
             [
              0.2222222222222222,
              "#7201a8"
             ],
             [
              0.3333333333333333,
              "#9c179e"
             ],
             [
              0.4444444444444444,
              "#bd3786"
             ],
             [
              0.5555555555555556,
              "#d8576b"
             ],
             [
              0.6666666666666666,
              "#ed7953"
             ],
             [
              0.7777777777777778,
              "#fb9f3a"
             ],
             [
              0.8888888888888888,
              "#fdca26"
             ],
             [
              1,
              "#f0f921"
             ]
            ],
            "type": "heatmapgl"
           }
          ],
          "histogram": [
           {
            "marker": {
             "colorbar": {
              "outlinewidth": 0,
              "ticks": ""
             }
            },
            "type": "histogram"
           }
          ],
          "histogram2d": [
           {
            "colorbar": {
             "outlinewidth": 0,
             "ticks": ""
            },
            "colorscale": [
             [
              0,
              "#0d0887"
             ],
             [
              0.1111111111111111,
              "#46039f"
             ],
             [
              0.2222222222222222,
              "#7201a8"
             ],
             [
              0.3333333333333333,
              "#9c179e"
             ],
             [
              0.4444444444444444,
              "#bd3786"
             ],
             [
              0.5555555555555556,
              "#d8576b"
             ],
             [
              0.6666666666666666,
              "#ed7953"
             ],
             [
              0.7777777777777778,
              "#fb9f3a"
             ],
             [
              0.8888888888888888,
              "#fdca26"
             ],
             [
              1,
              "#f0f921"
             ]
            ],
            "type": "histogram2d"
           }
          ],
          "histogram2dcontour": [
           {
            "colorbar": {
             "outlinewidth": 0,
             "ticks": ""
            },
            "colorscale": [
             [
              0,
              "#0d0887"
             ],
             [
              0.1111111111111111,
              "#46039f"
             ],
             [
              0.2222222222222222,
              "#7201a8"
             ],
             [
              0.3333333333333333,
              "#9c179e"
             ],
             [
              0.4444444444444444,
              "#bd3786"
             ],
             [
              0.5555555555555556,
              "#d8576b"
             ],
             [
              0.6666666666666666,
              "#ed7953"
             ],
             [
              0.7777777777777778,
              "#fb9f3a"
             ],
             [
              0.8888888888888888,
              "#fdca26"
             ],
             [
              1,
              "#f0f921"
             ]
            ],
            "type": "histogram2dcontour"
           }
          ],
          "mesh3d": [
           {
            "colorbar": {
             "outlinewidth": 0,
             "ticks": ""
            },
            "type": "mesh3d"
           }
          ],
          "parcoords": [
           {
            "line": {
             "colorbar": {
              "outlinewidth": 0,
              "ticks": ""
             }
            },
            "type": "parcoords"
           }
          ],
          "pie": [
           {
            "automargin": true,
            "type": "pie"
           }
          ],
          "scatter": [
           {
            "marker": {
             "colorbar": {
              "outlinewidth": 0,
              "ticks": ""
             }
            },
            "type": "scatter"
           }
          ],
          "scatter3d": [
           {
            "line": {
             "colorbar": {
              "outlinewidth": 0,
              "ticks": ""
             }
            },
            "marker": {
             "colorbar": {
              "outlinewidth": 0,
              "ticks": ""
             }
            },
            "type": "scatter3d"
           }
          ],
          "scattercarpet": [
           {
            "marker": {
             "colorbar": {
              "outlinewidth": 0,
              "ticks": ""
             }
            },
            "type": "scattercarpet"
           }
          ],
          "scattergeo": [
           {
            "marker": {
             "colorbar": {
              "outlinewidth": 0,
              "ticks": ""
             }
            },
            "type": "scattergeo"
           }
          ],
          "scattergl": [
           {
            "marker": {
             "colorbar": {
              "outlinewidth": 0,
              "ticks": ""
             }
            },
            "type": "scattergl"
           }
          ],
          "scattermapbox": [
           {
            "marker": {
             "colorbar": {
              "outlinewidth": 0,
              "ticks": ""
             }
            },
            "type": "scattermapbox"
           }
          ],
          "scatterpolar": [
           {
            "marker": {
             "colorbar": {
              "outlinewidth": 0,
              "ticks": ""
             }
            },
            "type": "scatterpolar"
           }
          ],
          "scatterpolargl": [
           {
            "marker": {
             "colorbar": {
              "outlinewidth": 0,
              "ticks": ""
             }
            },
            "type": "scatterpolargl"
           }
          ],
          "scatterternary": [
           {
            "marker": {
             "colorbar": {
              "outlinewidth": 0,
              "ticks": ""
             }
            },
            "type": "scatterternary"
           }
          ],
          "surface": [
           {
            "colorbar": {
             "outlinewidth": 0,
             "ticks": ""
            },
            "colorscale": [
             [
              0,
              "#0d0887"
             ],
             [
              0.1111111111111111,
              "#46039f"
             ],
             [
              0.2222222222222222,
              "#7201a8"
             ],
             [
              0.3333333333333333,
              "#9c179e"
             ],
             [
              0.4444444444444444,
              "#bd3786"
             ],
             [
              0.5555555555555556,
              "#d8576b"
             ],
             [
              0.6666666666666666,
              "#ed7953"
             ],
             [
              0.7777777777777778,
              "#fb9f3a"
             ],
             [
              0.8888888888888888,
              "#fdca26"
             ],
             [
              1,
              "#f0f921"
             ]
            ],
            "type": "surface"
           }
          ],
          "table": [
           {
            "cells": {
             "fill": {
              "color": "#EBF0F8"
             },
             "line": {
              "color": "white"
             }
            },
            "header": {
             "fill": {
              "color": "#C8D4E3"
             },
             "line": {
              "color": "white"
             }
            },
            "type": "table"
           }
          ]
         },
         "layout": {
          "annotationdefaults": {
           "arrowcolor": "#2a3f5f",
           "arrowhead": 0,
           "arrowwidth": 1
          },
          "autotypenumbers": "strict",
          "coloraxis": {
           "colorbar": {
            "outlinewidth": 0,
            "ticks": ""
           }
          },
          "colorscale": {
           "diverging": [
            [
             0,
             "#8e0152"
            ],
            [
             0.1,
             "#c51b7d"
            ],
            [
             0.2,
             "#de77ae"
            ],
            [
             0.3,
             "#f1b6da"
            ],
            [
             0.4,
             "#fde0ef"
            ],
            [
             0.5,
             "#f7f7f7"
            ],
            [
             0.6,
             "#e6f5d0"
            ],
            [
             0.7,
             "#b8e186"
            ],
            [
             0.8,
             "#7fbc41"
            ],
            [
             0.9,
             "#4d9221"
            ],
            [
             1,
             "#276419"
            ]
           ],
           "sequential": [
            [
             0,
             "#0d0887"
            ],
            [
             0.1111111111111111,
             "#46039f"
            ],
            [
             0.2222222222222222,
             "#7201a8"
            ],
            [
             0.3333333333333333,
             "#9c179e"
            ],
            [
             0.4444444444444444,
             "#bd3786"
            ],
            [
             0.5555555555555556,
             "#d8576b"
            ],
            [
             0.6666666666666666,
             "#ed7953"
            ],
            [
             0.7777777777777778,
             "#fb9f3a"
            ],
            [
             0.8888888888888888,
             "#fdca26"
            ],
            [
             1,
             "#f0f921"
            ]
           ],
           "sequentialminus": [
            [
             0,
             "#0d0887"
            ],
            [
             0.1111111111111111,
             "#46039f"
            ],
            [
             0.2222222222222222,
             "#7201a8"
            ],
            [
             0.3333333333333333,
             "#9c179e"
            ],
            [
             0.4444444444444444,
             "#bd3786"
            ],
            [
             0.5555555555555556,
             "#d8576b"
            ],
            [
             0.6666666666666666,
             "#ed7953"
            ],
            [
             0.7777777777777778,
             "#fb9f3a"
            ],
            [
             0.8888888888888888,
             "#fdca26"
            ],
            [
             1,
             "#f0f921"
            ]
           ]
          },
          "colorway": [
           "#636efa",
           "#EF553B",
           "#00cc96",
           "#ab63fa",
           "#FFA15A",
           "#19d3f3",
           "#FF6692",
           "#B6E880",
           "#FF97FF",
           "#FECB52"
          ],
          "font": {
           "color": "#2a3f5f"
          },
          "geo": {
           "bgcolor": "white",
           "lakecolor": "white",
           "landcolor": "#E5ECF6",
           "showlakes": true,
           "showland": true,
           "subunitcolor": "white"
          },
          "hoverlabel": {
           "align": "left"
          },
          "hovermode": "closest",
          "mapbox": {
           "style": "light"
          },
          "paper_bgcolor": "white",
          "plot_bgcolor": "#E5ECF6",
          "polar": {
           "angularaxis": {
            "gridcolor": "white",
            "linecolor": "white",
            "ticks": ""
           },
           "bgcolor": "#E5ECF6",
           "radialaxis": {
            "gridcolor": "white",
            "linecolor": "white",
            "ticks": ""
           }
          },
          "scene": {
           "xaxis": {
            "backgroundcolor": "#E5ECF6",
            "gridcolor": "white",
            "gridwidth": 2,
            "linecolor": "white",
            "showbackground": true,
            "ticks": "",
            "zerolinecolor": "white"
           },
           "yaxis": {
            "backgroundcolor": "#E5ECF6",
            "gridcolor": "white",
            "gridwidth": 2,
            "linecolor": "white",
            "showbackground": true,
            "ticks": "",
            "zerolinecolor": "white"
           },
           "zaxis": {
            "backgroundcolor": "#E5ECF6",
            "gridcolor": "white",
            "gridwidth": 2,
            "linecolor": "white",
            "showbackground": true,
            "ticks": "",
            "zerolinecolor": "white"
           }
          },
          "shapedefaults": {
           "line": {
            "color": "#2a3f5f"
           }
          },
          "ternary": {
           "aaxis": {
            "gridcolor": "white",
            "linecolor": "white",
            "ticks": ""
           },
           "baxis": {
            "gridcolor": "white",
            "linecolor": "white",
            "ticks": ""
           },
           "bgcolor": "#E5ECF6",
           "caxis": {
            "gridcolor": "white",
            "linecolor": "white",
            "ticks": ""
           }
          },
          "title": {
           "x": 0.05
          },
          "xaxis": {
           "automargin": true,
           "gridcolor": "white",
           "linecolor": "white",
           "ticks": "",
           "title": {
            "standoff": 15
           },
           "zerolinecolor": "white",
           "zerolinewidth": 2
          },
          "yaxis": {
           "automargin": true,
           "gridcolor": "white",
           "linecolor": "white",
           "ticks": "",
           "title": {
            "standoff": 15
           },
           "zerolinecolor": "white",
           "zerolinewidth": 2
          }
         }
        },
        "title": {
         "text": "Revenue Distribution in Drama Movies"
        },
        "violinmode": "overlay",
        "width": 800,
        "xaxis": {
         "anchor": "y",
         "categoryarray": [
          "c0",
          "c1",
          "c2"
         ],
         "categoryorder": "array",
         "domain": [
          0,
          1
         ],
         "title": {
          "text": "Cluster"
         }
        },
        "yaxis": {
         "anchor": "x",
         "domain": [
          0,
          1
         ],
         "title": {
          "text": "Revenue"
         }
        }
       }
      },
      "text/html": [
       "<div>                            <div id=\"ac0350a2-78fe-44d8-90bc-419166a43c17\" class=\"plotly-graph-div\" style=\"height:1000px; width:800px;\"></div>            <script type=\"text/javascript\">                require([\"plotly\"], function(Plotly) {                    window.PLOTLYENV=window.PLOTLYENV || {};                                    if (document.getElementById(\"ac0350a2-78fe-44d8-90bc-419166a43c17\")) {                    Plotly.newPlot(                        \"ac0350a2-78fe-44d8-90bc-419166a43c17\",                        [{\"alignmentgroup\": \"True\", \"box\": {\"visible\": false}, \"customdata\": [[\"12000000\", 9.8, 7.7, 237.0, 0, \"My Name Is Khan\", \"Drama\"], [\"5510000\", 9.0, 6.5, 19.0, 0, \"Mere Brother Ki Dulhan\", \"Drama\"], [\"4141459\", 9.1, 5.6, 103.0, 0, \"17 Girls\", \"Drama\"], [\"8000000\", 9.0, 6.7, 68.0, 0, \"War of the Arrows\", \"Drama\"], [\"94000000\", 8.5, 7.1, 193.0, 0, \"The Flowers of War\", \"Drama\"], [\"6200000\", 9.5, 6.9, 22.0, 0, \"Late Autumn\", \"Drama\"], [\"32000000\", 9.0, 6.5, 1009.0, 0, \"The Tree of Life\", \"Drama\"], [\"1987650\", 9.5, 6.6, 853.0, 0, \"Buried\", \"Drama\"], [\"20000000\", 9.4, 6.7, 656.0, 0, \"Let Me In\", \"Drama\"], [\"15000000\", 9.0, 6.2, 589.0, 0, \"A Dangerous Method\", \"Drama\"], [\"20\", 9.1, 5.8, 30.0, 0, \"William & Kate\", \"Drama\"], [\"4000000\", 9.5, 6.4, 71.0, 0, \"Dirty Girl\", \"Drama\"]], \"hovertemplate\": \"cluster_string=%{x}<br>revenue=%{y}<br>budget=%{customdata[0]}<br>Unemployment_Rate=%{customdata[1]}<br>vote_average=%{customdata[2]}<br>vote_count=%{customdata[3]}<br>cluster_label=%{customdata[4]}<br>title=%{customdata[5]}<br>genres=%{customdata[6]}<extra></extra>\", \"legendgroup\": \"c0\", \"marker\": {\"color\": \"#636efa\"}, \"name\": \"c0\", \"offsetgroup\": \"c0\", \"orientation\": \"v\", \"points\": \"all\", \"scalegroup\": \"True\", \"showlegend\": true, \"type\": \"violin\", \"x\": [\"c0\", \"c0\", \"c0\", \"c0\", \"c0\", \"c0\", \"c0\", \"c0\", \"c0\", \"c0\", \"c0\", \"c0\"], \"x0\": \" \", \"xaxis\": \"x\", \"y\": [42345360.0, 18050000.0, 201607.0, 49000000.0, 95311434.0, 4820000.0, 54674226.0, 19152480.0, 24145613.0, 27462041.0, 15.0, 55125.0], \"y0\": \" \", \"yaxis\": \"y\"}, {\"alignmentgroup\": \"True\", \"box\": {\"visible\": false}, \"customdata\": [[\"175000000\", 5.3, 7.9, 6737.0, 1, \"Inside Out\", \"Drama\"]], \"hovertemplate\": \"cluster_string=%{x}<br>revenue=%{y}<br>budget=%{customdata[0]}<br>Unemployment_Rate=%{customdata[1]}<br>vote_average=%{customdata[2]}<br>vote_count=%{customdata[3]}<br>cluster_label=%{customdata[4]}<br>title=%{customdata[5]}<br>genres=%{customdata[6]}<extra></extra>\", \"legendgroup\": \"c1\", \"marker\": {\"color\": \"#EF553B\"}, \"name\": \"c1\", \"offsetgroup\": \"c1\", \"orientation\": \"v\", \"points\": \"all\", \"scalegroup\": \"True\", \"showlegend\": true, \"type\": \"violin\", \"x\": [\"c1\"], \"x0\": \" \", \"xaxis\": \"x\", \"y\": [857611174.0], \"y0\": \" \", \"yaxis\": \"y\"}, {\"alignmentgroup\": \"True\", \"box\": {\"visible\": false}, \"customdata\": [[\"8900000\", 8.2, 7.5, 413.0, 2, \"Amour\", \"Drama\"], [\"10000000\", 7.2, 6.0, 30.0, 2, \"Jimmy P.\", \"Drama\"], [\"3500000\", 7.8, 6.6, 52.0, 2, \"A Company Man\", \"Drama\"], [\"12000000\", 7.8, 6.1, 300.0, 2, \"Arbitrage\", \"Drama\"], [\"16000000\", 7.3, 6.2, 256.0, 2, \"The Immigrant\", \"Drama\"], [\"1000000\", 8.2, 6.6, 183.0, 2, \"The Sessions\", \"Drama\"], [\"30000000\", 6.9, 5.9, 632.0, 2, \"Oldboy\", \"Drama\"], [\"35000000\", 7.2, 5.6, 358.0, 2, \"Paranoia\", \"Drama\"], [\"3800000\", 8.1, 7.9, 946.0, 2, \"The Hunt\", \"Drama\"], [\"11000000\", 7.5, 7.1, 161.0, 2, \"The Past\", \"Drama\"], [\"10000000\", 7.5, 7.0, 1080.0, 2, \"Mud\", \"Drama\"], [\"11180\", 7.8, 5.9, 11.0, 2, \"Captive\", \"Drama\"], [\"6500000\", 7.5, 6.5, 308.0, 2, \"The East\", \"Drama\"], [\"11000000\", 7.2, 7.2, 845.0, 2, \"Inside Llewyn Davis\", \"Drama\"], [\"23000000\", 7.5, 6.6, 307.0, 2, \"Behind the Candelabra\", \"Drama\"]], \"hovertemplate\": \"cluster_string=%{x}<br>revenue=%{y}<br>budget=%{customdata[0]}<br>Unemployment_Rate=%{customdata[1]}<br>vote_average=%{customdata[2]}<br>vote_count=%{customdata[3]}<br>cluster_label=%{customdata[4]}<br>title=%{customdata[5]}<br>genres=%{customdata[6]}<extra></extra>\", \"legendgroup\": \"c2\", \"marker\": {\"color\": \"#00cc96\"}, \"name\": \"c2\", \"offsetgroup\": \"c2\", \"orientation\": \"v\", \"points\": \"all\", \"scalegroup\": \"True\", \"showlegend\": true, \"type\": \"violin\", \"x\": [\"c2\", \"c2\", \"c2\", \"c2\", \"c2\", \"c2\", \"c2\", \"c2\", \"c2\", \"c2\", \"c2\", \"c2\", \"c2\", \"c2\", \"c2\"], \"x0\": \" \", \"xaxis\": \"x\", \"y\": [29844753.0, 30283.0, 7339398.0, 35485056.0, 5867686.0, 9138338.0, 4861022.0, 13785015.0, 16800000.0, 10631747.0, 21587700.0, 24591.0, 2401510.0, 32935319.0, 15600000.0], \"y0\": \" \", \"yaxis\": \"y\"}],                        {\"height\": 1000, \"legend\": {\"title\": {\"text\": \"cluster_string\"}, \"tracegroupgap\": 0}, \"margin\": {\"t\": 60}, \"template\": {\"data\": {\"bar\": [{\"error_x\": {\"color\": \"#2a3f5f\"}, \"error_y\": {\"color\": \"#2a3f5f\"}, \"marker\": {\"line\": {\"color\": \"#E5ECF6\", \"width\": 0.5}}, \"type\": \"bar\"}], \"barpolar\": [{\"marker\": {\"line\": {\"color\": \"#E5ECF6\", \"width\": 0.5}}, \"type\": \"barpolar\"}], \"carpet\": [{\"aaxis\": {\"endlinecolor\": \"#2a3f5f\", \"gridcolor\": \"white\", \"linecolor\": \"white\", \"minorgridcolor\": \"white\", \"startlinecolor\": \"#2a3f5f\"}, \"baxis\": {\"endlinecolor\": \"#2a3f5f\", \"gridcolor\": \"white\", \"linecolor\": \"white\", \"minorgridcolor\": \"white\", \"startlinecolor\": \"#2a3f5f\"}, \"type\": \"carpet\"}], \"choropleth\": [{\"colorbar\": {\"outlinewidth\": 0, \"ticks\": \"\"}, \"type\": \"choropleth\"}], \"contour\": [{\"colorbar\": {\"outlinewidth\": 0, \"ticks\": \"\"}, \"colorscale\": [[0.0, \"#0d0887\"], [0.1111111111111111, \"#46039f\"], [0.2222222222222222, \"#7201a8\"], [0.3333333333333333, \"#9c179e\"], [0.4444444444444444, \"#bd3786\"], [0.5555555555555556, \"#d8576b\"], [0.6666666666666666, \"#ed7953\"], [0.7777777777777778, \"#fb9f3a\"], [0.8888888888888888, \"#fdca26\"], [1.0, \"#f0f921\"]], \"type\": \"contour\"}], \"contourcarpet\": [{\"colorbar\": {\"outlinewidth\": 0, \"ticks\": \"\"}, \"type\": \"contourcarpet\"}], \"heatmap\": [{\"colorbar\": {\"outlinewidth\": 0, \"ticks\": \"\"}, \"colorscale\": [[0.0, \"#0d0887\"], [0.1111111111111111, \"#46039f\"], [0.2222222222222222, \"#7201a8\"], [0.3333333333333333, \"#9c179e\"], [0.4444444444444444, \"#bd3786\"], [0.5555555555555556, \"#d8576b\"], [0.6666666666666666, \"#ed7953\"], [0.7777777777777778, \"#fb9f3a\"], [0.8888888888888888, \"#fdca26\"], [1.0, \"#f0f921\"]], \"type\": \"heatmap\"}], \"heatmapgl\": [{\"colorbar\": {\"outlinewidth\": 0, \"ticks\": \"\"}, \"colorscale\": [[0.0, \"#0d0887\"], [0.1111111111111111, \"#46039f\"], [0.2222222222222222, \"#7201a8\"], [0.3333333333333333, \"#9c179e\"], [0.4444444444444444, \"#bd3786\"], [0.5555555555555556, \"#d8576b\"], [0.6666666666666666, \"#ed7953\"], [0.7777777777777778, \"#fb9f3a\"], [0.8888888888888888, \"#fdca26\"], [1.0, \"#f0f921\"]], \"type\": \"heatmapgl\"}], \"histogram\": [{\"marker\": {\"colorbar\": {\"outlinewidth\": 0, \"ticks\": \"\"}}, \"type\": \"histogram\"}], \"histogram2d\": [{\"colorbar\": {\"outlinewidth\": 0, \"ticks\": \"\"}, \"colorscale\": [[0.0, \"#0d0887\"], [0.1111111111111111, \"#46039f\"], [0.2222222222222222, \"#7201a8\"], [0.3333333333333333, \"#9c179e\"], [0.4444444444444444, \"#bd3786\"], [0.5555555555555556, \"#d8576b\"], [0.6666666666666666, \"#ed7953\"], [0.7777777777777778, \"#fb9f3a\"], [0.8888888888888888, \"#fdca26\"], [1.0, \"#f0f921\"]], \"type\": \"histogram2d\"}], \"histogram2dcontour\": [{\"colorbar\": {\"outlinewidth\": 0, \"ticks\": \"\"}, \"colorscale\": [[0.0, \"#0d0887\"], [0.1111111111111111, \"#46039f\"], [0.2222222222222222, \"#7201a8\"], [0.3333333333333333, \"#9c179e\"], [0.4444444444444444, \"#bd3786\"], [0.5555555555555556, \"#d8576b\"], [0.6666666666666666, \"#ed7953\"], [0.7777777777777778, \"#fb9f3a\"], [0.8888888888888888, \"#fdca26\"], [1.0, \"#f0f921\"]], \"type\": \"histogram2dcontour\"}], \"mesh3d\": [{\"colorbar\": {\"outlinewidth\": 0, \"ticks\": \"\"}, \"type\": \"mesh3d\"}], \"parcoords\": [{\"line\": {\"colorbar\": {\"outlinewidth\": 0, \"ticks\": \"\"}}, \"type\": \"parcoords\"}], \"pie\": [{\"automargin\": true, \"type\": \"pie\"}], \"scatter\": [{\"marker\": {\"colorbar\": {\"outlinewidth\": 0, \"ticks\": \"\"}}, \"type\": \"scatter\"}], \"scatter3d\": [{\"line\": {\"colorbar\": {\"outlinewidth\": 0, \"ticks\": \"\"}}, \"marker\": {\"colorbar\": {\"outlinewidth\": 0, \"ticks\": \"\"}}, \"type\": \"scatter3d\"}], \"scattercarpet\": [{\"marker\": {\"colorbar\": {\"outlinewidth\": 0, \"ticks\": \"\"}}, \"type\": \"scattercarpet\"}], \"scattergeo\": [{\"marker\": {\"colorbar\": {\"outlinewidth\": 0, \"ticks\": \"\"}}, \"type\": \"scattergeo\"}], \"scattergl\": [{\"marker\": {\"colorbar\": {\"outlinewidth\": 0, \"ticks\": \"\"}}, \"type\": \"scattergl\"}], \"scattermapbox\": [{\"marker\": {\"colorbar\": {\"outlinewidth\": 0, \"ticks\": \"\"}}, \"type\": \"scattermapbox\"}], \"scatterpolar\": [{\"marker\": {\"colorbar\": {\"outlinewidth\": 0, \"ticks\": \"\"}}, \"type\": \"scatterpolar\"}], \"scatterpolargl\": [{\"marker\": {\"colorbar\": {\"outlinewidth\": 0, \"ticks\": \"\"}}, \"type\": \"scatterpolargl\"}], \"scatterternary\": [{\"marker\": {\"colorbar\": {\"outlinewidth\": 0, \"ticks\": \"\"}}, \"type\": \"scatterternary\"}], \"surface\": [{\"colorbar\": {\"outlinewidth\": 0, \"ticks\": \"\"}, \"colorscale\": [[0.0, \"#0d0887\"], [0.1111111111111111, \"#46039f\"], [0.2222222222222222, \"#7201a8\"], [0.3333333333333333, \"#9c179e\"], [0.4444444444444444, \"#bd3786\"], [0.5555555555555556, \"#d8576b\"], [0.6666666666666666, \"#ed7953\"], [0.7777777777777778, \"#fb9f3a\"], [0.8888888888888888, \"#fdca26\"], [1.0, \"#f0f921\"]], \"type\": \"surface\"}], \"table\": [{\"cells\": {\"fill\": {\"color\": \"#EBF0F8\"}, \"line\": {\"color\": \"white\"}}, \"header\": {\"fill\": {\"color\": \"#C8D4E3\"}, \"line\": {\"color\": \"white\"}}, \"type\": \"table\"}]}, \"layout\": {\"annotationdefaults\": {\"arrowcolor\": \"#2a3f5f\", \"arrowhead\": 0, \"arrowwidth\": 1}, \"autotypenumbers\": \"strict\", \"coloraxis\": {\"colorbar\": {\"outlinewidth\": 0, \"ticks\": \"\"}}, \"colorscale\": {\"diverging\": [[0, \"#8e0152\"], [0.1, \"#c51b7d\"], [0.2, \"#de77ae\"], [0.3, \"#f1b6da\"], [0.4, \"#fde0ef\"], [0.5, \"#f7f7f7\"], [0.6, \"#e6f5d0\"], [0.7, \"#b8e186\"], [0.8, \"#7fbc41\"], [0.9, \"#4d9221\"], [1, \"#276419\"]], \"sequential\": [[0.0, \"#0d0887\"], [0.1111111111111111, \"#46039f\"], [0.2222222222222222, \"#7201a8\"], [0.3333333333333333, \"#9c179e\"], [0.4444444444444444, \"#bd3786\"], [0.5555555555555556, \"#d8576b\"], [0.6666666666666666, \"#ed7953\"], [0.7777777777777778, \"#fb9f3a\"], [0.8888888888888888, \"#fdca26\"], [1.0, \"#f0f921\"]], \"sequentialminus\": [[0.0, \"#0d0887\"], [0.1111111111111111, \"#46039f\"], [0.2222222222222222, \"#7201a8\"], [0.3333333333333333, \"#9c179e\"], [0.4444444444444444, \"#bd3786\"], [0.5555555555555556, \"#d8576b\"], [0.6666666666666666, \"#ed7953\"], [0.7777777777777778, \"#fb9f3a\"], [0.8888888888888888, \"#fdca26\"], [1.0, \"#f0f921\"]]}, \"colorway\": [\"#636efa\", \"#EF553B\", \"#00cc96\", \"#ab63fa\", \"#FFA15A\", \"#19d3f3\", \"#FF6692\", \"#B6E880\", \"#FF97FF\", \"#FECB52\"], \"font\": {\"color\": \"#2a3f5f\"}, \"geo\": {\"bgcolor\": \"white\", \"lakecolor\": \"white\", \"landcolor\": \"#E5ECF6\", \"showlakes\": true, \"showland\": true, \"subunitcolor\": \"white\"}, \"hoverlabel\": {\"align\": \"left\"}, \"hovermode\": \"closest\", \"mapbox\": {\"style\": \"light\"}, \"paper_bgcolor\": \"white\", \"plot_bgcolor\": \"#E5ECF6\", \"polar\": {\"angularaxis\": {\"gridcolor\": \"white\", \"linecolor\": \"white\", \"ticks\": \"\"}, \"bgcolor\": \"#E5ECF6\", \"radialaxis\": {\"gridcolor\": \"white\", \"linecolor\": \"white\", \"ticks\": \"\"}}, \"scene\": {\"xaxis\": {\"backgroundcolor\": \"#E5ECF6\", \"gridcolor\": \"white\", \"gridwidth\": 2, \"linecolor\": \"white\", \"showbackground\": true, \"ticks\": \"\", \"zerolinecolor\": \"white\"}, \"yaxis\": {\"backgroundcolor\": \"#E5ECF6\", \"gridcolor\": \"white\", \"gridwidth\": 2, \"linecolor\": \"white\", \"showbackground\": true, \"ticks\": \"\", \"zerolinecolor\": \"white\"}, \"zaxis\": {\"backgroundcolor\": \"#E5ECF6\", \"gridcolor\": \"white\", \"gridwidth\": 2, \"linecolor\": \"white\", \"showbackground\": true, \"ticks\": \"\", \"zerolinecolor\": \"white\"}}, \"shapedefaults\": {\"line\": {\"color\": \"#2a3f5f\"}}, \"ternary\": {\"aaxis\": {\"gridcolor\": \"white\", \"linecolor\": \"white\", \"ticks\": \"\"}, \"baxis\": {\"gridcolor\": \"white\", \"linecolor\": \"white\", \"ticks\": \"\"}, \"bgcolor\": \"#E5ECF6\", \"caxis\": {\"gridcolor\": \"white\", \"linecolor\": \"white\", \"ticks\": \"\"}}, \"title\": {\"x\": 0.05}, \"xaxis\": {\"automargin\": true, \"gridcolor\": \"white\", \"linecolor\": \"white\", \"ticks\": \"\", \"title\": {\"standoff\": 15}, \"zerolinecolor\": \"white\", \"zerolinewidth\": 2}, \"yaxis\": {\"automargin\": true, \"gridcolor\": \"white\", \"linecolor\": \"white\", \"ticks\": \"\", \"title\": {\"standoff\": 15}, \"zerolinecolor\": \"white\", \"zerolinewidth\": 2}}}, \"title\": {\"text\": \"Revenue Distribution in Drama Movies\"}, \"violinmode\": \"overlay\", \"width\": 800, \"xaxis\": {\"anchor\": \"y\", \"categoryarray\": [\"c0\", \"c1\", \"c2\"], \"categoryorder\": \"array\", \"domain\": [0.0, 1.0], \"title\": {\"text\": \"Cluster\"}}, \"yaxis\": {\"anchor\": \"x\", \"domain\": [0.0, 1.0], \"title\": {\"text\": \"Revenue\"}}},                        {\"responsive\": true}                    ).then(function(){\n",
       "                            \n",
       "var gd = document.getElementById('ac0350a2-78fe-44d8-90bc-419166a43c17');\n",
       "var x = new MutationObserver(function (mutations, observer) {{\n",
       "        var display = window.getComputedStyle(gd).display;\n",
       "        if (!display || display === 'none') {{\n",
       "            console.log([gd, 'removed!']);\n",
       "            Plotly.purge(gd);\n",
       "            observer.disconnect();\n",
       "        }}\n",
       "}});\n",
       "\n",
       "// Listen for the removal of the full notebook cells\n",
       "var notebookContainer = gd.closest('#notebook-container');\n",
       "if (notebookContainer) {{\n",
       "    x.observe(notebookContainer, {childList: true});\n",
       "}}\n",
       "\n",
       "// Listen for the clearing of the current output cell\n",
       "var outputEl = gd.closest('.output');\n",
       "if (outputEl) {{\n",
       "    x.observe(outputEl, {childList: true});\n",
       "}}\n",
       "\n",
       "                        })                };                });            </script>        </div>"
      ]
     },
     "metadata": {},
     "output_type": "display_data"
    }
   ],
   "source": [
    "drama_df = smaller_df[(smaller_df.genres == 'Drama') & (smaller_df.cluster_label.isin([0, 1, 2, 5]))]\n",
    "drama_df = drama_df.sort_values('cluster_label')\n",
    "\n",
    "fig = px.violin(drama_df, y='revenue', x='cluster_string', color='cluster_string', points='all', hover_data=drama_df)\n",
    "\n",
    "fig.update_layout(\n",
    "    title='Revenue Distribution in Drama Movies',\n",
    "    yaxis_title='Revenue',\n",
    "    xaxis_title='Cluster',\n",
    "    height=1000,\n",
    "    width=800\n",
    ")\n",
    "\n",
    "iplot(fig)"
   ]
  },
  {
   "cell_type": "markdown",
   "metadata": {},
   "source": [
    "## Modeling"
   ]
  },
  {
   "cell_type": "code",
   "execution_count": 139,
   "metadata": {},
   "outputs": [
    {
     "data": {
      "text/html": [
       "<div>\n",
       "<style scoped>\n",
       "    .dataframe tbody tr th:only-of-type {\n",
       "        vertical-align: middle;\n",
       "    }\n",
       "\n",
       "    .dataframe tbody tr th {\n",
       "        vertical-align: top;\n",
       "    }\n",
       "\n",
       "    .dataframe thead th {\n",
       "        text-align: right;\n",
       "    }\n",
       "</style>\n",
       "<table border=\"1\" class=\"dataframe\">\n",
       "  <thead>\n",
       "    <tr style=\"text-align: right;\">\n",
       "      <th></th>\n",
       "      <th>id</th>\n",
       "      <th>title</th>\n",
       "      <th>budget</th>\n",
       "      <th>genres</th>\n",
       "      <th>release_date</th>\n",
       "      <th>revenue</th>\n",
       "      <th>vote_average</th>\n",
       "      <th>vote_count</th>\n",
       "      <th>Year</th>\n",
       "      <th>Month</th>\n",
       "      <th>...</th>\n",
       "      <th>Professional_Degree</th>\n",
       "      <th>White</th>\n",
       "      <th>Black</th>\n",
       "      <th>Asian</th>\n",
       "      <th>Hispanic</th>\n",
       "      <th>Men</th>\n",
       "      <th>Women</th>\n",
       "      <th>Unemployment_Rate</th>\n",
       "      <th>avg_rating</th>\n",
       "      <th>num_ratings</th>\n",
       "    </tr>\n",
       "  </thead>\n",
       "  <tbody>\n",
       "    <tr>\n",
       "      <th>0</th>\n",
       "      <td>32657</td>\n",
       "      <td>Percy Jackson &amp; the Olympians: The Lightning T...</td>\n",
       "      <td>95000000</td>\n",
       "      <td>Adventure</td>\n",
       "      <td>2010-02-01</td>\n",
       "      <td>226497209.0</td>\n",
       "      <td>6.0</td>\n",
       "      <td>2079.0</td>\n",
       "      <td>2010</td>\n",
       "      <td>Feb</td>\n",
       "      <td>...</td>\n",
       "      <td>4.9</td>\n",
       "      <td>8.9</td>\n",
       "      <td>16.1</td>\n",
       "      <td>8.2</td>\n",
       "      <td>12.7</td>\n",
       "      <td>10.3</td>\n",
       "      <td>8.0</td>\n",
       "      <td>9.8</td>\n",
       "      <td>3.994863</td>\n",
       "      <td>292</td>\n",
       "    </tr>\n",
       "    <tr>\n",
       "      <th>1</th>\n",
       "      <td>26022</td>\n",
       "      <td>My Name Is Khan</td>\n",
       "      <td>12000000</td>\n",
       "      <td>Drama</td>\n",
       "      <td>2010-02-12</td>\n",
       "      <td>42345360.0</td>\n",
       "      <td>7.7</td>\n",
       "      <td>237.0</td>\n",
       "      <td>2010</td>\n",
       "      <td>Feb</td>\n",
       "      <td>...</td>\n",
       "      <td>4.9</td>\n",
       "      <td>8.9</td>\n",
       "      <td>16.1</td>\n",
       "      <td>8.2</td>\n",
       "      <td>12.7</td>\n",
       "      <td>10.3</td>\n",
       "      <td>8.0</td>\n",
       "      <td>9.8</td>\n",
       "      <td>2.807692</td>\n",
       "      <td>13</td>\n",
       "    </tr>\n",
       "    <tr>\n",
       "      <th>2</th>\n",
       "      <td>26389</td>\n",
       "      <td>From Paris with Love</td>\n",
       "      <td>52000000</td>\n",
       "      <td>Action</td>\n",
       "      <td>2010-02-05</td>\n",
       "      <td>52826594.0</td>\n",
       "      <td>6.2</td>\n",
       "      <td>684.0</td>\n",
       "      <td>2010</td>\n",
       "      <td>Feb</td>\n",
       "      <td>...</td>\n",
       "      <td>4.9</td>\n",
       "      <td>8.9</td>\n",
       "      <td>16.1</td>\n",
       "      <td>8.2</td>\n",
       "      <td>12.7</td>\n",
       "      <td>10.3</td>\n",
       "      <td>8.0</td>\n",
       "      <td>9.8</td>\n",
       "      <td>3.500000</td>\n",
       "      <td>5</td>\n",
       "    </tr>\n",
       "    <tr>\n",
       "      <th>3</th>\n",
       "      <td>34016</td>\n",
       "      <td>She's Out of My League</td>\n",
       "      <td>20000000</td>\n",
       "      <td>Comedy</td>\n",
       "      <td>2010-03-11</td>\n",
       "      <td>49779728.0</td>\n",
       "      <td>5.9</td>\n",
       "      <td>544.0</td>\n",
       "      <td>2010</td>\n",
       "      <td>Mar</td>\n",
       "      <td>...</td>\n",
       "      <td>4.9</td>\n",
       "      <td>8.9</td>\n",
       "      <td>16.8</td>\n",
       "      <td>7.6</td>\n",
       "      <td>12.9</td>\n",
       "      <td>10.2</td>\n",
       "      <td>8.1</td>\n",
       "      <td>9.9</td>\n",
       "      <td>3.684211</td>\n",
       "      <td>19</td>\n",
       "    </tr>\n",
       "    <tr>\n",
       "      <th>4</th>\n",
       "      <td>27573</td>\n",
       "      <td>The Bounty Hunter</td>\n",
       "      <td>40000000</td>\n",
       "      <td>Action</td>\n",
       "      <td>2010-03-16</td>\n",
       "      <td>136000000.0</td>\n",
       "      <td>5.6</td>\n",
       "      <td>878.0</td>\n",
       "      <td>2010</td>\n",
       "      <td>Mar</td>\n",
       "      <td>...</td>\n",
       "      <td>4.9</td>\n",
       "      <td>8.9</td>\n",
       "      <td>16.8</td>\n",
       "      <td>7.6</td>\n",
       "      <td>12.9</td>\n",
       "      <td>10.2</td>\n",
       "      <td>8.1</td>\n",
       "      <td>9.9</td>\n",
       "      <td>3.466667</td>\n",
       "      <td>15</td>\n",
       "    </tr>\n",
       "  </tbody>\n",
       "</table>\n",
       "<p>5 rows × 23 columns</p>\n",
       "</div>"
      ],
      "text/plain": [
       "      id                                              title    budget  \\\n",
       "0  32657  Percy Jackson & the Olympians: The Lightning T...  95000000   \n",
       "1  26022                                    My Name Is Khan  12000000   \n",
       "2  26389                               From Paris with Love  52000000   \n",
       "3  34016                             She's Out of My League  20000000   \n",
       "4  27573                                  The Bounty Hunter  40000000   \n",
       "\n",
       "      genres release_date      revenue  vote_average  vote_count  Year Month  \\\n",
       "0  Adventure   2010-02-01  226497209.0           6.0      2079.0  2010   Feb   \n",
       "1      Drama   2010-02-12   42345360.0           7.7       237.0  2010   Feb   \n",
       "2     Action   2010-02-05   52826594.0           6.2       684.0  2010   Feb   \n",
       "3     Comedy   2010-03-11   49779728.0           5.9       544.0  2010   Mar   \n",
       "4     Action   2010-03-16  136000000.0           5.6       878.0  2010   Mar   \n",
       "\n",
       "   ...  Professional_Degree  White  Black  Asian  Hispanic   Men  Women  \\\n",
       "0  ...                  4.9    8.9   16.1    8.2      12.7  10.3    8.0   \n",
       "1  ...                  4.9    8.9   16.1    8.2      12.7  10.3    8.0   \n",
       "2  ...                  4.9    8.9   16.1    8.2      12.7  10.3    8.0   \n",
       "3  ...                  4.9    8.9   16.8    7.6      12.9  10.2    8.1   \n",
       "4  ...                  4.9    8.9   16.8    7.6      12.9  10.2    8.1   \n",
       "\n",
       "   Unemployment_Rate  avg_rating  num_ratings  \n",
       "0                9.8    3.994863          292  \n",
       "1                9.8    2.807692           13  \n",
       "2                9.8    3.500000            5  \n",
       "3                9.9    3.684211           19  \n",
       "4                9.9    3.466667           15  \n",
       "\n",
       "[5 rows x 23 columns]"
      ]
     },
     "execution_count": 139,
     "metadata": {},
     "output_type": "execute_result"
    }
   ],
   "source": [
    "# Dataset\n",
    "df.head()"
   ]
  },
  {
   "cell_type": "code",
   "execution_count": null,
   "metadata": {},
   "outputs": [],
   "source": [
    "From the above "
   ]
  }
 ],
 "metadata": {
  "kernelspec": {
   "display_name": "Python 3",
   "language": "python",
   "name": "python3"
  },
  "language_info": {
   "codemirror_mode": {
    "name": "ipython",
    "version": 3
   },
   "file_extension": ".py",
   "mimetype": "text/x-python",
   "name": "python",
   "nbconvert_exporter": "python",
   "pygments_lexer": "ipython3",
   "version": "3.7.6"
  }
 },
 "nbformat": 4,
 "nbformat_minor": 4
}
